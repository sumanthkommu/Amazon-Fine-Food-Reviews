{
 "cells": [
  {
   "cell_type": "markdown",
   "metadata": {
    "colab_type": "text",
    "id": "qGHkrQVYWB--"
   },
   "source": [
    "# Amazon Fine Food Reviews Analysis - Logistic Regression\n",
    "\n",
    "\n",
    "Data Source: https://www.kaggle.com/snap/amazon-fine-food-reviews\n",
    "\n",
    "The Amazon Fine Food Reviews dataset consists of reviews of fine foods from Amazon.<br>\n",
    "\n",
    "Number of reviews: 568,454<br>\n",
    "Number of users: 256,059<br>\n",
    "Number of products: 74,258<br>\n",
    "Timespan: Oct 1999 - Oct 2012<br>\n",
    "Number of Attributes/Columns in data: 10 \n",
    "\n",
    "Attribute Information:\n",
    "\n",
    "1. Id\n",
    "2. ProductId - unique identifier for the product\n",
    "3. UserId - unqiue identifier for the user\n",
    "4. ProfileName\n",
    "5. HelpfulnessNumerator - number of users who found the review helpful\n",
    "6. HelpfulnessDenominator - number of users who indicated whether they found the review helpful or not\n",
    "7. Score - rating between 1 and 5\n",
    "8. Time - timestamp for the review\n",
    "9. Summary - brief summary of the review\n",
    "10. Text - text of the review\n",
    "\n",
    "\n",
    "#### Objective:\n",
    "Given a review, determine whether the review is positive (Rating of 4 or 5) or negative (rating of 1 or 2).\n",
    "\n",
    "<br>\n",
    "[Q] How to determine if a review is positive or negative?<br>\n",
    "<br> \n",
    "[Ans] We could use the Score/Rating. A rating of 4 or 5 could be cosnidered a positive review. A review of 1 or 2 could be considered negative. A review of 3 is nuetral and ignored. This is an approximate and proxy way of determining the polarity (positivity/negativity) of a review.\n",
    "\n",
    "\n"
   ]
  },
  {
   "cell_type": "markdown",
   "metadata": {
    "colab_type": "text",
    "id": "N1bZ4-NQWB_A"
   },
   "source": [
    "## [7.1] Loading the data\n",
    "\n",
    "The dataset is available in two forms\n",
    "1. .csv file\n",
    "2. SQLite Database\n",
    "\n",
    "In order to load the data, We have used the SQLITE dataset as it easier to query the data and visualise the data efficiently.\n",
    "<br> \n",
    "\n",
    "Here as we only want to get the global sentiment of the recommendations (positive or negative), we will purposefully ignore all Scores equal to 3. If the score id above 3, then the recommendation wil be set to \"positive\". Otherwise, it will be set to \"negative\"."
   ]
  },
  {
   "cell_type": "code",
   "execution_count": 2,
   "metadata": {
    "colab": {},
    "colab_type": "code",
    "id": "QlNulBDSWB_C"
   },
   "outputs": [],
   "source": [
    "%matplotlib inline\n",
    "import warnings\n",
    "warnings.filterwarnings(\"ignore\")\n",
    "\n",
    "import sqlite3\n",
    "import pandas as pd\n",
    "import numpy as np\n",
    "import nltk\n",
    "import string\n",
    "import re\n",
    "import os\n",
    "import matplotlib.pyplot as plt\n",
    "import seaborn as sns\n",
    "from tqdm import tqdm\n",
    "from scipy import stats\n",
    "from scipy.stats import uniform\n",
    "from scipy.sparse import csr_matrix\n",
    "from collections import Counter\n",
    "\n",
    "from prettytable import PrettyTable\n",
    "\n",
    "from sklearn import preprocessing\n",
    "from sklearn.feature_extraction.text import CountVectorizer\n",
    "from sklearn.feature_extraction.text import TfidfTransformer\n",
    "from sklearn.feature_extraction.text import TfidfVectorizer\n",
    "\n",
    "from sklearn.model_selection import train_test_split\n",
    "from sklearn.model_selection import cross_val_score\n",
    "from sklearn.model_selection import cross_validate\n",
    "from sklearn.model_selection import GridSearchCV\n",
    "from sklearn.model_selection import RandomizedSearchCV\n",
    "from sklearn.neighbors import KNeighborsClassifier\n",
    "\n",
    "from sklearn.linear_model import LogisticRegression\n",
    "\n",
    "from sklearn import metrics\n",
    "from sklearn.metrics import accuracy_score\n",
    "from sklearn.metrics import confusion_matrix\n",
    "from sklearn.metrics import roc_curve, auc\n",
    "from sklearn.metrics import f1_score\n",
    "\n",
    "from nltk.stem.porter import PorterStemmer\n",
    "from nltk.corpus import stopwords\n",
    "from nltk.stem.wordnet import WordNetLemmatizer\n",
    "\n",
    "from gensim.models import Word2Vec\n",
    "from gensim.models import KeyedVectors\n",
    "import pickle"
   ]
  },
  {
   "cell_type": "code",
   "execution_count": 2,
   "metadata": {
    "colab": {
     "base_uri": "https://localhost:8080/",
     "height": 397
    },
    "colab_type": "code",
    "id": "iWrc9qu6WB_H",
    "outputId": "d3f3049d-f28d-486b-a062-ccee7aa4e72c"
   },
   "outputs": [
    {
     "name": "stdout",
     "output_type": "stream",
     "text": [
      "('Number of data points in our data', (525814, 10))\n"
     ]
    },
    {
     "data": {
      "text/html": [
       "<div>\n",
       "<style scoped>\n",
       "    .dataframe tbody tr th:only-of-type {\n",
       "        vertical-align: middle;\n",
       "    }\n",
       "\n",
       "    .dataframe tbody tr th {\n",
       "        vertical-align: top;\n",
       "    }\n",
       "\n",
       "    .dataframe thead th {\n",
       "        text-align: right;\n",
       "    }\n",
       "</style>\n",
       "<table border=\"1\" class=\"dataframe\">\n",
       "  <thead>\n",
       "    <tr style=\"text-align: right;\">\n",
       "      <th></th>\n",
       "      <th>Id</th>\n",
       "      <th>ProductId</th>\n",
       "      <th>UserId</th>\n",
       "      <th>ProfileName</th>\n",
       "      <th>HelpfulnessNumerator</th>\n",
       "      <th>HelpfulnessDenominator</th>\n",
       "      <th>Score</th>\n",
       "      <th>Time</th>\n",
       "      <th>Summary</th>\n",
       "      <th>Text</th>\n",
       "    </tr>\n",
       "  </thead>\n",
       "  <tbody>\n",
       "    <tr>\n",
       "      <th>0</th>\n",
       "      <td>1</td>\n",
       "      <td>B001E4KFG0</td>\n",
       "      <td>A3SGXH7AUHU8GW</td>\n",
       "      <td>delmartian</td>\n",
       "      <td>1</td>\n",
       "      <td>1</td>\n",
       "      <td>1</td>\n",
       "      <td>1303862400</td>\n",
       "      <td>Good Quality Dog Food</td>\n",
       "      <td>I have bought several of the Vitality canned d...</td>\n",
       "    </tr>\n",
       "    <tr>\n",
       "      <th>1</th>\n",
       "      <td>2</td>\n",
       "      <td>B00813GRG4</td>\n",
       "      <td>A1D87F6ZCVE5NK</td>\n",
       "      <td>dll pa</td>\n",
       "      <td>0</td>\n",
       "      <td>0</td>\n",
       "      <td>0</td>\n",
       "      <td>1346976000</td>\n",
       "      <td>Not as Advertised</td>\n",
       "      <td>Product arrived labeled as Jumbo Salted Peanut...</td>\n",
       "    </tr>\n",
       "    <tr>\n",
       "      <th>2</th>\n",
       "      <td>3</td>\n",
       "      <td>B000LQOCH0</td>\n",
       "      <td>ABXLMWJIXXAIN</td>\n",
       "      <td>Natalia Corres \"Natalia Corres\"</td>\n",
       "      <td>1</td>\n",
       "      <td>1</td>\n",
       "      <td>1</td>\n",
       "      <td>1219017600</td>\n",
       "      <td>\"Delight\" says it all</td>\n",
       "      <td>This is a confection that has been around a fe...</td>\n",
       "    </tr>\n",
       "  </tbody>\n",
       "</table>\n",
       "</div>"
      ],
      "text/plain": [
       "   Id   ProductId          UserId                      ProfileName  \\\n",
       "0   1  B001E4KFG0  A3SGXH7AUHU8GW                       delmartian   \n",
       "1   2  B00813GRG4  A1D87F6ZCVE5NK                           dll pa   \n",
       "2   3  B000LQOCH0   ABXLMWJIXXAIN  Natalia Corres \"Natalia Corres\"   \n",
       "\n",
       "   HelpfulnessNumerator  HelpfulnessDenominator  Score        Time  \\\n",
       "0                     1                       1      1  1303862400   \n",
       "1                     0                       0      0  1346976000   \n",
       "2                     1                       1      1  1219017600   \n",
       "\n",
       "                 Summary                                               Text  \n",
       "0  Good Quality Dog Food  I have bought several of the Vitality canned d...  \n",
       "1      Not as Advertised  Product arrived labeled as Jumbo Salted Peanut...  \n",
       "2  \"Delight\" says it all  This is a confection that has been around a fe...  "
      ]
     },
     "execution_count": 2,
     "metadata": {},
     "output_type": "execute_result"
    }
   ],
   "source": [
    "\n",
    "# using the SQLite Table to read data.\n",
    "con = sqlite3.connect('database.sqlite') \n",
    "#filtering only positive and negative reviews i.e. \n",
    "# not taking into consideration those reviews with Score=3\n",
    "filtered_data = pd.read_sql_query(\"\"\" SELECT * FROM Reviews WHERE Score != 3 \"\"\", con) \n",
    "\n",
    "\n",
    "# Give reviews with Score>3 a positive rating, and reviews with a score<3 a negative rating.\n",
    "def partition(x):\n",
    "    if x < 3:\n",
    "        return 0\n",
    "    return 1\n",
    "\n",
    "#changing reviews with score less than 3 to be positive and vice-versa\n",
    "actualScore = filtered_data['Score']\n",
    "positiveNegative = actualScore.map(partition) \n",
    "filtered_data['Score'] = positiveNegative\n",
    "print(\"Number of data points in our data\", filtered_data.shape)\n",
    "filtered_data.head(3)"
   ]
  },
  {
   "cell_type": "markdown",
   "metadata": {
    "colab_type": "text",
    "id": "BH9JJzAPWB_P"
   },
   "source": [
    "#  Exploratory Data Analysis\n",
    "\n",
    "## [7.1.2] Data Cleaning: Deduplication\n",
    "\n",
    "It is observed (as shown in the table below) that the reviews data had many duplicate entries. Hence it was necessary to remove duplicates in order to get unbiased results for the analysis of the data.  Following is an example:"
   ]
  },
  {
   "cell_type": "code",
   "execution_count": 3,
   "metadata": {
    "colab": {
     "base_uri": "https://localhost:8080/",
     "height": 544
    },
    "colab_type": "code",
    "id": "HR0vyEv7WB_Q",
    "outputId": "f648745c-5ddc-499d-c243-5682f23130f0",
    "scrolled": false
   },
   "outputs": [
    {
     "data": {
      "text/html": [
       "<div>\n",
       "<style scoped>\n",
       "    .dataframe tbody tr th:only-of-type {\n",
       "        vertical-align: middle;\n",
       "    }\n",
       "\n",
       "    .dataframe tbody tr th {\n",
       "        vertical-align: top;\n",
       "    }\n",
       "\n",
       "    .dataframe thead th {\n",
       "        text-align: right;\n",
       "    }\n",
       "</style>\n",
       "<table border=\"1\" class=\"dataframe\">\n",
       "  <thead>\n",
       "    <tr style=\"text-align: right;\">\n",
       "      <th></th>\n",
       "      <th>Id</th>\n",
       "      <th>ProductId</th>\n",
       "      <th>UserId</th>\n",
       "      <th>ProfileName</th>\n",
       "      <th>HelpfulnessNumerator</th>\n",
       "      <th>HelpfulnessDenominator</th>\n",
       "      <th>Score</th>\n",
       "      <th>Time</th>\n",
       "      <th>Summary</th>\n",
       "      <th>Text</th>\n",
       "    </tr>\n",
       "  </thead>\n",
       "  <tbody>\n",
       "    <tr>\n",
       "      <th>0</th>\n",
       "      <td>78445</td>\n",
       "      <td>B000HDL1RQ</td>\n",
       "      <td>AR5J8UI46CURR</td>\n",
       "      <td>Geetha Krishnan</td>\n",
       "      <td>2</td>\n",
       "      <td>2</td>\n",
       "      <td>5</td>\n",
       "      <td>1199577600</td>\n",
       "      <td>LOACKER QUADRATINI VANILLA WAFERS</td>\n",
       "      <td>DELICIOUS WAFERS. I FIND THAT EUROPEAN WAFERS ...</td>\n",
       "    </tr>\n",
       "    <tr>\n",
       "      <th>1</th>\n",
       "      <td>138317</td>\n",
       "      <td>B000HDOPYC</td>\n",
       "      <td>AR5J8UI46CURR</td>\n",
       "      <td>Geetha Krishnan</td>\n",
       "      <td>2</td>\n",
       "      <td>2</td>\n",
       "      <td>5</td>\n",
       "      <td>1199577600</td>\n",
       "      <td>LOACKER QUADRATINI VANILLA WAFERS</td>\n",
       "      <td>DELICIOUS WAFERS. I FIND THAT EUROPEAN WAFERS ...</td>\n",
       "    </tr>\n",
       "    <tr>\n",
       "      <th>2</th>\n",
       "      <td>138277</td>\n",
       "      <td>B000HDOPYM</td>\n",
       "      <td>AR5J8UI46CURR</td>\n",
       "      <td>Geetha Krishnan</td>\n",
       "      <td>2</td>\n",
       "      <td>2</td>\n",
       "      <td>5</td>\n",
       "      <td>1199577600</td>\n",
       "      <td>LOACKER QUADRATINI VANILLA WAFERS</td>\n",
       "      <td>DELICIOUS WAFERS. I FIND THAT EUROPEAN WAFERS ...</td>\n",
       "    </tr>\n",
       "    <tr>\n",
       "      <th>3</th>\n",
       "      <td>73791</td>\n",
       "      <td>B000HDOPZG</td>\n",
       "      <td>AR5J8UI46CURR</td>\n",
       "      <td>Geetha Krishnan</td>\n",
       "      <td>2</td>\n",
       "      <td>2</td>\n",
       "      <td>5</td>\n",
       "      <td>1199577600</td>\n",
       "      <td>LOACKER QUADRATINI VANILLA WAFERS</td>\n",
       "      <td>DELICIOUS WAFERS. I FIND THAT EUROPEAN WAFERS ...</td>\n",
       "    </tr>\n",
       "    <tr>\n",
       "      <th>4</th>\n",
       "      <td>155049</td>\n",
       "      <td>B000PAQ75C</td>\n",
       "      <td>AR5J8UI46CURR</td>\n",
       "      <td>Geetha Krishnan</td>\n",
       "      <td>2</td>\n",
       "      <td>2</td>\n",
       "      <td>5</td>\n",
       "      <td>1199577600</td>\n",
       "      <td>LOACKER QUADRATINI VANILLA WAFERS</td>\n",
       "      <td>DELICIOUS WAFERS. I FIND THAT EUROPEAN WAFERS ...</td>\n",
       "    </tr>\n",
       "  </tbody>\n",
       "</table>\n",
       "</div>"
      ],
      "text/plain": [
       "       Id   ProductId         UserId      ProfileName  HelpfulnessNumerator  \\\n",
       "0   78445  B000HDL1RQ  AR5J8UI46CURR  Geetha Krishnan                     2   \n",
       "1  138317  B000HDOPYC  AR5J8UI46CURR  Geetha Krishnan                     2   \n",
       "2  138277  B000HDOPYM  AR5J8UI46CURR  Geetha Krishnan                     2   \n",
       "3   73791  B000HDOPZG  AR5J8UI46CURR  Geetha Krishnan                     2   \n",
       "4  155049  B000PAQ75C  AR5J8UI46CURR  Geetha Krishnan                     2   \n",
       "\n",
       "   HelpfulnessDenominator  Score        Time  \\\n",
       "0                       2      5  1199577600   \n",
       "1                       2      5  1199577600   \n",
       "2                       2      5  1199577600   \n",
       "3                       2      5  1199577600   \n",
       "4                       2      5  1199577600   \n",
       "\n",
       "                             Summary  \\\n",
       "0  LOACKER QUADRATINI VANILLA WAFERS   \n",
       "1  LOACKER QUADRATINI VANILLA WAFERS   \n",
       "2  LOACKER QUADRATINI VANILLA WAFERS   \n",
       "3  LOACKER QUADRATINI VANILLA WAFERS   \n",
       "4  LOACKER QUADRATINI VANILLA WAFERS   \n",
       "\n",
       "                                                Text  \n",
       "0  DELICIOUS WAFERS. I FIND THAT EUROPEAN WAFERS ...  \n",
       "1  DELICIOUS WAFERS. I FIND THAT EUROPEAN WAFERS ...  \n",
       "2  DELICIOUS WAFERS. I FIND THAT EUROPEAN WAFERS ...  \n",
       "3  DELICIOUS WAFERS. I FIND THAT EUROPEAN WAFERS ...  \n",
       "4  DELICIOUS WAFERS. I FIND THAT EUROPEAN WAFERS ...  "
      ]
     },
     "execution_count": 3,
     "metadata": {},
     "output_type": "execute_result"
    }
   ],
   "source": [
    "display= pd.read_sql_query(\"\"\"\n",
    "SELECT *\n",
    "FROM Reviews\n",
    "WHERE Score != 3 AND UserId=\"AR5J8UI46CURR\"\n",
    "ORDER BY ProductID\n",
    "\"\"\", con)\n",
    "display.head()"
   ]
  },
  {
   "cell_type": "markdown",
   "metadata": {
    "colab_type": "text",
    "id": "TUmKYpOhWB_V"
   },
   "source": [
    "As can be seen above the same user has multiple reviews of the with the same values for HelpfulnessNumerator, HelpfulnessDenominator, Score, Time, Summary and Text  and on doing analysis it was found that <br>\n",
    "<br> \n",
    "ProductId=B000HDOPZG was Loacker Quadratini Vanilla Wafer Cookies, 8.82-Ounce Packages (Pack of 8)<br>\n",
    "<br> \n",
    "ProductId=B000HDL1RQ was Loacker Quadratini Lemon Wafer Cookies, 8.82-Ounce Packages (Pack of 8) and so on<br>\n",
    "\n",
    "It was inferred after analysis that reviews with same parameters other than ProductId belonged to the same product just having different flavour or quantity. Hence in order to reduce redundancy it was decided to eliminate the rows having same parameters.<br>\n",
    "\n",
    "The method used for the same was that we first sort the data according to ProductId and then just keep the first similar product review and delelte the others. for eg. in the above just the review for ProductId=B000HDL1RQ remains. This method ensures that there is only one representative for each product and deduplication without sorting would lead to possibility of different representatives still existing for the same product."
   ]
  },
  {
   "cell_type": "code",
   "execution_count": 4,
   "metadata": {
    "colab": {},
    "colab_type": "code",
    "id": "9oypvH9qWB_X"
   },
   "outputs": [],
   "source": [
    "#Sorting data according to ProductId in ascending order\n",
    "sorted_data=filtered_data.sort_values('ProductId', axis=0, ascending=True, inplace=False, kind='quicksort', na_position='last')"
   ]
  },
  {
   "cell_type": "code",
   "execution_count": 5,
   "metadata": {
    "colab": {
     "base_uri": "https://localhost:8080/",
     "height": 34
    },
    "colab_type": "code",
    "id": "PPjGUcEhWB_b",
    "outputId": "9462835b-1f20-403e-d6c8-24b4cccd59d7"
   },
   "outputs": [
    {
     "data": {
      "text/plain": [
       "(364173, 10)"
      ]
     },
     "execution_count": 5,
     "metadata": {},
     "output_type": "execute_result"
    }
   ],
   "source": [
    "#Deduplication of entries\n",
    "final=sorted_data.drop_duplicates(subset={\"UserId\",\"ProfileName\",\"Time\",\"Text\"}, keep='first', inplace=False)\n",
    "final.shape"
   ]
  },
  {
   "cell_type": "code",
   "execution_count": 6,
   "metadata": {
    "colab": {
     "base_uri": "https://localhost:8080/",
     "height": 34
    },
    "colab_type": "code",
    "id": "LJZkR811WB_g",
    "outputId": "efa1bb43-63de-466e-ee47-b25754958d34"
   },
   "outputs": [
    {
     "data": {
      "text/plain": [
       "69.25890143662969"
      ]
     },
     "execution_count": 6,
     "metadata": {},
     "output_type": "execute_result"
    }
   ],
   "source": [
    "#Checking to see how much % of data still remains\n",
    "(final['Id'].size*1.0)/(filtered_data['Id'].size*1.0)*100"
   ]
  },
  {
   "cell_type": "markdown",
   "metadata": {
    "colab_type": "text",
    "id": "A9NmIA0wWB_m"
   },
   "source": [
    "<b>Observation:-</b> It was also seen that in two rows given below the value of HelpfulnessNumerator is greater than HelpfulnessDenominator which is not practically possible hence these two rows too are removed from calcualtions"
   ]
  },
  {
   "cell_type": "code",
   "execution_count": 7,
   "metadata": {
    "colab": {
     "base_uri": "https://localhost:8080/",
     "height": 230
    },
    "colab_type": "code",
    "id": "T6S3YfHwWB_n",
    "outputId": "194487ed-64ed-4aa1-a75e-933d77f187da"
   },
   "outputs": [
    {
     "data": {
      "text/html": [
       "<div>\n",
       "<style scoped>\n",
       "    .dataframe tbody tr th:only-of-type {\n",
       "        vertical-align: middle;\n",
       "    }\n",
       "\n",
       "    .dataframe tbody tr th {\n",
       "        vertical-align: top;\n",
       "    }\n",
       "\n",
       "    .dataframe thead th {\n",
       "        text-align: right;\n",
       "    }\n",
       "</style>\n",
       "<table border=\"1\" class=\"dataframe\">\n",
       "  <thead>\n",
       "    <tr style=\"text-align: right;\">\n",
       "      <th></th>\n",
       "      <th>Id</th>\n",
       "      <th>ProductId</th>\n",
       "      <th>UserId</th>\n",
       "      <th>ProfileName</th>\n",
       "      <th>HelpfulnessNumerator</th>\n",
       "      <th>HelpfulnessDenominator</th>\n",
       "      <th>Score</th>\n",
       "      <th>Time</th>\n",
       "      <th>Summary</th>\n",
       "      <th>Text</th>\n",
       "    </tr>\n",
       "  </thead>\n",
       "  <tbody>\n",
       "    <tr>\n",
       "      <th>0</th>\n",
       "      <td>64422</td>\n",
       "      <td>B000MIDROQ</td>\n",
       "      <td>A161DK06JJMCYF</td>\n",
       "      <td>J. E. Stephens \"Jeanne\"</td>\n",
       "      <td>3</td>\n",
       "      <td>1</td>\n",
       "      <td>5</td>\n",
       "      <td>1224892800</td>\n",
       "      <td>Bought This for My Son at College</td>\n",
       "      <td>My son loves spaghetti so I didn't hesitate or...</td>\n",
       "    </tr>\n",
       "    <tr>\n",
       "      <th>1</th>\n",
       "      <td>44737</td>\n",
       "      <td>B001EQ55RW</td>\n",
       "      <td>A2V0I904FH7ABY</td>\n",
       "      <td>Ram</td>\n",
       "      <td>3</td>\n",
       "      <td>2</td>\n",
       "      <td>4</td>\n",
       "      <td>1212883200</td>\n",
       "      <td>Pure cocoa taste with crunchy almonds inside</td>\n",
       "      <td>It was almost a 'love at first bite' - the per...</td>\n",
       "    </tr>\n",
       "  </tbody>\n",
       "</table>\n",
       "</div>"
      ],
      "text/plain": [
       "      Id   ProductId          UserId              ProfileName  \\\n",
       "0  64422  B000MIDROQ  A161DK06JJMCYF  J. E. Stephens \"Jeanne\"   \n",
       "1  44737  B001EQ55RW  A2V0I904FH7ABY                      Ram   \n",
       "\n",
       "   HelpfulnessNumerator  HelpfulnessDenominator  Score        Time  \\\n",
       "0                     3                       1      5  1224892800   \n",
       "1                     3                       2      4  1212883200   \n",
       "\n",
       "                                        Summary  \\\n",
       "0             Bought This for My Son at College   \n",
       "1  Pure cocoa taste with crunchy almonds inside   \n",
       "\n",
       "                                                Text  \n",
       "0  My son loves spaghetti so I didn't hesitate or...  \n",
       "1  It was almost a 'love at first bite' - the per...  "
      ]
     },
     "execution_count": 7,
     "metadata": {},
     "output_type": "execute_result"
    }
   ],
   "source": [
    "display= pd.read_sql_query(\"\"\"\n",
    "SELECT *\n",
    "FROM Reviews\n",
    "WHERE Score != 3 AND Id=44737 OR Id=64422\n",
    "ORDER BY ProductID\n",
    "\"\"\", con)\n",
    "\n",
    "display.head()"
   ]
  },
  {
   "cell_type": "code",
   "execution_count": 8,
   "metadata": {
    "colab": {},
    "colab_type": "code",
    "id": "bL-uiTKpWB_t"
   },
   "outputs": [],
   "source": [
    "final=final[final.HelpfulnessNumerator<=final.HelpfulnessDenominator]"
   ]
  },
  {
   "cell_type": "code",
   "execution_count": 9,
   "metadata": {
    "colab": {
     "base_uri": "https://localhost:8080/",
     "height": 85
    },
    "colab_type": "code",
    "id": "jixOFh0BWB_w",
    "outputId": "eb5a7799-024e-4988-ee41-ff8af7fb9e09"
   },
   "outputs": [
    {
     "name": "stdout",
     "output_type": "stream",
     "text": [
      "(364171, 10)\n"
     ]
    },
    {
     "data": {
      "text/plain": [
       "1    307061\n",
       "0     57110\n",
       "Name: Score, dtype: int64"
      ]
     },
     "execution_count": 9,
     "metadata": {},
     "output_type": "execute_result"
    }
   ],
   "source": [
    "#Before starting the next phase of preprocessing lets see the number of entries left\n",
    "print(final.shape)\n",
    "\n",
    "#How many positive and negative reviews are present in our dataset?\n",
    "final['Score'].value_counts()"
   ]
  },
  {
   "cell_type": "code",
   "execution_count": 10,
   "metadata": {
    "colab": {},
    "colab_type": "code",
    "id": "Ig-J9L1zWB_2"
   },
   "outputs": [],
   "source": [
    "#Deduplication of entries\n",
    "#final=sorted_data.drop_duplicates(subset={\"Score\"}, keep='first', inplace=False)\n",
    "#final.shape\n",
    "\n",
    "final_pos_reviews=final.loc[final['Score'] == 1]\n",
    "final_neg_reviews=final.loc[final['Score']== 0]"
   ]
  },
  {
   "cell_type": "code",
   "execution_count": 11,
   "metadata": {
    "colab": {},
    "colab_type": "code",
    "id": "V5NITJWvWB_7"
   },
   "outputs": [],
   "source": [
    "final_new=final.sample(n=80000)\n",
    "\n",
    "final=final.sort_values('ProductId', axis=0, ascending=True, inplace=False, kind='quicksort', na_position='last')\n",
    "\n",
    "labels = final_new['Score']\n"
   ]
  },
  {
   "cell_type": "code",
   "execution_count": 12,
   "metadata": {
    "colab": {},
    "colab_type": "code",
    "id": "nK9qQdP_WCAF"
   },
   "outputs": [],
   "source": [
    "new_final=final_new.sort_values('Time')\n",
    "final=new_final\n",
    "new_labels=final['Score']"
   ]
  },
  {
   "cell_type": "markdown",
   "metadata": {
    "colab_type": "text",
    "id": "v6sWPp2wWCAK"
   },
   "source": [
    "## 7.2.3  Text Preprocessing: Stemming, stop-word removal and Lemmatization.\n",
    "\n",
    "Now that we have finished deduplication our data requires some preprocessing before we go on further with analysis and making the prediction model.\n",
    "\n",
    "Hence in the Preprocessing phase we do the following in the order below:-\n",
    "\n",
    "1. Begin by removing the html tags\n",
    "2. Remove any punctuations or limited set of special characters like , or . or # etc.\n",
    "3. Check if the word is made up of english letters and is not alpha-numeric\n",
    "4. Check to see if the length of the word is greater than 2 (as it was researched that there is no adjective in 2-letters)\n",
    "5. Convert the word to lowercase\n",
    "6. Remove Stopwords\n",
    "7. Finally Snowball Stemming the word (it was obsereved to be better than Porter Stemming)<br>\n",
    "\n",
    "After which we collect the words used to describe positive and negative reviews"
   ]
  },
  {
   "cell_type": "code",
   "execution_count": 13,
   "metadata": {
    "colab": {
     "base_uri": "https://localhost:8080/",
     "height": 71
    },
    "colab_type": "code",
    "id": "UgHdIvLiWCAM",
    "outputId": "3f13268d-6508-47fc-901a-2bef89c7e87c",
    "scrolled": true
   },
   "outputs": [
    {
     "name": "stdout",
     "output_type": "stream",
     "text": [
      "1\n",
      "What happens when you say his name three times? Michael Keaten stars in this comedy about two couples that live in an old two story house.  While coming back from a supply store, the couple suddenly get caught inside of a  &quot;broken-up&quot; bridge and then just before they start to tumble down  into the lake, a board catches them.  But just when they've got their hopes  up, and small dog steps on the board and the car starts to slide off the  bridge and into the lake waters.  A few minutes later...<p>They find  themselves back into their home, they find that somehow somehad light the  fireplace, as if done by magic.  From then on, they find a weird-looking  dead guy known as Bettlejuice.  The only way they can get him for help is  to call him by his name three times and he will appear at their survice.  But they soon wish that they have never called his name, because  Bettlejuice was once a troublemaker but he is the only one who can save  them, on the account that they said his name three times.  They can't leave  their houses or else they will find theirselves in another world with giant  sandworms.  This is a stellar comedy that you should see! Michael Keaton is  awesome as he plays the leading role of Bettlejuice.\n"
     ]
    }
   ],
   "source": [
    "# find sentences containing HTML tags\n",
    "import re\n",
    "i=0;\n",
    "for sent in final['Text'].values:\n",
    "    if (len(re.findall('<.*?>', sent))):\n",
    "        print(i)\n",
    "        print(sent)\n",
    "        break;\n",
    "    i += 1;"
   ]
  },
  {
   "cell_type": "code",
   "execution_count": 14,
   "metadata": {
    "colab": {
     "base_uri": "https://localhost:8080/",
     "height": 68
    },
    "colab_type": "code",
    "id": "Gs3a1khfWCAX",
    "outputId": "f13c7b87-633d-485a-b457-13770c0d45d3"
   },
   "outputs": [
    {
     "name": "stdout",
     "output_type": "stream",
     "text": [
      "[nltk_data] Downloading package stopwords to\n",
      "[nltk_data]     /home/ksumanth01/nltk_data...\n",
      "[nltk_data]   Package stopwords is already up-to-date!\n"
     ]
    },
    {
     "data": {
      "text/plain": [
       "True"
      ]
     },
     "execution_count": 14,
     "metadata": {},
     "output_type": "execute_result"
    }
   ],
   "source": [
    "nltk.download('stopwords')"
   ]
  },
  {
   "cell_type": "code",
   "execution_count": 15,
   "metadata": {
    "colab": {
     "base_uri": "https://localhost:8080/",
     "height": 88
    },
    "colab_type": "code",
    "id": "_WVZTZFWWCAd",
    "outputId": "1a39628c-99b3-43fe-de0e-d4c3f319d736"
   },
   "outputs": [
    {
     "name": "stdout",
     "output_type": "stream",
     "text": [
      "set([u'all', u'just', u\"don't\", u'being', u'over', u'both', u'through', u'yourselves', u'its', u'before', u'o', u'don', u'hadn', u'herself', u'll', u'had', u'should', u'to', u'only', u'won', u'under', u'ours', u'has', u\"should've\", u\"haven't\", u'do', u'them', u'his', u'very', u\"you've\", u'they', u'not', u'during', u'now', u'him', u'nor', u\"wasn't\", u'd', u'did', u'didn', u'this', u'she', u'each', u'further', u\"won't\", u'where', u\"mustn't\", u\"isn't\", u'few', u'because', u\"you'd\", u'doing', u'some', u'hasn', u\"hasn't\", u'are', u'our', u'ourselves', u'out', u'what', u'for', u\"needn't\", u'below', u're', u'does', u\"shouldn't\", u'above', u'between', u'mustn', u't', u'be', u'we', u'who', u\"mightn't\", u\"doesn't\", u'were', u'here', u'shouldn', u'hers', u\"aren't\", u'by', u'on', u'about', u'couldn', u'of', u\"wouldn't\", u'against', u's', u'isn', u'or', u'own', u'into', u'yourself', u'down', u\"hadn't\", u'mightn', u\"couldn't\", u'wasn', u'your', u\"you're\", u'from', u'her', u'their', u'aren', u\"it's\", u'there', u'been', u'whom', u'too', u'wouldn', u'themselves', u'weren', u'was', u'until', u'more', u'himself', u'that', u\"didn't\", u'but', u\"that'll\", u'with', u'than', u'those', u'he', u'me', u'myself', u'ma', u\"weren't\", u'these', u'up', u'will', u'while', u'ain', u'can', u'theirs', u'my', u'and', u've', u'then', u'is', u'am', u'it', u'doesn', u'an', u'as', u'itself', u'at', u'have', u'in', u'any', u'if', u'again', u'no', u'when', u'same', u'how', u'other', u'which', u'you', u\"shan't\", u'shan', u'needn', u'haven', u'after', u'most', u'such', u'why', u'a', u'off', u'i', u'm', u'yours', u\"you'll\", u'so', u'y', u\"she's\", u'the', u'having', u'once'])\n",
      "************************************\n",
      "tasti\n"
     ]
    }
   ],
   "source": [
    "\n",
    "stop = set(stopwords.words('english')) #set of stopwords\n",
    "sno = nltk.stem.SnowballStemmer('english') #initialising the snowball stemmer\n",
    "\n",
    "def cleanhtml(sentence): #function to clean the word of any html-tags\n",
    "    cleanr = re.compile('<.*?>')\n",
    "    cleantext = re.sub(cleanr, ' ', sentence)\n",
    "    return cleantext\n",
    "def cleanpunc(sentence): #function to clean the word of any punctuation or special characters\n",
    "    cleaned = re.sub(r'[?|!|\\'|\"|#]',r'',sentence)\n",
    "    cleaned = re.sub(r'[.|,|)|(|\\|/]',r' ',cleaned)\n",
    "    return  cleaned\n",
    "print(stop)\n",
    "print('************************************')\n",
    "print(sno.stem('tasty'))"
   ]
  },
  {
   "cell_type": "code",
   "execution_count": 16,
   "metadata": {
    "colab": {},
    "colab_type": "code",
    "id": "NIRR4hUgWCAi"
   },
   "outputs": [],
   "source": [
    "#Code for implementing step-by-step the checks mentioned in the pre-processing phase\n",
    "# this code takes a while to run as it needs to run on 500k sentences.\n",
    "if not os.path.isfile('final.sqlite'):\n",
    "    i=0\n",
    "    str1=' '\n",
    "    final_string=[]\n",
    "    all_positive_words=[] # store words from +ve reviews here\n",
    "    all_negative_words=[] # store words from -ve reviews here.\n",
    "    s=''\n",
    "    for sent in tqdm(final['Text'].values):\n",
    "        filtered_sentence=[]\n",
    "        #print(sent);\n",
    "        sent=cleanhtml(sent) # remove HTMl tags\n",
    "        for w in sent.split():\n",
    "            for cleaned_words in cleanpunc(w).split():\n",
    "                if((cleaned_words.isalpha()) & (len(cleaned_words)>2)):    \n",
    "                    if(cleaned_words.lower() not in stop):\n",
    "                        s=(sno.stem(cleaned_words.lower())).encode('utf8')\n",
    "                        filtered_sentence.append(s)\n",
    "                        if (final['Score'].values)[i] == 'positive': \n",
    "                            all_positive_words.append(s) #list of all words used to describe positive reviews\n",
    "                        if(final['Score'].values)[i] == 'negative':\n",
    "                            all_negative_words.append(s) #list of all words used to describe negative reviews reviews\n",
    "                    else:\n",
    "                        continue\n",
    "                else:\n",
    "                    continue \n",
    "        #print(filtered_sentence)\n",
    "        str1 = b\" \".join(filtered_sentence) #final string of cleaned words\n",
    "        #print(\"***********************************************************************\")\n",
    "\n",
    "        final_string.append(str1)\n",
    "        i+=1\n",
    "\n",
    "    #############---- storing the data into .sqlite file ------########################\n",
    "    final['CleanedText']=final_string #adding a column of CleanedText which displays the data after pre-processing of the review \n",
    "    final['CleanedText']=final['CleanedText'].str.decode(\"utf-8\")\n",
    "        # store final table into an SQlLite table for future.\n",
    "    conn = sqlite3.connect('final.sqlite')\n",
    "    c=conn.cursor()\n",
    "    conn.text_factory = str\n",
    "    final.to_sql('Reviews', conn,  schema=None, if_exists='replace', \\\n",
    "                 index=True, index_label=None, chunksize=None, dtype=None)\n",
    "    conn.close()\n",
    "    \n",
    "    \n",
    "    with open('positive_words.pkl', 'wb') as f:\n",
    "        pickle.dump(all_positive_words, f)\n",
    "    with open('negitive_words.pkl', 'wb') as f:\n",
    "        pickle.dump(all_negative_words, f)"
   ]
  },
  {
   "cell_type": "code",
   "execution_count": 17,
   "metadata": {
    "colab": {},
    "colab_type": "code",
    "id": "RvN6YBklWCAo",
    "scrolled": false
   },
   "outputs": [],
   "source": [
    "if os.path.isfile('final.sqlite'):\n",
    "    conn = sqlite3.connect('final.sqlite')\n",
    "    final = pd.read_sql_query(\"\"\" SELECT * FROM Reviews WHERE Score != 3 \"\"\", conn)\n",
    "    conn.close()\n",
    "else:\n",
    "    print(\"Please the above cell\")"
   ]
  },
  {
   "cell_type": "markdown",
   "metadata": {
    "colab_type": "text",
    "id": "WSq4iqPp3hhH"
   },
   "source": [
    "# Bag of Words - Unigrams"
   ]
  },
  {
   "cell_type": "code",
   "execution_count": 26,
   "metadata": {},
   "outputs": [],
   "source": [
    "# Dividing raw train and test data\n",
    "X = final['CleanedText']\n",
    "y = np.array(new_labels)\n",
    "\n",
    "X_train = X[:int(0.7*len(X))]\n",
    "y_train = y[:int(0.7*len(y))]\n",
    "X_test = X[len(X_train):]\n",
    "y_test = y[len(y_train):]"
   ]
  },
  {
   "cell_type": "code",
   "execution_count": 27,
   "metadata": {},
   "outputs": [
    {
     "name": "stdout",
     "output_type": "stream",
     "text": [
      "<class 'scipy.sparse.csr.csr_matrix'>\n",
      "('Train data shape: ', (56000, 28730))\n",
      "('Test data shape: ', (24000, 28730))\n"
     ]
    }
   ],
   "source": [
    "# Applying bow on train data\n",
    "count_vect = CountVectorizer()\n",
    "train_final = count_vect.fit_transform(X_train)\n",
    "print(type(train_final))\n",
    "print(\"Train data shape: \",train_final.get_shape())\n",
    "\n",
    "# Standardizing X_train data\n",
    "# Create the Scaler object\n",
    "scaler = preprocessing.StandardScaler(with_mean=False)\n",
    "# Fit your data on the scaler object\n",
    "standardized_Xtrain = scaler.fit_transform(train_final)\n",
    "\n",
    "test_final = count_vect.transform(X_test)   # applying bow on test data\n",
    "print(\"Test data shape: \",test_final.get_shape())\n",
    "\n",
    "standardized_Xtest = scaler.transform(test_final)   # Standardizing X_test data"
   ]
  },
  {
   "cell_type": "markdown",
   "metadata": {},
   "source": [
    "### With L2 Regularizer"
   ]
  },
  {
   "cell_type": "code",
   "execution_count": 20,
   "metadata": {},
   "outputs": [
    {
     "name": "stdout",
     "output_type": "stream",
     "text": [
      "\n",
      "GridSearchCV\n",
      "('Best C : ', 0.0001)\n",
      "('Training Score : ', 95.01691914767802)\n",
      "('Training Error : ', 4.983080852321976)\n",
      "('Test Score : ', 89.2670165031364)\n",
      "('Test Error : ', 10.732983496863596)\n",
      "('Confusion matrix : \\n', array([[ 3249,   916],\n",
      "       [ 1753, 18082]]))\n"
     ]
    },
    {
     "data": {
      "text/plain": [
       "Text(0.5,1,'Heatmap for confusion matrix')"
      ]
     },
     "execution_count": 20,
     "metadata": {},
     "output_type": "execute_result"
    },
    {
     "data": {
      "image/png": "[encoded data removed]",
      "text/plain": [
       "<Figure size 432x288 with 2 Axes>"
      ]
     },
     "metadata": {
      "needs_background": "light"
     },
     "output_type": "display_data"
    }
   ],
   "source": [
    "# GridSearchCV to find best C with l2\n",
    "\n",
    "tuned_C_grid = [{'C': [10**(i) for i in range (-4,4)]}]\n",
    "\n",
    "model1 = GridSearchCV(LogisticRegression(random_state=5,penalty='l2',class_weight='balanced',n_jobs=-1),tuned_C_grid, cv=3,n_jobs=-1)\n",
    "model1.fit(standardized_Xtrain, y_train)\n",
    "\n",
    "print (\"\\nGridSearchCV\")\n",
    "# Obtaining best C\n",
    "best_C1 = model1.best_estimator_.get_params()['C']\n",
    "print (\"Best C : \",best_C1)\n",
    "\n",
    "# Training model with X_train and prediction for X_test\n",
    "clf1 = LogisticRegression(C=best_C1, penalty='l2',random_state=5,class_weight='balanced',n_jobs=-1)\n",
    "clf1.fit(standardized_Xtrain,y_train)\n",
    "\n",
    "pred = clf1.predict(standardized_Xtrain)\n",
    "training_score = f1_score(y_train,pred,average='weighted') * 100\n",
    "training_error = 100-training_score\n",
    "print (\"Training Score : \",training_score)\n",
    "print (\"Training Error : \",training_error)\n",
    "\n",
    "pred = clf1.predict(standardized_Xtest)\n",
    "test_score = f1_score(y_test,pred,average='weighted') * 100\n",
    "test_error = 100-test_score\n",
    "print (\"Test Score : \",test_score)\n",
    "print (\"Test Error : \",test_error)\n",
    "\n",
    "confusion = confusion_matrix(y_test, pred)\n",
    "print (\"Confusion matrix : \\n\",confusion)\n",
    "ax = sns.heatmap(confusion, annot=True, fmt=\"d\")\n",
    "ax.set_title('Heatmap for confusion matrix')"
   ]
  },
  {
   "cell_type": "code",
   "execution_count": 21,
   "metadata": {},
   "outputs": [
    {
     "name": "stdout",
     "output_type": "stream",
     "text": [
      "RandomizedSearchCV\n",
      "('Best C : ', 0.6596374487594618)\n",
      "('Training Score : ', 98.71235267241238)\n",
      "('Training Error : ', 1.2876473275876208)\n",
      "('Test Score : ', 84.96247253318582)\n",
      "('Test Error : ', 15.037527466814183)\n",
      "('Confusion matrix : \\n', array([[ 2647,  1518],\n",
      "       [ 2199, 17636]]))\n"
     ]
    },
    {
     "data": {
      "text/plain": [
       "Text(0.5,1,'Heatmap for confusion matrix')"
      ]
     },
     "execution_count": 21,
     "metadata": {},
     "output_type": "execute_result"
    },
    {
     "data": {
      "image/png": "[encoded data removed]",
      "text/plain": [
       "<Figure size 432x288 with 2 Axes>"
      ]
     },
     "metadata": {
      "needs_background": "light"
     },
     "output_type": "display_data"
    }
   ],
   "source": [
    "# RandomizedSearchCV to find best C with l2\n",
    "\n",
    "tuned_C_random = dict(C=uniform(10**-4,10**4))\n",
    "#Using RandomizedSearchCV\n",
    "model2 = RandomizedSearchCV(LogisticRegression(penalty='l2',random_state=5,class_weight='balanced',n_jobs=-1), tuned_C_random, cv=3,n_jobs=-1)\n",
    "model2.fit(standardized_Xtrain, y_train)\n",
    "print (\"RandomizedSearchCV\")\n",
    "\n",
    "best_C2 = model2.best_estimator_.get_params()['C']\n",
    "print (\"Best C : \",best_C2)\n",
    "\n",
    "clf2 = LogisticRegression(C=best_C2, penalty='l2',random_state=5,class_weight='balanced',n_jobs=-1)\n",
    "clf2.fit(standardized_Xtrain, y_train)\n",
    "\n",
    "pred = clf2.predict(standardized_Xtrain)\n",
    "training_score = f1_score(y_train,pred,average='weighted')*100\n",
    "training_error = 100-training_score\n",
    "print (\"Training Score : \",training_score)\n",
    "print (\"Training Error : \",training_error)\n",
    "\n",
    "pred = clf2.predict(standardized_Xtest)\n",
    "test_score = f1_score(y_test,pred,average='weighted') * 100\n",
    "test_error = 100-test_score\n",
    "print (\"Test Score : \",test_score)\n",
    "print (\"Test Error : \",test_error)\n",
    "\n",
    "confusion = confusion_matrix(y_test, pred)\n",
    "print (\"Confusion matrix : \\n\",confusion)\n",
    "ax = sns.heatmap(confusion, annot=True, fmt=\"d\")\n",
    "ax.set_title('Heatmap for confusion matrix')"
   ]
  },
  {
   "cell_type": "code",
   "execution_count": 22,
   "metadata": {},
   "outputs": [
    {
     "name": "stderr",
     "output_type": "stream",
     "text": [
      "\r",
      "  0%|          | 0/16 [00:00<?, ?it/s]"
     ]
    },
    {
     "name": "stdout",
     "output_type": "stream",
     "text": [
      "('lambda: ', [0.0001, 0.001, 0.01, 0.1, 0.5, 1.0, 4.0, 9.0, 15.0, 30.0, 60.0, 90.0, 100.0, 300.0, 500.0, 800.0])\n",
      "('C: ', [10000.0, 1000.0, 100.0, 10.0, 2.0, 1.0, 0.25, 0.11111, 0.06667, 0.03333, 0.01667, 0.01111, 0.01, 0.00333, 0.002, 0.00125])\n"
     ]
    },
    {
     "name": "stderr",
     "output_type": "stream",
     "text": [
      "100%|██████████| 16/16 [11:22<00:00, 14.61s/it]\n"
     ]
    },
    {
     "name": "stdout",
     "output_type": "stream",
     "text": [
      "+--------------+----------+----------+\n",
      "| Lambda Value |  Error   | Sparsity |\n",
      "+--------------+----------+----------+\n",
      "|    0.0001    | 16.93107 |    0     |\n",
      "|    0.001     | 17.11596 |    0     |\n",
      "|     0.01     | 17.16116 |    0     |\n",
      "|     0.1      | 16.22577 |    0     |\n",
      "|     0.5      | 15.60541 |    0     |\n",
      "|     1.0      | 15.29059 |    0     |\n",
      "|     4.0      | 14.41785 |    0     |\n",
      "|     9.0      | 13.96341 |    0     |\n",
      "|     15.0     | 13.74944 |    0     |\n",
      "|     30.0     | 13.29891 |    0     |\n",
      "|     60.0     | 12.85443 |    0     |\n",
      "|     90.0     | 12.50065 |    0     |\n",
      "|    100.0     | 12.42103 |    0     |\n",
      "|    300.0     | 11.88438 |    0     |\n",
      "|    500.0     | 11.5807  |    0     |\n",
      "|    800.0     | 11.37493 |    0     |\n",
      "+--------------+----------+----------+\n"
     ]
    },
    {
     "data": {
      "image/png": "[encoded data removed]",
      "text/plain": [
       "<Figure size 936x360 with 2 Axes>"
      ]
     },
     "metadata": {
      "needs_background": "light"
     },
     "output_type": "display_data"
    }
   ],
   "source": [
    "# Error and sparsity check with l2 regularizer\n",
    "\n",
    "lambda_values = [0.0001, 0.001, 0.01, 0.1, 0.5, 1, 4, 9, 15, 30, 60, 90, 100, 300, 500,800]\n",
    "lambda_values=[float(i) for i in lambda_values]\n",
    "print (\"lambda: \",lambda_values)\n",
    "\n",
    "c = [round((1.0/i),5) for i in lambda_values]\n",
    "print (\"C: \",c)\n",
    "\n",
    "x = PrettyTable()\n",
    "x.field_names = [\"Lambda Value\",\"Error\",\"Sparsity\"]\n",
    "scores = []\n",
    "sparsity = []\n",
    "j=0\n",
    "for i in tqdm(c):\n",
    "    clf = LogisticRegression(penalty='l2',C=i,random_state=5,n_jobs=-1,class_weight='balanced').fit(standardized_Xtrain, y_train)\n",
    "    pred = clf.predict(standardized_Xtest)\n",
    "    sco = f1_score(y_test, pred, average='weighted')*100\n",
    "    scores.append(100-sco)\n",
    "    weight_vector = clf.coef_[0]\n",
    "    zeros=0\n",
    "    for i in weight_vector:\n",
    "        if i==0:\n",
    "            zeros+=1\n",
    "    sparsity.append(zeros)\n",
    "    x.add_row([round(lambda_values[j],5),round((100-sco),5),zeros])\n",
    "    j+=1;\n",
    "\n",
    "print (x)\n",
    "\n",
    "plt.figure(figsize=(13, 5))\n",
    "ax = plt.subplot(121)\n",
    "ax.set(xlabel='Values of lambda', ylabel='Misclassification Error', title='lambda vs error rate plot')\n",
    "ax.plot(lambda_values,scores,color=\"red\")\n",
    "ax.legend(['Test error curve'])\n",
    "ax.grid(True)\n",
    "\n",
    "ax = plt.subplot(122)\n",
    "ax.set(xlabel='Values of lambda', ylabel='Sparsity', title='lambda vs sparsity rate plot')\n",
    "ax.plot(lambda_values,sparsity,color=\"blue\")\n",
    "ax.legend(['Sparsity curve'])\n",
    "ax.grid(True)\n",
    "\n",
    "plt.show()"
   ]
  },
  {
   "cell_type": "markdown",
   "metadata": {},
   "source": [
    "From the above plots the rate of misclassification error decreases with the value of increasing lambda and sparsity is 0 throughout all values of lambda."
   ]
  },
  {
   "cell_type": "markdown",
   "metadata": {},
   "source": [
    "### With L1 Regularizer"
   ]
  },
  {
   "cell_type": "code",
   "execution_count": 28,
   "metadata": {},
   "outputs": [
    {
     "name": "stdout",
     "output_type": "stream",
     "text": [
      "\n",
      "GridSearchCV\n",
      "('Best C : ', 0.01)\n",
      "('Training Score : ', 82.7099731241223)\n",
      "('Training Error : ', 17.2900268758777)\n",
      "('Test Score : ', 70.27441048868333)\n",
      "('Test Error : ', 29.72558951131667)\n",
      "('Confusion matrix : \\n', array([[  874,  3269],\n",
      "       [ 4132, 15725]]))\n"
     ]
    },
    {
     "data": {
      "text/plain": [
       "Text(0.5,1,'Heatmap for confusion matrix')"
      ]
     },
     "execution_count": 28,
     "metadata": {},
     "output_type": "execute_result"
    },
    {
     "data": {
      "image/png": "[encoded data removed]",
      "text/plain": [
       "<Figure size 432x288 with 2 Axes>"
      ]
     },
     "metadata": {
      "needs_background": "light"
     },
     "output_type": "display_data"
    }
   ],
   "source": [
    "# GridSearchCV to find best C with l1\n",
    "\n",
    "tuned_C_grid = [{'C': [10**(i) for i in range (-4,4)]}]\n",
    "\n",
    "model1 = GridSearchCV(LogisticRegression(random_state=5,penalty='l1',class_weight='balanced',n_jobs=-1),tuned_C_grid, cv=3,n_jobs=-1)\n",
    "model1.fit(standardized_Xtrain, y_train)\n",
    "\n",
    "print (\"\\nGridSearchCV\")\n",
    "# Obtaining best C\n",
    "best_C1 = model1.best_estimator_.get_params()['C']\n",
    "print (\"Best C : \",best_C1)\n",
    "\n",
    "# Training model with X_train and prediction for X_test\n",
    "clf1 = LogisticRegression(C=best_C1, penalty='l1',random_state=5,class_weight='balanced',n_jobs=-1)\n",
    "clf1.fit(standardized_Xtrain,y_train)\n",
    "\n",
    "pred = clf1.predict(standardized_Xtrain)\n",
    "training_score = f1_score(y_train,pred,average='weighted') * 100\n",
    "training_error = 100-training_score\n",
    "print (\"Training Score : \",training_score)\n",
    "print (\"Training Error : \",training_error)\n",
    "\n",
    "pred = clf1.predict(standardized_Xtest)\n",
    "test_score = f1_score(y_test,pred,average='weighted') * 100\n",
    "test_error = 100-test_score\n",
    "print (\"Test Score : \",test_score)\n",
    "print (\"Test Error : \",test_error)\n",
    "\n",
    "confusion = confusion_matrix(y_test, pred)\n",
    "print (\"Confusion matrix : \\n\",confusion)\n",
    "ax = sns.heatmap(confusion, annot=True, fmt=\"d\")\n",
    "ax.set_title('Heatmap for confusion matrix')"
   ]
  },
  {
   "cell_type": "code",
   "execution_count": 29,
   "metadata": {},
   "outputs": [
    {
     "name": "stdout",
     "output_type": "stream",
     "text": [
      "RandomizedSearchCV\n",
      "('Best C : ', 550.7638848144253)\n",
      "('Training Score : ', 85.42028024728268)\n",
      "('Training Error : ', 14.579719752717324)\n",
      "('Test Score : ', 66.60889119591562)\n",
      "('Test Error : ', 33.39110880408438)\n",
      "('Confusion matrix : \\n', array([[ 1229,  2914],\n",
      "       [ 5912, 13945]]))\n"
     ]
    },
    {
     "data": {
      "text/plain": [
       "Text(0.5,1,'Heatmap for confusion matrix')"
      ]
     },
     "execution_count": 29,
     "metadata": {},
     "output_type": "execute_result"
    },
    {
     "data": {
      "image/png": "[encoded data removed]",
      "text/plain": [
       "<Figure size 432x288 with 2 Axes>"
      ]
     },
     "metadata": {
      "needs_background": "light"
     },
     "output_type": "display_data"
    }
   ],
   "source": [
    "# RandomizedSearchCV to find best C with l1\n",
    "\n",
    "tuned_C_random = dict(C=uniform(10**-4,10**4))\n",
    "#Using RandomizedSearchCV\n",
    "model2 = RandomizedSearchCV(LogisticRegression(random_state=5,penalty='l1',class_weight='balanced',n_jobs=-1),tuned_C_random, cv=3,n_jobs=-1)\n",
    "model2.fit(standardized_Xtrain, y_train)\n",
    "print (\"RandomizedSearchCV\")\n",
    "\n",
    "best_C2 = model2.best_estimator_.get_params()['C']\n",
    "print (\"Best C : \",best_C2)\n",
    "\n",
    "clf2 = LogisticRegression(C=best_C2, penalty='l1',random_state=5,class_weight='balanced',n_jobs=-1)\n",
    "clf2.fit(standardized_Xtrain, y_train)\n",
    "\n",
    "imp_weight_vector=clf2.coef_[0]\n",
    "\n",
    "pred = clf2.predict(standardized_Xtrain)\n",
    "training_score = f1_score(y_train,pred,average='weighted')*100\n",
    "training_error = 100-training_score\n",
    "print (\"Training Score : \",training_score)\n",
    "print (\"Training Error : \",training_error)\n",
    "\n",
    "pred = clf2.predict(standardized_Xtest)\n",
    "test_score = f1_score(y_test,pred,average='weighted') * 100\n",
    "test_error = 100-test_score\n",
    "print (\"Test Score : \",test_score)\n",
    "print (\"Test Error : \",test_error)\n",
    "\n",
    "confusion = confusion_matrix(y_test, pred)\n",
    "print (\"Confusion matrix : \\n\",confusion)\n",
    "ax = sns.heatmap(confusion, annot=True, fmt=\"d\")\n",
    "ax.set_title('Heatmap for confusion matrix')"
   ]
  },
  {
   "cell_type": "code",
   "execution_count": 30,
   "metadata": {},
   "outputs": [
    {
     "name": "stderr",
     "output_type": "stream",
     "text": [
      "\r",
      "  0%|          | 0/16 [00:00<?, ?it/s]"
     ]
    },
    {
     "name": "stdout",
     "output_type": "stream",
     "text": [
      "('lambda: ', [0.0001, 0.001, 0.01, 0.1, 0.5, 1.0, 4.0, 9.0, 15.0, 30.0, 60.0, 90.0, 100.0, 300.0, 500.0, 800.0])\n",
      "('C: ', [10000.0, 1000.0, 100.0, 10.0, 2.0, 1.0, 0.25, 0.11111, 0.06667, 0.03333, 0.01667, 0.01111, 0.01, 0.00333, 0.002, 0.00125])\n"
     ]
    },
    {
     "name": "stderr",
     "output_type": "stream",
     "text": [
      "100%|██████████| 16/16 [56:04<00:00, 11.78s/it]   \n"
     ]
    },
    {
     "name": "stdout",
     "output_type": "stream",
     "text": [
      "+--------------+----------+----------+\n",
      "| Lambda Value |  Error   | Sparsity |\n",
      "+--------------+----------+----------+\n",
      "|    0.0001    | 33.35328 |   6680   |\n",
      "|    0.001     | 33.35127 |   7269   |\n",
      "|     0.01     | 33.39555 |   8792   |\n",
      "|     0.1      | 33.48459 |   9185   |\n",
      "|     0.5      | 33.54957 |   9355   |\n",
      "|     1.0      | 33.59112 |   9453   |\n",
      "|     4.0      | 33.6429  |   9953   |\n",
      "|     9.0      | 33.80307 |  10563   |\n",
      "|     15.0     | 33.64828 |  11279   |\n",
      "|     30.0     | 32.99446 |  12912   |\n",
      "|     60.0     | 31.34035 |  17031   |\n",
      "|     90.0     | 30.16789 |  21371   |\n",
      "|    100.0     | 29.72559 |  22201   |\n",
      "|    300.0     | 27.47735 |  26544   |\n",
      "|    500.0     | 94.51412 |  28608   |\n",
      "|    800.0     | 94.91749 |  28730   |\n",
      "+--------------+----------+----------+\n"
     ]
    },
    {
     "data": {
      "image/png": "[encoded data removed]",
      "text/plain": [
       "<Figure size 936x360 with 2 Axes>"
      ]
     },
     "metadata": {
      "needs_background": "light"
     },
     "output_type": "display_data"
    }
   ],
   "source": [
    "# Error and sparsity check with l1 regularizer\n",
    "\n",
    "lambda_values = [0.0001, 0.001, 0.01, 0.1, 0.5, 1, 4, 9, 15, 30, 60, 90, 100, 300, 500,800]\n",
    "lambda_values=[float(i) for i in lambda_values]\n",
    "print (\"lambda: \",lambda_values)\n",
    "\n",
    "c = [round((1.0/i),5) for i in lambda_values]\n",
    "print (\"C: \",c)\n",
    "\n",
    "x = PrettyTable()\n",
    "x.field_names = [\"Lambda Value\",\"Error\",\"Sparsity\"]\n",
    "scores = []\n",
    "sparsity = []\n",
    "j=0\n",
    "for i in tqdm(c):\n",
    "    clf = LogisticRegression(penalty='l1',C=i,random_state=5,n_jobs=-1,class_weight='balanced').fit(standardized_Xtrain, y_train)\n",
    "    pred = clf.predict(standardized_Xtest)\n",
    "    sco = f1_score(y_test, pred, average='weighted')*100\n",
    "    scores.append(100-sco)\n",
    "    weight_vector = clf.coef_[0]\n",
    "    zeros=0\n",
    "    for i in weight_vector:\n",
    "        if i==0:\n",
    "            zeros+=1\n",
    "    sparsity.append(zeros)\n",
    "    x.add_row([round(lambda_values[j],5),round((100-sco),5),zeros])\n",
    "    j+=1;\n",
    "\n",
    "print (x)\n",
    "      \n",
    "plt.figure(figsize=(13, 5))\n",
    "ax = plt.subplot(121)\n",
    "ax.set(xlabel='Values of lambda', ylabel='Misclassification Error', title='lambda vs error rate plot')\n",
    "ax.plot(lambda_values,scores,color=\"red\")\n",
    "ax.legend(['Test error curve'])\n",
    "ax.grid(True)\n",
    "\n",
    "ax = plt.subplot(122)\n",
    "ax.set(xlabel='Values of lambda', ylabel='Sparsity', title='lambda vs sparsity rate plot')\n",
    "ax.plot(lambda_values,sparsity,color=\"blue\")\n",
    "ax.legend(['Sparsity curve'])\n",
    "ax.grid(True)\n",
    "\n",
    "plt.show()"
   ]
  },
  {
   "cell_type": "markdown",
   "metadata": {},
   "source": [
    "From the above plots the rate of misclassification error decreases with the value of increasing lambda till 300 and then it drastically picksup till 500 and remains almost constant. The sparsity increases as the lambda value increases and it remained constanct after reaching 500."
   ]
  },
  {
   "cell_type": "markdown",
   "metadata": {},
   "source": [
    "### Pertubation test and Feature Importance  "
   ]
  },
  {
   "cell_type": "code",
   "execution_count": 31,
   "metadata": {},
   "outputs": [],
   "source": [
    "# Adding noise epsilon to each value of train data\n",
    "epsilon = np.random.normal(0,0.000001)\n",
    "\n",
    "new_standardized_Xtrain = standardized_Xtrain\n",
    "new_standardized_Xtrain.data = new_standardized_Xtrain.data+epsilon"
   ]
  },
  {
   "cell_type": "code",
   "execution_count": 32,
   "metadata": {},
   "outputs": [
    {
     "name": "stdout",
     "output_type": "stream",
     "text": [
      "('After adding noise to weight vector, ', 21095, ' weight values have changed out of ', 28730, '.')\n",
      "(20629, ' weight values have change more than 30% out of ', 21095)\n"
     ]
    }
   ],
   "source": [
    "clf = LogisticRegression(penalty='l1', C=674.3052869248972,random_state=5,n_jobs=-1,class_weight='balanced')\n",
    "clf.fit(new_standardized_Xtrain, y_train)\n",
    "\n",
    "# Obtaining weight vector after adding epsilon noise\n",
    "noise_weight_vector = clf.coef_[0]\n",
    "\n",
    "# Obtaining weight vector before adding epsilon noise\n",
    "weight_vector=imp_weight_vector\n",
    "count0=0\n",
    "count30=0\n",
    "for i in range(0,len(noise_weight_vector)):\n",
    "    g = abs(max(noise_weight_vector[i],weight_vector[i])- min(noise_weight_vector[i],weight_vector[i]))\n",
    "    if weight_vector[i]==0.0:\n",
    "        change=abs(noise_weight_vector[i])\n",
    "    else:\n",
    "        change=(abs(weight_vector[i])/g)*100\n",
    "    if change>0:\n",
    "        count0+=1\n",
    "    if change>30:\n",
    "        count30+=1\n",
    "\n",
    "# Reporting the changed weight values\n",
    "print (\"After adding noise to weight vector, \",count0,\" weight values have changed out of \",len(weight_vector),\".\")\n",
    "print (count30,\" weight values have change more than 30% out of \",count0)"
   ]
  },
  {
   "cell_type": "code",
   "execution_count": 33,
   "metadata": {},
   "outputs": [
    {
     "name": "stdout",
     "output_type": "stream",
     "text": [
      "Top 10 positive words/features\n",
      "[u'race', u'cilantro', u'icicl', u'underneath', u'swell', u'moreov', u'flatul', u'latest', u'courier', u'gin']\n",
      "Top 10 negative words/features\n",
      "[u'highland', u'soccer', u'pose', u'transplant', u'jds', u'chlorin', u'fart', u'ruptur', u'lesion', u'incandesc']\n"
     ]
    }
   ],
   "source": [
    "words_list=count_vect.get_feature_names()\n",
    "j=sorted(weight_vector,reverse=True)\n",
    "\n",
    "pos_indexes=[list(weight_vector).index(i) for i in j[:10]]\n",
    "pos_words=[words_list[i] for i in pos_indexes]\n",
    "print(\"Top 10 positive words/features\")\n",
    "print pos_words\n",
    "\n",
    "neg_indexes=[list(weight_vector).index(i) for i in j[-10:]]\n",
    "neg_words=[words_list[i] for i in neg_indexes]\n",
    "neg_words.reverse()\n",
    "print(\"Top 10 negative words/features\")\n",
    "print (neg_words)\n"
   ]
  },
  {
   "cell_type": "markdown",
   "metadata": {},
   "source": [
    "# TF-IDF Featurization"
   ]
  },
  {
   "cell_type": "code",
   "execution_count": 32,
   "metadata": {},
   "outputs": [],
   "source": [
    "# Dividing raw train and test data\n",
    "X = final['CleanedText']\n",
    "y = np.array(new_labels)\n",
    "\n",
    "X_train = X[:int(0.7*len(X))]\n",
    "y_train = y[:int(0.7*len(y))]\n",
    "X_test = X[len(X_train):]\n",
    "y_test = y[len(y_train):]"
   ]
  },
  {
   "cell_type": "code",
   "execution_count": 33,
   "metadata": {},
   "outputs": [],
   "source": [
    "# TF-IDF Vectorizing\n",
    "# vectorizing X_train\n",
    "tf_idf_vect = TfidfVectorizer(ngram_range=(1,2))\n",
    "train_final_tfidf = tf_idf_vect.fit_transform(X_train)\n",
    "\n",
    "#vectorizing X_test\n",
    "test_final_tfidf = tf_idf_vect.transform(X_test) \n",
    "\n",
    "# Standardizing X_train data\n",
    "# Create the Scaler object\n",
    "scaler = preprocessing.StandardScaler(with_mean=False)\n",
    "# Fit data on the scaler object\n",
    "standardized_Xtrain = scaler.fit_transform(train_final_tfidf)\n",
    "\n",
    "# Standardizing X_test data\n",
    "standardized_Xtest = scaler.transform(test_final_tfidf)"
   ]
  },
  {
   "cell_type": "markdown",
   "metadata": {},
   "source": [
    "### With L2 Regularizer"
   ]
  },
  {
   "cell_type": "code",
   "execution_count": 36,
   "metadata": {},
   "outputs": [
    {
     "name": "stdout",
     "output_type": "stream",
     "text": [
      "\n",
      "GridSearchCV\n",
      "('Best C : ', 0.0001)\n",
      "('Training Score : ', 99.98214719244464)\n",
      "('Training Error : ', 0.01785280755535723)\n",
      "('Test Score : ', 75.00472718036508)\n",
      "('Test Error : ', 24.99527281963492)\n",
      "('Confusion matrix : \\n', array([[   67,  4076],\n",
      "       [  264, 19593]]))\n"
     ]
    },
    {
     "data": {
      "text/plain": [
       "Text(0.5,1,'Heatmap for confusion matrix')"
      ]
     },
     "execution_count": 36,
     "metadata": {},
     "output_type": "execute_result"
    },
    {
     "data": {
      "image/png": "[encoded data removed]",
      "text/plain": [
       "<Figure size 432x288 with 2 Axes>"
      ]
     },
     "metadata": {
      "needs_background": "light"
     },
     "output_type": "display_data"
    }
   ],
   "source": [
    "# GridSearchCV to find best C with l2\n",
    "\n",
    "tuned_C_grid = [{'C': [10**(i) for i in range (-4,4)]}]\n",
    "\n",
    "model1 = GridSearchCV(LogisticRegression(random_state=5,penalty='l2',n_jobs=-1,class_weight='balanced'),tuned_C_grid, cv=3,n_jobs=-1)\n",
    "model1.fit(standardized_Xtrain, y_train)\n",
    "\n",
    "print (\"\\nGridSearchCV\")\n",
    "# Obtaining best C\n",
    "best_C1 = model1.best_estimator_.get_params()['C']\n",
    "print (\"Best C : \",best_C1)\n",
    "\n",
    "# Training model with X_train and prediction for X_test\n",
    "clf1 = LogisticRegression(C=best_C1, penalty='l2',random_state=5,n_jobs=-1,class_weight='balanced')\n",
    "clf1.fit(standardized_Xtrain,y_train)\n",
    "\n",
    "pred = clf1.predict(standardized_Xtrain)\n",
    "training_score = f1_score(y_train,pred,average='weighted') * 100\n",
    "training_error = 100-training_score\n",
    "print (\"Training Score : \",training_score)\n",
    "print (\"Training Error : \",training_error)\n",
    "\n",
    "pred = clf1.predict(standardized_Xtest)\n",
    "test_score = f1_score(y_test,pred,average='weighted') * 100\n",
    "test_error = 100-test_score\n",
    "print (\"Test Score : \",test_score)\n",
    "print (\"Test Error : \",test_error)\n",
    "\n",
    "confusion = confusion_matrix(y_test, pred)\n",
    "print (\"Confusion matrix : \\n\",confusion)\n",
    "ax = sns.heatmap(confusion, annot=True, fmt=\"d\")\n",
    "ax.set_title('Heatmap for confusion matrix')"
   ]
  },
  {
   "cell_type": "code",
   "execution_count": 37,
   "metadata": {},
   "outputs": [
    {
     "name": "stdout",
     "output_type": "stream",
     "text": [
      "RandomizedSearchCV\n",
      "('Best C : ', 7156.413689085606)\n",
      "('Training Score : ', 99.9875021247705)\n",
      "('Training Error : ', 0.0124978752294993)\n",
      "('Test Score : ', 75.05597781037315)\n",
      "('Test Error : ', 24.94402218962685)\n",
      "('Confusion matrix : \\n', array([[   64,  4079],\n",
      "       [  228, 19629]]))\n"
     ]
    },
    {
     "data": {
      "text/plain": [
       "Text(0.5,1,'Heatmap for confusion matrix')"
      ]
     },
     "execution_count": 37,
     "metadata": {},
     "output_type": "execute_result"
    },
    {
     "data": {
      "image/png": "[encoded data removed]",
      "text/plain": [
       "<Figure size 432x288 with 2 Axes>"
      ]
     },
     "metadata": {
      "needs_background": "light"
     },
     "output_type": "display_data"
    }
   ],
   "source": [
    "# RandomizedSearchCV to find best C with l2\n",
    "\n",
    "tuned_C_random = dict(C=uniform(10**-4,10**4))\n",
    "#Using RandomizedSearchCV\n",
    "model2 = RandomizedSearchCV(LogisticRegression(penalty='l2',random_state=5,n_jobs=-1,class_weight='balanced'), tuned_C_random, cv=3,n_jobs=-1)\n",
    "model2.fit(standardized_Xtrain, y_train)\n",
    "print (\"RandomizedSearchCV\")\n",
    "\n",
    "best_C2 = model2.best_estimator_.get_params()['C']\n",
    "print (\"Best C : \",best_C2)\n",
    "\n",
    "clf2 = LogisticRegression(C=best_C2, penalty='l2',random_state=5,n_jobs=-1,class_weight='balanced')\n",
    "clf2.fit(standardized_Xtrain, y_train)\n",
    "\n",
    "pred = clf2.predict(standardized_Xtrain)\n",
    "training_score = f1_score(y_train,pred,average='weighted')*100\n",
    "training_error = 100-training_score\n",
    "print (\"Training Score : \",training_score)\n",
    "print (\"Training Error : \",training_error)\n",
    "\n",
    "pred = clf2.predict(standardized_Xtest)\n",
    "test_score = f1_score(y_test,pred,average='weighted') * 100\n",
    "test_error = 100-test_score\n",
    "print (\"Test Score : \",test_score)\n",
    "print (\"Test Error : \",test_error)\n",
    "\n",
    "confusion = confusion_matrix(y_test, pred)\n",
    "print (\"Confusion matrix : \\n\",confusion)\n",
    "ax = sns.heatmap(confusion, annot=True, fmt=\"d\")\n",
    "ax.set_title('Heatmap for confusion matrix')"
   ]
  },
  {
   "cell_type": "code",
   "execution_count": 34,
   "metadata": {},
   "outputs": [
    {
     "name": "stderr",
     "output_type": "stream",
     "text": [
      "\r",
      "  0%|          | 0/16 [00:00<?, ?it/s]"
     ]
    },
    {
     "name": "stdout",
     "output_type": "stream",
     "text": [
      "('lambda: ', [0.0001, 0.001, 0.01, 0.1, 0.5, 1.0, 4.0, 9.0, 15.0, 30.0, 60.0, 90.0, 100.0, 300.0, 500.0, 800.0])\n",
      "('C: ', [10000.0, 1000.0, 100.0, 10.0, 2.0, 1.0, 0.25, 0.11111, 0.06667, 0.03333, 0.01667, 0.01111, 0.01, 0.00333, 0.002, 0.00125])\n"
     ]
    },
    {
     "name": "stderr",
     "output_type": "stream",
     "text": [
      "100%|██████████| 16/16 [10:26<00:00, 23.47s/it]\n"
     ]
    },
    {
     "name": "stdout",
     "output_type": "stream",
     "text": [
      "+--------------+----------+----------+\n",
      "| Lambda Value |  Error   | Sparsity |\n",
      "+--------------+----------+----------+\n",
      "|    0.0001    | 25.18687 |    0     |\n",
      "|    0.001     | 25.17804 |    0     |\n",
      "|     0.01     | 25.20403 |    0     |\n",
      "|     0.1      | 25.18687 |    0     |\n",
      "|     0.5      | 25.16701 |    0     |\n",
      "|     1.0      | 25.17857 |    0     |\n",
      "|     4.0      | 25.16755 |    0     |\n",
      "|     9.0      | 25.15873 |    0     |\n",
      "|     15.0     | 25.19841 |    0     |\n",
      "|     30.0     | 25.21498 |    0     |\n",
      "|     60.0     | 25.21218 |    0     |\n",
      "|     90.0     | 25.21218 |    0     |\n",
      "|    100.0     | 25.20999 |    0     |\n",
      "|    300.0     | 25.22316 |    0     |\n",
      "|    500.0     | 25.23911 |    0     |\n",
      "|    800.0     | 25.23691 |    0     |\n",
      "+--------------+----------+----------+\n"
     ]
    },
    {
     "data": {
      "image/png": "[encoded data removed]",
      "text/plain": [
       "<Figure size 936x360 with 2 Axes>"
      ]
     },
     "metadata": {
      "needs_background": "light"
     },
     "output_type": "display_data"
    }
   ],
   "source": [
    "# Error and sparsity check with l2 regularizer\n",
    "\n",
    "lambda_values = [0.0001, 0.001, 0.01, 0.1, 0.5, 1, 4, 9, 15, 30, 60, 90, 100, 300, 500,800]\n",
    "lambda_values=[float(i) for i in lambda_values]\n",
    "print (\"lambda: \",lambda_values)\n",
    "\n",
    "c = [round((1.0/i),5) for i in lambda_values]\n",
    "print (\"C: \",c)\n",
    "\n",
    "x = PrettyTable()\n",
    "x.field_names = [\"Lambda Value\",\"Error\",\"Sparsity\"]\n",
    "scores = []\n",
    "sparsity = []\n",
    "j=0\n",
    "for i in tqdm(c):\n",
    "    clf = LogisticRegression(penalty='l2',C=i,random_state=5,n_jobs=-1,class_weight='balanced').fit(standardized_Xtrain, y_train)\n",
    "    pred = clf.predict(standardized_Xtest)\n",
    "    sco = f1_score(y_test, pred, average='weighted')*100\n",
    "    scores.append(100-sco)\n",
    "    weight_vector = clf.coef_[0]\n",
    "    zeros=0\n",
    "    for i in weight_vector:\n",
    "        if i==0:\n",
    "            zeros+=1\n",
    "    sparsity.append(zeros)\n",
    "    x.add_row([round(lambda_values[j],5),round((100-sco),5),zeros])\n",
    "    j+=1;\n",
    "\n",
    "print (x)\n",
    "\n",
    "plt.figure(figsize=(13, 5))\n",
    "ax = plt.subplot(121)\n",
    "ax.set(xlabel='Values of lambda', ylabel='Misclassification Error', title='lambda vs error rate plot')\n",
    "ax.plot(lambda_values,scores,color=\"red\")\n",
    "ax.legend(['Test error curve'])\n",
    "ax.grid(True)\n",
    "\n",
    "ax = plt.subplot(122)\n",
    "ax.set(xlabel='Values of lambda', ylabel='Sparsity', title='lambda vs sparsity rate plot')\n",
    "ax.plot(lambda_values,sparsity,color=\"blue\")\n",
    "ax.legend(['Sparsity curve'])\n",
    "ax.grid(True)\n",
    "\n",
    "plt.show()"
   ]
  },
  {
   "cell_type": "markdown",
   "metadata": {},
   "source": [
    "Rate of misclassification error is in increasing state as the value of lambda increases. Similarly like for Bow l2 regularization, sparsity is 0 for whatsoever the value of lambda."
   ]
  },
  {
   "cell_type": "markdown",
   "metadata": {},
   "source": [
    "### With L1 Regularizer"
   ]
  },
  {
   "cell_type": "code",
   "execution_count": 35,
   "metadata": {},
   "outputs": [
    {
     "name": "stdout",
     "output_type": "stream",
     "text": [
      "\n",
      "GridSearchCV\n",
      "('Best C : ', 10)\n",
      "('Training Score : ', 99.97679315808263)\n",
      "('Training Error : ', 0.023206841917371435)\n",
      "('Test Score : ', 74.7991760394116)\n",
      "('Test Error : ', 25.200823960588394)\n",
      "('Confusion matrix : \\n', array([[   85,  4097],\n",
      "       [  329, 19489]]))\n"
     ]
    },
    {
     "data": {
      "text/plain": [
       "Text(0.5,1,'Heatmap for confusion matrix')"
      ]
     },
     "execution_count": 35,
     "metadata": {},
     "output_type": "execute_result"
    },
    {
     "data": {
      "image/png": "[encoded data removed]",
      "text/plain": [
       "<Figure size 432x288 with 2 Axes>"
      ]
     },
     "metadata": {
      "needs_background": "light"
     },
     "output_type": "display_data"
    }
   ],
   "source": [
    "# GridSearchCV to find best C with l1\n",
    "\n",
    "tuned_C_grid = [{'C': [10**(i) for i in range (-4,4)]}]\n",
    "\n",
    "model1 = GridSearchCV(LogisticRegression(random_state=5,penalty='l1',n_jobs=-1,class_weight='balanced'),tuned_C_grid, cv=3,n_jobs=-1)\n",
    "model1.fit(standardized_Xtrain, y_train)\n",
    "\n",
    "print (\"\\nGridSearchCV\")\n",
    "# Obtaining best C\n",
    "best_C1 = model1.best_estimator_.get_params()['C']\n",
    "print (\"Best C : \",best_C1)\n",
    "\n",
    "# Training model with X_train and prediction for X_test\n",
    "clf1 = LogisticRegression(C=best_C1, penalty='l1',random_state=5,n_jobs=-1,class_weight='balanced')\n",
    "clf1.fit(standardized_Xtrain,y_train)\n",
    "\n",
    "pred = clf1.predict(standardized_Xtrain)\n",
    "training_score = f1_score(y_train,pred,average='weighted') * 100\n",
    "training_error = 100-training_score\n",
    "print (\"Training Score : \",training_score)\n",
    "print (\"Training Error : \",training_error)\n",
    "\n",
    "pred = clf1.predict(standardized_Xtest)\n",
    "test_score = f1_score(y_test,pred,average='weighted') * 100\n",
    "test_error = 100-test_score\n",
    "print (\"Test Score : \",test_score)\n",
    "print (\"Test Error : \",test_error)\n",
    "\n",
    "confusion = confusion_matrix(y_test, pred)\n",
    "print (\"Confusion matrix : \\n\",confusion)\n",
    "ax = sns.heatmap(confusion, annot=True, fmt=\"d\")\n",
    "ax.set_title('Heatmap for confusion matrix')"
   ]
  },
  {
   "cell_type": "code",
   "execution_count": 36,
   "metadata": {},
   "outputs": [
    {
     "name": "stdout",
     "output_type": "stream",
     "text": [
      "RandomizedSearchCV\n",
      "('Best C : ', 170.0817339355904)\n",
      "('Training Score : ', 99.97679315808263)\n",
      "('Training Error : ', 0.023206841917371435)\n",
      "('Test Score : ', 74.73721023002426)\n",
      "('Test Error : ', 25.26278976997574)\n",
      "('Confusion matrix : \\n', array([[  112,  4070],\n",
      "       [  464, 19354]]))\n"
     ]
    },
    {
     "data": {
      "text/plain": [
       "Text(0.5,1,'Heatmap for confusion matrix')"
      ]
     },
     "execution_count": 36,
     "metadata": {},
     "output_type": "execute_result"
    },
    {
     "data": {
      "image/png": "[encoded data removed]",
      "text/plain": [
       "<Figure size 432x288 with 2 Axes>"
      ]
     },
     "metadata": {
      "needs_background": "light"
     },
     "output_type": "display_data"
    }
   ],
   "source": [
    "# RandomizedSearchCV to find best C with l1\n",
    "\n",
    "tuned_C_random = dict(C=uniform(10**-4,10**4))\n",
    "#Using RandomizedSearchCV\n",
    "model2 = RandomizedSearchCV(LogisticRegression(penalty='l1',random_state=5,n_jobs=-1,class_weight='balanced'), tuned_C_random, cv=3,n_jobs=-1)\n",
    "model2.fit(standardized_Xtrain, y_train)\n",
    "print (\"RandomizedSearchCV\")\n",
    "\n",
    "best_C2 = model2.best_estimator_.get_params()['C']\n",
    "print (\"Best C : \",best_C2)\n",
    "\n",
    "clf2 = LogisticRegression(C=best_C2, penalty='l1',random_state=5,n_jobs=-1,class_weight='balanced')\n",
    "clf2.fit(standardized_Xtrain, y_train)\n",
    "\n",
    "imp_weight_vector=clf2.coef_[0]\n",
    "\n",
    "pred = clf2.predict(standardized_Xtrain)\n",
    "training_score = f1_score(y_train,pred,average='weighted')*100\n",
    "training_error = 100-training_score\n",
    "print (\"Training Score : \",training_score)\n",
    "print (\"Training Error : \",training_error)\n",
    "\n",
    "pred = clf2.predict(standardized_Xtest)\n",
    "test_score = f1_score(y_test,pred,average='weighted') * 100\n",
    "test_error = 100-test_score\n",
    "print (\"Test Score : \",test_score)\n",
    "print (\"Test Error : \",test_error)\n",
    "\n",
    "confusion = confusion_matrix(y_test, pred)\n",
    "print (\"Confusion matrix : \\n\",confusion)\n",
    "ax = sns.heatmap(confusion, annot=True, fmt=\"d\")\n",
    "ax.set_title('Heatmap for confusion matrix')"
   ]
  },
  {
   "cell_type": "code",
   "execution_count": 37,
   "metadata": {},
   "outputs": [
    {
     "name": "stderr",
     "output_type": "stream",
     "text": [
      "\r",
      "  0%|          | 0/16 [00:00<?, ?it/s]"
     ]
    },
    {
     "name": "stdout",
     "output_type": "stream",
     "text": [
      "('lambda: ', [0.0001, 0.001, 0.01, 0.1, 0.5, 1.0, 4.0, 9.0, 15.0, 30.0, 60.0, 90.0, 100.0, 300.0, 500.0, 800.0])\n",
      "('C: ', [10000.0, 1000.0, 100.0, 10.0, 2.0, 1.0, 0.25, 0.11111, 0.06667, 0.03333, 0.01667, 0.01111, 0.01, 0.00333, 0.002, 0.00125])\n"
     ]
    },
    {
     "name": "stderr",
     "output_type": "stream",
     "text": [
      "100%|██████████| 16/16 [10:22<00:00, 81.75s/it] \n"
     ]
    },
    {
     "name": "stdout",
     "output_type": "stream",
     "text": [
      "+--------------+----------+----------+\n",
      "| Lambda Value |  Error   | Sparsity |\n",
      "+--------------+----------+----------+\n",
      "|    0.0001    | 27.41109 |  103596  |\n",
      "|    0.001     | 25.61538 |  422646  |\n",
      "|     0.01     | 25.27889 |  609101  |\n",
      "|     0.1      | 25.20082 |  725685  |\n",
      "|     0.5      | 25.76524 |  777228  |\n",
      "|     1.0      | 25.7563  |  777140  |\n",
      "|     4.0      | 25.76991 |  782354  |\n",
      "|     9.0      | 25.78329 |  784223  |\n",
      "|     15.0     | 25.83368 |  787843  |\n",
      "|     30.0     | 25.75713 |  789906  |\n",
      "|     60.0     | 25.90266 |  793694  |\n",
      "|     90.0     | 26.10264 |  795929  |\n",
      "|    100.0     | 26.05363 |  796505  |\n",
      "|    300.0     | 26.61685 |  801742  |\n",
      "|    500.0     | 26.50913 |  834091  |\n",
      "|    800.0     | 94.82852 |  836194  |\n",
      "+--------------+----------+----------+\n"
     ]
    },
    {
     "data": {
      "image/png": "[encoded data removed]",
      "text/plain": [
       "<Figure size 936x360 with 2 Axes>"
      ]
     },
     "metadata": {
      "needs_background": "light"
     },
     "output_type": "display_data"
    }
   ],
   "source": [
    "# Error and sparsity check with l1 regularizer\n",
    "\n",
    "lambda_values = [0.0001, 0.001, 0.01, 0.1, 0.5, 1, 4, 9, 15, 30, 60, 90, 100, 300, 500,800]\n",
    "lambda_values=[float(i) for i in lambda_values]\n",
    "print (\"lambda: \",lambda_values)\n",
    "\n",
    "c = [round((1.0/i),5) for i in lambda_values]\n",
    "print (\"C: \",c)\n",
    "\n",
    "x = PrettyTable()\n",
    "x.field_names = [\"Lambda Value\",\"Error\",\"Sparsity\"]\n",
    "scores = []\n",
    "sparsity = []\n",
    "j=0\n",
    "for i in tqdm(c):\n",
    "    clf = LogisticRegression(penalty='l1',C=i,random_state=5,n_jobs=-1,class_weight='balanced').fit(standardized_Xtrain, y_train)\n",
    "    pred = clf.predict(standardized_Xtest)\n",
    "    sco = f1_score(y_test, pred, average='weighted')*100\n",
    "    scores.append(100-sco)\n",
    "    weight_vector = clf.coef_[0]\n",
    "    zeros=0\n",
    "    for i in weight_vector:\n",
    "        if i==0:\n",
    "            zeros+=1\n",
    "    sparsity.append(zeros)\n",
    "    x.add_row([round(lambda_values[j],5),round((100-sco),5),zeros])\n",
    "    j+=1;\n",
    "\n",
    "print (x)\n",
    "\n",
    "plt.figure(figsize=(13, 5))\n",
    "ax = plt.subplot(121)\n",
    "ax.set(xlabel='Values of lambda', ylabel='Misclassification Error', title='lambda vs error rate plot')\n",
    "ax.plot(lambda_values,scores,color=\"red\")\n",
    "ax.legend(['Test error curve'])\n",
    "ax.grid(True)\n",
    "\n",
    "ax = plt.subplot(122)\n",
    "ax.set(xlabel='Values of lambda', ylabel='Sparsity', title='lambda vs sparsity rate plot')\n",
    "ax.plot(lambda_values,sparsity,color=\"blue\")\n",
    "ax.legend(['Sparsity curve'])\n",
    "ax.grid(True)\n",
    "\n",
    "plt.show()"
   ]
  },
  {
   "cell_type": "markdown",
   "metadata": {},
   "source": [
    "Rate of error has a slight increase in the lambda range 0 to 500 and it rises from then. Sparsity kept on increasing for the values near 0 and low rate of increase is observed after reaching 800000 for remaining values of lambda."
   ]
  },
  {
   "cell_type": "markdown",
   "metadata": {},
   "source": [
    "### Pertubation test and Feature Importance  "
   ]
  },
  {
   "cell_type": "code",
   "execution_count": 38,
   "metadata": {},
   "outputs": [],
   "source": [
    "# Adding noise epsilon to each value of train data\n",
    "epsilon = np.random.normal(0,0.000001)\n",
    "\n",
    "new_standardized_Xtrain = standardized_Xtrain\n",
    "new_standardized_Xtrain.data = new_standardized_Xtrain.data+epsilon"
   ]
  },
  {
   "cell_type": "code",
   "execution_count": 39,
   "metadata": {},
   "outputs": [
    {
     "name": "stdout",
     "output_type": "stream",
     "text": [
      "('After adding noise to weight vector, ', 244653, ' weight values have changed out of ', 836198, '.')\n",
      "(244653, ' weight values have change more than 30% out of ', 244653)\n"
     ]
    }
   ],
   "source": [
    "clf = LogisticRegression(penalty='l1', C=best_C2,random_state=5,n_jobs=-1,class_weight='balanced')\n",
    "clf.fit(new_standardized_Xtrain, y_train)\n",
    "\n",
    "# Obtaining weight vector after adding epsilon noise\n",
    "noise_weight_vector = clf.coef_[0]\n",
    "\n",
    "# Obtaining weight vector before adding epsilon noise\n",
    "weight_vector=imp_weight_vector\n",
    "\n",
    "count0=0\n",
    "count30=0\n",
    "for i in range(0,len(noise_weight_vector)):\n",
    "    g = abs(max(noise_weight_vector[i],weight_vector[i])- min(noise_weight_vector[i],weight_vector[i]))\n",
    "    if weight_vector[i]==0.0:\n",
    "        change=abs(noise_weight_vector[i])\n",
    "    else:\n",
    "        change=(abs(weight_vector[i])/g)*100\n",
    "    if change>0:\n",
    "        count0+=1\n",
    "    if change>30:\n",
    "        count30+=1\n",
    "\n",
    "# Reporting the changed weight values\n",
    "print (\"After adding noise to weight vector, \",count0,\" weight values have changed out of \",len(weight_vector),\".\")\n",
    "print (count30,\" weight values have change more than 30% out of \",count0)"
   ]
  },
  {
   "cell_type": "code",
   "execution_count": 40,
   "metadata": {},
   "outputs": [
    {
     "name": "stdout",
     "output_type": "stream",
     "text": [
      "Top 10 positive words/features\n",
      "[u'product drink', u'excel', u'delici', u'good', u'use', u'worth', u'well apricot', u'packag', u'cant', u'order']\n",
      "Top 10 negative words/features\n",
      "[u'tea high', u'high recommend', u'carri product', u'chicken formula', u'love wish', u'product friend', u'lot cheaper', u'delici pleas', u'product glad', u'recommend']\n"
     ]
    }
   ],
   "source": [
    "words_list=tf_idf_vect.get_feature_names()\n",
    "j=sorted(weight_vector,reverse=True)\n",
    "\n",
    "pos_indexes=[list(weight_vector).index(i) for i in j[:10]]\n",
    "pos_words=[words_list[i] for i in pos_indexes]\n",
    "print(\"Top 10 positive words/features\")\n",
    "print pos_words\n",
    "\n",
    "neg_indexes=[list(weight_vector).index(i) for i in j[-10:]]\n",
    "neg_words=[words_list[i] for i in neg_indexes]\n",
    "neg_words.reverse()\n",
    "print(\"Top 10 negative words/features\")\n",
    "print (neg_words)\n"
   ]
  },
  {
   "cell_type": "markdown",
   "metadata": {
    "colab_type": "text",
    "id": "9ivsUt2JWCBy"
   },
   "source": [
    "#  Word2Vec Featurization"
   ]
  },
  {
   "cell_type": "code",
   "execution_count": 18,
   "metadata": {},
   "outputs": [],
   "source": [
    "# Using Google News Word2Vectors\n",
    "\n",
    "# in this project we are using a pretrained model by google\n",
    "# its 3.3G file, once you load this into your memory \n",
    "# it occupies ~9Gb, so please do this step only if you have >12G of ram\n",
    "# we will provide a pickle file wich contains a dict , \n",
    "# and it contains all our courpus words as keys and  model[word] as values\n",
    "# To use this code-snippet, download \"GoogleNews-vectors-negative300.bin\" \n",
    "# from https://drive.google.com/file/d/0B7XkCwpI5KDYNlNUTTlSS21pQmM/edit\n",
    "# it's 1.9GB in size.\n",
    "\n",
    "\n",
    "# http://kavita-ganesan.com/gensim-word2vec-tutorial-starter-code/#.W17SRFAzZPY\n",
    "# you can comment this whole cell\n",
    "# or change these varible according to your need\n",
    "is_your_ram_gt_16g=False\n",
    "want_to_read_sub_set_of_google_w2v = True\n",
    "want_to_read_whole_google_w2v = True\n",
    "if not is_your_ram_gt_16g:\n",
    "    if want_to_read_sub_set_of_google_w2v and  os.path.isfile('google_w2v_for_amazon.pkl'):\n",
    "        with open('google_w2v_for_amazon.pkl', 'rb') as f:\n",
    "            # model is dict object, you can directly access any word vector using model[word]\n",
    "            model = pickle.load(f)\n",
    "else:\n",
    "    if want_to_read_whole_google_w2v and os.path.isfile('GoogleNews-vectors-negative300.bin'):\n",
    "        model = KeyedVectors.load_word2vec_format('GoogleNews-vectors-negative300.bin', binary=True)\n",
    "\n",
    "# print(\"the vector representation of word 'computer'\",model.wv['computer'])\n",
    "# print(\"the similarity between the words 'woman' and 'man'\",model.wv.similarity('woman', 'man'))\n",
    "# print(\"the most similar words to the word 'woman'\",model.wv.most_similar('woman'))\n",
    "# this will raise an error\n",
    "# model.wv.most_similar('tasti')  # \"tasti\" is the stemmed word for tasty, tastful"
   ]
  },
  {
   "cell_type": "markdown",
   "metadata": {
    "colab_type": "text",
    "id": "ZD4aD8II38Gr"
   },
   "source": [
    "## Average W2V"
   ]
  },
  {
   "cell_type": "code",
   "execution_count": 42,
   "metadata": {},
   "outputs": [],
   "source": [
    "# Dividing raw train and test data\n",
    "X = final['CleanedText']\n",
    "y = np.array(new_labels)\n",
    "\n",
    "X_train = X[:int(0.7*len(X))]\n",
    "y_train = y[:int(0.7*len(y))]\n",
    "X_test = X[len(X_train):]\n",
    "y_test = y[len(y_train):]"
   ]
  },
  {
   "cell_type": "code",
   "execution_count": 43,
   "metadata": {},
   "outputs": [
    {
     "name": "stdout",
     "output_type": "stream",
     "text": [
      "('number of words that occured minimum 5 times ', 9811)\n",
      "('sample words ', [u'woodi', u'yellow', u'interchang', u'four', u'decaffin', u'solofil', u'lori', u'lord', u'digit', u'chlorophyl', u'bruschetta', u'deli', u'furikak', u'foul', u'delv', u'disturb', u'prize', u'broiler', u'wooden', u'showcas', u'wednesday', u'superfood', u'unpronounc', u'cheeto', u'bbqs', u'tumer', u'cartilag', u'bacon', u'millet', u'second', u'fece', u'sooth', u'moctail', u'thunder', u'succumb', u'cull', u'eruc', u'avers', u'hero', u'avert', u'wheatgrass', u'splinter', u'accus', u'here', u'china', u'dorm', u'herr', u'doro', u'deterior', u'militari'])\n"
     ]
    }
   ],
   "source": [
    "# Training Word2Vec model using own text corpus\n",
    "list_of_sent1=[]\n",
    "for sent in X_train:\n",
    "    list_of_sent1.append(sent.split())\n",
    "\n",
    "# min_count = 5 considers only words that occured atleast 5 times\n",
    "w2v_model=Word2Vec(list_of_sent1,min_count=5,size=50, workers=4)\n",
    "\n",
    "w2v_words = list(w2v_model.wv.vocab)\n",
    "print(\"number of words that occured minimum 5 times \",len(w2v_words))\n",
    "print(\"sample words \", w2v_words[0:50])"
   ]
  },
  {
   "cell_type": "code",
   "execution_count": 44,
   "metadata": {},
   "outputs": [
    {
     "name": "stderr",
     "output_type": "stream",
     "text": [
      "100%|██████████| 56000/56000 [10:10<00:00, 91.80it/s] \n"
     ]
    }
   ],
   "source": [
    "# Vectorizing and standardizing X_train \n",
    "# compute average word2vec for each review.\n",
    "train_sent_vectors = []; # the avg-w2v for each sentence/review is stored in this list\n",
    "for sent in tqdm(list_of_sent1): # for each review/sentence\n",
    "    sent_vec = np.zeros(50) # as word vectors are of zero length\n",
    "    cnt_words =0; # num of words with a valid vector in the sentence/review\n",
    "    for word in sent: # for each word in a review/sentence\n",
    "        if word in w2v_words:\n",
    "            vec = w2v_model.wv[word]\n",
    "            sent_vec += vec\n",
    "            cnt_words += 1\n",
    "    if cnt_words != 0:\n",
    "        sent_vec /= cnt_words\n",
    "    train_sent_vectors.append(sent_vec)\n",
    "train_sent_vectors=csr_matrix(train_sent_vectors)\n",
    "\n",
    "# Standardizing X_train data\n",
    "scaler = preprocessing.StandardScaler(with_mean=False)\n",
    "standardized_Xtrain = scaler.fit_transform(train_sent_vectors)"
   ]
  },
  {
   "cell_type": "code",
   "execution_count": 45,
   "metadata": {},
   "outputs": [
    {
     "name": "stderr",
     "output_type": "stream",
     "text": [
      "100%|██████████| 24000/24000 [04:36<00:00, 86.79it/s] \n"
     ]
    }
   ],
   "source": [
    "# vectorzing and standardizing X_test\n",
    "i=0\n",
    "list_of_sent1=[]\n",
    "for sent in X_test:\n",
    "    list_of_sent1.append(sent.split())\n",
    "    \n",
    "    \n",
    "# average Word2Vec\n",
    "# compute average word2vec for each review.\n",
    "test_sent_vectors = []; # the avg-w2v for each sentence/review is stored in this list\n",
    "for sent in tqdm(list_of_sent1): # for each review/sentence\n",
    "    sent_vec = np.zeros(50) # as word vectors are of zero length\n",
    "    cnt_words =0; # num of words with a valid vector in the sentence/review\n",
    "    for word in sent: # for each word in a review/sentence\n",
    "        if word in w2v_words:\n",
    "            vec = w2v_model.wv[word]\n",
    "            sent_vec += vec\n",
    "            cnt_words += 1\n",
    "    if cnt_words != 0:\n",
    "        sent_vec /= cnt_words\n",
    "    test_sent_vectors.append(sent_vec)\n",
    "test_sent_vectors=csr_matrix(test_sent_vectors)\n",
    "\n",
    "\n",
    "# Standardizing X_test data\n",
    "standardized_Xtest = scaler.transform(test_sent_vectors)"
   ]
  },
  {
   "cell_type": "markdown",
   "metadata": {},
   "source": [
    "### With L2 Regularizer"
   ]
  },
  {
   "cell_type": "code",
   "execution_count": 46,
   "metadata": {},
   "outputs": [
    {
     "name": "stdout",
     "output_type": "stream",
     "text": [
      "\n",
      "GridSearchCV\n",
      "('Best C : ', 10)\n",
      "('Training Score : ', 58.47053842644533)\n",
      "('Training Error : ', 41.52946157355467)\n",
      "('Test Score : ', 55.940454061521436)\n",
      "('Test Error : ', 44.059545938478564)\n",
      "('Confusion matrix : \\n', array([[2066, 2116],\n",
      "       [9885, 9933]]))\n"
     ]
    },
    {
     "data": {
      "text/plain": [
       "Text(0.5,1,'Heatmap for confusion matrix')"
      ]
     },
     "execution_count": 46,
     "metadata": {},
     "output_type": "execute_result"
    },
    {
     "data": {
      "image/png": "[encoded data removed]",
      "text/plain": [
       "<Figure size 432x288 with 2 Axes>"
      ]
     },
     "metadata": {
      "needs_background": "light"
     },
     "output_type": "display_data"
    }
   ],
   "source": [
    "# Applying GridSearchCV with L2 Regularizer\n",
    "\n",
    "tuned_C_grid = [{'C': [10**(i) for i in range (-4,4)]}]\n",
    "\n",
    "model1 = GridSearchCV(LogisticRegression(penalty='l2',random_state=5,n_jobs=-1,class_weight='balanced'), tuned_C_grid, cv=3,n_jobs=-1)\n",
    "model1.fit(standardized_Xtrain, y_train)\n",
    "\n",
    "print (\"\\nGridSearchCV\")\n",
    "\n",
    "best_C1 = model1.best_estimator_.get_params()['C']\n",
    "print (\"Best C : \",best_C1)\n",
    "\n",
    "# Training model with X_train and prediction for X_test\n",
    "clf1 = LogisticRegression(C=best_C1, penalty='l2',random_state=5,n_jobs=-1,class_weight='balanced')\n",
    "clf1.fit(standardized_Xtrain,y_train)\n",
    "\n",
    "pred = clf1.predict(standardized_Xtrain)\n",
    "training_score = f1_score(y_train,pred,average='weighted') * 100\n",
    "training_error = 100-training_score\n",
    "print (\"Training Score : \",training_score)\n",
    "print (\"Training Error : \",training_error)\n",
    "\n",
    "pred = clf1.predict(standardized_Xtest)\n",
    "test_score = f1_score(y_test,pred,average='weighted') * 100\n",
    "test_error = 100-test_score\n",
    "print (\"Test Score : \",test_score)\n",
    "print (\"Test Error : \",test_error)\n",
    "\n",
    "confusion = confusion_matrix(y_test, pred)\n",
    "print (\"Confusion matrix : \\n\",confusion)\n",
    "ax = sns.heatmap(confusion, annot=True, fmt=\"d\")\n",
    "ax.set_title('Heatmap for confusion matrix')"
   ]
  },
  {
   "cell_type": "code",
   "execution_count": 47,
   "metadata": {},
   "outputs": [
    {
     "name": "stdout",
     "output_type": "stream",
     "text": [
      "RandomizedSearchCV\n",
      "('Best C : ', 719.3582951486094)\n",
      "('Training Score : ', 58.47489962791275)\n",
      "('Training Error : ', 41.52510037208725)\n",
      "('Test Score : ', 55.967012805687034)\n",
      "('Test Error : ', 44.032987194312966)\n",
      "('Confusion matrix : \\n', array([[2067, 2115],\n",
      "       [9879, 9939]]))\n"
     ]
    },
    {
     "data": {
      "text/plain": [
       "Text(0.5,1,'Heatmap for confusion matrix')"
      ]
     },
     "execution_count": 47,
     "metadata": {},
     "output_type": "execute_result"
    },
    {
     "data": {
      "image/png": "[encoded data removed]",
      "text/plain": [
       "<Figure size 432x288 with 2 Axes>"
      ]
     },
     "metadata": {
      "needs_background": "light"
     },
     "output_type": "display_data"
    }
   ],
   "source": [
    "# RandomizedSearchCV to find best C with l2\n",
    "\n",
    "tuned_C_random = dict(C=uniform(10**-4,10**4))\n",
    "#Using RandomizedSearchCV\n",
    "model2 = RandomizedSearchCV(LogisticRegression(penalty='l2',random_state=5,n_jobs=-1,class_weight='balanced'), tuned_C_random, cv=3,n_jobs=-1)\n",
    "model2.fit(standardized_Xtrain, y_train)\n",
    "print (\"RandomizedSearchCV\")\n",
    "\n",
    "best_C2 = model2.best_estimator_.get_params()['C']\n",
    "print (\"Best C : \",best_C2)\n",
    "\n",
    "clf2 = LogisticRegression(C=best_C2, penalty='l2',random_state=5,n_jobs=-1,class_weight='balanced')\n",
    "clf2.fit(standardized_Xtrain, y_train)\n",
    "\n",
    "pred = clf2.predict(standardized_Xtrain)\n",
    "training_score = f1_score(y_train,pred,average='weighted')*100\n",
    "training_error = 100-training_score\n",
    "print (\"Training Score : \",training_score)\n",
    "print (\"Training Error : \",training_error)\n",
    "\n",
    "pred = clf2.predict(standardized_Xtest)\n",
    "test_score = f1_score(y_test,pred,average='weighted') * 100\n",
    "test_error = 100-test_score\n",
    "print (\"Test Score : \",test_score)\n",
    "print (\"Test Error : \",test_error)\n",
    "\n",
    "confusion = confusion_matrix(y_test, pred)\n",
    "print (\"Confusion matrix : \\n\",confusion)\n",
    "ax = sns.heatmap(confusion, annot=True, fmt=\"d\")\n",
    "ax.set_title('Heatmap for confusion matrix')\n"
   ]
  },
  {
   "cell_type": "code",
   "execution_count": 48,
   "metadata": {},
   "outputs": [
    {
     "name": "stderr",
     "output_type": "stream",
     "text": [
      "\r",
      "  0%|          | 0/16 [00:00<?, ?it/s]"
     ]
    },
    {
     "name": "stdout",
     "output_type": "stream",
     "text": [
      "('lambda: ', [0.0001, 0.001, 0.01, 0.1, 0.5, 1.0, 4.0, 9.0, 15.0, 30.0, 60.0, 90.0, 100.0, 300.0, 500.0, 800.0])\n",
      "('C: ', [10000.0, 1000.0, 100.0, 10.0, 2.0, 1.0, 0.25, 0.11111, 0.06667, 0.03333, 0.01667, 0.01111, 0.01, 0.00333, 0.002, 0.00125])\n"
     ]
    },
    {
     "name": "stderr",
     "output_type": "stream",
     "text": [
      "100%|██████████| 16/16 [00:54<00:00,  2.57s/it]\n"
     ]
    },
    {
     "name": "stdout",
     "output_type": "stream",
     "text": [
      "+--------------+----------+----------+\n",
      "| Lambda Value |  Error   | Sparsity |\n",
      "+--------------+----------+----------+\n",
      "|    0.0001    | 44.03299 |    0     |\n",
      "|    0.001     | 44.03299 |    0     |\n",
      "|     0.01     | 44.03299 |    0     |\n",
      "|     0.1      | 44.05955 |    0     |\n",
      "|     0.5      | 44.08995 |    0     |\n",
      "|     1.0      | 44.12841 |    0     |\n",
      "|     4.0      | 44.08682 |    0     |\n",
      "|     9.0      | 44.24616 |    0     |\n",
      "|     15.0     | 44.39192 |    0     |\n",
      "|     30.0     | 44.66633 |    0     |\n",
      "|     60.0     | 44.88043 |    0     |\n",
      "|     90.0     | 44.98457 |    0     |\n",
      "|    100.0     | 45.01284 |    0     |\n",
      "|    300.0     | 45.05255 |    0     |\n",
      "|    500.0     | 45.06808 |    0     |\n",
      "|    800.0     | 45.10976 |    0     |\n",
      "+--------------+----------+----------+\n"
     ]
    },
    {
     "data": {
      "image/png": "[encoded data removed]",
      "text/plain": [
       "<Figure size 936x360 with 2 Axes>"
      ]
     },
     "metadata": {
      "needs_background": "light"
     },
     "output_type": "display_data"
    }
   ],
   "source": [
    "# Error and sparsity check with l2 regularizer\n",
    "\n",
    "lambda_values = [0.0001, 0.001, 0.01, 0.1, 0.5, 1, 4, 9, 15, 30, 60, 90, 100, 300, 500,800]\n",
    "lambda_values=[float(i) for i in lambda_values]\n",
    "print (\"lambda: \",lambda_values)\n",
    "\n",
    "c = [round((1.0/i),5) for i in lambda_values]\n",
    "print (\"C: \",c)\n",
    "\n",
    "x = PrettyTable()\n",
    "x.field_names = [\"Lambda Value\",\"Error\",\"Sparsity\"]\n",
    "scores = []\n",
    "sparsity = []\n",
    "j=0\n",
    "for i in tqdm(c):\n",
    "    clf = LogisticRegression(penalty='l2',C=i,random_state=5,n_jobs=-1,class_weight='balanced').fit(standardized_Xtrain, y_train)\n",
    "    pred = clf.predict(standardized_Xtest)\n",
    "    sco = f1_score(y_test, pred, average='weighted')*100\n",
    "    scores.append(100-sco)\n",
    "    weight_vector = clf.coef_[0]\n",
    "    zeros=0\n",
    "    for i in weight_vector:\n",
    "        if i==0:\n",
    "            zeros+=1\n",
    "    sparsity.append(zeros)\n",
    "    x.add_row([round(lambda_values[j],5),round((100-sco),5),zeros])\n",
    "    j+=1;\n",
    "\n",
    "print (x)\n",
    "\n",
    "plt.figure(figsize=(13, 5))\n",
    "ax = plt.subplot(121)\n",
    "ax.set(xlabel='Values of lambda', ylabel='Misclassification Error', title='lambda vs error rate plot')\n",
    "ax.plot(lambda_values,scores,color=\"red\")\n",
    "ax.legend(['Test error curve'])\n",
    "ax.grid(True)\n",
    "\n",
    "ax = plt.subplot(122)\n",
    "ax.set(xlabel='Values of lambda', ylabel='Sparsity', title='lambda vs sparsity rate plot')\n",
    "ax.plot(lambda_values,sparsity,color=\"blue\")\n",
    "ax.legend(['Sparsity curve'])\n",
    "ax.grid(True)\n",
    "\n",
    "plt.show()"
   ]
  },
  {
   "cell_type": "markdown",
   "metadata": {},
   "source": [
    "The error kept increasing with increase in lambda. High rate is observed between lambda 0 and 100. Sparsity remained constant for all values of lambda."
   ]
  },
  {
   "cell_type": "markdown",
   "metadata": {},
   "source": [
    "### With L1 Regularizer"
   ]
  },
  {
   "cell_type": "code",
   "execution_count": 49,
   "metadata": {},
   "outputs": [
    {
     "name": "stdout",
     "output_type": "stream",
     "text": [
      "\n",
      "GridSearchCV\n",
      "('Best C : ', 10)\n",
      "('Training Score : ', 58.473287483841354)\n",
      "('Training Error : ', 41.526712516158646)\n",
      "('Test Score : ', 55.9173883150332)\n",
      "('Test Error : ', 44.0826116849668)\n",
      "('Confusion matrix : \\n', array([[2066, 2116],\n",
      "       [9891, 9927]]))\n"
     ]
    },
    {
     "data": {
      "text/plain": [
       "Text(0.5,1,'Heatmap for confusion matrix')"
      ]
     },
     "execution_count": 49,
     "metadata": {},
     "output_type": "execute_result"
    },
    {
     "data": {
      "image/png": "[encoded data removed]",
      "text/plain": [
       "<Figure size 432x288 with 2 Axes>"
      ]
     },
     "metadata": {
      "needs_background": "light"
     },
     "output_type": "display_data"
    }
   ],
   "source": [
    "# GridSearchCV to find best C with l1\n",
    "\n",
    "tuned_C_grid = [{'C': [10**(i) for i in range (-4,4)]}]\n",
    "\n",
    "model1 = GridSearchCV(LogisticRegression(random_state=5,penalty='l1',n_jobs=-1,class_weight='balanced'),tuned_C_grid, cv=3,n_jobs=-1)\n",
    "model1.fit(standardized_Xtrain, y_train)\n",
    "\n",
    "print (\"\\nGridSearchCV\")\n",
    "# Obtaining best C\n",
    "best_C1 = model1.best_estimator_.get_params()['C']\n",
    "print (\"Best C : \",best_C1)\n",
    "\n",
    "# Training model with X_train and prediction for X_test\n",
    "clf1 = LogisticRegression(C=best_C1, penalty='l1',random_state=5,n_jobs=-1,class_weight='balanced')\n",
    "clf1.fit(standardized_Xtrain,y_train)\n",
    "\n",
    "pred = clf1.predict(standardized_Xtrain)\n",
    "training_score = f1_score(y_train,pred,average='weighted') * 100\n",
    "training_error = 100-training_score\n",
    "print (\"Training Score : \",training_score)\n",
    "print (\"Training Error : \",training_error)\n",
    "\n",
    "pred = clf1.predict(standardized_Xtest)\n",
    "test_score = f1_score(y_test,pred,average='weighted') * 100\n",
    "test_error = 100-test_score\n",
    "print (\"Test Score : \",test_score)\n",
    "print (\"Test Error : \",test_error)\n",
    "\n",
    "confusion = confusion_matrix(y_test, pred)\n",
    "print (\"Confusion matrix : \\n\",confusion)\n",
    "ax = sns.heatmap(confusion, annot=True, fmt=\"d\")\n",
    "ax.set_title('Heatmap for confusion matrix')"
   ]
  },
  {
   "cell_type": "code",
   "execution_count": 50,
   "metadata": {},
   "outputs": [
    {
     "name": "stdout",
     "output_type": "stream",
     "text": [
      "RandomizedSearchCV\n",
      "('Best C : ', 1434.253320397136)\n",
      "('Training Score : ', 58.476511738010515)\n",
      "('Training Error : ', 41.523488261989485)\n",
      "('Test Score : ', 55.96735547363409)\n",
      "('Test Error : ', 44.03264452636591)\n",
      "('Confusion matrix : \\n', array([[2066, 2116],\n",
      "       [9878, 9940]]))\n"
     ]
    },
    {
     "data": {
      "text/plain": [
       "Text(0.5,1,'Heatmap for confusion matrix')"
      ]
     },
     "execution_count": 50,
     "metadata": {},
     "output_type": "execute_result"
    },
    {
     "data": {
      "image/png": "[encoded data removed]",
      "text/plain": [
       "<Figure size 432x288 with 2 Axes>"
      ]
     },
     "metadata": {
      "needs_background": "light"
     },
     "output_type": "display_data"
    }
   ],
   "source": [
    "# RandomizedSearchCV to find best C with l1\n",
    "\n",
    "tuned_C_random = dict(C=uniform(10**-4,10**4))\n",
    "#Using RandomizedSearchCV\n",
    "model2 = RandomizedSearchCV(LogisticRegression(penalty='l1',random_state=5,n_jobs=-1,class_weight='balanced'), tuned_C_random, cv=3,n_jobs=-1)\n",
    "model2.fit(standardized_Xtrain, y_train)\n",
    "print (\"RandomizedSearchCV\")\n",
    "\n",
    "best_C2 = model2.best_estimator_.get_params()['C']\n",
    "print (\"Best C : \",best_C2)\n",
    "\n",
    "clf2 = LogisticRegression(C=best_C2, penalty='l1',random_state=5,n_jobs=-1,class_weight='balanced')\n",
    "clf2.fit(standardized_Xtrain, y_train)\n",
    "\n",
    "pred = clf2.predict(standardized_Xtrain)\n",
    "training_score = f1_score(y_train,pred,average='weighted')*100\n",
    "training_error = 100-training_score\n",
    "print (\"Training Score : \",training_score)\n",
    "print (\"Training Error : \",training_error)\n",
    "\n",
    "pred = clf2.predict(standardized_Xtest)\n",
    "test_score = f1_score(y_test,pred,average='weighted') * 100\n",
    "test_error = 100-test_score\n",
    "print (\"Test Score : \",test_score)\n",
    "print (\"Test Error : \",test_error)\n",
    "\n",
    "confusion = confusion_matrix(y_test, pred)\n",
    "print (\"Confusion matrix : \\n\",confusion)\n",
    "ax = sns.heatmap(confusion, annot=True, fmt=\"d\")\n",
    "ax.set_title('Heatmap for confusion matrix')"
   ]
  },
  {
   "cell_type": "code",
   "execution_count": 51,
   "metadata": {},
   "outputs": [
    {
     "name": "stderr",
     "output_type": "stream",
     "text": [
      "\r",
      "  0%|          | 0/16 [00:00<?, ?it/s]"
     ]
    },
    {
     "name": "stdout",
     "output_type": "stream",
     "text": [
      "('lambda: ', [0.0001, 0.001, 0.01, 0.1, 0.5, 1.0, 4.0, 9.0, 15.0, 30.0, 60.0, 90.0, 100.0, 300.0, 500.0, 800.0])\n",
      "('C: ', [10000.0, 1000.0, 100.0, 10.0, 2.0, 1.0, 0.25, 0.11111, 0.06667, 0.03333, 0.01667, 0.01111, 0.01, 0.00333, 0.002, 0.00125])\n"
     ]
    },
    {
     "name": "stderr",
     "output_type": "stream",
     "text": [
      "100%|██████████| 16/16 [06:07<00:00,  2.41s/it]\n"
     ]
    },
    {
     "name": "stdout",
     "output_type": "stream",
     "text": [
      "+--------------+----------+----------+\n",
      "| Lambda Value |  Error   | Sparsity |\n",
      "+--------------+----------+----------+\n",
      "|    0.0001    | 44.03649 |    0     |\n",
      "|    0.001     | 44.03264 |    0     |\n",
      "|     0.01     | 44.05186 |    0     |\n",
      "|     0.1      | 44.08261 |    0     |\n",
      "|     0.5      | 44.05639 |    0     |\n",
      "|     1.0      | 44.11063 |    2     |\n",
      "|     4.0      | 44.65248 |    3     |\n",
      "|     9.0      | 44.90261 |    3     |\n",
      "|     15.0     | 45.1029  |    8     |\n",
      "|     30.0     | 45.39032 |    15    |\n",
      "|     60.0     | 45.41785 |    22    |\n",
      "|     90.0     | 45.34381 |    25    |\n",
      "|    100.0     | 45.19978 |    27    |\n",
      "|    300.0     | 42.99864 |    45    |\n",
      "|    500.0     | 94.82852 |    50    |\n",
      "|    800.0     | 94.82852 |    50    |\n",
      "+--------------+----------+----------+\n"
     ]
    },
    {
     "data": {
      "image/png": "[encoded data removed]",
      "text/plain": [
       "<Figure size 936x360 with 2 Axes>"
      ]
     },
     "metadata": {
      "needs_background": "light"
     },
     "output_type": "display_data"
    }
   ],
   "source": [
    "# Error and sparsity check with l1 regularizer\n",
    "\n",
    "lambda_values = [0.0001, 0.001, 0.01, 0.1, 0.5, 1, 4, 9, 15, 30, 60, 90, 100, 300, 500,800]\n",
    "lambda_values=[float(i) for i in lambda_values]\n",
    "print (\"lambda: \",lambda_values)\n",
    "\n",
    "c = [round((1.0/i),5) for i in lambda_values]\n",
    "print( \"C: \",c)\n",
    "\n",
    "x = PrettyTable()\n",
    "x.field_names = [\"Lambda Value\",\"Error\",\"Sparsity\"]\n",
    "scores = []\n",
    "sparsity = []\n",
    "j=0\n",
    "for i in tqdm(c):\n",
    "    clf = LogisticRegression(penalty='l1',C=i,random_state=5,n_jobs=-1,class_weight='balanced').fit(standardized_Xtrain, y_train)\n",
    "    pred = clf.predict(standardized_Xtest)\n",
    "    sco = f1_score(y_test, pred, average='weighted')*100\n",
    "    scores.append(100-sco)\n",
    "    weight_vector = clf.coef_[0]\n",
    "    zeros=0\n",
    "    for i in weight_vector:\n",
    "        if i==0:\n",
    "            zeros+=1\n",
    "    sparsity.append(zeros)\n",
    "    x.add_row([round(lambda_values[j],5),round((100-sco),5),zeros])\n",
    "    j+=1;\n",
    "\n",
    "print (x)\n",
    "\n",
    "plt.figure(figsize=(13, 5))\n",
    "ax = plt.subplot(121)\n",
    "ax.set(xlabel='Values of lambda', ylabel='Misclassification Error', title='lambda vs error rate plot')\n",
    "ax.plot(lambda_values,scores,color=\"red\")\n",
    "ax.legend(['Test error curve'])\n",
    "ax.grid(True)\n",
    "\n",
    "ax = plt.subplot(122)\n",
    "ax.set(xlabel='Values of lambda', ylabel='Sparsity', title='lambda vs sparsity rate plot')\n",
    "ax.plot(lambda_values,sparsity,color=\"blue\")\n",
    "ax.legend(['Sparsity curve'])\n",
    "ax.grid(True)\n",
    "\n",
    "plt.show()"
   ]
  },
  {
   "cell_type": "markdown",
   "metadata": {},
   "source": [
    "Error curve had a slight downfall till lambda 300 and then a drasic increase till 500. There after error remained constant. Sparsity kept on increasing for increasing value of lambada."
   ]
  },
  {
   "cell_type": "markdown",
   "metadata": {
    "colab_type": "text",
    "id": "bVSRn-u7WCCS"
   },
   "source": [
    "# TF-IDF weighted W2V"
   ]
  },
  {
   "cell_type": "code",
   "execution_count": 19,
   "metadata": {},
   "outputs": [],
   "source": [
    "# Dividing raw train and test data\n",
    "X = final['CleanedText']\n",
    "y = np.array(new_labels)\n",
    "\n",
    "X_train = X[:int(0.7*len(X))]\n",
    "y_train = y[:int(0.7*len(y))]\n",
    "X_test = X[len(X_train):]\n",
    "y_test = y[len(y_train):]"
   ]
  },
  {
   "cell_type": "code",
   "execution_count": 23,
   "metadata": {},
   "outputs": [
    {
     "name": "stderr",
     "output_type": "stream",
     "text": [
      "100%|██████████| 56000/56000 [12:29<00:00, 74.74it/s] \n"
     ]
    }
   ],
   "source": [
    "# Vectorizing and Standardizing X_train\n",
    "\n",
    "list_of_sent1=[]\n",
    "for sent in X_train:\n",
    "    list_of_sent1.append(sent.split())\n",
    "    \n",
    "w2v_model=Word2Vec(list_of_sent1,min_count=5,size=50, workers=4)\n",
    "\n",
    "w2v_words = list(w2v_model.wv.vocab)\n",
    "    \n",
    "model = TfidfVectorizer()\n",
    "tf_idf_matrix = model.fit_transform(X_train)\n",
    "\n",
    "# we are converting a dictionary with word as a key, and the idf as a value\n",
    "dictionary = dict(zip(model.get_feature_names(), list(model.idf_)))\n",
    "\n",
    "# TF-IDF weighted Word2Vec\n",
    "tfidf_feat = model.get_feature_names() # tfidf words/col-names\n",
    "# final_tf_idf is the sparse matrix with row= sentence, col=word and cell_val = tfidf\n",
    "\n",
    "train_tfidf_sent_vectors = []; # the tfidf-w2v for each sentence/review is stored in this list\n",
    "row=0;\n",
    "for sent in tqdm(list_of_sent1): # for each review/sentence \n",
    "    sent_vec = np.zeros(50) # as word vectors are of zero length\n",
    "    weight_sum =0; # num of words with a valid vector in the sentence/review\n",
    "    for word in sent: # for each word in a review/sentence\n",
    "        if word in w2v_words:\n",
    "            vec = w2v_model.wv[word]\n",
    "            #tf_idf = tf_idf_matrix[row, tfidf_feat.index(word)]\n",
    "            # to reduce the computation we are \n",
    "            # dictionary[word] = idf value of word in whole courpus\n",
    "            # sent.count(word) = tf valeus of word in this review\n",
    "            tf_idf = dictionary[word]*sent.count(word)\n",
    "            sent_vec += (vec * tf_idf)\n",
    "            weight_sum += tf_idf\n",
    "    if weight_sum != 0:\n",
    "        sent_vec /= weight_sum\n",
    "    train_tfidf_sent_vectors.append(sent_vec)\n",
    "    row += 1\n",
    "    \n",
    "train_sent_vectors=csr_matrix(train_tfidf_sent_vectors)\n",
    "\n",
    "# Standardizing X_train data\n",
    "scaler = preprocessing.StandardScaler(with_mean=False)\n",
    "standardized_Xtrain = scaler.fit_transform(train_sent_vectors)"
   ]
  },
  {
   "cell_type": "code",
   "execution_count": 24,
   "metadata": {},
   "outputs": [
    {
     "name": "stderr",
     "output_type": "stream",
     "text": [
      "100%|██████████| 24000/24000 [05:32<00:00, 72.23it/s] \n"
     ]
    }
   ],
   "source": [
    "# Vectorizing and Standardizing X_test\n",
    "list_of_sent=[]\n",
    "for sent in X_test:\n",
    "    list_of_sent.append(sent.split())\n",
    "    \n",
    "\n",
    "tf_idf_matrix = model.transform(X_test)\n",
    "\n",
    "test_tfidf_sent_vectors = []; # the tfidf-w2v for each sentence/review is stored in this list\n",
    "row=0;\n",
    "for sent in tqdm(list_of_sent): # for each review/sentence \n",
    "    sent_vec = np.zeros(50) # as word vectors are of zero length\n",
    "    weight_sum =0; # num of words with a valid vector in the sentence/review\n",
    "    for word in sent: # for each word in a review/sentence\n",
    "        if word in w2v_words:\n",
    "            vec = w2v_model.wv[word]\n",
    "            #tf_idf = tf_idf_matrix[row, tfidf_feat.index(word)]\n",
    "            # to reduce the computation we are \n",
    "            # dictionary[word] = idf value of word in whole courpus\n",
    "            # sent.count(word) = tf valeus of word in this review\n",
    "            tf_idf = dictionary[word]*sent.count(word)\n",
    "            sent_vec += (vec * tf_idf)\n",
    "            weight_sum += tf_idf\n",
    "    if weight_sum != 0:\n",
    "        sent_vec /= weight_sum\n",
    "    test_tfidf_sent_vectors.append(sent_vec)\n",
    "    row += 1\n",
    "    \n",
    "test_sent_vectors=csr_matrix(test_tfidf_sent_vectors)\n",
    "\n",
    "# Standardizing X_test data\n",
    "standardized_Xtest = scaler.transform(test_sent_vectors)"
   ]
  },
  {
   "cell_type": "markdown",
   "metadata": {},
   "source": [
    "### With L2 Regularizer"
   ]
  },
  {
   "cell_type": "code",
   "execution_count": 25,
   "metadata": {},
   "outputs": [
    {
     "name": "stdout",
     "output_type": "stream",
     "text": [
      "\n",
      "GridSearchCV\n",
      "('Best C : ', 100)\n",
      "('Training Score : ', 58.694578128061416)\n",
      "('Training Error : ', 41.305421871938584)\n",
      "('Test Score : ', 55.3439641383181)\n",
      "('Test Error : ', 44.6560358616819)\n",
      "('Confusion matrix : \\n', array([[ 2115,  1992],\n",
      "       [10187,  9706]]))\n"
     ]
    },
    {
     "data": {
      "text/plain": [
       "Text(0.5,1,'Heatmap for confusion matrix')"
      ]
     },
     "execution_count": 25,
     "metadata": {},
     "output_type": "execute_result"
    },
    {
     "data": {
      "image/png": "[encoded data removed]",
      "text/plain": [
       "<Figure size 432x288 with 2 Axes>"
      ]
     },
     "metadata": {
      "needs_background": "light"
     },
     "output_type": "display_data"
    }
   ],
   "source": [
    "# Applying GridSearchCV with L2 Regularizer\n",
    "\n",
    "tuned_C_grid = [{'C': [10**(i) for i in range (-4,4)]}]\n",
    "\n",
    "model1 = GridSearchCV(LogisticRegression(penalty='l2',random_state=5,n_jobs=-1,class_weight='balanced'), tuned_C_grid, cv=3,n_jobs=-1)\n",
    "model1.fit(standardized_Xtrain, y_train)\n",
    "\n",
    "print (\"\\nGridSearchCV\")\n",
    "\n",
    "best_C1 = model1.best_estimator_.get_params()['C']\n",
    "print (\"Best C : \",best_C1)\n",
    "\n",
    "# Training model with X_train and prediction for X_test\n",
    "clf1 = LogisticRegression(C=best_C1, penalty='l2',random_state=5,n_jobs=-1,class_weight='balanced')\n",
    "clf1.fit(standardized_Xtrain,y_train)\n",
    "\n",
    "pred = clf1.predict(standardized_Xtrain)\n",
    "training_score = f1_score(y_train,pred,average='weighted') * 100\n",
    "training_error = 100-training_score\n",
    "print (\"Training Score : \",training_score)\n",
    "print (\"Training Error : \",training_error)\n",
    "\n",
    "pred = clf1.predict(standardized_Xtest)\n",
    "test_score = f1_score(y_test,pred,average='weighted') * 100\n",
    "test_error = 100-test_score\n",
    "print (\"Test Score : \",test_score)\n",
    "print (\"Test Error : \",test_error)\n",
    "\n",
    "confusion = confusion_matrix(y_test, pred)\n",
    "print (\"Confusion matrix : \\n\",confusion)\n",
    "ax = sns.heatmap(confusion, annot=True, fmt=\"d\")\n",
    "ax.set_title('Heatmap for confusion matrix')"
   ]
  },
  {
   "cell_type": "code",
   "execution_count": 26,
   "metadata": {},
   "outputs": [
    {
     "name": "stdout",
     "output_type": "stream",
     "text": [
      "RandomizedSearchCV\n",
      "('Best C : ', 1554.4365736372729)\n",
      "('Training Score : ', 58.694578128061416)\n",
      "('Training Error : ', 41.305421871938584)\n",
      "('Test Score : ', 55.3439641383181)\n",
      "('Test Error : ', 44.6560358616819)\n",
      "('Confusion matrix : \\n', array([[ 2115,  1992],\n",
      "       [10187,  9706]]))\n"
     ]
    },
    {
     "data": {
      "text/plain": [
       "Text(0.5,1,'Heatmap for confusion matrix')"
      ]
     },
     "execution_count": 26,
     "metadata": {},
     "output_type": "execute_result"
    },
    {
     "data": {
      "image/png": "[encoded data removed]",
      "text/plain": [
       "<Figure size 432x288 with 2 Axes>"
      ]
     },
     "metadata": {
      "needs_background": "light"
     },
     "output_type": "display_data"
    }
   ],
   "source": [
    "# RandomizedSearchCV to find best C with l2\n",
    "\n",
    "tuned_C_random = dict(C=uniform(10**-4,10**4))\n",
    "#Using RandomizedSearchCV\n",
    "model2 = RandomizedSearchCV(LogisticRegression(penalty='l2',random_state=5,n_jobs=-1,class_weight='balanced'), tuned_C_random, cv=3,n_jobs=-1)\n",
    "model2.fit(standardized_Xtrain, y_train)\n",
    "print (\"RandomizedSearchCV\")\n",
    "\n",
    "best_C2 = model2.best_estimator_.get_params()['C']\n",
    "print (\"Best C : \",best_C2)\n",
    "\n",
    "clf2 = LogisticRegression(C=best_C2, penalty='l2',random_state=5,n_jobs=-1,class_weight='balanced')\n",
    "clf2.fit(standardized_Xtrain, y_train)\n",
    "\n",
    "pred = clf2.predict(standardized_Xtrain)\n",
    "training_score = f1_score(y_train,pred,average='weighted')*100\n",
    "training_error = 100-training_score\n",
    "print (\"Training Score : \",training_score)\n",
    "print (\"Training Error : \",training_error)\n",
    "\n",
    "pred = clf2.predict(standardized_Xtest)\n",
    "test_score = f1_score(y_test,pred,average='weighted') * 100\n",
    "test_error = 100-test_score\n",
    "print (\"Test Score : \",test_score)\n",
    "print (\"Test Error : \",test_error)\n",
    "\n",
    "confusion = confusion_matrix(y_test, pred)\n",
    "print (\"Confusion matrix : \\n\",confusion)\n",
    "ax = sns.heatmap(confusion, annot=True, fmt=\"d\")\n",
    "ax.set_title('Heatmap for confusion matrix')\n"
   ]
  },
  {
   "cell_type": "code",
   "execution_count": 27,
   "metadata": {},
   "outputs": [
    {
     "name": "stderr",
     "output_type": "stream",
     "text": [
      "\r",
      "  0%|          | 0/16 [00:00<?, ?it/s]"
     ]
    },
    {
     "name": "stdout",
     "output_type": "stream",
     "text": [
      "('lambda: ', [0.0001, 0.001, 0.01, 0.1, 0.5, 1.0, 4.0, 9.0, 15.0, 30.0, 60.0, 90.0, 100.0, 300.0, 500.0, 800.0])\n",
      "('C: ', [10000.0, 1000.0, 100.0, 10.0, 2.0, 1.0, 0.25, 0.11111, 0.06667, 0.03333, 0.01667, 0.01111, 0.01, 0.00333, 0.002, 0.00125])\n"
     ]
    },
    {
     "name": "stderr",
     "output_type": "stream",
     "text": [
      "100%|██████████| 16/16 [00:25<00:00,  1.42s/it]\n"
     ]
    },
    {
     "name": "stdout",
     "output_type": "stream",
     "text": [
      "+--------------+----------+----------+\n",
      "| Lambda Value |  Error   | Sparsity |\n",
      "+--------------+----------+----------+\n",
      "|    0.0001    | 44.65604 |    0     |\n",
      "|    0.001     | 44.65604 |    0     |\n",
      "|     0.01     | 44.65604 |    0     |\n",
      "|     0.1      | 44.65604 |    0     |\n",
      "|     0.5      | 44.64823 |    0     |\n",
      "|     1.0      | 44.65261 |    0     |\n",
      "|     4.0      | 44.74734 |    0     |\n",
      "|     9.0      | 44.76787 |    0     |\n",
      "|     15.0     | 44.79676 |    0     |\n",
      "|     30.0     | 44.84187 |    0     |\n",
      "|     60.0     | 44.9975  |    0     |\n",
      "|     90.0     |  45.094  |    0     |\n",
      "|    100.0     | 45.10508 |    0     |\n",
      "|    300.0     | 45.37847 |    0     |\n",
      "|    500.0     | 45.45788 |    0     |\n",
      "|    800.0     | 45.59527 |    0     |\n",
      "+--------------+----------+----------+\n"
     ]
    },
    {
     "data": {
      "image/png": "[encoded data removed]",
      "text/plain": [
       "<Figure size 936x360 with 2 Axes>"
      ]
     },
     "metadata": {
      "needs_background": "light"
     },
     "output_type": "display_data"
    }
   ],
   "source": [
    "# Error and sparsity check with l2 regularizer\n",
    "\n",
    "lambda_values = [0.0001, 0.001, 0.01, 0.1, 0.5, 1, 4, 9, 15, 30, 60, 90, 100, 300, 500,800]\n",
    "lambda_values=[float(i) for i in lambda_values]\n",
    "print (\"lambda: \",lambda_values)\n",
    "\n",
    "c = [round((1.0/i),5) for i in lambda_values]\n",
    "print (\"C: \",c)\n",
    "\n",
    "x = PrettyTable()\n",
    "x.field_names = [\"Lambda Value\",\"Error\",\"Sparsity\"]\n",
    "scores = []\n",
    "sparsity = []\n",
    "j=0\n",
    "for i in tqdm(c):\n",
    "    clf = LogisticRegression(penalty='l2',C=i,random_state=5,n_jobs=-1,class_weight='balanced').fit(standardized_Xtrain, y_train)\n",
    "    pred = clf.predict(standardized_Xtest)\n",
    "    sco = f1_score(y_test, pred, average='weighted')*100\n",
    "    scores.append(100-sco)\n",
    "    weight_vector = clf.coef_[0]\n",
    "    zeros=0\n",
    "    for i in weight_vector:\n",
    "        if i==0:\n",
    "            zeros+=1\n",
    "    sparsity.append(zeros)\n",
    "    x.add_row([round(lambda_values[j],5),round((100-sco),5),zeros])\n",
    "    j+=1;\n",
    "\n",
    "print (x)\n",
    "\n",
    "plt.figure(figsize=(13, 5))\n",
    "ax = plt.subplot(121)\n",
    "ax.set(xlabel='Values of lambda', ylabel='Misclassification Error', title='lambda vs error rate plot')\n",
    "ax.plot(lambda_values,scores,color=\"red\")\n",
    "ax.legend(['Test error curve'])\n",
    "ax.grid(True)\n",
    "\n",
    "ax = plt.subplot(122)\n",
    "ax.set(xlabel='Values of lambda', ylabel='Sparsity', title='lambda vs sparsity rate plot')\n",
    "ax.plot(lambda_values,sparsity,color=\"blue\")\n",
    "ax.legend(['Sparsity curve'])\n",
    "ax.grid(True)\n",
    "\n",
    "plt.show()"
   ]
  },
  {
   "cell_type": "markdown",
   "metadata": {},
   "source": [
    "Error kept on increasing with increasing values of lambda and sparsity remained constant through out all values of lambda."
   ]
  },
  {
   "cell_type": "markdown",
   "metadata": {},
   "source": [
    "### With L1 Regularizer"
   ]
  },
  {
   "cell_type": "code",
   "execution_count": 28,
   "metadata": {},
   "outputs": [
    {
     "name": "stdout",
     "output_type": "stream",
     "text": [
      "\n",
      "GridSearchCV\n",
      "('Best C : ', 100)\n",
      "('Training Score : ', 58.694578128061416)\n",
      "('Training Error : ', 41.305421871938584)\n",
      "('Test Score : ', 55.34786816512559)\n",
      "('Test Error : ', 44.65213183487441)\n",
      "('Confusion matrix : \\n', array([[ 2115,  1992],\n",
      "       [10186,  9707]]))\n"
     ]
    },
    {
     "data": {
      "text/plain": [
       "Text(0.5,1,'Heatmap for confusion matrix')"
      ]
     },
     "execution_count": 28,
     "metadata": {},
     "output_type": "execute_result"
    },
    {
     "data": {
      "image/png": "[encoded data removed]",
      "text/plain": [
       "<Figure size 432x288 with 2 Axes>"
      ]
     },
     "metadata": {
      "needs_background": "light"
     },
     "output_type": "display_data"
    }
   ],
   "source": [
    "# GridSearchCV to find best C with l1\n",
    "\n",
    "tuned_C_grid = [{'C': [10**(i) for i in range (-4,4)]}]\n",
    "\n",
    "model1 = GridSearchCV(LogisticRegression(random_state=5,penalty='l1',n_jobs=-1,class_weight='balanced'),tuned_C_grid, cv=3,n_jobs=-1)\n",
    "model1.fit(standardized_Xtrain, y_train)\n",
    "\n",
    "print (\"\\nGridSearchCV\")\n",
    "# Obtaining best C\n",
    "best_C1 = model1.best_estimator_.get_params()['C']\n",
    "print (\"Best C : \",best_C1)\n",
    "\n",
    "# Training model with X_train and prediction for X_test\n",
    "clf1 = LogisticRegression(C=best_C1, penalty='l1',random_state=5,n_jobs=-1,class_weight='balanced')\n",
    "clf1.fit(standardized_Xtrain,y_train)\n",
    "\n",
    "pred = clf1.predict(standardized_Xtrain)\n",
    "training_score = f1_score(y_train,pred,average='weighted') * 100\n",
    "training_error = 100-training_score\n",
    "print (\"Training Score : \",training_score)\n",
    "print (\"Training Error : \",training_error)\n",
    "\n",
    "pred = clf1.predict(standardized_Xtest)\n",
    "test_score = f1_score(y_test,pred,average='weighted') * 100\n",
    "test_error = 100-test_score\n",
    "print (\"Test Score : \",test_score)\n",
    "print (\"Test Error : \",test_error)\n",
    "\n",
    "confusion = confusion_matrix(y_test, pred)\n",
    "print (\"Confusion matrix : \\n\",confusion)\n",
    "ax = sns.heatmap(confusion, annot=True, fmt=\"d\")\n",
    "ax.set_title('Heatmap for confusion matrix')"
   ]
  },
  {
   "cell_type": "code",
   "execution_count": 29,
   "metadata": {},
   "outputs": [
    {
     "name": "stdout",
     "output_type": "stream",
     "text": [
      "RandomizedSearchCV\n",
      "('Best C : ', 2587.6962432558767)\n",
      "('Training Score : ', 58.694578128061416)\n",
      "('Training Error : ', 41.305421871938584)\n",
      "('Test Score : ', 55.34786816512559)\n",
      "('Test Error : ', 44.65213183487441)\n",
      "('Confusion matrix : \\n', array([[ 2115,  1992],\n",
      "       [10186,  9707]]))\n"
     ]
    },
    {
     "data": {
      "text/plain": [
       "Text(0.5,1,'Heatmap for confusion matrix')"
      ]
     },
     "execution_count": 29,
     "metadata": {},
     "output_type": "execute_result"
    },
    {
     "data": {
      "image/png": "[encoded data removed]",
      "text/plain": [
       "<Figure size 432x288 with 2 Axes>"
      ]
     },
     "metadata": {
      "needs_background": "light"
     },
     "output_type": "display_data"
    }
   ],
   "source": [
    "# RandomizedSearchCV to find best C with l1\n",
    "\n",
    "tuned_C_random = dict(C=uniform(10**-4,10**4))\n",
    "#Using RandomizedSearchCV\n",
    "model2 = RandomizedSearchCV(LogisticRegression(penalty='l1',random_state=5,n_jobs=-1,class_weight='balanced'), tuned_C_random, cv=3,n_jobs=-1)\n",
    "model2.fit(standardized_Xtrain, y_train)\n",
    "print (\"RandomizedSearchCV\")\n",
    "\n",
    "best_C2 = model2.best_estimator_.get_params()['C']\n",
    "print (\"Best C : \",best_C2)\n",
    "\n",
    "clf2 = LogisticRegression(C=best_C2, penalty='l1',random_state=5,n_jobs=-1,class_weight='balanced')\n",
    "clf2.fit(standardized_Xtrain, y_train)\n",
    "\n",
    "pred = clf2.predict(standardized_Xtrain)\n",
    "training_score = f1_score(y_train,pred,average='weighted')*100\n",
    "training_error = 100-training_score\n",
    "print (\"Training Score : \",training_score)\n",
    "print (\"Training Error : \",training_error)\n",
    "\n",
    "pred = clf2.predict(standardized_Xtest)\n",
    "test_score = f1_score(y_test,pred,average='weighted') * 100\n",
    "test_error = 100-test_score\n",
    "print (\"Test Score : \",test_score)\n",
    "print (\"Test Error : \",test_error)\n",
    "\n",
    "confusion = confusion_matrix(y_test, pred)\n",
    "print (\"Confusion matrix : \\n\",confusion)\n",
    "ax = sns.heatmap(confusion, annot=True, fmt=\"d\")\n",
    "ax.set_title('Heatmap for confusion matrix')"
   ]
  },
  {
   "cell_type": "code",
   "execution_count": 30,
   "metadata": {},
   "outputs": [
    {
     "name": "stdout",
     "output_type": "stream",
     "text": [
      "('lambda: ', [0.0001, 0.001, 0.01, 0.1, 0.5, 1.0, 4.0, 9.0, 15.0, 30.0, 60.0, 90.0, 100.0, 300.0, 500.0, 800.0])\n",
      "('C: ', [10000.0, 1000.0, 100.0, 10.0, 2.0, 1.0, 0.25, 0.11111, 0.06667, 0.03333, 0.01667, 0.01111, 0.01, 0.00333, 0.002, 0.00125])\n"
     ]
    },
    {
     "name": "stderr",
     "output_type": "stream",
     "text": [
      "100%|██████████| 16/16 [02:14<00:00,  1.06s/it]\n"
     ]
    },
    {
     "name": "stdout",
     "output_type": "stream",
     "text": [
      "+--------------+----------+----------+\n",
      "| Lambda Value |  Error   | Sparsity |\n",
      "+--------------+----------+----------+\n",
      "|    0.0001    | 44.65213 |    0     |\n",
      "|    0.001     | 44.65213 |    0     |\n",
      "|     0.01     | 44.65213 |    0     |\n",
      "|     0.1      | 44.66089 |    1     |\n",
      "|     0.5      | 44.76102 |    0     |\n",
      "|     1.0      | 44.83202 |    0     |\n",
      "|     4.0      | 45.13087 |    2     |\n",
      "|     9.0      | 45.49714 |    5     |\n",
      "|     15.0     | 45.71962 |    9     |\n",
      "|     30.0     | 46.24286 |    14    |\n",
      "|     60.0     | 47.48041 |    23    |\n",
      "|     90.0     | 48.08522 |    29    |\n",
      "|    100.0     | 48.32954 |    31    |\n",
      "|    300.0     | 56.26311 |    44    |\n",
      "|    500.0     | 55.50736 |    48    |\n",
      "|    800.0     | 94.99904 |    50    |\n",
      "+--------------+----------+----------+\n"
     ]
    },
    {
     "data": {
      "image/png": "[encoded data removed]",
      "text/plain": [
       "<Figure size 936x360 with 2 Axes>"
      ]
     },
     "metadata": {
      "needs_background": "light"
     },
     "output_type": "display_data"
    }
   ],
   "source": [
    "# Error and sparsity check with l1 regularizer\n",
    "\n",
    "lambda_values = [0.0001, 0.001, 0.01, 0.1, 0.5, 1, 4, 9, 15, 30, 60, 90, 100, 300, 500,800]\n",
    "lambda_values=[float(i) for i in lambda_values]\n",
    "print (\"lambda: \",lambda_values)\n",
    "\n",
    "c = [round((1.0/i),5) for i in lambda_values]\n",
    "print (\"C: \",c)\n",
    "\n",
    "x = PrettyTable()\n",
    "x.field_names = [\"Lambda Value\",\"Error\",\"Sparsity\"]\n",
    "scores = []\n",
    "sparsity = []\n",
    "j=0\n",
    "for i in tqdm(c):\n",
    "    clf = LogisticRegression(penalty='l1',C=i,random_state=5,n_jobs=-1,class_weight='balanced').fit(standardized_Xtrain, y_train)\n",
    "    pred = clf.predict(standardized_Xtest)\n",
    "    sco = f1_score(y_test, pred, average='weighted')*100\n",
    "    scores.append(100-sco)\n",
    "    weight_vector = clf.coef_[0]\n",
    "    zeros=0\n",
    "    for i in weight_vector:\n",
    "        if i==0:\n",
    "            zeros+=1\n",
    "    sparsity.append(zeros)\n",
    "    x.add_row([round(lambda_values[j],5),round((100-sco),5),zeros])\n",
    "    j+=1;\n",
    "\n",
    "print (x)\n",
    "\n",
    "plt.figure(figsize=(13, 5))\n",
    "ax = plt.subplot(121)\n",
    "ax.set(xlabel='Values of lambda', ylabel='Misclassification Error', title='lambda vs error rate plot')\n",
    "ax.plot(lambda_values,scores,color=\"red\")\n",
    "ax.legend(['Test error curve'])\n",
    "ax.grid(True)\n",
    "\n",
    "ax = plt.subplot(122)\n",
    "ax.set(xlabel='Values of lambda', ylabel='Sparsity', title='lambda vs sparsity rate plot')\n",
    "ax.plot(lambda_values,sparsity,color=\"blue\")\n",
    "ax.legend(['Sparsity curve'])\n",
    "ax.grid(True)\n",
    "\n",
    "plt.show()"
   ]
  },
  {
   "cell_type": "markdown",
   "metadata": {},
   "source": [
    "Error kept on increasing till lambda 300 and again it started to increase after reaching value 500. Sparsity kept on increasing for increasing value of lambda."
   ]
  },
  {
   "cell_type": "code",
   "execution_count": 3,
   "metadata": {},
   "outputs": [],
   "source": [
    "t = PrettyTable()\n",
    "t.field_names = [\"Featurization\",\"Search method\",\"Regularizer\",\"Best lambda\",\"Train Error\",\"Test Error\"]\n",
    "t.add_row([\"Bag of Words\",\"GridSearchCV\",\"l2\",0.0001,round(4.983080852321976,4),round(10.732983496863596,4)])\n",
    "t.add_row([\"Bag of Words\",\"RandomizedSearchCV\",\"l2\",0.6596374487594618,round(1.2876473275876208,4),round(15.037527466814183,4)])\n",
    "t.add_row([\"Bag of Words\",\"GridSearchCV\",\"l1\",0.01,round(17.2900268758777,4),round( 29.72558951131667,4)])\n",
    "t.add_row([\"Bag of Words\",\"RandomizedSearchCV\",\"l1\",550.7638848144253,round(14.579719752717324,4),round(33.39110880408438,4)])\n",
    "\n",
    "t.add_row([\"TF-IDF\",\"GridSearchCV\",\"l2\", 0.0001,round(0.01785280755535723,4),round(24.99527281963492,4)])\n",
    "t.add_row([\"TF-IDF\",\"RandomizedSearchCV\",\"l2\",7156.413689085606,round(0.0124978752294993,4),round(24.94402218962685,4)])\n",
    "t.add_row([\"TF-IDF\",\"GridSearchCV\",\"l1\", 10,round(0.023206841917371435,4),round(25.200823960588394,4)])\n",
    "t.add_row([\"TF-IDF\",\"RandomizedSearchCV\",\"l1\",170.0817339355904,round(0.023206841917371435,4),round(25.26278976997574,4)])\n",
    "\n",
    "t.add_row([\"Avg w2v\",\"GridSearchCV\",\"l2\",10,round(41.52946157355467,4),round( 44.059545938478564,4)])\n",
    "t.add_row([\"Avg w2v\",\"RandomizedSearchCV\",\"l2\",719.3582951486094,round(41.52510037208725,4),round(44.032987194312966,4)])\n",
    "t.add_row([\"Avg w2v\",\"GridSearchCV\",\"l1\", 10,round(41.526712516158646,4),round(44.0826116849668,4)])\n",
    "t.add_row([\"Avg w2v\",\"RandomizedSearchCV\",\"l1\",1434.253320397136,round(41.523488261989485,4),round(44.03264452636591,4)])\n",
    "\n",
    "t.add_row([\"TF-IDF weighted w2v\",\"GridSearchCV\",\"l2\",100,round(41.305421871938584,4),round(44.6560358616819,4)])\n",
    "t.add_row([\"TF-IDF weighted w2v\",\"RandomizedSearchCV\",\"l2\",1554.4365736372729,round(41.305421871938584,4),round(44.6560358616819,4)])\n",
    "t.add_row([\"TF-IDF weighted w2v\",\"GridSearchCV\",\"l1\", 100,round(41.305421871938584,4),round(44.65213183487441,4)])\n",
    "t.add_row([\"TF-IDF weighted w2v\",\"RandomizedSearchCV\",\"l1\", 2587.6962432558767,round(41.305421871938584,4),round(44.65213183487441,4)])\n"
   ]
  },
  {
   "cell_type": "code",
   "execution_count": 4,
   "metadata": {},
   "outputs": [
    {
     "name": "stdout",
     "output_type": "stream",
     "text": [
      "+---------------------+--------------------+-------------+----------------+-------------+------------+\n",
      "|    Featurization    |   Search method    | Regularizer |  Best lambda   | Train Error | Test Error |\n",
      "+---------------------+--------------------+-------------+----------------+-------------+------------+\n",
      "|     Bag of Words    |    GridSearchCV    |      l2     |     0.0001     |    4.9831   |   10.733   |\n",
      "|     Bag of Words    | RandomizedSearchCV |      l2     | 0.659637448759 |    1.2876   |  15.0375   |\n",
      "|     Bag of Words    |    GridSearchCV    |      l1     |      0.01      |    17.29    |  29.7256   |\n",
      "|     Bag of Words    | RandomizedSearchCV |      l1     | 550.763884814  |   14.5797   |  33.3911   |\n",
      "|        TF-IDF       |    GridSearchCV    |      l2     |     0.0001     |    0.0179   |  24.9953   |\n",
      "|        TF-IDF       | RandomizedSearchCV |      l2     | 7156.41368909  |    0.0125   |   24.944   |\n",
      "|        TF-IDF       |    GridSearchCV    |      l1     |       10       |    0.0232   |  25.2008   |\n",
      "|        TF-IDF       | RandomizedSearchCV |      l1     | 170.081733936  |    0.0232   |  25.2628   |\n",
      "|       Avg w2v       |    GridSearchCV    |      l2     |       10       |   41.5295   |  44.0595   |\n",
      "|       Avg w2v       | RandomizedSearchCV |      l2     | 719.358295149  |   41.5251   |   44.033   |\n",
      "|       Avg w2v       |    GridSearchCV    |      l1     |       10       |   41.5267   |  44.0826   |\n",
      "|       Avg w2v       | RandomizedSearchCV |      l1     |  1434.2533204  |   41.5235   |  44.0326   |\n",
      "| TF-IDF weighted w2v |    GridSearchCV    |      l2     |      100       |   41.3054   |   44.656   |\n",
      "| TF-IDF weighted w2v | RandomizedSearchCV |      l2     | 1554.43657364  |   41.3054   |   44.656   |\n",
      "| TF-IDF weighted w2v |    GridSearchCV    |      l1     |      100       |   41.3054   |  44.6521   |\n",
      "| TF-IDF weighted w2v | RandomizedSearchCV |      l1     | 2587.69624326  |   41.3054   |  44.6521   |\n",
      "+---------------------+--------------------+-------------+----------------+-------------+------------+\n"
     ]
    }
   ],
   "source": [
    "print(t)"
   ]
  },
  {
   "cell_type": "markdown",
   "metadata": {},
   "source": [
    "From the above table the lowest value of test error is obtained for BoW with l2 regularization with lambda value 0.0001. Test error is 10.733. The lower values of test error are found for BoW and Tf-idf compared to Avg Tf-idf and Tf-idf weighted w2v. The best hyper parametre lambda is found with both GridSearchCV and RandomizedSearchCV.\n"
   ]
  }
 ],
 "metadata": {
  "colab": {
   "collapsed_sections": [],
   "name": "Copy of Copy of KNN on Amazon fine food reviews.ipynb",
   "provenance": [],
   "version": "0.3.2"
  },
  "kernelspec": {
   "display_name": "Python 2",
   "language": "python",
   "name": "python2"
  },
  "language_info": {
   "codemirror_mode": {
    "name": "ipython",
    "version": 2
   },
   "file_extension": ".py",
   "mimetype": "text/x-python",
   "name": "python",
   "nbconvert_exporter": "python",
   "pygments_lexer": "ipython2",
   "version": "2.7.14"
  }
 },
 "nbformat": 4,
 "nbformat_minor": 1
}
