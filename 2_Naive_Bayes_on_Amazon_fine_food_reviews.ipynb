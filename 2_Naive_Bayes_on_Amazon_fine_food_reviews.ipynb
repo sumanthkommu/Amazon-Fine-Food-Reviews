{
 "cells": [
  {
   "cell_type": "markdown",
   "metadata": {
    "colab_type": "text",
    "id": "qGHkrQVYWB--"
   },
   "source": [
    "# Amazon Fine Food Reviews Analysis - Naive Bayes Application \n",
    "\n",
    "\n",
    "Data Source: https://www.kaggle.com/snap/amazon-fine-food-reviews\n",
    "\n",
    "The Amazon Fine Food Reviews dataset consists of reviews of fine foods from Amazon.<br>\n",
    "\n",
    "Number of reviews: 568,454<br>\n",
    "Number of users: 256,059<br>\n",
    "Number of products: 74,258<br>\n",
    "Timespan: Oct 1999 - Oct 2012<br>\n",
    "Number of Attributes/Columns in data: 10 \n",
    "\n",
    "Attribute Information:\n",
    "\n",
    "1. Id\n",
    "2. ProductId - unique identifier for the product\n",
    "3. UserId - unqiue identifier for the user\n",
    "4. ProfileName\n",
    "5. HelpfulnessNumerator - number of users who found the review helpful\n",
    "6. HelpfulnessDenominator - number of users who indicated whether they found the review helpful or not\n",
    "7. Score - rating between 1 and 5\n",
    "8. Time - timestamp for the review\n",
    "9. Summary - brief summary of the review\n",
    "10. Text - text of the review\n",
    "\n",
    "\n",
    "#### Objective:\n",
    "Given a review, determine whether the review is positive (Rating of 4 or 5) or negative (rating of 1 or 2).\n",
    "\n",
    "<br>\n",
    "[Q] How to determine if a review is positive or negative?<br>\n",
    "<br> \n",
    "[Ans] We could use the Score/Rating. A rating of 4 or 5 could be cosnidered a positive review. A review of 1 or 2 could be considered negative. A review of 3 is nuetral and ignored. This is an approximate and proxy way of determining the polarity (positivity/negativity) of a review.\n",
    "\n",
    "\n"
   ]
  },
  {
   "cell_type": "markdown",
   "metadata": {
    "colab_type": "text",
    "id": "N1bZ4-NQWB_A"
   },
   "source": [
    "## [7.1] Loading the data\n",
    "\n",
    "The dataset is available in two forms\n",
    "1. .csv file\n",
    "2. SQLite Database\n",
    "\n",
    "In order to load the data, We have used the SQLITE dataset as it easier to query the data and visualise the data efficiently.\n",
    "<br> \n",
    "\n",
    "Here as we only want to get the global sentiment of the recommendations (positive or negative), we will purposefully ignore all Scores equal to 3. If the score id above 3, then the recommendation wil be set to \"positive\". Otherwise, it will be set to \"negative\"."
   ]
  },
  {
   "cell_type": "code",
   "execution_count": 1,
   "metadata": {
    "colab": {},
    "colab_type": "code",
    "id": "_ISAhV1B8m1v"
   },
   "outputs": [],
   "source": [
    "from prettytable import PrettyTable\n",
    "x = PrettyTable()\n",
    "x.field_names = [\"Featurization\", \"Hyper parameter(alpha)\", \"Train Error %\", \"Test Error %\"]"
   ]
  },
  {
   "cell_type": "code",
   "execution_count": 2,
   "metadata": {
    "colab": {},
    "colab_type": "code",
    "id": "QlNulBDSWB_C"
   },
   "outputs": [],
   "source": [
    "%matplotlib inline\n",
    "import warnings\n",
    "warnings.filterwarnings(\"ignore\")\n",
    "\n",
    "import sqlite3\n",
    "import pandas as pd\n",
    "import numpy as np\n",
    "import nltk\n",
    "import string\n",
    "import matplotlib.pyplot as plt\n",
    "import seaborn as sns\n",
    "from sklearn.feature_extraction.text import TfidfTransformer\n",
    "from sklearn.feature_extraction.text import TfidfVectorizer\n",
    "\n",
    "from sklearn.feature_extraction.text import CountVectorizer\n",
    "from sklearn.metrics import confusion_matrix,precision_score,f1_score\n",
    "from sklearn import metrics\n",
    "from sklearn.metrics import roc_curve, auc, recall_score, roc_auc_score\n",
    "from nltk.stem.porter import PorterStemmer\n",
    "\n",
    "import re\n",
    "# Tutorial about Python regular expressions: https://pymotw.com/2/re/\n",
    "import string\n",
    "from nltk.corpus import stopwords\n",
    "from nltk.stem import PorterStemmer\n",
    "from nltk.stem.wordnet import WordNetLemmatizer\n",
    "\n",
    "from gensim.models import Word2Vec\n",
    "from gensim.models import KeyedVectors\n",
    "import pickle\n",
    "\n",
    "from tqdm import tqdm\n",
    "import os"
   ]
  },
  {
   "cell_type": "code",
   "execution_count": 3,
   "metadata": {
    "colab": {
     "base_uri": "https://localhost:8080/",
     "height": 404
    },
    "colab_type": "code",
    "id": "iWrc9qu6WB_H",
    "outputId": "234ae7b6-9992-4288-abdd-9aba9ceba72c"
   },
   "outputs": [
    {
     "name": "stdout",
     "output_type": "stream",
     "text": [
      "Number of data points in our data (525814, 10)\n"
     ]
    },
    {
     "data": {
      "text/html": [
       "<div>\n",
       "<style scoped>\n",
       "    .dataframe tbody tr th:only-of-type {\n",
       "        vertical-align: middle;\n",
       "    }\n",
       "\n",
       "    .dataframe tbody tr th {\n",
       "        vertical-align: top;\n",
       "    }\n",
       "\n",
       "    .dataframe thead th {\n",
       "        text-align: right;\n",
       "    }\n",
       "</style>\n",
       "<table border=\"1\" class=\"dataframe\">\n",
       "  <thead>\n",
       "    <tr style=\"text-align: right;\">\n",
       "      <th></th>\n",
       "      <th>Id</th>\n",
       "      <th>ProductId</th>\n",
       "      <th>UserId</th>\n",
       "      <th>ProfileName</th>\n",
       "      <th>HelpfulnessNumerator</th>\n",
       "      <th>HelpfulnessDenominator</th>\n",
       "      <th>Score</th>\n",
       "      <th>Time</th>\n",
       "      <th>Summary</th>\n",
       "      <th>Text</th>\n",
       "    </tr>\n",
       "  </thead>\n",
       "  <tbody>\n",
       "    <tr>\n",
       "      <th>0</th>\n",
       "      <td>1</td>\n",
       "      <td>B001E4KFG0</td>\n",
       "      <td>A3SGXH7AUHU8GW</td>\n",
       "      <td>delmartian</td>\n",
       "      <td>1</td>\n",
       "      <td>1</td>\n",
       "      <td>1</td>\n",
       "      <td>1303862400</td>\n",
       "      <td>Good Quality Dog Food</td>\n",
       "      <td>I have bought several of the Vitality canned d...</td>\n",
       "    </tr>\n",
       "    <tr>\n",
       "      <th>1</th>\n",
       "      <td>2</td>\n",
       "      <td>B00813GRG4</td>\n",
       "      <td>A1D87F6ZCVE5NK</td>\n",
       "      <td>dll pa</td>\n",
       "      <td>0</td>\n",
       "      <td>0</td>\n",
       "      <td>0</td>\n",
       "      <td>1346976000</td>\n",
       "      <td>Not as Advertised</td>\n",
       "      <td>Product arrived labeled as Jumbo Salted Peanut...</td>\n",
       "    </tr>\n",
       "    <tr>\n",
       "      <th>2</th>\n",
       "      <td>3</td>\n",
       "      <td>B000LQOCH0</td>\n",
       "      <td>ABXLMWJIXXAIN</td>\n",
       "      <td>Natalia Corres \"Natalia Corres\"</td>\n",
       "      <td>1</td>\n",
       "      <td>1</td>\n",
       "      <td>1</td>\n",
       "      <td>1219017600</td>\n",
       "      <td>\"Delight\" says it all</td>\n",
       "      <td>This is a confection that has been around a fe...</td>\n",
       "    </tr>\n",
       "  </tbody>\n",
       "</table>\n",
       "</div>"
      ],
      "text/plain": [
       "   Id   ProductId          UserId                      ProfileName  \\\n",
       "0   1  B001E4KFG0  A3SGXH7AUHU8GW                       delmartian   \n",
       "1   2  B00813GRG4  A1D87F6ZCVE5NK                           dll pa   \n",
       "2   3  B000LQOCH0   ABXLMWJIXXAIN  Natalia Corres \"Natalia Corres\"   \n",
       "\n",
       "   HelpfulnessNumerator  HelpfulnessDenominator  Score        Time  \\\n",
       "0                     1                       1      1  1303862400   \n",
       "1                     0                       0      0  1346976000   \n",
       "2                     1                       1      1  1219017600   \n",
       "\n",
       "                 Summary                                               Text  \n",
       "0  Good Quality Dog Food  I have bought several of the Vitality canned d...  \n",
       "1      Not as Advertised  Product arrived labeled as Jumbo Salted Peanut...  \n",
       "2  \"Delight\" says it all  This is a confection that has been around a fe...  "
      ]
     },
     "execution_count": 3,
     "metadata": {},
     "output_type": "execute_result"
    }
   ],
   "source": [
    "\n",
    "# using the SQLite Table to read data.\n",
    "con = sqlite3.connect('database.sqlite') \n",
    "#filtering only positive and negative reviews i.e. \n",
    "# not taking into consideration those reviews with Score=3\n",
    "filtered_data = pd.read_sql_query(\"\"\" SELECT * FROM Reviews WHERE Score != 3 \"\"\", con) \n",
    "\n",
    "\n",
    "# Give reviews with Score>3 a positive rating, and reviews with a score<3 a negative rating.\n",
    "def partition(x):\n",
    "    if x < 3:\n",
    "        return 0\n",
    "    return 1\n",
    "\n",
    "#changing reviews with score less than 3 to be positive and vice-versa\n",
    "actualScore = filtered_data['Score']\n",
    "positiveNegative = actualScore.map(partition) \n",
    "filtered_data['Score'] = positiveNegative\n",
    "print(\"Number of data points in our data\", filtered_data.shape)\n",
    "filtered_data.head(3)"
   ]
  },
  {
   "cell_type": "markdown",
   "metadata": {
    "colab_type": "text",
    "id": "BH9JJzAPWB_P"
   },
   "source": [
    "#  Exploratory Data Analysis\n",
    "\n",
    "## [7.1.2] Data Cleaning: Deduplication\n",
    "\n",
    "It is observed (as shown in the table below) that the reviews data had many duplicate entries. Hence it was necessary to remove duplicates in order to get unbiased results for the analysis of the data.  Following is an example:"
   ]
  },
  {
   "cell_type": "code",
   "execution_count": 4,
   "metadata": {
    "colab": {
     "base_uri": "https://localhost:8080/",
     "height": 554
    },
    "colab_type": "code",
    "id": "HR0vyEv7WB_Q",
    "outputId": "23ef2038-2aaa-4f98-da25-7cab9080fe50",
    "scrolled": false
   },
   "outputs": [
    {
     "data": {
      "text/html": [
       "<div>\n",
       "<style scoped>\n",
       "    .dataframe tbody tr th:only-of-type {\n",
       "        vertical-align: middle;\n",
       "    }\n",
       "\n",
       "    .dataframe tbody tr th {\n",
       "        vertical-align: top;\n",
       "    }\n",
       "\n",
       "    .dataframe thead th {\n",
       "        text-align: right;\n",
       "    }\n",
       "</style>\n",
       "<table border=\"1\" class=\"dataframe\">\n",
       "  <thead>\n",
       "    <tr style=\"text-align: right;\">\n",
       "      <th></th>\n",
       "      <th>Id</th>\n",
       "      <th>ProductId</th>\n",
       "      <th>UserId</th>\n",
       "      <th>ProfileName</th>\n",
       "      <th>HelpfulnessNumerator</th>\n",
       "      <th>HelpfulnessDenominator</th>\n",
       "      <th>Score</th>\n",
       "      <th>Time</th>\n",
       "      <th>Summary</th>\n",
       "      <th>Text</th>\n",
       "    </tr>\n",
       "  </thead>\n",
       "  <tbody>\n",
       "    <tr>\n",
       "      <th>0</th>\n",
       "      <td>78445</td>\n",
       "      <td>B000HDL1RQ</td>\n",
       "      <td>AR5J8UI46CURR</td>\n",
       "      <td>Geetha Krishnan</td>\n",
       "      <td>2</td>\n",
       "      <td>2</td>\n",
       "      <td>5</td>\n",
       "      <td>1199577600</td>\n",
       "      <td>LOACKER QUADRATINI VANILLA WAFERS</td>\n",
       "      <td>DELICIOUS WAFERS. I FIND THAT EUROPEAN WAFERS ...</td>\n",
       "    </tr>\n",
       "    <tr>\n",
       "      <th>1</th>\n",
       "      <td>138317</td>\n",
       "      <td>B000HDOPYC</td>\n",
       "      <td>AR5J8UI46CURR</td>\n",
       "      <td>Geetha Krishnan</td>\n",
       "      <td>2</td>\n",
       "      <td>2</td>\n",
       "      <td>5</td>\n",
       "      <td>1199577600</td>\n",
       "      <td>LOACKER QUADRATINI VANILLA WAFERS</td>\n",
       "      <td>DELICIOUS WAFERS. I FIND THAT EUROPEAN WAFERS ...</td>\n",
       "    </tr>\n",
       "    <tr>\n",
       "      <th>2</th>\n",
       "      <td>138277</td>\n",
       "      <td>B000HDOPYM</td>\n",
       "      <td>AR5J8UI46CURR</td>\n",
       "      <td>Geetha Krishnan</td>\n",
       "      <td>2</td>\n",
       "      <td>2</td>\n",
       "      <td>5</td>\n",
       "      <td>1199577600</td>\n",
       "      <td>LOACKER QUADRATINI VANILLA WAFERS</td>\n",
       "      <td>DELICIOUS WAFERS. I FIND THAT EUROPEAN WAFERS ...</td>\n",
       "    </tr>\n",
       "    <tr>\n",
       "      <th>3</th>\n",
       "      <td>73791</td>\n",
       "      <td>B000HDOPZG</td>\n",
       "      <td>AR5J8UI46CURR</td>\n",
       "      <td>Geetha Krishnan</td>\n",
       "      <td>2</td>\n",
       "      <td>2</td>\n",
       "      <td>5</td>\n",
       "      <td>1199577600</td>\n",
       "      <td>LOACKER QUADRATINI VANILLA WAFERS</td>\n",
       "      <td>DELICIOUS WAFERS. I FIND THAT EUROPEAN WAFERS ...</td>\n",
       "    </tr>\n",
       "    <tr>\n",
       "      <th>4</th>\n",
       "      <td>155049</td>\n",
       "      <td>B000PAQ75C</td>\n",
       "      <td>AR5J8UI46CURR</td>\n",
       "      <td>Geetha Krishnan</td>\n",
       "      <td>2</td>\n",
       "      <td>2</td>\n",
       "      <td>5</td>\n",
       "      <td>1199577600</td>\n",
       "      <td>LOACKER QUADRATINI VANILLA WAFERS</td>\n",
       "      <td>DELICIOUS WAFERS. I FIND THAT EUROPEAN WAFERS ...</td>\n",
       "    </tr>\n",
       "  </tbody>\n",
       "</table>\n",
       "</div>"
      ],
      "text/plain": [
       "       Id   ProductId         UserId      ProfileName  HelpfulnessNumerator  \\\n",
       "0   78445  B000HDL1RQ  AR5J8UI46CURR  Geetha Krishnan                     2   \n",
       "1  138317  B000HDOPYC  AR5J8UI46CURR  Geetha Krishnan                     2   \n",
       "2  138277  B000HDOPYM  AR5J8UI46CURR  Geetha Krishnan                     2   \n",
       "3   73791  B000HDOPZG  AR5J8UI46CURR  Geetha Krishnan                     2   \n",
       "4  155049  B000PAQ75C  AR5J8UI46CURR  Geetha Krishnan                     2   \n",
       "\n",
       "   HelpfulnessDenominator  Score        Time  \\\n",
       "0                       2      5  1199577600   \n",
       "1                       2      5  1199577600   \n",
       "2                       2      5  1199577600   \n",
       "3                       2      5  1199577600   \n",
       "4                       2      5  1199577600   \n",
       "\n",
       "                             Summary  \\\n",
       "0  LOACKER QUADRATINI VANILLA WAFERS   \n",
       "1  LOACKER QUADRATINI VANILLA WAFERS   \n",
       "2  LOACKER QUADRATINI VANILLA WAFERS   \n",
       "3  LOACKER QUADRATINI VANILLA WAFERS   \n",
       "4  LOACKER QUADRATINI VANILLA WAFERS   \n",
       "\n",
       "                                                Text  \n",
       "0  DELICIOUS WAFERS. I FIND THAT EUROPEAN WAFERS ...  \n",
       "1  DELICIOUS WAFERS. I FIND THAT EUROPEAN WAFERS ...  \n",
       "2  DELICIOUS WAFERS. I FIND THAT EUROPEAN WAFERS ...  \n",
       "3  DELICIOUS WAFERS. I FIND THAT EUROPEAN WAFERS ...  \n",
       "4  DELICIOUS WAFERS. I FIND THAT EUROPEAN WAFERS ...  "
      ]
     },
     "execution_count": 4,
     "metadata": {},
     "output_type": "execute_result"
    }
   ],
   "source": [
    "display= pd.read_sql_query(\"\"\"\n",
    "SELECT *\n",
    "FROM Reviews\n",
    "WHERE Score != 3 AND UserId=\"AR5J8UI46CURR\"\n",
    "ORDER BY ProductID\n",
    "\"\"\", con)\n",
    "display.head()"
   ]
  },
  {
   "cell_type": "markdown",
   "metadata": {
    "colab_type": "text",
    "id": "TUmKYpOhWB_V"
   },
   "source": [
    "As can be seen above the same user has multiple reviews of the with the same values for HelpfulnessNumerator, HelpfulnessDenominator, Score, Time, Summary and Text  and on doing analysis it was found that <br>\n",
    "<br> \n",
    "ProductId=B000HDOPZG was Loacker Quadratini Vanilla Wafer Cookies, 8.82-Ounce Packages (Pack of 8)<br>\n",
    "<br> \n",
    "ProductId=B000HDL1RQ was Loacker Quadratini Lemon Wafer Cookies, 8.82-Ounce Packages (Pack of 8) and so on<br>\n",
    "\n",
    "It was inferred after analysis that reviews with same parameters other than ProductId belonged to the same product just having different flavour or quantity. Hence in order to reduce redundancy it was decided to eliminate the rows having same parameters.<br>\n",
    "\n",
    "The method used for the same was that we first sort the data according to ProductId and then just keep the first similar product review and delelte the others. for eg. in the above just the review for ProductId=B000HDL1RQ remains. This method ensures that there is only one representative for each product and deduplication without sorting would lead to possibility of different representatives still existing for the same product."
   ]
  },
  {
   "cell_type": "code",
   "execution_count": 5,
   "metadata": {
    "colab": {},
    "colab_type": "code",
    "id": "9oypvH9qWB_X"
   },
   "outputs": [],
   "source": [
    "#Sorting data according to ProductId in ascending order\n",
    "sorted_data=filtered_data.sort_values('ProductId', axis=0, ascending=True, inplace=False, kind='quicksort', na_position='last')"
   ]
  },
  {
   "cell_type": "code",
   "execution_count": 6,
   "metadata": {
    "colab": {
     "base_uri": "https://localhost:8080/",
     "height": 34
    },
    "colab_type": "code",
    "id": "PPjGUcEhWB_b",
    "outputId": "a5a8c006-fe76-431c-f9b5-c9599287ad3b"
   },
   "outputs": [
    {
     "data": {
      "text/plain": [
       "(364173, 10)"
      ]
     },
     "execution_count": 6,
     "metadata": {},
     "output_type": "execute_result"
    }
   ],
   "source": [
    "#Deduplication of entries\n",
    "final=sorted_data.drop_duplicates(subset={\"UserId\",\"ProfileName\",\"Time\",\"Text\"}, keep='first', inplace=False)\n",
    "final.shape"
   ]
  },
  {
   "cell_type": "code",
   "execution_count": 7,
   "metadata": {
    "colab": {
     "base_uri": "https://localhost:8080/",
     "height": 34
    },
    "colab_type": "code",
    "id": "LJZkR811WB_g",
    "outputId": "0448ab06-1bb5-4b8f-fdae-138fb9943d78"
   },
   "outputs": [
    {
     "data": {
      "text/plain": [
       "69.25890143662969"
      ]
     },
     "execution_count": 7,
     "metadata": {},
     "output_type": "execute_result"
    }
   ],
   "source": [
    "#Checking to see how much % of data still remains\n",
    "(final['Id'].size*1.0)/(filtered_data['Id'].size*1.0)*100"
   ]
  },
  {
   "cell_type": "markdown",
   "metadata": {
    "colab_type": "text",
    "id": "A9NmIA0wWB_m"
   },
   "source": [
    "<b>Observation:-</b> It was also seen that in two rows given below the value of HelpfulnessNumerator is greater than HelpfulnessDenominator which is not practically possible hence these two rows too are removed from calcualtions"
   ]
  },
  {
   "cell_type": "code",
   "execution_count": 8,
   "metadata": {
    "colab": {
     "base_uri": "https://localhost:8080/",
     "height": 268
    },
    "colab_type": "code",
    "id": "T6S3YfHwWB_n",
    "outputId": "4cd157a4-1646-40fd-c632-dfb7a97bed52"
   },
   "outputs": [
    {
     "data": {
      "text/html": [
       "<div>\n",
       "<style scoped>\n",
       "    .dataframe tbody tr th:only-of-type {\n",
       "        vertical-align: middle;\n",
       "    }\n",
       "\n",
       "    .dataframe tbody tr th {\n",
       "        vertical-align: top;\n",
       "    }\n",
       "\n",
       "    .dataframe thead th {\n",
       "        text-align: right;\n",
       "    }\n",
       "</style>\n",
       "<table border=\"1\" class=\"dataframe\">\n",
       "  <thead>\n",
       "    <tr style=\"text-align: right;\">\n",
       "      <th></th>\n",
       "      <th>Id</th>\n",
       "      <th>ProductId</th>\n",
       "      <th>UserId</th>\n",
       "      <th>ProfileName</th>\n",
       "      <th>HelpfulnessNumerator</th>\n",
       "      <th>HelpfulnessDenominator</th>\n",
       "      <th>Score</th>\n",
       "      <th>Time</th>\n",
       "      <th>Summary</th>\n",
       "      <th>Text</th>\n",
       "    </tr>\n",
       "  </thead>\n",
       "  <tbody>\n",
       "    <tr>\n",
       "      <th>0</th>\n",
       "      <td>64422</td>\n",
       "      <td>B000MIDROQ</td>\n",
       "      <td>A161DK06JJMCYF</td>\n",
       "      <td>J. E. Stephens \"Jeanne\"</td>\n",
       "      <td>3</td>\n",
       "      <td>1</td>\n",
       "      <td>5</td>\n",
       "      <td>1224892800</td>\n",
       "      <td>Bought This for My Son at College</td>\n",
       "      <td>My son loves spaghetti so I didn't hesitate or...</td>\n",
       "    </tr>\n",
       "    <tr>\n",
       "      <th>1</th>\n",
       "      <td>44737</td>\n",
       "      <td>B001EQ55RW</td>\n",
       "      <td>A2V0I904FH7ABY</td>\n",
       "      <td>Ram</td>\n",
       "      <td>3</td>\n",
       "      <td>2</td>\n",
       "      <td>4</td>\n",
       "      <td>1212883200</td>\n",
       "      <td>Pure cocoa taste with crunchy almonds inside</td>\n",
       "      <td>It was almost a 'love at first bite' - the per...</td>\n",
       "    </tr>\n",
       "  </tbody>\n",
       "</table>\n",
       "</div>"
      ],
      "text/plain": [
       "      Id   ProductId          UserId              ProfileName  \\\n",
       "0  64422  B000MIDROQ  A161DK06JJMCYF  J. E. Stephens \"Jeanne\"   \n",
       "1  44737  B001EQ55RW  A2V0I904FH7ABY                      Ram   \n",
       "\n",
       "   HelpfulnessNumerator  HelpfulnessDenominator  Score        Time  \\\n",
       "0                     3                       1      5  1224892800   \n",
       "1                     3                       2      4  1212883200   \n",
       "\n",
       "                                        Summary  \\\n",
       "0             Bought This for My Son at College   \n",
       "1  Pure cocoa taste with crunchy almonds inside   \n",
       "\n",
       "                                                Text  \n",
       "0  My son loves spaghetti so I didn't hesitate or...  \n",
       "1  It was almost a 'love at first bite' - the per...  "
      ]
     },
     "execution_count": 8,
     "metadata": {},
     "output_type": "execute_result"
    }
   ],
   "source": [
    "display= pd.read_sql_query(\"\"\"\n",
    "SELECT *\n",
    "FROM Reviews\n",
    "WHERE Score != 3 AND Id=44737 OR Id=64422\n",
    "ORDER BY ProductID\n",
    "\"\"\", con)\n",
    "\n",
    "display.head()"
   ]
  },
  {
   "cell_type": "code",
   "execution_count": 9,
   "metadata": {
    "colab": {},
    "colab_type": "code",
    "id": "bL-uiTKpWB_t"
   },
   "outputs": [],
   "source": [
    "final=final[final.HelpfulnessNumerator<=final.HelpfulnessDenominator]"
   ]
  },
  {
   "cell_type": "code",
   "execution_count": 10,
   "metadata": {
    "colab": {
     "base_uri": "https://localhost:8080/",
     "height": 86
    },
    "colab_type": "code",
    "id": "jixOFh0BWB_w",
    "outputId": "515066fb-6d20-4c3a-bb73-67c8fa6d9566"
   },
   "outputs": [
    {
     "name": "stdout",
     "output_type": "stream",
     "text": [
      "(364171, 10)\n"
     ]
    },
    {
     "data": {
      "text/plain": [
       "1    307061\n",
       "0     57110\n",
       "Name: Score, dtype: int64"
      ]
     },
     "execution_count": 10,
     "metadata": {},
     "output_type": "execute_result"
    }
   ],
   "source": [
    "#Before starting the next phase of preprocessing lets see the number of entries left\n",
    "print(final.shape)\n",
    "\n",
    "#How many positive and negative reviews are present in our dataset?\n",
    "final['Score'].value_counts()"
   ]
  },
  {
   "cell_type": "code",
   "execution_count": 11,
   "metadata": {
    "colab": {},
    "colab_type": "code",
    "id": "Ig-J9L1zWB_2"
   },
   "outputs": [],
   "source": [
    "#Deduplication of entries\n",
    "#final=sorted_data.drop_duplicates(subset={\"Score\"}, keep='first', inplace=False)\n",
    "#final.shape\n",
    "\n",
    "final_pos_reviews=final.loc[final['Score'] == 1]\n",
    "final_neg_reviews=final.loc[final['Score']== 0]"
   ]
  },
  {
   "cell_type": "code",
   "execution_count": 12,
   "metadata": {
    "colab": {},
    "colab_type": "code",
    "id": "V5NITJWvWB_7"
   },
   "outputs": [],
   "source": [
    "\n",
    "final=final.sample(n=80000)\n",
    "final=final.sort_values('ProductId', axis=0, ascending=True, inplace=False, kind='quicksort', na_position='last')\n",
    "\n",
    "labels=final['Score']"
   ]
  },
  {
   "cell_type": "code",
   "execution_count": 13,
   "metadata": {
    "colab": {
     "base_uri": "https://localhost:8080/",
     "height": 72
    },
    "colab_type": "code",
    "id": "EHGXI3yzWB__",
    "outputId": "91d50b09-b4de-493c-a79a-feb7cd83e41b"
   },
   "outputs": [],
   "source": [
    "from sklearn.model_selection import train_test_split\n",
    "from sklearn.neighbors import KNeighborsClassifier\n",
    "from sklearn.metrics import accuracy_score\n",
    "from sklearn.model_selection import cross_val_score\n",
    "from collections import Counter\n",
    "from sklearn.metrics import accuracy_score\n",
    "from sklearn.model_selection import cross_validate"
   ]
  },
  {
   "cell_type": "code",
   "execution_count": 14,
   "metadata": {
    "colab": {},
    "colab_type": "code",
    "id": "nK9qQdP_WCAF"
   },
   "outputs": [],
   "source": [
    "new_final=final.sort_values('Time')\n",
    "final=new_final\n",
    "new_labels=final['Score']"
   ]
  },
  {
   "cell_type": "markdown",
   "metadata": {
    "colab_type": "text",
    "id": "v6sWPp2wWCAK"
   },
   "source": [
    "## 7.2.3  Text Preprocessing: Stemming, stop-word removal and Lemmatization.\n",
    "\n",
    "Now that we have finished deduplication our data requires some preprocessing before we go on further with analysis and making the prediction model.\n",
    "\n",
    "Hence in the Preprocessing phase we do the following in the order below:-\n",
    "\n",
    "1. Begin by removing the html tags\n",
    "2. Remove any punctuations or limited set of special characters like , or . or # etc.\n",
    "3. Check if the word is made up of english letters and is not alpha-numeric\n",
    "4. Check to see if the length of the word is greater than 2 (as it was researched that there is no adjective in 2-letters)\n",
    "5. Convert the word to lowercase\n",
    "6. Remove Stopwords\n",
    "7. Finally Snowball Stemming the word (it was obsereved to be better than Porter Stemming)<br>\n",
    "\n",
    "After which we collect the words used to describe positive and negative reviews"
   ]
  },
  {
   "cell_type": "code",
   "execution_count": 15,
   "metadata": {
    "colab": {
     "base_uri": "https://localhost:8080/",
     "height": 72
    },
    "colab_type": "code",
    "id": "UgHdIvLiWCAM",
    "outputId": "b68ecf96-4e0a-43d1-a2b1-25ba3c7fafd2",
    "scrolled": true
   },
   "outputs": [
    {
     "name": "stdout",
     "output_type": "stream",
     "text": [
      "0\n",
      "I'm getting crazy.<p>Is it really impossible today not to find the French VHS version of this film ?<p>Could U please tell me something about it ? Tks\n"
     ]
    }
   ],
   "source": [
    "# find sentences containing HTML tags\n",
    "import re\n",
    "i=0;\n",
    "for sent in final['Text'].values:\n",
    "    if (len(re.findall('<.*?>', sent))):\n",
    "        print(i)\n",
    "        print(sent)\n",
    "        break;\n",
    "    i += 1;"
   ]
  },
  {
   "cell_type": "code",
   "execution_count": 16,
   "metadata": {
    "colab": {
     "base_uri": "https://localhost:8080/",
     "height": 69
    },
    "colab_type": "code",
    "id": "Gs3a1khfWCAX",
    "outputId": "eb7c7101-4e56-4d45-d730-cf0dcadef853"
   },
   "outputs": [
    {
     "name": "stdout",
     "output_type": "stream",
     "text": [
      "[nltk_data] Downloading package stopwords to\n",
      "[nltk_data]     /home/ksumanth01/nltk_data...\n",
      "[nltk_data]   Package stopwords is already up-to-date!\n"
     ]
    },
    {
     "data": {
      "text/plain": [
       "True"
      ]
     },
     "execution_count": 16,
     "metadata": {},
     "output_type": "execute_result"
    }
   ],
   "source": [
    "import nltk\n",
    "nltk.download('stopwords')"
   ]
  },
  {
   "cell_type": "code",
   "execution_count": 17,
   "metadata": {
    "colab": {
     "base_uri": "https://localhost:8080/",
     "height": 89
    },
    "colab_type": "code",
    "id": "_WVZTZFWWCAd",
    "outputId": "d712174c-a042-4417-83bc-a10aee73b47b"
   },
   "outputs": [
    {
     "name": "stdout",
     "output_type": "stream",
     "text": [
      "{'how', 'm', 'an', 'he', 'was', 'few', 'being', 'this', \"you'll\", 'no', 'yourselves', 'against', 'hadn', 'down', 'does', 'am', 'that', 'aren', 'hasn', 'those', 'she', \"you're\", 'them', 'themselves', 'until', \"couldn't\", 'nor', 'wouldn', 'who', 'theirs', 'its', 'both', 'we', 'hers', 'if', 'were', 'why', 'ours', 'have', 'isn', \"you'd\", 'of', 'up', 'at', 'with', 'than', \"mustn't\", \"hasn't\", 'o', 'very', 'i', 'now', 'they', 're', 'll', 'in', 'which', 'out', 'other', 'yours', \"needn't\", 'above', 'yourself', 'haven', 'their', 'himself', 'off', 'such', 'are', 'shan', 'will', 't', 'it', 'mustn', 'wasn', 'ma', 'where', 'under', \"doesn't\", 've', 'while', \"you've\", 'but', 'into', 's', 'can', 'won', 'before', 'myself', 'our', 'my', 'a', 'has', \"mightn't\", \"don't\", 'and', 'from', 'because', 'you', 'by', 'some', 'doesn', \"shan't\", \"wasn't\", 'what', 'been', 'whom', \"hadn't\", 'needn', 'him', 'any', 'most', \"isn't\", 'shouldn', 'ain', 'not', 'on', 'couldn', 'again', \"it's\", 'is', 'more', 'y', 'had', \"didn't\", 'don', 'did', 'there', 'be', 'herself', 'through', 'here', \"aren't\", \"haven't\", 'too', 'just', 'his', 'me', 'all', 'her', 'to', 'over', 'should', \"that'll\", 'between', 'when', 'do', \"wouldn't\", 'ourselves', 'below', 'further', 'mightn', \"weren't\", \"she's\", 'for', 'during', 'after', \"won't\", 'itself', 'd', 'having', 'so', 'same', 'your', 'didn', 'only', \"should've\", 'or', 'weren', 'once', 'the', 'then', \"shouldn't\", 'own', 'doing', 'these', 'about', 'each', 'as'}\n",
      "************************************\n",
      "tasti\n"
     ]
    }
   ],
   "source": [
    "\n",
    "stop = set(stopwords.words('english')) #set of stopwords\n",
    "sno = nltk.stem.SnowballStemmer('english') #initialising the snowball stemmer\n",
    "\n",
    "def cleanhtml(sentence): #function to clean the word of any html-tags\n",
    "    cleanr = re.compile('<.*?>')\n",
    "    cleantext = re.sub(cleanr, ' ', sentence)\n",
    "    return cleantext\n",
    "def cleanpunc(sentence): #function to clean the word of any punctuation or special characters\n",
    "    cleaned = re.sub(r'[?|!|\\'|\"|#]',r'',sentence)\n",
    "    cleaned = re.sub(r'[.|,|)|(|\\|/]',r' ',cleaned)\n",
    "    return  cleaned\n",
    "print(stop)\n",
    "print('************************************')\n",
    "print(sno.stem('tasty'))"
   ]
  },
  {
   "cell_type": "code",
   "execution_count": 18,
   "metadata": {
    "colab": {
     "base_uri": "https://localhost:8080/",
     "height": 34
    },
    "colab_type": "code",
    "id": "NIRR4hUgWCAi",
    "outputId": "314f4230-09f7-4db8-d6c1-c61636be3279"
   },
   "outputs": [],
   "source": [
    "#Code for implementing step-by-step the checks mentioned in the pre-processing phase\n",
    "# this code takes a while to run as it needs to run on 500k sentences.\n",
    "if not os.path.isfile('final.sqlite'):\n",
    "    i=0\n",
    "    str1=' '\n",
    "    final_string=[]\n",
    "    all_positive_words=[] # store words from +ve reviews here\n",
    "    all_negative_words=[] # store words from -ve reviews here.\n",
    "    s=''\n",
    "    for sent in tqdm(final['Text'].values):\n",
    "        filtered_sentence=[]\n",
    "        #print(sent);\n",
    "        sent=cleanhtml(sent) # remove HTMl tags\n",
    "        for w in sent.split():\n",
    "            for cleaned_words in cleanpunc(w).split():\n",
    "                if((cleaned_words.isalpha()) & (len(cleaned_words)>2)):    \n",
    "                    if(cleaned_words.lower() not in stop):\n",
    "                        s=(sno.stem(cleaned_words.lower())).encode('utf8')\n",
    "                        filtered_sentence.append(s)\n",
    "                        if (final['Score'].values)[i] == 'positive': \n",
    "                            all_positive_words.append(s) #list of all words used to describe positive reviews\n",
    "                        if(final['Score'].values)[i] == 'negative':\n",
    "                            all_negative_words.append(s) #list of all words used to describe negative reviews reviews\n",
    "                    else:\n",
    "                        continue\n",
    "                else:\n",
    "                    continue \n",
    "        #print(filtered_sentence)\n",
    "        str1 = b\" \".join(filtered_sentence) #final string of cleaned words\n",
    "        #print(\"***********************************************************************\")\n",
    "\n",
    "        final_string.append(str1)\n",
    "        i+=1\n",
    "\n",
    "    #############---- storing the data into .sqlite file ------########################\n",
    "    final['CleanedText']=final_string #adding a column of CleanedText which displays the data after pre-processing of the review \n",
    "    final['CleanedText']=final['CleanedText'].str.decode(\"utf-8\")\n",
    "        # store final table into an SQlLite table for future.\n",
    "    conn = sqlite3.connect('final.sqlite')\n",
    "    c=conn.cursor()\n",
    "    conn.text_factory = str\n",
    "    final.to_sql('Reviews', conn,  schema=None, if_exists='replace', \\\n",
    "                 index=True, index_label=None, chunksize=None, dtype=None)\n",
    "    conn.close()\n",
    "    \n",
    "    \n",
    "    with open('positive_words.pkl', 'wb') as f:\n",
    "        pickle.dump(all_positive_words, f)\n",
    "    with open('negitive_words.pkl', 'wb') as f:\n",
    "        pickle.dump(all_negative_words, f)"
   ]
  },
  {
   "cell_type": "code",
   "execution_count": 19,
   "metadata": {
    "colab": {},
    "colab_type": "code",
    "id": "RvN6YBklWCAo",
    "scrolled": false
   },
   "outputs": [],
   "source": [
    "if os.path.isfile('final.sqlite'):\n",
    "    conn = sqlite3.connect('final.sqlite')\n",
    "    final = pd.read_sql_query(\"\"\" SELECT * FROM Reviews WHERE Score != 3 \"\"\", conn)\n",
    "    conn.close()\n",
    "else:\n",
    "    print(\"Please the above cell\")"
   ]
  },
  {
   "cell_type": "markdown",
   "metadata": {
    "colab_type": "text",
    "id": "mgK9_512WCAr"
   },
   "source": [
    "# Bag of Words (BoW)"
   ]
  },
  {
   "cell_type": "code",
   "execution_count": 20,
   "metadata": {
    "colab": {},
    "colab_type": "code",
    "id": "GrDxxwSy9ynt"
   },
   "outputs": [],
   "source": [
    "X = final['CleanedText']\n",
    "y = new_labels\n",
    "X_train = X[:int((70/100)*X.shape[0])]\n",
    "y_train = y[:int((70/100)*y.shape[0])]\n",
    "\n",
    "X_test = X[X_train.shape[0]:]\n",
    "y_test = y[len(y_train):]"
   ]
  },
  {
   "cell_type": "code",
   "execution_count": 21,
   "metadata": {
    "colab": {
     "base_uri": "https://localhost:8080/",
     "height": 69
    },
    "colab_type": "code",
    "id": "lXbTTn1iWCAs",
    "outputId": "4702420f-339a-4a9a-d2ac-23ccac711b5c"
   },
   "outputs": [
    {
     "name": "stdout",
     "output_type": "stream",
     "text": [
      "the type of count vectorizer  <class 'scipy.sparse.csr.csr_matrix'>\n",
      "the shape of out text BOW vectorizer  (56000, 28684)\n",
      "the number of unique words  28684\n"
     ]
    }
   ],
   "source": [
    "#BoW\n",
    "count_vect = CountVectorizer() #in scikit-learn\n",
    "final_counts_train = count_vect.fit_transform(X_train)\n",
    "train_voc = count_vect.vocabulary_\n",
    "print(\"the type of count vectorizer \",type(final_counts_train))\n",
    "print(\"the shape of out text BOW vectorizer \",final_counts_train.get_shape())\n",
    "print(\"the number of unique words \", final_counts_train.get_shape()[1])"
   ]
  },
  {
   "cell_type": "markdown",
   "metadata": {
    "colab_type": "text",
    "id": "P7-QC3xgYTZC"
   },
   "source": [
    "# **Applying Naive Bayes**"
   ]
  },
  {
   "cell_type": "code",
   "execution_count": 22,
   "metadata": {
    "colab": {
     "base_uri": "https://localhost:8080/",
     "height": 330
    },
    "colab_type": "code",
    "id": "fhhKL4xvYgMR",
    "outputId": "51a9e3b0-4b38-4987-de1f-ca0b8cd9d14d"
   },
   "outputs": [
    {
     "name": "stdout",
     "output_type": "stream",
     "text": [
      "\n",
      "The ROC-AUC score of the Multiclassifier Naive Bayes is 50.257094% \n",
      "\n",
      "The accuracy of the Multiclassifier Naive Bayes is 81.062500% \n",
      "\n",
      "The precision of the Multiclassifier Naive Bayes is 82.625978% \n",
      "\n",
      "The recall of the Multiclassifier Naive Bayes is 97.577226% \n",
      "\n",
      "The f1-score of the Multiclassifier Naive Bayes is 89.481358% \n",
      "\n",
      "The TPR from the confusion matrix is 97.577226%\n",
      "\n",
      "The FPR from the confusion matrix is 97.063037%\n",
      "\n",
      "The TNR from the confusion matrix is 2.936963%\n",
      "\n",
      "The FNR from the confusion matrix is 2.422774%\n"
     ]
    }
   ],
   "source": [
    "# 1. Applying Naive Bayes\n",
    "\n",
    "from sklearn.naive_bayes import MultinomialNB\n",
    "\n",
    "clf = MultinomialNB()\n",
    "clf.fit(final_counts_train, y_train)\n",
    "\n",
    "count_vect1 = CountVectorizer(vocabulary = train_voc)\n",
    "final_counts_test = count_vect1.fit_transform(X_test)\n",
    "\n",
    "pred = clf.predict(final_counts_test) \n",
    "\n",
    "acc = accuracy_score(y_test, pred) * 100\n",
    "precision = precision_score(y_test,pred) *100\n",
    "recall = recall_score(y_test,pred) *100\n",
    "f1 = f1_score(y_test,pred) * 100\n",
    "confusion = confusion_matrix(y_test, pred)\n",
    "TPR = confusion[1][1]/(confusion[1][0]+confusion[1][1])*100\n",
    "FPR = confusion[0][1]/(confusion[0][0]+confusion[0][1])*100\n",
    "TNR = confusion[0][0]/(confusion[0][0]+confusion[0][1])*100\n",
    "FNR = confusion[1][0]/(confusion[1][0]+confusion[1][1])*100\n",
    "\n",
    "roc = roc_auc_score(y_test, pred) *100\n",
    "\n",
    "print('\\nThe ROC-AUC score of the Multiclassifier Naive Bayes is %f%% ' % (roc))\n",
    "print('\\nThe accuracy of the Multiclassifier Naive Bayes is %f%% ' % (acc))\n",
    "print('\\nThe precision of the Multiclassifier Naive Bayes is %f%% ' % (precision))\n",
    "print('\\nThe recall of the Multiclassifier Naive Bayes is %f%% ' % (recall))\n",
    "print('\\nThe f1-score of the Multiclassifier Naive Bayes is %f%% ' % (f1))\n",
    "print('\\nThe TPR from the confusion matrix is %f%%' % (TPR ))\n",
    "print('\\nThe FPR from the confusion matrix is %f%%' % (FPR )) \n",
    "print('\\nThe TNR from the confusion matrix is %f%%' % (TNR ))\n",
    "print('\\nThe FNR from the confusion matrix is %f%%' % (FNR ))\n"
   ]
  },
  {
   "cell_type": "code",
   "execution_count": null,
   "metadata": {
    "colab": {
     "base_uri": "https://localhost:8080/",
     "height": 352
    },
    "colab_type": "code",
    "id": "dDum4GWTBjXU",
    "outputId": "ae879468-90a9-47d1-ecb2-5870c782cafb"
   },
   "outputs": [],
   "source": []
  },
  {
   "cell_type": "code",
   "execution_count": null,
   "metadata": {
    "colab": {},
    "colab_type": "code",
    "id": "qnoCha0z9xG0"
   },
   "outputs": [],
   "source": []
  },
  {
   "cell_type": "code",
   "execution_count": 23,
   "metadata": {
    "colab": {
     "base_uri": "https://localhost:8080/",
     "height": 86
    },
    "colab_type": "code",
    "id": "bUh7XGZhnxVC",
    "outputId": "b9304868-746b-4ffe-a637-80f3b3bd9737"
   },
   "outputs": [
    {
     "name": "stderr",
     "output_type": "stream",
     "text": [
      "100%|██████████| 7/7 [00:01<00:00,  3.97it/s]"
     ]
    },
    {
     "name": "stdout",
     "output_type": "stream",
     "text": [
      "\n",
      "The best value of alpha is 10.\n",
      "\n",
      "The ROC-AUC score of the Multiclassifier Naive Bayes with alpha=10 is 50.063382% \n"
     ]
    },
    {
     "name": "stderr",
     "output_type": "stream",
     "text": [
      "\n"
     ]
    }
   ],
   "source": [
    "# 2. Applying 5-fold corss validation to find best alpha\n",
    "\n",
    "X_tr = final_counts_train\n",
    "y_tr = y_train\n",
    "\n",
    "\n",
    "alpha_list =   [0.00001, 0.0001, 0.001, 0.01, 0.1, 1, 10] \n",
    "cv_scores = []\n",
    "for alp in tqdm(alpha_list):\n",
    "  clf = MultinomialNB(alpha = alp)\n",
    "  scores = cross_val_score(clf, X_tr, y_tr, cv=5, scoring='roc_auc')\n",
    "  cv_scores.append(scores.mean())\n",
    "\n",
    "best_alpha = alpha_list[cv_scores.index(max(cv_scores))]\n",
    "train_error = round((100-max(cv_scores)*100),4)\n",
    "print('\\nThe best value of alpha is %d.' % best_alpha)\n",
    "\n",
    "clf = MultinomialNB(alpha = best_alpha)\n",
    "clf.fit(X_tr, y_tr)\n",
    "\n",
    "pred = clf.predict(final_counts_test)\n",
    "\n",
    "roc = roc_auc_score(y_test, pred) *100\n",
    "confusion1 = confusion_matrix(y_test,pred)\n",
    "test_error = round((100-roc),4)\n",
    "print('\\nThe ROC-AUC score of the Multiclassifier Naive Bayes with alpha=%d is %f%% ' % (best_alpha,roc))\n",
    "\n",
    "x.add_row([\"BoW - Naive Bayes \", best_alpha, train_error, test_error])"
   ]
  },
  {
   "cell_type": "code",
   "execution_count": 24,
   "metadata": {},
   "outputs": [
    {
     "name": "stdout",
     "output_type": "stream",
     "text": [
      "\n",
      "Confusion Matrix\n",
      "[[    7  4181]\n",
      " [    8 19804]]\n",
      "Confusion matrix heatmap\n"
     ]
    },
    {
     "data": {
      "image/png": "[encoded data removed]",
      "text/plain": [
       "<Figure size 432x288 with 2 Axes>"
      ]
     },
     "metadata": {
      "needs_background": "light"
     },
     "output_type": "display_data"
    }
   ],
   "source": [
    "print('\\nConfusion Matrix')\n",
    "print(confusion1)\n",
    "import seaborn as sns\n",
    "print('Confusion matrix heatmap')\n",
    "ax = sns.heatmap(confusion1, annot=True, fmt=\"d\") "
   ]
  },
  {
   "cell_type": "code",
   "execution_count": 25,
   "metadata": {
    "colab": {
     "base_uri": "https://localhost:8080/",
     "height": 104
    },
    "colab_type": "code",
    "id": "tUSlugY4jbDn",
    "outputId": "70155c31-102d-4e76-99c8-270ae3bbd374"
   },
   "outputs": [
    {
     "name": "stdout",
     "output_type": "stream",
     "text": [
      "Top 10 words/features with high probability in negative reviews:\n",
      "Top 10 words/features with high probability in negative reviews:\n",
      "['like', 'tast', 'flavor', 'good', 'one', 'love', 'product', 'use', 'great', 'tri']\n",
      "\n",
      "Top 10 words/features with high probability in positive reviews:\n",
      "['like', 'tast', 'flavor', 'good', 'use', 'one', 'product', 'love', 'great', 'tri']\n"
     ]
    }
   ],
   "source": [
    "# 3. Finding the top feprint(sorted0)print(sorted0)atures/words with high probability of occurance for both class of reviews(future selection)\n",
    "\n",
    "words_list=count_vect1.get_feature_names()\n",
    "d=clf.feature_log_prob_\n",
    "top_neg_words = [words_list[i] for i in [list(d[0]).index(i) for i in (sorted(d[0],reverse=True))[:10]]]\n",
    "top_pos_words = [words_list[i] for i in [list(d[1]).index(i) for i in (sorted(d[1],reverse=True))[:10]]]\n",
    "print(\"Top 10 words/features with high probability in negative reviews:\")\n",
    "\n",
    "print(\"Top 10 words/features with high probability in negative reviews:\")\n",
    "print(top_neg_words)\n",
    "print(\"\\nTop 10 words/features with high probability in positive reviews:\")\n",
    "print(top_pos_words)"
   ]
  },
  {
   "cell_type": "markdown",
   "metadata": {
    "colab_type": "text",
    "id": "TObI_9vtWCBL"
   },
   "source": [
    "# TF-IDF"
   ]
  },
  {
   "cell_type": "code",
   "execution_count": 26,
   "metadata": {
    "colab": {},
    "colab_type": "code",
    "id": "aPhXvUxrC8yy"
   },
   "outputs": [],
   "source": [
    "X = final['CleanedText']\n",
    "y = new_labels\n",
    "X_train = X[:int((70/100)*X.shape[0])]\n",
    "y_train = y[:int((70/100)*y.shape[0])]\n",
    "\n",
    "X_test = X[X_train.shape[0]:]\n",
    "y_test = y[len(y_train):]"
   ]
  },
  {
   "cell_type": "code",
   "execution_count": 27,
   "metadata": {
    "colab": {
     "base_uri": "https://localhost:8080/",
     "height": 69
    },
    "colab_type": "code",
    "id": "y7jf4YGoWCBO",
    "outputId": "ced9ca4b-6463-4841-b664-0c3c0ae6477a"
   },
   "outputs": [
    {
     "name": "stdout",
     "output_type": "stream",
     "text": [
      "the type of count vectorizer  <class 'scipy.sparse.csr.csr_matrix'>\n",
      "the shape of out text TFIDF vectorizer  (56000, 838029)\n",
      "the number of unique words including both unigrams and bigrams  838029\n"
     ]
    }
   ],
   "source": [
    "tf_idf_vect = TfidfVectorizer(ngram_range=(1,2))\n",
    "final_tf_idf_train = tf_idf_vect.fit_transform(X_train)\n",
    "train_voc = tf_idf_vect.vocabulary_\n",
    "print(\"the type of count vectorizer \",type(final_tf_idf_train))\n",
    "print(\"the shape of out text TFIDF vectorizer \",final_tf_idf_train.get_shape())\n",
    "print(\"the number of unique words including both unigrams and bigrams \", final_tf_idf_train.get_shape()[1])"
   ]
  },
  {
   "cell_type": "code",
   "execution_count": 28,
   "metadata": {
    "colab": {
     "base_uri": "https://localhost:8080/",
     "height": 54
    },
    "colab_type": "code",
    "id": "QDkA13kKWCBV",
    "outputId": "0241f49a-390f-4d49-8b31-744a91ccd7e6"
   },
   "outputs": [
    {
     "name": "stdout",
     "output_type": "stream",
     "text": [
      "some sample features(unique words in the corpus) ['abc ive', 'abc kecap', 'abc news', 'abc six', 'abc sweet', 'abc veggi', 'abc wholesal', 'abd', 'abd alway', 'abd done']\n"
     ]
    }
   ],
   "source": [
    "features = tf_idf_vect.get_feature_names()\n",
    "print(\"some sample features(unique words in the corpus)\",features[100:110])"
   ]
  },
  {
   "cell_type": "code",
   "execution_count": 29,
   "metadata": {
    "colab": {},
    "colab_type": "code",
    "id": "p9Dj-Z-rWCBa"
   },
   "outputs": [],
   "source": [
    "# source: https://buhrmann.github.io/tfidf-analysis.html\n",
    "def top_tfidf_feats(row, features, top_n=25):\n",
    "    ''' Get top n tfidf values in row and return them with their corresponding feature names.'''\n",
    "    topn_ids = np.argsort(row)[::-1][:top_n]\n",
    "    top_feats = [(features[i], row[i]) for i in topn_ids]\n",
    "    df = pd.DataFrame(top_feats)\n",
    "    df.columns = ['feature', 'tfidf']\n",
    "    return df\n",
    "\n",
    "top_tfidf = top_tfidf_feats(final_tf_idf_train[1,:].toarray()[0],features,25)"
   ]
  },
  {
   "cell_type": "code",
   "execution_count": 30,
   "metadata": {
    "colab": {
     "base_uri": "https://localhost:8080/",
     "height": 834
    },
    "colab_type": "code",
    "id": "RRVPNOXDWCBf",
    "outputId": "9abdc230-fc25-40e6-ebf3-f857360f0ce2"
   },
   "outputs": [
    {
     "data": {
      "text/html": [
       "<div>\n",
       "<style scoped>\n",
       "    .dataframe tbody tr th:only-of-type {\n",
       "        vertical-align: middle;\n",
       "    }\n",
       "\n",
       "    .dataframe tbody tr th {\n",
       "        vertical-align: top;\n",
       "    }\n",
       "\n",
       "    .dataframe thead th {\n",
       "        text-align: right;\n",
       "    }\n",
       "</style>\n",
       "<table border=\"1\" class=\"dataframe\">\n",
       "  <thead>\n",
       "    <tr style=\"text-align: right;\">\n",
       "      <th></th>\n",
       "      <th>feature</th>\n",
       "      <th>tfidf</th>\n",
       "    </tr>\n",
       "  </thead>\n",
       "  <tbody>\n",
       "    <tr>\n",
       "      <th>0</th>\n",
       "      <td>fli</td>\n",
       "      <td>0.335088</td>\n",
       "    </tr>\n",
       "    <tr>\n",
       "      <th>1</th>\n",
       "      <td>day practic</td>\n",
       "      <td>0.174656</td>\n",
       "    </tr>\n",
       "    <tr>\n",
       "      <th>2</th>\n",
       "      <td>fli drive</td>\n",
       "      <td>0.174656</td>\n",
       "    </tr>\n",
       "    <tr>\n",
       "      <th>3</th>\n",
       "      <td>fli hour</td>\n",
       "      <td>0.174656</td>\n",
       "    </tr>\n",
       "    <tr>\n",
       "      <th>4</th>\n",
       "      <td>one surfac</td>\n",
       "      <td>0.174656</td>\n",
       "    </tr>\n",
       "    <tr>\n",
       "      <th>5</th>\n",
       "      <td>hour trap</td>\n",
       "      <td>0.174656</td>\n",
       "    </tr>\n",
       "    <tr>\n",
       "      <th>6</th>\n",
       "      <td>avoid touch</td>\n",
       "      <td>0.174656</td>\n",
       "    </tr>\n",
       "    <tr>\n",
       "      <th>7</th>\n",
       "      <td>crazi consid</td>\n",
       "      <td>0.174656</td>\n",
       "    </tr>\n",
       "    <tr>\n",
       "      <th>8</th>\n",
       "      <td>infest fruit</td>\n",
       "      <td>0.174656</td>\n",
       "    </tr>\n",
       "    <tr>\n",
       "      <th>9</th>\n",
       "      <td>solut fli</td>\n",
       "      <td>0.174656</td>\n",
       "    </tr>\n",
       "    <tr>\n",
       "      <th>10</th>\n",
       "      <td>apart infest</td>\n",
       "      <td>0.174656</td>\n",
       "    </tr>\n",
       "    <tr>\n",
       "      <th>11</th>\n",
       "      <td>bought apart</td>\n",
       "      <td>0.174656</td>\n",
       "    </tr>\n",
       "    <tr>\n",
       "      <th>12</th>\n",
       "      <td>fli within</td>\n",
       "      <td>0.174656</td>\n",
       "    </tr>\n",
       "    <tr>\n",
       "      <th>13</th>\n",
       "      <td>term solut</td>\n",
       "      <td>0.174656</td>\n",
       "    </tr>\n",
       "    <tr>\n",
       "      <th>14</th>\n",
       "      <td>surfac sticki</td>\n",
       "      <td>0.174656</td>\n",
       "    </tr>\n",
       "    <tr>\n",
       "      <th>15</th>\n",
       "      <td>practic gone</td>\n",
       "      <td>0.168356</td>\n",
       "    </tr>\n",
       "    <tr>\n",
       "      <th>16</th>\n",
       "      <td>trap mani</td>\n",
       "      <td>0.168356</td>\n",
       "    </tr>\n",
       "    <tr>\n",
       "      <th>17</th>\n",
       "      <td>sticki tri</td>\n",
       "      <td>0.163885</td>\n",
       "    </tr>\n",
       "    <tr>\n",
       "      <th>18</th>\n",
       "      <td>may long</td>\n",
       "      <td>0.163885</td>\n",
       "    </tr>\n",
       "    <tr>\n",
       "      <th>19</th>\n",
       "      <td>gone may</td>\n",
       "      <td>0.157585</td>\n",
       "    </tr>\n",
       "    <tr>\n",
       "      <th>20</th>\n",
       "      <td>mani fli</td>\n",
       "      <td>0.157585</td>\n",
       "    </tr>\n",
       "    <tr>\n",
       "      <th>21</th>\n",
       "      <td>fruit fli</td>\n",
       "      <td>0.155190</td>\n",
       "    </tr>\n",
       "    <tr>\n",
       "      <th>22</th>\n",
       "      <td>drive crazi</td>\n",
       "      <td>0.151284</td>\n",
       "    </tr>\n",
       "    <tr>\n",
       "      <th>23</th>\n",
       "      <td>infest</td>\n",
       "      <td>0.136044</td>\n",
       "    </tr>\n",
       "    <tr>\n",
       "      <th>24</th>\n",
       "      <td>consid buy</td>\n",
       "      <td>0.131573</td>\n",
       "    </tr>\n",
       "  </tbody>\n",
       "</table>\n",
       "</div>"
      ],
      "text/plain": [
       "          feature     tfidf\n",
       "0             fli  0.335088\n",
       "1     day practic  0.174656\n",
       "2       fli drive  0.174656\n",
       "3        fli hour  0.174656\n",
       "4      one surfac  0.174656\n",
       "5       hour trap  0.174656\n",
       "6     avoid touch  0.174656\n",
       "7    crazi consid  0.174656\n",
       "8    infest fruit  0.174656\n",
       "9       solut fli  0.174656\n",
       "10   apart infest  0.174656\n",
       "11   bought apart  0.174656\n",
       "12     fli within  0.174656\n",
       "13     term solut  0.174656\n",
       "14  surfac sticki  0.174656\n",
       "15   practic gone  0.168356\n",
       "16      trap mani  0.168356\n",
       "17     sticki tri  0.163885\n",
       "18       may long  0.163885\n",
       "19       gone may  0.157585\n",
       "20       mani fli  0.157585\n",
       "21      fruit fli  0.155190\n",
       "22    drive crazi  0.151284\n",
       "23         infest  0.136044\n",
       "24     consid buy  0.131573"
      ]
     },
     "execution_count": 30,
     "metadata": {},
     "output_type": "execute_result"
    }
   ],
   "source": [
    "top_tfidf"
   ]
  },
  {
   "cell_type": "code",
   "execution_count": null,
   "metadata": {
    "colab": {},
    "colab_type": "code",
    "id": "1C2drbqAWCBj"
   },
   "outputs": [],
   "source": []
  },
  {
   "cell_type": "markdown",
   "metadata": {
    "colab_type": "text",
    "id": "pfMb1UtgnK0V"
   },
   "source": [
    "### **Applying Naive Bayes**"
   ]
  },
  {
   "cell_type": "code",
   "execution_count": 31,
   "metadata": {
    "colab": {
     "base_uri": "https://localhost:8080/",
     "height": 416
    },
    "colab_type": "code",
    "id": "nCf2cbvPnSnb",
    "outputId": "2409b0e7-7b22-4153-fe62-45db88bc752e"
   },
   "outputs": [
    {
     "name": "stdout",
     "output_type": "stream",
     "text": [
      "the type of count vectorizer  <class 'scipy.sparse.csr.csr_matrix'>\n",
      "the shape of out text TFIDF vectorizer  (24000, 838029)\n",
      "the number of unique words including both unigrams and bigrams  838029\n",
      "\n",
      "The ROC-AUC score of the Multiclassifier Naive Bayes is 50.000000% \n",
      "\n",
      "The accuracy of the Multiclassifier Naive Bayes is 82.550000% \n",
      "\n",
      "The precision of the Multiclassifier Naive Bayes is 82.550000% \n",
      "\n",
      "The recall of the Multiclassifier Naive Bayes is 100.000000% \n",
      "\n",
      "The f1-score of the Multiclassifier Naive Bayes is 90.440975% \n",
      "\n",
      "The accuracy of the Multiclassifier Naive Bayes is 82.550000% \n",
      "\n",
      "The TPR from the confusion matrix is 100.000000%\n",
      "\n",
      "The FPR from the confusion matrix is 100.000000%\n",
      "\n",
      "The TNR from the confusion matrix is 0.000000%\n",
      "\n",
      "The FNR from the confusion matrix is 0.000000%\n"
     ]
    }
   ],
   "source": [
    "# 1. Applying Naive Bayes and calculation of metrics\n",
    "\n",
    "from sklearn.naive_bayes import MultinomialNB\n",
    "\n",
    "tf_idf_vect1 = TfidfVectorizer(ngram_range=(1,2),vocabulary = train_voc)\n",
    "final_tf_idf_test = tf_idf_vect1.fit_transform(X_test)\n",
    "print(\"the type of count vectorizer \",type(final_tf_idf_test))\n",
    "print(\"the shape of out text TFIDF vectorizer \",final_tf_idf_test.get_shape())\n",
    "print(\"the number of unique words including both unigrams and bigrams \", final_tf_idf_test.get_shape()[1])\n",
    "\n",
    "clf = MultinomialNB()\n",
    "clf.fit(final_tf_idf_train, y_train)\n",
    "\n",
    "pred = clf.predict(final_tf_idf_test)\n",
    "\n",
    "acc = accuracy_score(y_test, pred) * 100\n",
    "precision = precision_score(y_test,pred) *100\n",
    "recall = recall_score(y_test,pred) *100\n",
    "f1 = f1_score(y_test,pred) * 100\n",
    "confusion = confusion_matrix(y_test, pred)\n",
    "TPR = confusion[1][1]/(confusion[1][0]+confusion[1][1])*100\n",
    "FPR = confusion[0][1]/(confusion[0][0]+confusion[0][1])*100\n",
    "TNR = confusion[0][0]/(confusion[0][0]+confusion[0][1])*100\n",
    "FNR = confusion[1][0]/(confusion[1][0]+confusion[1][1])*100\n",
    "\n",
    "roc = roc_auc_score(y_test, pred) *100\n",
    "\n",
    "print('\\nThe ROC-AUC score of the Multiclassifier Naive Bayes is %f%% ' % (roc))\n",
    "print('\\nThe accuracy of the Multiclassifier Naive Bayes is %f%% ' % (acc))\n",
    "print('\\nThe precision of the Multiclassifier Naive Bayes is %f%% ' % (precision))\n",
    "print('\\nThe recall of the Multiclassifier Naive Bayes is %f%% ' % (recall))\n",
    "print('\\nThe f1-score of the Multiclassifier Naive Bayes is %f%% ' % (f1))\n",
    "print('\\nThe accuracy of the Multiclassifier Naive Bayes is %f%% ' % (acc))\n",
    "\n",
    "print('\\nThe TPR from the confusion matrix is %f%%' % (TPR ))\n",
    "print('\\nThe FPR from the confusion matrix is %f%%' % (FPR )) \n",
    "print('\\nThe TNR from the confusion matrix is %f%%' % (TNR ))\n",
    "print('\\nThe FNR from the confusion matrix is %f%%' % (FNR ))"
   ]
  },
  {
   "cell_type": "code",
   "execution_count": null,
   "metadata": {
    "colab": {
     "base_uri": "https://localhost:8080/",
     "height": 352
    },
    "colab_type": "code",
    "id": "zxRW2al5FUGw",
    "outputId": "b5347423-3e17-4063-81b7-7ba0cbc2ec77"
   },
   "outputs": [],
   "source": []
  },
  {
   "cell_type": "code",
   "execution_count": 32,
   "metadata": {
    "colab": {
     "base_uri": "https://localhost:8080/",
     "height": 86
    },
    "colab_type": "code",
    "id": "I3MNXVYG1aLD",
    "outputId": "fe804c32-3324-4cff-9878-c65762a1831f"
   },
   "outputs": [
    {
     "name": "stderr",
     "output_type": "stream",
     "text": [
      "100%|██████████| 7/7 [00:11<00:00,  1.68s/it]\n"
     ]
    },
    {
     "name": "stdout",
     "output_type": "stream",
     "text": [
      "\n",
      "The optimal value of alpha is 0.010000.\n",
      "\n",
      "The ROC-AUC score of the Multiclassifier Naive Bayes is 50.025230% \n"
     ]
    }
   ],
   "source": [
    "# 2. Applying k-fold corss validation to find best alpha\n",
    "\n",
    "\n",
    "\n",
    "alpha_list =   [0.00001, 0.0001, 0.001, 0.01, 0.1, 1, 10] \n",
    "cv_scores = []\n",
    "for alp in tqdm(alpha_list):\n",
    "  clf = MultinomialNB(alpha = alp)\n",
    "  scores = cross_val_score(clf, final_tf_idf_train, y_train, cv=5, scoring='roc_auc')\n",
    "  cv_scores.append(scores.mean())\n",
    "\n",
    "best_alpha = alpha_list[cv_scores.index(max(cv_scores))]\n",
    "print('\\nThe optimal value of alpha is %f.' % best_alpha)\n",
    "\n",
    "train_error = round(100-max(cv_scores)*100,4)\n",
    "clf = MultinomialNB(alpha = best_alpha)\n",
    "clf.fit(final_tf_idf_train, y_train)\n",
    "\n",
    "pred = clf.predict(final_tf_idf_test)\n",
    "\n",
    "roc = roc_auc_score(y_test, pred) *100\n",
    "confusion = confusion_matrix(y_test,pred)\n",
    "test_error = round(100-roc,4)\n",
    "print('\\nThe ROC-AUC score of the Multiclassifier Naive Bayes is %f%% ' % (roc))\n",
    "x.add_row([\"TF-IDF - Naive Bayes \", best_alpha, train_error, test_error])\n"
   ]
  },
  {
   "cell_type": "code",
   "execution_count": 34,
   "metadata": {},
   "outputs": [
    {
     "name": "stdout",
     "output_type": "stream",
     "text": [
      "\n",
      "Confusion Matrix\n",
      "[[   26  4162]\n",
      " [  113 19699]]\n",
      "Confusion matrix heatmap\n"
     ]
    },
    {
     "data": {
      "image/png": "[encoded data removed]",
      "text/plain": [
       "<Figure size 432x288 with 2 Axes>"
      ]
     },
     "metadata": {
      "needs_background": "light"
     },
     "output_type": "display_data"
    }
   ],
   "source": [
    "print('\\nConfusion Matrix')\n",
    "print(confusion)\n",
    "\n",
    "import seaborn as sns\n",
    "print('Confusion matrix heatmap')\n",
    "ax = sns.heatmap(confusion, annot=True, fmt=\"d\") "
   ]
  },
  {
   "cell_type": "code",
   "execution_count": 35,
   "metadata": {
    "colab": {
     "base_uri": "https://localhost:8080/",
     "height": 124
    },
    "colab_type": "code",
    "id": "40AGCq5S7usr",
    "outputId": "498ec428-9722-42d4-883b-7e9e676f732e"
   },
   "outputs": [
    {
     "name": "stdout",
     "output_type": "stream",
     "text": [
      "Top 10 words/features with high probability in negative reviews:\n",
      "['tast', 'like', 'love', 'good', 'great', 'coffe', 'tea', 'flavor', 'product', 'use']\n",
      "\n",
      "Top 10 words/features with high probability in positive reviews:\n",
      "['tast', 'like', 'tea', 'love', 'great', 'good', 'flavor', 'coffe', 'product', 'use']\n"
     ]
    }
   ],
   "source": [
    "# 3. Finding the top features/words with high probability of occurance for both class of reviews(future selection)\n",
    "\n",
    "words_list=tf_idf_vect.get_feature_names()\n",
    "d=clf.feature_log_prob_\n",
    "top_neg_words = [words_list[i] for i in [list(d[0]).index(i) for i in (sorted(d[0],reverse=True))[:10]]]\n",
    "top_pos_words = [words_list[i] for i in [list(d[1]).index(i) for i in (sorted(d[1],reverse=True))[:10]]]\n",
    "print(\"Top 10 words/features with high probability in negative reviews:\")\n",
    "print(top_neg_words)\n",
    "print(\"\\nTop 10 words/features with high probability in positive reviews:\")\n",
    "print(top_pos_words)\n"
   ]
  },
  {
   "cell_type": "markdown",
   "metadata": {
    "colab_type": "text",
    "id": "35tbThC0DgyT"
   },
   "source": [
    "# **OBSERVATION**"
   ]
  },
  {
   "cell_type": "code",
   "execution_count": 36,
   "metadata": {
    "colab": {
     "base_uri": "https://localhost:8080/",
     "height": 173
    },
    "colab_type": "code",
    "id": "jxBNeVFvDedo",
    "outputId": "7693360d-023b-41e7-e9b2-1b1595c192c9"
   },
   "outputs": [
    {
     "name": "stdout",
     "output_type": "stream",
     "text": [
      "+-----------------------+------------------------+---------------+--------------+\n",
      "|     Featurization     | Hyper parameter(alpha) | Train Error % | Test Error % |\n",
      "+-----------------------+------------------------+---------------+--------------+\n",
      "|   BoW - Naive Bayes   |           10           |    49.9897    |   49.9366    |\n",
      "| TF-IDF - Naive Bayes  |          0.01          |    49.4191    |   49.9748    |\n",
      "+-----------------------+------------------------+---------------+--------------+\n"
     ]
    }
   ],
   "source": [
    "print(x)"
   ]
  },
  {
   "cell_type": "markdown",
   "metadata": {},
   "source": [
    "From the above table we can observe that in the given range of alpha values, Naive bayes for BoW performed best with alpha 10 and for TF-IDF alpha best value is 0.01. Both featurizations train error and test errors are almost similar. We have used used roc_auc score as metric as this dataset is quite imbalanced with more number of positive points. We have also listed top 10 words(most found) for both positive and negative class.\n",
    "Alpha value is found out through 5 fold cross validation. Total number of datapoints used are 80k."
   ]
  }
 ],
 "metadata": {
  "colab": {
   "collapsed_sections": [],
   "name": "2 Naive Bayes on Amazon fine food reviews.ipynb",
   "provenance": [],
   "version": "0.3.2"
  },
  "kernelspec": {
   "display_name": "Python 3",
   "language": "python",
   "name": "python3"
  },
  "language_info": {
   "codemirror_mode": {
    "name": "ipython",
    "version": 2
   },
   "file_extension": ".py",
   "mimetype": "text/x-python",
   "name": "python",
   "nbconvert_exporter": "python",
   "pygments_lexer": "ipython2",
   "version": "2.7.14"
  }
 },
 "nbformat": 4,
 "nbformat_minor": 1
}
