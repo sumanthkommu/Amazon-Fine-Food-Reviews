{
 "cells": [
  {
   "cell_type": "markdown",
   "metadata": {
    "colab_type": "text",
    "id": "qGHkrQVYWB--"
   },
   "source": [
    "# Amazon Fine Food Reviews Analysis - KNN Application\n",
    "\n",
    "\n",
    "Data Source: https://www.kaggle.com/snap/amazon-fine-food-reviews\n",
    "\n",
    "The Amazon Fine Food Reviews dataset consists of reviews of fine foods from Amazon.<br>\n",
    "\n",
    "Number of reviews: 568,454<br>\n",
    "Number of users: 256,059<br>\n",
    "Number of products: 74,258<br>\n",
    "Timespan: Oct 1999 - Oct 2012<br>\n",
    "Number of Attributes/Columns in data: 10 \n",
    "\n",
    "Attribute Information:\n",
    "\n",
    "1. Id\n",
    "2. ProductId - unique identifier for the product\n",
    "3. UserId - unqiue identifier for the user\n",
    "4. ProfileName\n",
    "5. HelpfulnessNumerator - number of users who found the review helpful\n",
    "6. HelpfulnessDenominator - number of users who indicated whether they found the review helpful or not\n",
    "7. Score - rating between 1 and 5\n",
    "8. Time - timestamp for the review\n",
    "9. Summary - brief summary of the review\n",
    "10. Text - text of the review\n",
    "\n",
    "\n",
    "#### Objective:\n",
    "Given a review, determine whether the review is positive (Rating of 4 or 5) or negative (rating of 1 or 2).\n",
    "\n",
    "<br>\n",
    "[Q] How to determine if a review is positive or negative?<br>\n",
    "<br> \n",
    "[Ans] We could use the Score/Rating. A rating of 4 or 5 could be cosnidered a positive review. A review of 1 or 2 could be considered negative. A review of 3 is nuetral and ignored. This is an approximate and proxy way of determining the polarity (positivity/negativity) of a review.\n",
    "\n",
    "\n"
   ]
  },
  {
   "cell_type": "markdown",
   "metadata": {
    "colab_type": "text",
    "id": "N1bZ4-NQWB_A"
   },
   "source": [
    "## [7.1] Loading the data\n",
    "\n",
    "The dataset is available in two forms\n",
    "1. .csv file\n",
    "2. SQLite Database\n",
    "\n",
    "In order to load the data, We have used the SQLITE dataset as it easier to query the data and visualise the data efficiently.\n",
    "<br> \n",
    "\n",
    "Here as we only want to get the global sentiment of the recommendations (positive or negative), we will purposefully ignore all Scores equal to 3. If the score id above 3, then the recommendation wil be set to \"positive\". Otherwise, it will be set to \"negative\"."
   ]
  },
  {
   "cell_type": "markdown",
   "metadata": {
    "colab_type": "text",
    "id": "NYbg5v40aS68"
   },
   "source": []
  },
  {
   "cell_type": "code",
   "execution_count": 1,
   "metadata": {
    "colab": {},
    "colab_type": "code",
    "id": "QlNulBDSWB_C"
   },
   "outputs": [],
   "source": [
    "%matplotlib inline\n",
    "import warnings\n",
    "warnings.filterwarnings(\"ignore\")\n",
    "\n",
    "import sqlite3\n",
    "import pandas as pd\n",
    "import numpy as np\n",
    "import nltk\n",
    "import string\n",
    "import matplotlib.pyplot as plt\n",
    "import seaborn as sns\n",
    "from sklearn.feature_extraction.text import TfidfTransformer\n",
    "from sklearn.feature_extraction.text import TfidfVectorizer\n",
    "\n",
    "from sklearn.feature_extraction.text import CountVectorizer\n",
    "from sklearn.metrics import confusion_matrix\n",
    "from sklearn import metrics\n",
    "from sklearn.metrics import roc_curve, auc\n",
    "from nltk.stem.porter import PorterStemmer\n",
    "\n",
    "import re\n",
    "# Tutorial about Python regular expressions: https://pymotw.com/2/re/\n",
    "import string\n",
    "from nltk.corpus import stopwords\n",
    "from nltk.stem import PorterStemmer\n",
    "from nltk.stem.wordnet import WordNetLemmatizer\n",
    "\n",
    "from gensim.models import Word2Vec\n",
    "from gensim.models import KeyedVectors\n",
    "import pickle\n",
    "\n",
    "from tqdm import tqdm\n",
    "import os"
   ]
  },
  {
   "cell_type": "code",
   "execution_count": 2,
   "metadata": {
    "colab": {},
    "colab_type": "code",
    "id": "1kqVc-Ct-Rvp"
   },
   "outputs": [],
   "source": [
    "from prettytable import PrettyTable\n",
    "x = PrettyTable()\n",
    "x.field_names = [\"Featurization\", \"Hyper parameter(K)\", \"Train Error %\", \"Test Error %\"]"
   ]
  },
  {
   "cell_type": "code",
   "execution_count": 3,
   "metadata": {
    "colab": {
     "base_uri": "https://localhost:8080/",
     "height": 397
    },
    "colab_type": "code",
    "id": "iWrc9qu6WB_H",
    "outputId": "d3f3049d-f28d-486b-a062-ccee7aa4e72c"
   },
   "outputs": [
    {
     "name": "stdout",
     "output_type": "stream",
     "text": [
      "Number of data points in our data (525814, 10)\n"
     ]
    },
    {
     "data": {
      "text/html": [
       "<div>\n",
       "<style scoped>\n",
       "    .dataframe tbody tr th:only-of-type {\n",
       "        vertical-align: middle;\n",
       "    }\n",
       "\n",
       "    .dataframe tbody tr th {\n",
       "        vertical-align: top;\n",
       "    }\n",
       "\n",
       "    .dataframe thead th {\n",
       "        text-align: right;\n",
       "    }\n",
       "</style>\n",
       "<table border=\"1\" class=\"dataframe\">\n",
       "  <thead>\n",
       "    <tr style=\"text-align: right;\">\n",
       "      <th></th>\n",
       "      <th>Id</th>\n",
       "      <th>ProductId</th>\n",
       "      <th>UserId</th>\n",
       "      <th>ProfileName</th>\n",
       "      <th>HelpfulnessNumerator</th>\n",
       "      <th>HelpfulnessDenominator</th>\n",
       "      <th>Score</th>\n",
       "      <th>Time</th>\n",
       "      <th>Summary</th>\n",
       "      <th>Text</th>\n",
       "    </tr>\n",
       "  </thead>\n",
       "  <tbody>\n",
       "    <tr>\n",
       "      <th>0</th>\n",
       "      <td>1</td>\n",
       "      <td>B001E4KFG0</td>\n",
       "      <td>A3SGXH7AUHU8GW</td>\n",
       "      <td>delmartian</td>\n",
       "      <td>1</td>\n",
       "      <td>1</td>\n",
       "      <td>1</td>\n",
       "      <td>1303862400</td>\n",
       "      <td>Good Quality Dog Food</td>\n",
       "      <td>I have bought several of the Vitality canned d...</td>\n",
       "    </tr>\n",
       "    <tr>\n",
       "      <th>1</th>\n",
       "      <td>2</td>\n",
       "      <td>B00813GRG4</td>\n",
       "      <td>A1D87F6ZCVE5NK</td>\n",
       "      <td>dll pa</td>\n",
       "      <td>0</td>\n",
       "      <td>0</td>\n",
       "      <td>0</td>\n",
       "      <td>1346976000</td>\n",
       "      <td>Not as Advertised</td>\n",
       "      <td>Product arrived labeled as Jumbo Salted Peanut...</td>\n",
       "    </tr>\n",
       "    <tr>\n",
       "      <th>2</th>\n",
       "      <td>3</td>\n",
       "      <td>B000LQOCH0</td>\n",
       "      <td>ABXLMWJIXXAIN</td>\n",
       "      <td>Natalia Corres \"Natalia Corres\"</td>\n",
       "      <td>1</td>\n",
       "      <td>1</td>\n",
       "      <td>1</td>\n",
       "      <td>1219017600</td>\n",
       "      <td>\"Delight\" says it all</td>\n",
       "      <td>This is a confection that has been around a fe...</td>\n",
       "    </tr>\n",
       "  </tbody>\n",
       "</table>\n",
       "</div>"
      ],
      "text/plain": [
       "   Id   ProductId          UserId                      ProfileName  \\\n",
       "0   1  B001E4KFG0  A3SGXH7AUHU8GW                       delmartian   \n",
       "1   2  B00813GRG4  A1D87F6ZCVE5NK                           dll pa   \n",
       "2   3  B000LQOCH0   ABXLMWJIXXAIN  Natalia Corres \"Natalia Corres\"   \n",
       "\n",
       "   HelpfulnessNumerator  HelpfulnessDenominator  Score        Time  \\\n",
       "0                     1                       1      1  1303862400   \n",
       "1                     0                       0      0  1346976000   \n",
       "2                     1                       1      1  1219017600   \n",
       "\n",
       "                 Summary                                               Text  \n",
       "0  Good Quality Dog Food  I have bought several of the Vitality canned d...  \n",
       "1      Not as Advertised  Product arrived labeled as Jumbo Salted Peanut...  \n",
       "2  \"Delight\" says it all  This is a confection that has been around a fe...  "
      ]
     },
     "execution_count": 3,
     "metadata": {},
     "output_type": "execute_result"
    }
   ],
   "source": [
    "\n",
    "# using the SQLite Table to read data.\n",
    "con = sqlite3.connect('database.sqlite') \n",
    "#filtering only positive and negative reviews i.e. \n",
    "# not taking into consideration those reviews with Score=3\n",
    "filtered_data = pd.read_sql_query(\"\"\" SELECT * FROM Reviews WHERE Score != 3 \"\"\", con) \n",
    "\n",
    "\n",
    "# Give reviews with Score>3 a positive rating, and reviews with a score<3 a negative rating.\n",
    "def partition(x):\n",
    "    if x < 3:\n",
    "        return 0\n",
    "    return 1\n",
    "\n",
    "#changing reviews with score less than 3 to be positive and vice-versa\n",
    "actualScore = filtered_data['Score']\n",
    "positiveNegative = actualScore.map(partition) \n",
    "filtered_data['Score'] = positiveNegative\n",
    "print(\"Number of data points in our data\", filtered_data.shape)\n",
    "filtered_data.head(3)"
   ]
  },
  {
   "cell_type": "markdown",
   "metadata": {
    "colab_type": "text",
    "id": "BH9JJzAPWB_P"
   },
   "source": [
    "#  Exploratory Data Analysis\n",
    "\n",
    "## [7.1.2] Data Cleaning: Deduplication\n",
    "\n",
    "It is observed (as shown in the table below) that the reviews data had many duplicate entries. Hence it was necessary to remove duplicates in order to get unbiased results for the analysis of the data.  Following is an example:"
   ]
  },
  {
   "cell_type": "code",
   "execution_count": 4,
   "metadata": {
    "colab": {
     "base_uri": "https://localhost:8080/",
     "height": 544
    },
    "colab_type": "code",
    "id": "HR0vyEv7WB_Q",
    "outputId": "f648745c-5ddc-499d-c243-5682f23130f0",
    "scrolled": false
   },
   "outputs": [
    {
     "data": {
      "text/html": [
       "<div>\n",
       "<style scoped>\n",
       "    .dataframe tbody tr th:only-of-type {\n",
       "        vertical-align: middle;\n",
       "    }\n",
       "\n",
       "    .dataframe tbody tr th {\n",
       "        vertical-align: top;\n",
       "    }\n",
       "\n",
       "    .dataframe thead th {\n",
       "        text-align: right;\n",
       "    }\n",
       "</style>\n",
       "<table border=\"1\" class=\"dataframe\">\n",
       "  <thead>\n",
       "    <tr style=\"text-align: right;\">\n",
       "      <th></th>\n",
       "      <th>Id</th>\n",
       "      <th>ProductId</th>\n",
       "      <th>UserId</th>\n",
       "      <th>ProfileName</th>\n",
       "      <th>HelpfulnessNumerator</th>\n",
       "      <th>HelpfulnessDenominator</th>\n",
       "      <th>Score</th>\n",
       "      <th>Time</th>\n",
       "      <th>Summary</th>\n",
       "      <th>Text</th>\n",
       "    </tr>\n",
       "  </thead>\n",
       "  <tbody>\n",
       "    <tr>\n",
       "      <th>0</th>\n",
       "      <td>78445</td>\n",
       "      <td>B000HDL1RQ</td>\n",
       "      <td>AR5J8UI46CURR</td>\n",
       "      <td>Geetha Krishnan</td>\n",
       "      <td>2</td>\n",
       "      <td>2</td>\n",
       "      <td>5</td>\n",
       "      <td>1199577600</td>\n",
       "      <td>LOACKER QUADRATINI VANILLA WAFERS</td>\n",
       "      <td>DELICIOUS WAFERS. I FIND THAT EUROPEAN WAFERS ...</td>\n",
       "    </tr>\n",
       "    <tr>\n",
       "      <th>1</th>\n",
       "      <td>138317</td>\n",
       "      <td>B000HDOPYC</td>\n",
       "      <td>AR5J8UI46CURR</td>\n",
       "      <td>Geetha Krishnan</td>\n",
       "      <td>2</td>\n",
       "      <td>2</td>\n",
       "      <td>5</td>\n",
       "      <td>1199577600</td>\n",
       "      <td>LOACKER QUADRATINI VANILLA WAFERS</td>\n",
       "      <td>DELICIOUS WAFERS. I FIND THAT EUROPEAN WAFERS ...</td>\n",
       "    </tr>\n",
       "    <tr>\n",
       "      <th>2</th>\n",
       "      <td>138277</td>\n",
       "      <td>B000HDOPYM</td>\n",
       "      <td>AR5J8UI46CURR</td>\n",
       "      <td>Geetha Krishnan</td>\n",
       "      <td>2</td>\n",
       "      <td>2</td>\n",
       "      <td>5</td>\n",
       "      <td>1199577600</td>\n",
       "      <td>LOACKER QUADRATINI VANILLA WAFERS</td>\n",
       "      <td>DELICIOUS WAFERS. I FIND THAT EUROPEAN WAFERS ...</td>\n",
       "    </tr>\n",
       "    <tr>\n",
       "      <th>3</th>\n",
       "      <td>73791</td>\n",
       "      <td>B000HDOPZG</td>\n",
       "      <td>AR5J8UI46CURR</td>\n",
       "      <td>Geetha Krishnan</td>\n",
       "      <td>2</td>\n",
       "      <td>2</td>\n",
       "      <td>5</td>\n",
       "      <td>1199577600</td>\n",
       "      <td>LOACKER QUADRATINI VANILLA WAFERS</td>\n",
       "      <td>DELICIOUS WAFERS. I FIND THAT EUROPEAN WAFERS ...</td>\n",
       "    </tr>\n",
       "    <tr>\n",
       "      <th>4</th>\n",
       "      <td>155049</td>\n",
       "      <td>B000PAQ75C</td>\n",
       "      <td>AR5J8UI46CURR</td>\n",
       "      <td>Geetha Krishnan</td>\n",
       "      <td>2</td>\n",
       "      <td>2</td>\n",
       "      <td>5</td>\n",
       "      <td>1199577600</td>\n",
       "      <td>LOACKER QUADRATINI VANILLA WAFERS</td>\n",
       "      <td>DELICIOUS WAFERS. I FIND THAT EUROPEAN WAFERS ...</td>\n",
       "    </tr>\n",
       "  </tbody>\n",
       "</table>\n",
       "</div>"
      ],
      "text/plain": [
       "       Id   ProductId         UserId      ProfileName  HelpfulnessNumerator  \\\n",
       "0   78445  B000HDL1RQ  AR5J8UI46CURR  Geetha Krishnan                     2   \n",
       "1  138317  B000HDOPYC  AR5J8UI46CURR  Geetha Krishnan                     2   \n",
       "2  138277  B000HDOPYM  AR5J8UI46CURR  Geetha Krishnan                     2   \n",
       "3   73791  B000HDOPZG  AR5J8UI46CURR  Geetha Krishnan                     2   \n",
       "4  155049  B000PAQ75C  AR5J8UI46CURR  Geetha Krishnan                     2   \n",
       "\n",
       "   HelpfulnessDenominator  Score        Time  \\\n",
       "0                       2      5  1199577600   \n",
       "1                       2      5  1199577600   \n",
       "2                       2      5  1199577600   \n",
       "3                       2      5  1199577600   \n",
       "4                       2      5  1199577600   \n",
       "\n",
       "                             Summary  \\\n",
       "0  LOACKER QUADRATINI VANILLA WAFERS   \n",
       "1  LOACKER QUADRATINI VANILLA WAFERS   \n",
       "2  LOACKER QUADRATINI VANILLA WAFERS   \n",
       "3  LOACKER QUADRATINI VANILLA WAFERS   \n",
       "4  LOACKER QUADRATINI VANILLA WAFERS   \n",
       "\n",
       "                                                Text  \n",
       "0  DELICIOUS WAFERS. I FIND THAT EUROPEAN WAFERS ...  \n",
       "1  DELICIOUS WAFERS. I FIND THAT EUROPEAN WAFERS ...  \n",
       "2  DELICIOUS WAFERS. I FIND THAT EUROPEAN WAFERS ...  \n",
       "3  DELICIOUS WAFERS. I FIND THAT EUROPEAN WAFERS ...  \n",
       "4  DELICIOUS WAFERS. I FIND THAT EUROPEAN WAFERS ...  "
      ]
     },
     "execution_count": 4,
     "metadata": {},
     "output_type": "execute_result"
    }
   ],
   "source": [
    "display= pd.read_sql_query(\"\"\"\n",
    "SELECT *\n",
    "FROM Reviews\n",
    "WHERE Score != 3 AND UserId=\"AR5J8UI46CURR\"\n",
    "ORDER BY ProductID\n",
    "\"\"\", con)\n",
    "display.head()"
   ]
  },
  {
   "cell_type": "markdown",
   "metadata": {
    "colab_type": "text",
    "id": "TUmKYpOhWB_V"
   },
   "source": [
    "As can be seen above the same user has multiple reviews of the with the same values for HelpfulnessNumerator, HelpfulnessDenominator, Score, Time, Summary and Text  and on doing analysis it was found that <br>\n",
    "<br> \n",
    "ProductId=B000HDOPZG was Loacker Quadratini Vanilla Wafer Cookies, 8.82-Ounce Packages (Pack of 8)<br>\n",
    "<br> \n",
    "ProductId=B000HDL1RQ was Loacker Quadratini Lemon Wafer Cookies, 8.82-Ounce Packages (Pack of 8) and so on<br>\n",
    "\n",
    "It was inferred after analysis that reviews with same parameters other than ProductId belonged to the same product just having different flavour or quantity. Hence in order to reduce redundancy it was decided to eliminate the rows having same parameters.<br>\n",
    "\n",
    "The method used for the same was that we first sort the data according to ProductId and then just keep the first similar product review and delelte the others. for eg. in the above just the review for ProductId=B000HDL1RQ remains. This method ensures that there is only one representative for each product and deduplication without sorting would lead to possibility of different representatives still existing for the same product."
   ]
  },
  {
   "cell_type": "code",
   "execution_count": 5,
   "metadata": {
    "colab": {},
    "colab_type": "code",
    "id": "9oypvH9qWB_X"
   },
   "outputs": [],
   "source": [
    "#Sorting data according to ProductId in ascending order\n",
    "sorted_data=filtered_data.sort_values('ProductId', axis=0, ascending=True, inplace=False, kind='quicksort', na_position='last')"
   ]
  },
  {
   "cell_type": "code",
   "execution_count": 6,
   "metadata": {
    "colab": {
     "base_uri": "https://localhost:8080/",
     "height": 34
    },
    "colab_type": "code",
    "id": "PPjGUcEhWB_b",
    "outputId": "9462835b-1f20-403e-d6c8-24b4cccd59d7"
   },
   "outputs": [
    {
     "data": {
      "text/plain": [
       "(364173, 10)"
      ]
     },
     "execution_count": 6,
     "metadata": {},
     "output_type": "execute_result"
    }
   ],
   "source": [
    "#Deduplication of entries\n",
    "final=sorted_data.drop_duplicates(subset={\"UserId\",\"ProfileName\",\"Time\",\"Text\"}, keep='first', inplace=False)\n",
    "final.shape"
   ]
  },
  {
   "cell_type": "code",
   "execution_count": 7,
   "metadata": {
    "colab": {
     "base_uri": "https://localhost:8080/",
     "height": 34
    },
    "colab_type": "code",
    "id": "LJZkR811WB_g",
    "outputId": "efa1bb43-63de-466e-ee47-b25754958d34"
   },
   "outputs": [
    {
     "data": {
      "text/plain": [
       "69.25890143662969"
      ]
     },
     "execution_count": 7,
     "metadata": {},
     "output_type": "execute_result"
    }
   ],
   "source": [
    "#Checking to see how much % of data still remains\n",
    "(final['Id'].size*1.0)/(filtered_data['Id'].size*1.0)*100"
   ]
  },
  {
   "cell_type": "markdown",
   "metadata": {
    "colab_type": "text",
    "id": "A9NmIA0wWB_m"
   },
   "source": [
    "<b>Observation:-</b> It was also seen that in two rows given below the value of HelpfulnessNumerator is greater than HelpfulnessDenominator which is not practically possible hence these two rows too are removed from calcualtions"
   ]
  },
  {
   "cell_type": "code",
   "execution_count": 8,
   "metadata": {
    "colab": {
     "base_uri": "https://localhost:8080/",
     "height": 230
    },
    "colab_type": "code",
    "id": "T6S3YfHwWB_n",
    "outputId": "194487ed-64ed-4aa1-a75e-933d77f187da"
   },
   "outputs": [
    {
     "data": {
      "text/html": [
       "<div>\n",
       "<style scoped>\n",
       "    .dataframe tbody tr th:only-of-type {\n",
       "        vertical-align: middle;\n",
       "    }\n",
       "\n",
       "    .dataframe tbody tr th {\n",
       "        vertical-align: top;\n",
       "    }\n",
       "\n",
       "    .dataframe thead th {\n",
       "        text-align: right;\n",
       "    }\n",
       "</style>\n",
       "<table border=\"1\" class=\"dataframe\">\n",
       "  <thead>\n",
       "    <tr style=\"text-align: right;\">\n",
       "      <th></th>\n",
       "      <th>Id</th>\n",
       "      <th>ProductId</th>\n",
       "      <th>UserId</th>\n",
       "      <th>ProfileName</th>\n",
       "      <th>HelpfulnessNumerator</th>\n",
       "      <th>HelpfulnessDenominator</th>\n",
       "      <th>Score</th>\n",
       "      <th>Time</th>\n",
       "      <th>Summary</th>\n",
       "      <th>Text</th>\n",
       "    </tr>\n",
       "  </thead>\n",
       "  <tbody>\n",
       "    <tr>\n",
       "      <th>0</th>\n",
       "      <td>64422</td>\n",
       "      <td>B000MIDROQ</td>\n",
       "      <td>A161DK06JJMCYF</td>\n",
       "      <td>J. E. Stephens \"Jeanne\"</td>\n",
       "      <td>3</td>\n",
       "      <td>1</td>\n",
       "      <td>5</td>\n",
       "      <td>1224892800</td>\n",
       "      <td>Bought This for My Son at College</td>\n",
       "      <td>My son loves spaghetti so I didn't hesitate or...</td>\n",
       "    </tr>\n",
       "    <tr>\n",
       "      <th>1</th>\n",
       "      <td>44737</td>\n",
       "      <td>B001EQ55RW</td>\n",
       "      <td>A2V0I904FH7ABY</td>\n",
       "      <td>Ram</td>\n",
       "      <td>3</td>\n",
       "      <td>2</td>\n",
       "      <td>4</td>\n",
       "      <td>1212883200</td>\n",
       "      <td>Pure cocoa taste with crunchy almonds inside</td>\n",
       "      <td>It was almost a 'love at first bite' - the per...</td>\n",
       "    </tr>\n",
       "  </tbody>\n",
       "</table>\n",
       "</div>"
      ],
      "text/plain": [
       "      Id   ProductId          UserId              ProfileName  \\\n",
       "0  64422  B000MIDROQ  A161DK06JJMCYF  J. E. Stephens \"Jeanne\"   \n",
       "1  44737  B001EQ55RW  A2V0I904FH7ABY                      Ram   \n",
       "\n",
       "   HelpfulnessNumerator  HelpfulnessDenominator  Score        Time  \\\n",
       "0                     3                       1      5  1224892800   \n",
       "1                     3                       2      4  1212883200   \n",
       "\n",
       "                                        Summary  \\\n",
       "0             Bought This for My Son at College   \n",
       "1  Pure cocoa taste with crunchy almonds inside   \n",
       "\n",
       "                                                Text  \n",
       "0  My son loves spaghetti so I didn't hesitate or...  \n",
       "1  It was almost a 'love at first bite' - the per...  "
      ]
     },
     "execution_count": 8,
     "metadata": {},
     "output_type": "execute_result"
    }
   ],
   "source": [
    "display= pd.read_sql_query(\"\"\"\n",
    "SELECT *\n",
    "FROM Reviews\n",
    "WHERE Score != 3 AND Id=44737 OR Id=64422\n",
    "ORDER BY ProductID\n",
    "\"\"\", con)\n",
    "\n",
    "display.head()"
   ]
  },
  {
   "cell_type": "code",
   "execution_count": 9,
   "metadata": {
    "colab": {},
    "colab_type": "code",
    "id": "bL-uiTKpWB_t"
   },
   "outputs": [],
   "source": [
    "final=final[final.HelpfulnessNumerator<=final.HelpfulnessDenominator]"
   ]
  },
  {
   "cell_type": "code",
   "execution_count": 10,
   "metadata": {
    "colab": {
     "base_uri": "https://localhost:8080/",
     "height": 85
    },
    "colab_type": "code",
    "id": "jixOFh0BWB_w",
    "outputId": "eb5a7799-024e-4988-ee41-ff8af7fb9e09"
   },
   "outputs": [
    {
     "name": "stdout",
     "output_type": "stream",
     "text": [
      "(364171, 10)\n"
     ]
    },
    {
     "data": {
      "text/plain": [
       "1    307061\n",
       "0     57110\n",
       "Name: Score, dtype: int64"
      ]
     },
     "execution_count": 10,
     "metadata": {},
     "output_type": "execute_result"
    }
   ],
   "source": [
    "#Before starting the next phase of preprocessing lets see the number of entries left\n",
    "print(final.shape)\n",
    "\n",
    "#How many positive and negative reviews are present in our dataset?\n",
    "final['Score'].value_counts()"
   ]
  },
  {
   "cell_type": "code",
   "execution_count": 11,
   "metadata": {
    "colab": {},
    "colab_type": "code",
    "id": "Ig-J9L1zWB_2"
   },
   "outputs": [],
   "source": [
    "#Deduplication of entries\n",
    "#final=sorted_data.drop_duplicates(subset={\"Score\"}, keep='first', inplace=False)\n",
    "#final.shape\n",
    "\n",
    "final_pos_reviews=final.loc[final['Score'] == 1]\n",
    "final_neg_reviews=final.loc[final['Score']== 0]"
   ]
  },
  {
   "cell_type": "code",
   "execution_count": 12,
   "metadata": {
    "colab": {},
    "colab_type": "code",
    "id": "V5NITJWvWB_7"
   },
   "outputs": [],
   "source": [
    "final_new=final.sample(n=80000)\n",
    "\n",
    "final=final.sort_values('ProductId', axis=0, ascending=True, inplace=False, kind='quicksort', na_position='last')\n",
    "\n",
    "labels = final_new['Score']\n"
   ]
  },
  {
   "cell_type": "code",
   "execution_count": 13,
   "metadata": {
    "colab": {
     "base_uri": "https://localhost:8080/",
     "height": 71
    },
    "colab_type": "code",
    "id": "EHGXI3yzWB__",
    "outputId": "44e33631-6079-48c7-839d-a813d3c69549",
    "scrolled": false
   },
   "outputs": [],
   "source": [
    "from sklearn.model_selection import train_test_split\n",
    "from sklearn.neighbors import KNeighborsClassifier\n",
    "from sklearn.metrics import accuracy_score\n",
    "from sklearn.model_selection import cross_val_score\n",
    "from collections import Counter\n",
    "from sklearn.metrics import accuracy_score\n",
    "from sklearn.model_selection import cross_validate"
   ]
  },
  {
   "cell_type": "code",
   "execution_count": 14,
   "metadata": {
    "colab": {},
    "colab_type": "code",
    "id": "nK9qQdP_WCAF"
   },
   "outputs": [],
   "source": [
    "new_final=final_new.sort_values('Time')\n",
    "final=new_final\n",
    "new_labels=final['Score']"
   ]
  },
  {
   "cell_type": "markdown",
   "metadata": {
    "colab_type": "text",
    "id": "v6sWPp2wWCAK"
   },
   "source": [
    "## 7.2.3  Text Preprocessing: Stemming, stop-word removal and Lemmatization.\n",
    "\n",
    "Now that we have finished deduplication our data requires some preprocessing before we go on further with analysis and making the prediction model.\n",
    "\n",
    "Hence in the Preprocessing phase we do the following in the order below:-\n",
    "\n",
    "1. Begin by removing the html tags\n",
    "2. Remove any punctuations or limited set of special characters like , or . or # etc.\n",
    "3. Check if the word is made up of english letters and is not alpha-numeric\n",
    "4. Check to see if the length of the word is greater than 2 (as it was researched that there is no adjective in 2-letters)\n",
    "5. Convert the word to lowercase\n",
    "6. Remove Stopwords\n",
    "7. Finally Snowball Stemming the word (it was obsereved to be better than Porter Stemming)<br>\n",
    "\n",
    "After which we collect the words used to describe positive and negative reviews"
   ]
  },
  {
   "cell_type": "code",
   "execution_count": 15,
   "metadata": {
    "colab": {
     "base_uri": "https://localhost:8080/",
     "height": 71
    },
    "colab_type": "code",
    "id": "UgHdIvLiWCAM",
    "outputId": "3f13268d-6508-47fc-901a-2bef89c7e87c",
    "scrolled": true
   },
   "outputs": [
    {
     "name": "stdout",
     "output_type": "stream",
     "text": [
      "7\n",
      "When Two Couple (Geena Davis & Alec Baldwin) died in a car accident but they come back alive as Ghosts, they are Stuck for eternity inside thier house. Months later, a New York Family (Winona Ryder, Jeffery Jones & Catherine O` Hara) move to a Little Connecticut Farmhouse, changing the house aesthetically. The Ghostly Couple are forced to call a Out of Control Troublemaker named Beetlejuice (Played in a Over the Top Role by Micheal Keaton) to get the new Family out of thier home.<p>Directed by Tim Burton (Batman, Batman Returns, Ed Wood) made a entertaining delightful silly fantasy comedy with unique Visual Effects and a terrific music score by Danny Elfman. A Box Office Hit in the Summer of 1988. The film has Plenty of Energy, Style and Humor. Danny Elfman win an Oscar for his Unique Score. A Extremely likeable film for all ages. Grade:A-.\n"
     ]
    }
   ],
   "source": [
    "# find sentences containing HTML tags\n",
    "import re\n",
    "i=0;\n",
    "for sent in final['Text'].values:\n",
    "    if (len(re.findall('<.*?>', sent))):\n",
    "        print(i)\n",
    "        print(sent)\n",
    "        break;\n",
    "    i += 1;"
   ]
  },
  {
   "cell_type": "code",
   "execution_count": 16,
   "metadata": {
    "colab": {
     "base_uri": "https://localhost:8080/",
     "height": 68
    },
    "colab_type": "code",
    "id": "Gs3a1khfWCAX",
    "outputId": "f13c7b87-633d-485a-b457-13770c0d45d3"
   },
   "outputs": [
    {
     "name": "stdout",
     "output_type": "stream",
     "text": [
      "[nltk_data] Downloading package stopwords to\n",
      "[nltk_data]     /home/ksumanth01/nltk_data...\n",
      "[nltk_data]   Package stopwords is already up-to-date!\n"
     ]
    },
    {
     "data": {
      "text/plain": [
       "True"
      ]
     },
     "execution_count": 16,
     "metadata": {},
     "output_type": "execute_result"
    }
   ],
   "source": [
    "import nltk\n",
    "nltk.download('stopwords')"
   ]
  },
  {
   "cell_type": "code",
   "execution_count": 17,
   "metadata": {
    "colab": {
     "base_uri": "https://localhost:8080/",
     "height": 88
    },
    "colab_type": "code",
    "id": "_WVZTZFWWCAd",
    "outputId": "1a39628c-99b3-43fe-de0e-d4c3f319d736"
   },
   "outputs": [
    {
     "name": "stdout",
     "output_type": "stream",
     "text": [
      "{'she', 'there', 'once', 'o', 'themselves', 'weren', 'did', \"didn't\", 'some', 'couldn', \"you're\", 'its', 'if', 'nor', 'when', 'just', \"hadn't\", \"that'll\", 'itself', 'who', 'how', 'most', 'aren', 'being', 'your', \"you'll\", 'his', 'our', 'very', \"mustn't\", \"should've\", 'haven', \"won't\", 'own', 'i', 'both', 'mustn', 'which', 'too', 'in', 'you', 'been', 'these', 'can', 'into', 'he', \"shan't\", \"haven't\", 'where', 't', 'below', 'other', \"wouldn't\", 'more', 'now', 'same', 'am', 'have', 'and', 'from', \"it's\", 'doesn', 'mightn', 'be', 'few', 'above', 'on', 'over', 'don', 've', 'hasn', 'hers', 'we', 'only', 'is', 'under', 'not', 'myself', 'needn', 'my', 'during', 'no', \"don't\", 'at', 'out', 'was', 'll', 'm', 'about', 'further', 'all', 're', 'ain', 'herself', 'of', 'won', 'yours', 'has', \"doesn't\", 'didn', 'what', 'yourselves', 'isn', 'shan', 'an', 'but', 'me', 'up', 'do', 'y', 'are', 's', 'having', 'them', \"you'd\", \"aren't\", 'again', 'than', 'ma', 'it', 'why', \"wasn't\", 'so', 'down', \"shouldn't\", 'theirs', 'ourselves', 'her', 'their', 'does', 'himself', 'such', \"weren't\", 'then', 'the', 'with', 'any', 'shouldn', 'had', 'were', \"needn't\", \"hasn't\", 'until', 'should', 'while', 'before', 'or', \"isn't\", \"you've\", 'after', 'ours', 'this', \"she's\", 'doing', 'as', 'd', \"couldn't\", 'those', 'yourself', 'here', 'to', 'they', 'will', 'because', 'between', 'against', 'off', 'by', 'wouldn', 'a', 'for', \"mightn't\", 'hadn', 'that', 'through', 'him', 'whom', 'each', 'wasn'}\n",
      "************************************\n",
      "tasti\n"
     ]
    }
   ],
   "source": [
    "\n",
    "stop = set(stopwords.words('english')) #set of stopwords\n",
    "sno = nltk.stem.SnowballStemmer('english') #initialising the snowball stemmer\n",
    "\n",
    "def cleanhtml(sentence): #function to clean the word of any html-tags\n",
    "    cleanr = re.compile('<.*?>')\n",
    "    cleantext = re.sub(cleanr, ' ', sentence)\n",
    "    return cleantext\n",
    "def cleanpunc(sentence): #function to clean the word of any punctuation or special characters\n",
    "    cleaned = re.sub(r'[?|!|\\'|\"|#]',r'',sentence)\n",
    "    cleaned = re.sub(r'[.|,|)|(|\\|/]',r' ',cleaned)\n",
    "    return  cleaned\n",
    "print(stop)\n",
    "print('************************************')\n",
    "print(sno.stem('tasty'))"
   ]
  },
  {
   "cell_type": "code",
   "execution_count": 18,
   "metadata": {
    "colab": {},
    "colab_type": "code",
    "id": "NIRR4hUgWCAi"
   },
   "outputs": [],
   "source": [
    "#Code for implementing step-by-step the checks mentioned in the pre-processing phase\n",
    "# this code takes a while to run as it needs to run on 500k sentences.\n",
    "if not os.path.isfile('final.sqlite'):\n",
    "    i=0\n",
    "    str1=' '\n",
    "    final_string=[]\n",
    "    all_positive_words=[] # store words from +ve reviews here\n",
    "    all_negative_words=[] # store words from -ve reviews here.\n",
    "    s=''\n",
    "    for sent in tqdm(final['Text'].values):\n",
    "        filtered_sentence=[]\n",
    "        #print(sent);\n",
    "        sent=cleanhtml(sent) # remove HTMl tags\n",
    "        for w in sent.split():\n",
    "            for cleaned_words in cleanpunc(w).split():\n",
    "                if((cleaned_words.isalpha()) & (len(cleaned_words)>2)):    \n",
    "                    if(cleaned_words.lower() not in stop):\n",
    "                        s=(sno.stem(cleaned_words.lower())).encode('utf8')\n",
    "                        filtered_sentence.append(s)\n",
    "                        if (final['Score'].values)[i] == 'positive': \n",
    "                            all_positive_words.append(s) #list of all words used to describe positive reviews\n",
    "                        if(final['Score'].values)[i] == 'negative':\n",
    "                            all_negative_words.append(s) #list of all words used to describe negative reviews reviews\n",
    "                    else:\n",
    "                        continue\n",
    "                else:\n",
    "                    continue \n",
    "        #print(filtered_sentence)\n",
    "        str1 = b\" \".join(filtered_sentence) #final string of cleaned words\n",
    "        #print(\"***********************************************************************\")\n",
    "\n",
    "        final_string.append(str1)\n",
    "        i+=1\n",
    "\n",
    "    #############---- storing the data into .sqlite file ------########################\n",
    "    final['CleanedText']=final_string #adding a column of CleanedText which displays the data after pre-processing of the review \n",
    "    final['CleanedText']=final['CleanedText'].str.decode(\"utf-8\")\n",
    "        # store final table into an SQlLite table for future.\n",
    "    conn = sqlite3.connect('final.sqlite')\n",
    "    c=conn.cursor()\n",
    "    conn.text_factory = str\n",
    "    final.to_sql('Reviews', conn,  schema=None, if_exists='replace', \\\n",
    "                 index=True, index_label=None, chunksize=None, dtype=None)\n",
    "    conn.close()\n",
    "    \n",
    "    \n",
    "    with open('positive_words.pkl', 'wb') as f:\n",
    "        pickle.dump(all_positive_words, f)\n",
    "    with open('negitive_words.pkl', 'wb') as f:\n",
    "        pickle.dump(all_negative_words, f)"
   ]
  },
  {
   "cell_type": "code",
   "execution_count": 19,
   "metadata": {
    "colab": {},
    "colab_type": "code",
    "id": "RvN6YBklWCAo",
    "scrolled": false
   },
   "outputs": [],
   "source": [
    "if os.path.isfile('final.sqlite'):\n",
    "    conn = sqlite3.connect('final.sqlite')\n",
    "    final = pd.read_sql_query(\"\"\" SELECT * FROM Reviews WHERE Score != 3 \"\"\", conn)\n",
    "    conn.close()\n",
    "else:\n",
    "    print(\"Please the above cell\")"
   ]
  },
  {
   "cell_type": "markdown",
   "metadata": {
    "colab_type": "text",
    "id": "WSq4iqPp3hhH"
   },
   "source": [
    "# Bag of Words - Unigrams"
   ]
  },
  {
   "cell_type": "code",
   "execution_count": 23,
   "metadata": {
    "colab": {
     "base_uri": "https://localhost:8080/",
     "height": 738
    },
    "colab_type": "code",
    "id": "1QhSzZiJFPhl",
    "outputId": "de7e3a8f-6198-45d0-eb0d-3c339b97cf0c"
   },
   "outputs": [
    {
     "name": "stdout",
     "output_type": "stream",
     "text": [
      "<class 'scipy.sparse.csr.csr_matrix'>\n",
      "(39200, 24484)\n"
     ]
    },
    {
     "name": "stderr",
     "output_type": "stream",
     "text": [
      "\r",
      "  0%|          | 0/21 [00:00<?, ?it/s]"
     ]
    },
    {
     "name": "stdout",
     "output_type": "stream",
     "text": [
      "<class 'scipy.sparse.csr.csr_matrix'>\n",
      "(16800, 24484)\n"
     ]
    },
    {
     "name": "stderr",
     "output_type": "stream",
     "text": [
      "\r",
      "  5%|▍         | 1/21 [00:38<12:59, 38.96s/it]"
     ]
    },
    {
     "name": "stdout",
     "output_type": "stream",
     "text": [
      "CV weighted f1 for k = 5 is 77.771789%\n"
     ]
    },
    {
     "name": "stderr",
     "output_type": "stream",
     "text": [
      "\r",
      " 10%|▉         | 2/21 [01:15<12:06, 38.26s/it]"
     ]
    },
    {
     "name": "stdout",
     "output_type": "stream",
     "text": [
      "CV weighted f1 for k = 7 is 77.071900%\n"
     ]
    },
    {
     "name": "stderr",
     "output_type": "stream",
     "text": [
      "\r",
      " 14%|█▍        | 3/21 [01:53<11:25, 38.09s/it]"
     ]
    },
    {
     "name": "stdout",
     "output_type": "stream",
     "text": [
      "CV weighted f1 for k = 11 is 76.165593%\n"
     ]
    },
    {
     "name": "stderr",
     "output_type": "stream",
     "text": [
      "\r",
      " 19%|█▉        | 4/21 [02:29<10:38, 37.58s/it]"
     ]
    },
    {
     "name": "stdout",
     "output_type": "stream",
     "text": [
      "CV weighted f1 for k = 13 is 75.903126%\n"
     ]
    },
    {
     "name": "stderr",
     "output_type": "stream",
     "text": [
      "\r",
      " 24%|██▍       | 5/21 [03:05<09:54, 37.13s/it]"
     ]
    },
    {
     "name": "stdout",
     "output_type": "stream",
     "text": [
      "CV weighted f1 for k = 17 is 75.430700%\n"
     ]
    },
    {
     "name": "stderr",
     "output_type": "stream",
     "text": [
      "\r",
      " 29%|██▊       | 6/21 [03:42<09:15, 37.05s/it]"
     ]
    },
    {
     "name": "stdout",
     "output_type": "stream",
     "text": [
      "CV weighted f1 for k = 19 is 75.300939%\n"
     ]
    },
    {
     "name": "stderr",
     "output_type": "stream",
     "text": [
      "\r",
      " 33%|███▎      | 7/21 [04:18<08:35, 36.84s/it]"
     ]
    },
    {
     "name": "stdout",
     "output_type": "stream",
     "text": [
      "CV weighted f1 for k = 23 is 75.113927%\n"
     ]
    },
    {
     "name": "stderr",
     "output_type": "stream",
     "text": [
      "\r",
      " 38%|███▊      | 8/21 [04:54<07:55, 36.59s/it]"
     ]
    },
    {
     "name": "stdout",
     "output_type": "stream",
     "text": [
      "CV weighted f1 for k = 29 is 74.978790%\n"
     ]
    },
    {
     "name": "stderr",
     "output_type": "stream",
     "text": [
      "\r",
      " 43%|████▎     | 9/21 [05:32<07:20, 36.74s/it]"
     ]
    },
    {
     "name": "stdout",
     "output_type": "stream",
     "text": [
      "CV weighted f1 for k = 31 is 74.919047%\n"
     ]
    },
    {
     "name": "stderr",
     "output_type": "stream",
     "text": [
      "\r",
      " 48%|████▊     | 10/21 [06:08<06:43, 36.65s/it]"
     ]
    },
    {
     "name": "stdout",
     "output_type": "stream",
     "text": [
      "CV weighted f1 for k = 37 is 74.814194%\n"
     ]
    },
    {
     "name": "stderr",
     "output_type": "stream",
     "text": [
      "\r",
      " 52%|█████▏    | 11/21 [06:45<06:08, 36.86s/it]"
     ]
    },
    {
     "name": "stdout",
     "output_type": "stream",
     "text": [
      "CV weighted f1 for k = 41 is 74.817176%\n"
     ]
    },
    {
     "name": "stderr",
     "output_type": "stream",
     "text": [
      "\r",
      " 57%|█████▋    | 12/21 [07:22<05:31, 36.84s/it]"
     ]
    },
    {
     "name": "stdout",
     "output_type": "stream",
     "text": [
      "CV weighted f1 for k = 43 is 74.831444%\n"
     ]
    },
    {
     "name": "stderr",
     "output_type": "stream",
     "text": [
      "\r",
      " 62%|██████▏   | 13/21 [07:59<04:54, 36.80s/it]"
     ]
    },
    {
     "name": "stdout",
     "output_type": "stream",
     "text": [
      "CV weighted f1 for k = 47 is 74.831444%\n"
     ]
    },
    {
     "name": "stderr",
     "output_type": "stream",
     "text": [
      "\r",
      " 67%|██████▋   | 14/21 [08:36<04:19, 37.01s/it]"
     ]
    },
    {
     "name": "stdout",
     "output_type": "stream",
     "text": [
      "CV weighted f1 for k = 53 is 74.774322%\n"
     ]
    },
    {
     "name": "stderr",
     "output_type": "stream",
     "text": [
      "\r",
      " 71%|███████▏  | 15/21 [09:14<03:44, 37.33s/it]"
     ]
    },
    {
     "name": "stdout",
     "output_type": "stream",
     "text": [
      "CV weighted f1 for k = 59 is 74.774322%\n"
     ]
    },
    {
     "name": "stderr",
     "output_type": "stream",
     "text": [
      "\r",
      " 76%|███████▌  | 16/21 [09:51<03:05, 37.16s/it]"
     ]
    },
    {
     "name": "stdout",
     "output_type": "stream",
     "text": [
      "CV weighted f1 for k = 61 is 74.760022%\n"
     ]
    },
    {
     "name": "stderr",
     "output_type": "stream",
     "text": [
      "\r",
      " 81%|████████  | 17/21 [10:28<02:28, 37.09s/it]"
     ]
    },
    {
     "name": "stdout",
     "output_type": "stream",
     "text": [
      "CV weighted f1 for k = 67 is 74.777292%\n"
     ]
    },
    {
     "name": "stderr",
     "output_type": "stream",
     "text": [
      "\r",
      " 86%|████████▌ | 18/21 [11:06<01:51, 37.21s/it]"
     ]
    },
    {
     "name": "stdout",
     "output_type": "stream",
     "text": [
      "CV weighted f1 for k = 71 is 74.762987%\n"
     ]
    },
    {
     "name": "stderr",
     "output_type": "stream",
     "text": [
      "\r",
      " 90%|█████████ | 19/21 [11:43<01:14, 37.36s/it]"
     ]
    },
    {
     "name": "stdout",
     "output_type": "stream",
     "text": [
      "CV weighted f1 for k = 76 is 74.762987%\n"
     ]
    },
    {
     "name": "stderr",
     "output_type": "stream",
     "text": [
      "\r",
      " 95%|█████████▌| 20/21 [12:21<00:37, 37.35s/it]"
     ]
    },
    {
     "name": "stdout",
     "output_type": "stream",
     "text": [
      "CV weighted f1 for k = 79 is 74.777292%\n"
     ]
    },
    {
     "name": "stderr",
     "output_type": "stream",
     "text": [
      "\r",
      "100%|██████████| 21/21 [12:57<00:00, 37.19s/it]"
     ]
    },
    {
     "name": "stdout",
     "output_type": "stream",
     "text": [
      "CV weighted f1 for k = 90 is 74.748675%\n",
      "Best K:  5\n"
     ]
    },
    {
     "name": "stderr",
     "output_type": "stream",
     "text": [
      "\n"
     ]
    },
    {
     "data": {
      "image/png": "[encoded data removed]",
      "text/plain": [
       "<Figure size 432x288 with 1 Axes>"
      ]
     },
     "metadata": {
      "needs_background": "light"
     },
     "output_type": "display_data"
    }
   ],
   "source": [
    "# Dividing raw train and test data\n",
    "from sklearn.metrics import f1_score\n",
    "X = final['CleanedText']\n",
    "y = np.array(new_labels)\n",
    "\n",
    "X_train = X[:int(0.7*len(X))]\n",
    "y_train = y[:int(0.7*len(y))]\n",
    "X_test = X[len(X_train):]\n",
    "y_test = y[len(y_train):]\n",
    "\n",
    "X_cv = X_train[:int(0.7*len(X_train))]\n",
    "y_cv = y_train[:int(0.7*len(y_train))]\n",
    "X_cv_test = X_train[len(X_cv):]\n",
    "y_cv_test = y_train[len(y_cv):]\n",
    "\n",
    "# Applying bow on train data\n",
    "count_vect = CountVectorizer()\n",
    "cv_train_final = count_vect.fit_transform(X_cv)\n",
    "cv_train_voc = count_vect.vocabulary_\n",
    "print(type(cv_train_final))\n",
    "print(cv_train_final.get_shape())\n",
    "\n",
    "count_vect1 = CountVectorizer(vocabulary = cv_train_voc)\n",
    "cv_test_final = count_vect1.fit_transform(X_cv_test)\n",
    "print(type(cv_test_final))\n",
    "print(cv_test_final.get_shape())\n",
    "\n",
    "# Preparing list with possible K-values\n",
    "neighbors = [5, 7, 11, 13, 17, 19, 23, 29, 31, 37, 41, 43, 47, 53, 59, 61, 67, 71, 76, 79, 90]\n",
    "cv_f1_scores  = []\n",
    "\n",
    "# Brute force KNN\n",
    "for i in tqdm(neighbors):\n",
    "  knn = KNeighborsClassifier(n_neighbors=i, algorithm='brute')\n",
    "  knn.fit(cv_train_final, y_cv)\n",
    "  pred = knn.predict(cv_test_final)\n",
    "  f1 = f1_score(y_cv_test, pred, average='weighted')*100\n",
    "  cv_f1_scores.append(f1)\n",
    "  print('CV weighted f1 for k = %d is %f%%' % (i, f1))\n",
    "  \n",
    "plt.plot(neighbors, cv_f1_scores)\n",
    "plt.xlabel('Value of K for KNN')\n",
    "plt.ylabel('Cross-Validated f1 Score')\n",
    "\n",
    "best_k = neighbors[cv_f1_scores.index(max(cv_f1_scores))]\n",
    "print('Best K: ',best_k)\n",
    "train_error = round((100-max(cv_f1_scores)),4)"
   ]
  },
  {
   "cell_type": "code",
   "execution_count": 24,
   "metadata": {
    "colab": {
     "base_uri": "https://localhost:8080/",
     "height": 416
    },
    "colab_type": "code",
    "id": "JBa_IQhGI5Pq",
    "outputId": "a5293401-e7a3-42b4-943c-dc6ab8a632c4"
   },
   "outputs": [
    {
     "name": "stdout",
     "output_type": "stream",
     "text": [
      "<class 'scipy.sparse.csr.csr_matrix'>\n",
      "(56000, 28735)\n",
      "<class 'scipy.sparse.csr.csr_matrix'>\n",
      "(24000, 28735)\n",
      "Weighted f1-score for k= 5  is  76.7750689166399 %\n",
      "Confusion matrix : \n",
      "[[  366  3933]\n",
      " [  254 19447]]\n"
     ]
    },
    {
     "data": {
      "image/png": "[encoded data removed]",
      "text/plain": [
       "<Figure size 432x288 with 2 Axes>"
      ]
     },
     "metadata": {
      "needs_background": "light"
     },
     "output_type": "display_data"
    }
   ],
   "source": [
    "count_vect2 = CountVectorizer()\n",
    "X_train_final = count_vect2.fit_transform(X_train)\n",
    "X_train_voc = count_vect2.vocabulary_\n",
    "print(type(X_train_final))\n",
    "print(X_train_final.get_shape())\n",
    "\n",
    "count_vect3 = CountVectorizer(vocabulary = X_train_voc)\n",
    "X_test_final = count_vect3.fit_transform(X_test)\n",
    "print(type(X_test_final))\n",
    "print(X_test_final.get_shape())\n",
    "\n",
    "knn = KNeighborsClassifier(n_neighbors=best_k, algorithm='brute')\n",
    "knn.fit(X_train_final, y_train)\n",
    "pred = knn.predict(X_test_final)\n",
    "f1 = f1_score(y_test, pred, average='weighted')*100\n",
    "test_error = round((100-f1),4)\n",
    "confusion = confusion_matrix(y_test, pred)\n",
    "print('Weighted f1-score for k=',best_k,' is ',f1,'%')\n",
    "print('Confusion matrix : ')\n",
    "print(confusion)\n",
    "import seaborn as sns\n",
    "ax = sns.heatmap(confusion, annot=True, fmt=\"d\") \n",
    "ax.set_title('Heatmap for confusion matrix')\n",
    "\n",
    "x.add_row([\"BoW - Brute force \", best_k, train_error, test_error])"
   ]
  },
  {
   "cell_type": "code",
   "execution_count": 21,
   "metadata": {
    "colab": {
     "base_uri": "https://localhost:8080/",
     "height": 738
    },
    "colab_type": "code",
    "id": "Xs0CvZMYN_jt",
    "outputId": "99ad4163-0991-4dde-9981-212bb4380438"
   },
   "outputs": [
    {
     "name": "stdout",
     "output_type": "stream",
     "text": [
      "<class 'scipy.sparse.csr.csr_matrix'>\n",
      "(39200, 24484)\n",
      "<class 'scipy.sparse.csr.csr_matrix'>\n",
      "(16800, 24484)\n"
     ]
    },
    {
     "name": "stderr",
     "output_type": "stream",
     "text": [
      "  5%|▍         | 1/21 [11:42<3:54:06, 702.33s/it]"
     ]
    },
    {
     "name": "stdout",
     "output_type": "stream",
     "text": [
      "CV weighted f1 for k = 5 is 75.918814%\n"
     ]
    },
    {
     "name": "stderr",
     "output_type": "stream",
     "text": [
      "\r",
      " 10%|▉         | 2/21 [23:26<3:42:33, 702.81s/it]"
     ]
    },
    {
     "name": "stdout",
     "output_type": "stream",
     "text": [
      "CV weighted f1 for k = 7 is 75.946491%\n"
     ]
    },
    {
     "name": "stderr",
     "output_type": "stream",
     "text": [
      "\r",
      " 14%|█▍        | 3/21 [35:14<3:31:21, 704.50s/it]"
     ]
    },
    {
     "name": "stdout",
     "output_type": "stream",
     "text": [
      "CV weighted f1 for k = 11 is 75.969553%\n"
     ]
    },
    {
     "name": "stderr",
     "output_type": "stream",
     "text": [
      "\r",
      " 19%|█▉        | 4/21 [47:01<3:19:50, 705.30s/it]"
     ]
    },
    {
     "name": "stdout",
     "output_type": "stream",
     "text": [
      "CV weighted f1 for k = 13 is 75.976637%\n"
     ]
    },
    {
     "name": "stderr",
     "output_type": "stream",
     "text": [
      "\r",
      " 24%|██▍       | 5/21 [58:31<3:06:47, 700.46s/it]"
     ]
    },
    {
     "name": "stdout",
     "output_type": "stream",
     "text": [
      "CV weighted f1 for k = 17 is 75.980504%\n"
     ]
    },
    {
     "name": "stderr",
     "output_type": "stream",
     "text": [
      "\r",
      " 29%|██▊       | 6/21 [1:08:54<2:49:19, 677.27s/it]"
     ]
    },
    {
     "name": "stdout",
     "output_type": "stream",
     "text": [
      "CV weighted f1 for k = 19 is 75.980504%\n"
     ]
    },
    {
     "name": "stderr",
     "output_type": "stream",
     "text": [
      "\r",
      " 33%|███▎      | 7/21 [1:19:09<2:33:39, 658.54s/it]"
     ]
    },
    {
     "name": "stdout",
     "output_type": "stream",
     "text": [
      "CV weighted f1 for k = 23 is 75.983456%\n"
     ]
    },
    {
     "name": "stderr",
     "output_type": "stream",
     "text": [
      "\r",
      " 38%|███▊      | 8/21 [1:29:23<2:19:50, 645.42s/it]"
     ]
    },
    {
     "name": "stdout",
     "output_type": "stream",
     "text": [
      "CV weighted f1 for k = 29 is 75.983456%\n"
     ]
    },
    {
     "name": "stderr",
     "output_type": "stream",
     "text": [
      "\r",
      " 43%|████▎     | 9/21 [1:39:39<2:07:19, 636.63s/it]"
     ]
    },
    {
     "name": "stdout",
     "output_type": "stream",
     "text": [
      "CV weighted f1 for k = 31 is 75.983456%\n"
     ]
    },
    {
     "name": "stderr",
     "output_type": "stream",
     "text": [
      "\r",
      " 48%|████▊     | 10/21 [1:50:06<1:56:10, 633.67s/it]"
     ]
    },
    {
     "name": "stdout",
     "output_type": "stream",
     "text": [
      "CV weighted f1 for k = 37 is 75.983456%\n"
     ]
    },
    {
     "name": "stderr",
     "output_type": "stream",
     "text": [
      "\r",
      " 52%|█████▏    | 11/21 [2:00:28<1:45:02, 630.21s/it]"
     ]
    },
    {
     "name": "stdout",
     "output_type": "stream",
     "text": [
      "CV weighted f1 for k = 41 is 75.983456%\n"
     ]
    },
    {
     "name": "stderr",
     "output_type": "stream",
     "text": [
      "\r",
      " 57%|█████▋    | 12/21 [2:10:47<1:34:00, 626.75s/it]"
     ]
    },
    {
     "name": "stdout",
     "output_type": "stream",
     "text": [
      "CV weighted f1 for k = 43 is 75.983456%\n"
     ]
    },
    {
     "name": "stderr",
     "output_type": "stream",
     "text": [
      "\r",
      " 62%|██████▏   | 13/21 [2:21:08<1:23:21, 625.14s/it]"
     ]
    },
    {
     "name": "stdout",
     "output_type": "stream",
     "text": [
      "CV weighted f1 for k = 47 is 75.983456%\n"
     ]
    },
    {
     "name": "stderr",
     "output_type": "stream",
     "text": [
      "\r",
      " 67%|██████▋   | 14/21 [2:31:21<1:12:30, 621.43s/it]"
     ]
    },
    {
     "name": "stdout",
     "output_type": "stream",
     "text": [
      "CV weighted f1 for k = 53 is 75.983456%\n"
     ]
    },
    {
     "name": "stderr",
     "output_type": "stream",
     "text": [
      "\r",
      " 71%|███████▏  | 15/21 [2:41:12<1:01:14, 612.38s/it]"
     ]
    },
    {
     "name": "stdout",
     "output_type": "stream",
     "text": [
      "CV weighted f1 for k = 59 is 75.983456%\n"
     ]
    },
    {
     "name": "stderr",
     "output_type": "stream",
     "text": [
      "\r",
      " 76%|███████▌  | 16/21 [2:51:20<50:54, 610.91s/it]  "
     ]
    },
    {
     "name": "stdout",
     "output_type": "stream",
     "text": [
      "CV weighted f1 for k = 61 is 75.983456%\n"
     ]
    },
    {
     "name": "stderr",
     "output_type": "stream",
     "text": [
      "\r",
      " 81%|████████  | 17/21 [3:01:55<41:13, 618.27s/it]"
     ]
    },
    {
     "name": "stdout",
     "output_type": "stream",
     "text": [
      "CV weighted f1 for k = 67 is 75.983456%\n"
     ]
    },
    {
     "name": "stderr",
     "output_type": "stream",
     "text": [
      "\r",
      " 86%|████████▌ | 18/21 [3:12:55<31:31, 630.56s/it]"
     ]
    },
    {
     "name": "stdout",
     "output_type": "stream",
     "text": [
      "CV weighted f1 for k = 71 is 75.983456%\n"
     ]
    },
    {
     "name": "stderr",
     "output_type": "stream",
     "text": [
      "\r",
      " 90%|█████████ | 19/21 [3:23:42<21:10, 635.47s/it]"
     ]
    },
    {
     "name": "stdout",
     "output_type": "stream",
     "text": [
      "CV weighted f1 for k = 76 is 75.983456%\n"
     ]
    },
    {
     "name": "stderr",
     "output_type": "stream",
     "text": [
      "\r",
      " 95%|█████████▌| 20/21 [3:34:30<10:39, 639.25s/it]"
     ]
    },
    {
     "name": "stdout",
     "output_type": "stream",
     "text": [
      "CV weighted f1 for k = 79 is 75.983456%\n"
     ]
    },
    {
     "name": "stderr",
     "output_type": "stream",
     "text": [
      "\r",
      "100%|██████████| 21/21 [3:45:17<00:00, 641.82s/it]"
     ]
    },
    {
     "name": "stdout",
     "output_type": "stream",
     "text": [
      "CV weighted f1 for k = 90 is 75.983456%\n",
      "Best K:  23\n"
     ]
    },
    {
     "name": "stderr",
     "output_type": "stream",
     "text": [
      "\n"
     ]
    },
    {
     "data": {
      "image/png": "[encoded data removed]",
      "text/plain": [
       "<Figure size 432x288 with 1 Axes>"
      ]
     },
     "metadata": {
      "needs_background": "light"
     },
     "output_type": "display_data"
    }
   ],
   "source": [
    "#kd-tree KNN for BoW\n",
    "\n",
    "# Dividing raw train and test data\n",
    "from sklearn.metrics import f1_score\n",
    "X = final['CleanedText']\n",
    "y = np.array(new_labels)\n",
    "\n",
    "X_train = X[:int(0.7*len(X))]\n",
    "y_train = y[:int(0.7*len(y))]\n",
    "X_test = X[len(X_train):]\n",
    "y_test = y[len(y_train):]\n",
    "\n",
    "X_cv = X_train[:int(0.7*len(X_train))]\n",
    "y_cv = y_train[:int(0.7*len(y_train))]\n",
    "X_cv_test = X_train[len(X_cv):]\n",
    "y_cv_test = y_train[len(y_cv):]\n",
    "\n",
    "# Applying bow on train data\n",
    "count_vect = CountVectorizer()\n",
    "cv_train_final = count_vect.fit_transform(X_cv)\n",
    "cv_train_voc = count_vect.vocabulary_\n",
    "print(type(cv_train_final))\n",
    "print(cv_train_final.get_shape())\n",
    "\n",
    "# svd on cv_train\n",
    "from sklearn.decomposition import TruncatedSVD\n",
    "svd = TruncatedSVD(n_components=300, n_iter=7, random_state=42)\n",
    "svd.fit(cv_train_final)\n",
    "svd_cv_train_final=svd.transform(cv_train_final)\n",
    "\n",
    "# vectorizing cv_test\n",
    "count_vect1 = CountVectorizer(vocabulary = cv_train_voc)\n",
    "cv_test_final = count_vect1.fit_transform(X_cv_test)\n",
    "print(type(cv_test_final))\n",
    "print(cv_test_final.get_shape())\n",
    "\n",
    "# svd on cv_test\n",
    "svd = TruncatedSVD(n_components=300, n_iter=7, random_state=42)\n",
    "svd.fit(cv_test_final)\n",
    "svd_cv_test_final=svd.transform(cv_test_final)\n",
    "\n",
    "# Preparing list with possible K-values\n",
    "neighbors = [5, 7, 11, 13, 17, 19, 23, 29, 31, 37, 41, 43, 47, 53, 59, 61, 67, 71, 76, 79, 90]\n",
    "cv_f1_scores  = []\n",
    "\n",
    "# Brute force KNN\n",
    "for i in tqdm(neighbors):\n",
    "  knn = KNeighborsClassifier(n_neighbors=i, algorithm='kd_tree')\n",
    "  knn.fit(svd_cv_train_final, y_cv)\n",
    "  pred = knn.predict(svd_cv_test_final)\n",
    "  f1 = f1_score(y_cv_test, pred, average='weighted')*100\n",
    "  cv_f1_scores.append(f1)\n",
    "  print('CV weighted f1 for k = %d is %f%%' % (i, f1))\n",
    "  \n",
    "plt.plot(neighbors, cv_f1_scores)\n",
    "plt.xlabel('Value of K for KNN')\n",
    "plt.ylabel('Cross-Validated f1 Score')\n",
    "\n",
    "best_k = neighbors[cv_f1_scores.index(max(cv_f1_scores))]\n",
    "train_error = round((100-max(cv_f1_scores)),4)\n",
    "print('Best K: ',best_k)\n"
   ]
  },
  {
   "cell_type": "code",
   "execution_count": 22,
   "metadata": {
    "colab": {
     "base_uri": "https://localhost:8080/",
     "height": 433
    },
    "colab_type": "code",
    "id": "9mMZlFjyStxu",
    "outputId": "4fcb7978-d125-4a32-c86a-a65804b2b60a"
   },
   "outputs": [
    {
     "name": "stdout",
     "output_type": "stream",
     "text": [
      "<class 'scipy.sparse.csr.csr_matrix'>\n",
      "(56000, 28735)\n",
      "<class 'scipy.sparse.csr.csr_matrix'>\n",
      "(24000, 28735)\n",
      "Weighted f1-score for k= 23  is  74.5773787235338 %\n",
      "Confusion matrix : \n",
      "[[    0  4202]\n",
      " [    0 19798]]\n"
     ]
    },
    {
     "data": {
      "text/plain": [
       "Text(0.5, 1.0, 'Heatmap for confusion matrix')"
      ]
     },
     "execution_count": 22,
     "metadata": {},
     "output_type": "execute_result"
    },
    {
     "data": {
      "image/png": "[encoded data removed]",
      "text/plain": [
       "<Figure size 432x288 with 2 Axes>"
      ]
     },
     "metadata": {
      "needs_background": "light"
     },
     "output_type": "display_data"
    }
   ],
   "source": [
    "# vectorizing x_train\n",
    "count_vect2 = CountVectorizer()\n",
    "X_train_final = count_vect2.fit_transform(X_train)\n",
    "X_train_voc = count_vect2.vocabulary_\n",
    "print(type(X_train_final))\n",
    "print(X_train_final.get_shape())\n",
    "\n",
    "# svd on X_train\n",
    "from sklearn.decomposition import TruncatedSVD\n",
    "svd = TruncatedSVD(n_components=300, n_iter=7, random_state=42)\n",
    "svd.fit(X_train_final)\n",
    "svd_X_train_final=svd.transform(X_train_final)\n",
    "\n",
    "# vecotring X_test\n",
    "count_vect3 = CountVectorizer(vocabulary = X_train_voc)\n",
    "X_test_final = count_vect3.fit_transform(X_test)\n",
    "print(type(X_test_final))\n",
    "print(X_test_final.get_shape())\n",
    "\n",
    "# svd on X_test\n",
    "from sklearn.decomposition import TruncatedSVD\n",
    "svd = TruncatedSVD(n_components=300, n_iter=7, random_state=42)\n",
    "svd.fit(X_test_final)\n",
    "svd_X_test_final=svd.transform(X_test_final)\n",
    "\n",
    "# appling knn k-dtree bow\n",
    "knn = KNeighborsClassifier(n_neighbors=best_k, algorithm='kd_tree')\n",
    "knn.fit(svd_X_train_final, y_train)\n",
    "pred = knn.predict(svd_X_test_final)\n",
    "f1 = f1_score(y_test, pred, average='weighted')*100\n",
    "\n",
    "test_error = round((100-f1),4)\n",
    "confusion = confusion_matrix(y_test, pred)\n",
    "print('Weighted f1-score for k=',best_k,' is ',f1,'%')\n",
    "print('Confusion matrix : ')\n",
    "print(confusion)\n",
    "x.add_row([\"BoW - kd_tree \", best_k, train_error, test_error])\n",
    "import seaborn as sns\n",
    "ax = sns.heatmap(confusion, annot=True, fmt=\"d\") \n",
    "ax.set_title('Heatmap for confusion matrix')"
   ]
  },
  {
   "cell_type": "markdown",
   "metadata": {
    "colab_type": "text",
    "id": "kTWfuIruWCA8"
   },
   "source": [
    "## [7.2.4] Bi-Grams and n-Grams.\n",
    "\n",
    "**Motivation**\n",
    "\n",
    "Now that we have our list of words describing positive and negative reviews lets analyse them.<br>\n",
    "\n",
    "We begin analysis by getting the frequency distribution of the words as shown below"
   ]
  },
  {
   "cell_type": "code",
   "execution_count": null,
   "metadata": {
    "colab": {
     "base_uri": "https://localhost:8080/",
     "height": 51
    },
    "colab_type": "code",
    "id": "eZjdZIOrWCBC",
    "outputId": "c92dbf98-3443-4ea7-9676-df48cae33c4f"
   },
   "outputs": [],
   "source": [
    "with open('positive_words.pkl', 'rb') as f:\n",
    "    all_positive_words = pickle.load(f)\n",
    "with open('negitive_words.pkl', 'rb') as f:\n",
    "    all_negative_words = pickle.load(f)\n",
    "    \n",
    "freq_dist_positive=nltk.FreqDist(all_positive_words)\n",
    "freq_dist_negative=nltk.FreqDist(all_negative_words)\n",
    "print(\"Most Common Positive Words : \",freq_dist_positive.most_common(20))\n",
    "print(\"Most Common Negative Words : \",freq_dist_negative.most_common(20))"
   ]
  },
  {
   "cell_type": "markdown",
   "metadata": {
    "colab_type": "text",
    "id": "LL0BOHEbWCBG"
   },
   "source": [
    "<b>Observation:-</b> From the above it can be seen that the most common positive and the negative words overlap for eg. 'like' could be used as 'not like' etc. <br>\n",
    "So, it is a good idea to consider pairs of consequent words (bi-grams) or q sequnce of n consecutive words (n-grams)"
   ]
  },
  {
   "cell_type": "code",
   "execution_count": null,
   "metadata": {
    "colab": {
     "base_uri": "https://localhost:8080/",
     "height": 68
    },
    "colab_type": "code",
    "id": "WaIunWYVWCBI",
    "outputId": "f5e614d6-588a-4e7b-88ab-e4d08ff1849b",
    "scrolled": true
   },
   "outputs": [],
   "source": [
    "#bi-gram, tri-gram and n-gram\n",
    "\n",
    "#removing stop words like \"not\" should be avoided before building n-grams\n",
    "count_vect = CountVectorizer(ngram_range=(1,2) ) #in scikit-learn\n",
    "final_bigram_counts = count_vect.fit_transform(final['CleanedText'].values)\n",
    "print(\"the type of count vectorizer \",type(final_bigram_counts))\n",
    "print(\"the shape of out text BOW vectorizer \",final_bigram_counts.get_shape())\n",
    "print(\"the number of unique words including both unigrams and bigrams \", final_bigram_counts.get_shape()[1])"
   ]
  },
  {
   "cell_type": "markdown",
   "metadata": {
    "colab_type": "text",
    "id": "TObI_9vtWCBL"
   },
   "source": [
    "# [7.2.5] TF-IDF"
   ]
  },
  {
   "cell_type": "code",
   "execution_count": 73,
   "metadata": {
    "colab": {
     "base_uri": "https://localhost:8080/",
     "height": 105
    },
    "colab_type": "code",
    "id": "Z0T83eeBYqAB",
    "outputId": "2e87d43c-a160-483c-89aa-6519d31747d5"
   },
   "outputs": [
    {
     "name": "stdout",
     "output_type": "stream",
     "text": [
      "the type of count vectorizer  <class 'scipy.sparse.csr.csr_matrix'>\n",
      "the shape of out text TFIDF vectorizer  (39200, 645159)\n",
      "the number of unique words including both unigrams and bigrams  645159\n",
      "some sample features(unique words in the corpus) ['aafco statement', 'aagh', 'aagh yelp', 'aah', 'aah handsom', 'aah rest', 'aalmost', 'aalmost good', 'ab', 'ab diet']\n"
     ]
    }
   ],
   "source": [
    "# Brute force KNN for TF-IDF\n",
    "\n",
    "# Dividing raw train and test data\n",
    "from sklearn.metrics import f1_score\n",
    "X = final['CleanedText']\n",
    "y = np.array(new_labels)\n",
    "\n",
    "X_train = X[:int(0.7*len(X))]\n",
    "y_train = y[:int(0.7*len(y))]\n",
    "X_test = X[len(X_train):]\n",
    "y_test = y[len(y_train):]\n",
    "\n",
    "X_cv_train = X_train[:int(0.7*len(X_train))]\n",
    "y_cv_train = y_train[:int(0.7*len(y_train))]\n",
    "X_cv_test = X_train[len(X_cv_train):]\n",
    "y_cv_test = y_train[len(y_cv_train):]\n",
    "\n",
    "# vectorizing X_cv_train\n",
    "tf_idf_vect = TfidfVectorizer(ngram_range=(1,2))\n",
    "cv_train_final_tfidf = tf_idf_vect.fit_transform(X_cv_train)\n",
    "X_cv_voc = tf_idf_vect.vocabulary_\n",
    "\n",
    "# vectorizing X_cv_test\n",
    "tf_idf_vect2 = TfidfVectorizer(ngram_range=(1,2), vocabulary = X_cv_voc)\n",
    "cv_test_final_tfidf = tf_idf_vect2.fit_transform(X_cv_test)\n",
    "\n",
    "\n",
    "print(\"the type of count vectorizer \",type(cv_train_final_tfidf))\n",
    "print(\"the shape of out text TFIDF vectorizer \",cv_train_final_tfidf.get_shape())\n",
    "print(\"the number of unique words including both unigrams and bigrams \", cv_train_final_tfidf.get_shape()[1])\n",
    "\n",
    "features = tf_idf_vect.get_feature_names()\n",
    "print(\"some sample features(unique words in the corpus)\",features[10:20])\n"
   ]
  },
  {
   "cell_type": "code",
   "execution_count": 74,
   "metadata": {
    "colab": {},
    "colab_type": "code",
    "id": "YFPneAJqZkOS"
   },
   "outputs": [],
   "source": [
    "# source: https://buhrmann.github.io/tfidf-analysis.html\n",
    "def top_tfidf_feats(row, features, top_n=25):\n",
    "    ''' Get top n tfidf values in row and return them with their corresponding feature names.'''\n",
    "    topn_ids = np.argsort(row)[::-1][:top_n]\n",
    "    top_feats = [(features[i], row[i]) for i in topn_ids]\n",
    "    df = pd.DataFrame(top_feats)\n",
    "    df.columns = ['feature', 'tfidf']\n",
    "    return df\n",
    "\n",
    "top_tfidf = top_tfidf_feats(cv_train_final_tfidf[1,:].toarray()[0],features,25)"
   ]
  },
  {
   "cell_type": "code",
   "execution_count": 75,
   "metadata": {
    "colab": {
     "base_uri": "https://localhost:8080/",
     "height": 824
    },
    "colab_type": "code",
    "id": "TT7ihxkJZpN0",
    "outputId": "3c101221-65c7-4e65-8e06-a21e60cdaadf"
   },
   "outputs": [
    {
     "data": {
      "text/html": [
       "<div>\n",
       "<style scoped>\n",
       "    .dataframe tbody tr th:only-of-type {\n",
       "        vertical-align: middle;\n",
       "    }\n",
       "\n",
       "    .dataframe tbody tr th {\n",
       "        vertical-align: top;\n",
       "    }\n",
       "\n",
       "    .dataframe thead th {\n",
       "        text-align: right;\n",
       "    }\n",
       "</style>\n",
       "<table border=\"1\" class=\"dataframe\">\n",
       "  <thead>\n",
       "    <tr style=\"text-align: right;\">\n",
       "      <th></th>\n",
       "      <th>feature</th>\n",
       "      <th>tfidf</th>\n",
       "    </tr>\n",
       "  </thead>\n",
       "  <tbody>\n",
       "    <tr>\n",
       "      <th>0</th>\n",
       "      <td>color</td>\n",
       "      <td>0.275021</td>\n",
       "    </tr>\n",
       "    <tr>\n",
       "      <th>1</th>\n",
       "      <td>taint frost</td>\n",
       "      <td>0.201569</td>\n",
       "    </tr>\n",
       "    <tr>\n",
       "      <th>2</th>\n",
       "      <td>use wilson</td>\n",
       "      <td>0.201569</td>\n",
       "    </tr>\n",
       "    <tr>\n",
       "      <th>3</th>\n",
       "      <td>vibrant taint</td>\n",
       "      <td>0.201569</td>\n",
       "    </tr>\n",
       "    <tr>\n",
       "      <th>4</th>\n",
       "      <td>decor often</td>\n",
       "      <td>0.201569</td>\n",
       "    </tr>\n",
       "    <tr>\n",
       "      <th>5</th>\n",
       "      <td>color simpl</td>\n",
       "      <td>0.201569</td>\n",
       "    </tr>\n",
       "    <tr>\n",
       "      <th>6</th>\n",
       "      <td>must decor</td>\n",
       "      <td>0.201569</td>\n",
       "    </tr>\n",
       "    <tr>\n",
       "      <th>7</th>\n",
       "      <td>mess complaint</td>\n",
       "      <td>0.201569</td>\n",
       "    </tr>\n",
       "    <tr>\n",
       "      <th>8</th>\n",
       "      <td>wilson past</td>\n",
       "      <td>0.201569</td>\n",
       "    </tr>\n",
       "    <tr>\n",
       "      <th>9</th>\n",
       "      <td>frost like</td>\n",
       "      <td>0.194059</td>\n",
       "    </tr>\n",
       "    <tr>\n",
       "      <th>10</th>\n",
       "      <td>past color</td>\n",
       "      <td>0.194059</td>\n",
       "    </tr>\n",
       "    <tr>\n",
       "      <th>11</th>\n",
       "      <td>ago must</td>\n",
       "      <td>0.194059</td>\n",
       "    </tr>\n",
       "    <tr>\n",
       "      <th>12</th>\n",
       "      <td>color vibrant</td>\n",
       "      <td>0.188731</td>\n",
       "    </tr>\n",
       "    <tr>\n",
       "      <th>13</th>\n",
       "      <td>wilson</td>\n",
       "      <td>0.184598</td>\n",
       "    </tr>\n",
       "    <tr>\n",
       "      <th>14</th>\n",
       "      <td>complaint find</td>\n",
       "      <td>0.184598</td>\n",
       "    </tr>\n",
       "    <tr>\n",
       "      <th>15</th>\n",
       "      <td>color color</td>\n",
       "      <td>0.178367</td>\n",
       "    </tr>\n",
       "    <tr>\n",
       "      <th>16</th>\n",
       "      <td>like color</td>\n",
       "      <td>0.171761</td>\n",
       "    </tr>\n",
       "    <tr>\n",
       "      <th>17</th>\n",
       "      <td>simpl use</td>\n",
       "      <td>0.169995</td>\n",
       "    </tr>\n",
       "    <tr>\n",
       "      <th>18</th>\n",
       "      <td>find year</td>\n",
       "      <td>0.168384</td>\n",
       "    </tr>\n",
       "    <tr>\n",
       "      <th>19</th>\n",
       "      <td>taint</td>\n",
       "      <td>0.156334</td>\n",
       "    </tr>\n",
       "    <tr>\n",
       "      <th>20</th>\n",
       "      <td>easier use</td>\n",
       "      <td>0.155546</td>\n",
       "    </tr>\n",
       "    <tr>\n",
       "      <th>21</th>\n",
       "      <td>make mess</td>\n",
       "      <td>0.152691</td>\n",
       "    </tr>\n",
       "    <tr>\n",
       "      <th>22</th>\n",
       "      <td>vibrant</td>\n",
       "      <td>0.150218</td>\n",
       "    </tr>\n",
       "    <tr>\n",
       "      <th>23</th>\n",
       "      <td>decor</td>\n",
       "      <td>0.135721</td>\n",
       "    </tr>\n",
       "    <tr>\n",
       "      <th>24</th>\n",
       "      <td>much easier</td>\n",
       "      <td>0.124982</td>\n",
       "    </tr>\n",
       "  </tbody>\n",
       "</table>\n",
       "</div>"
      ],
      "text/plain": [
       "           feature     tfidf\n",
       "0            color  0.275021\n",
       "1      taint frost  0.201569\n",
       "2       use wilson  0.201569\n",
       "3    vibrant taint  0.201569\n",
       "4      decor often  0.201569\n",
       "5      color simpl  0.201569\n",
       "6       must decor  0.201569\n",
       "7   mess complaint  0.201569\n",
       "8      wilson past  0.201569\n",
       "9       frost like  0.194059\n",
       "10      past color  0.194059\n",
       "11        ago must  0.194059\n",
       "12   color vibrant  0.188731\n",
       "13          wilson  0.184598\n",
       "14  complaint find  0.184598\n",
       "15     color color  0.178367\n",
       "16      like color  0.171761\n",
       "17       simpl use  0.169995\n",
       "18       find year  0.168384\n",
       "19           taint  0.156334\n",
       "20      easier use  0.155546\n",
       "21       make mess  0.152691\n",
       "22         vibrant  0.150218\n",
       "23           decor  0.135721\n",
       "24     much easier  0.124982"
      ]
     },
     "execution_count": 75,
     "metadata": {},
     "output_type": "execute_result"
    }
   ],
   "source": [
    "top_tfidf"
   ]
  },
  {
   "cell_type": "code",
   "execution_count": 76,
   "metadata": {
    "colab": {
     "base_uri": "https://localhost:8080/",
     "height": 670
    },
    "colab_type": "code",
    "id": "zkfwRZWTb9Kc",
    "outputId": "aae78f6a-8aed-4cfa-b719-a83f50a6f724",
    "scrolled": false
   },
   "outputs": [
    {
     "name": "stderr",
     "output_type": "stream",
     "text": [
      "\n",
      "  0%|          | 0/21 [00:00<?, ?it/s]\u001b[A\n",
      "  5%|▍         | 1/21 [00:42<14:16, 42.82s/it]\u001b[A"
     ]
    },
    {
     "name": "stdout",
     "output_type": "stream",
     "text": [
      "CV weighted f1 for k = 5 is 75.768670%\n"
     ]
    },
    {
     "name": "stderr",
     "output_type": "stream",
     "text": [
      "\n",
      " 10%|▉         | 2/21 [01:24<13:29, 42.59s/it]\u001b[A"
     ]
    },
    {
     "name": "stdout",
     "output_type": "stream",
     "text": [
      "CV weighted f1 for k = 7 is 76.017229%\n"
     ]
    },
    {
     "name": "stderr",
     "output_type": "stream",
     "text": [
      "\n",
      " 14%|█▍        | 3/21 [02:07<12:49, 42.74s/it]\u001b[A"
     ]
    },
    {
     "name": "stdout",
     "output_type": "stream",
     "text": [
      "CV weighted f1 for k = 11 is 76.013593%\n"
     ]
    },
    {
     "name": "stderr",
     "output_type": "stream",
     "text": [
      "\n",
      " 19%|█▉        | 4/21 [02:50<12:03, 42.56s/it]\u001b[A"
     ]
    },
    {
     "name": "stdout",
     "output_type": "stream",
     "text": [
      "CV weighted f1 for k = 13 is 76.002781%\n"
     ]
    },
    {
     "name": "stderr",
     "output_type": "stream",
     "text": [
      "\n",
      " 24%|██▍       | 5/21 [03:32<11:19, 42.48s/it]\u001b[A"
     ]
    },
    {
     "name": "stdout",
     "output_type": "stream",
     "text": [
      "CV weighted f1 for k = 17 is 75.988873%\n"
     ]
    },
    {
     "name": "stderr",
     "output_type": "stream",
     "text": [
      "\n",
      " 29%|██▊       | 6/21 [04:14<10:35, 42.38s/it]\u001b[A"
     ]
    },
    {
     "name": "stdout",
     "output_type": "stream",
     "text": [
      "CV weighted f1 for k = 19 is 75.991826%\n"
     ]
    },
    {
     "name": "stderr",
     "output_type": "stream",
     "text": [
      "\n",
      " 33%|███▎      | 7/21 [04:56<09:53, 42.38s/it]\u001b[A"
     ]
    },
    {
     "name": "stdout",
     "output_type": "stream",
     "text": [
      "CV weighted f1 for k = 23 is 75.991826%\n"
     ]
    },
    {
     "name": "stderr",
     "output_type": "stream",
     "text": [
      "\n",
      " 38%|███▊      | 8/21 [05:39<09:10, 42.35s/it]\u001b[A"
     ]
    },
    {
     "name": "stdout",
     "output_type": "stream",
     "text": [
      "CV weighted f1 for k = 29 is 75.991826%\n"
     ]
    },
    {
     "name": "stderr",
     "output_type": "stream",
     "text": [
      "\n",
      " 43%|████▎     | 9/21 [06:21<08:26, 42.23s/it]\u001b[A"
     ]
    },
    {
     "name": "stdout",
     "output_type": "stream",
     "text": [
      "CV weighted f1 for k = 31 is 75.991826%\n"
     ]
    },
    {
     "name": "stderr",
     "output_type": "stream",
     "text": [
      "\n",
      " 48%|████▊     | 10/21 [07:04<07:48, 42.59s/it]\u001b[A"
     ]
    },
    {
     "name": "stdout",
     "output_type": "stream",
     "text": [
      "CV weighted f1 for k = 37 is 75.991826%\n"
     ]
    },
    {
     "name": "stderr",
     "output_type": "stream",
     "text": [
      "\n",
      " 52%|█████▏    | 11/21 [07:47<07:05, 42.56s/it]\u001b[A"
     ]
    },
    {
     "name": "stdout",
     "output_type": "stream",
     "text": [
      "CV weighted f1 for k = 41 is 75.991826%\n"
     ]
    },
    {
     "name": "stderr",
     "output_type": "stream",
     "text": [
      "\n",
      " 57%|█████▋    | 12/21 [08:29<06:22, 42.45s/it]\u001b[A"
     ]
    },
    {
     "name": "stdout",
     "output_type": "stream",
     "text": [
      "CV weighted f1 for k = 43 is 75.991826%\n"
     ]
    },
    {
     "name": "stderr",
     "output_type": "stream",
     "text": [
      "\n",
      " 62%|██████▏   | 13/21 [09:11<05:38, 42.37s/it]\u001b[A"
     ]
    },
    {
     "name": "stdout",
     "output_type": "stream",
     "text": [
      "CV weighted f1 for k = 47 is 75.991826%\n"
     ]
    },
    {
     "name": "stderr",
     "output_type": "stream",
     "text": [
      "\n",
      " 67%|██████▋   | 14/21 [09:53<04:56, 42.31s/it]\u001b[A"
     ]
    },
    {
     "name": "stdout",
     "output_type": "stream",
     "text": [
      "CV weighted f1 for k = 53 is 75.991826%\n"
     ]
    },
    {
     "name": "stderr",
     "output_type": "stream",
     "text": [
      "\n",
      " 71%|███████▏  | 15/21 [10:35<04:13, 42.27s/it]\u001b[A"
     ]
    },
    {
     "name": "stdout",
     "output_type": "stream",
     "text": [
      "CV weighted f1 for k = 59 is 75.991826%\n"
     ]
    },
    {
     "name": "stderr",
     "output_type": "stream",
     "text": [
      "\n",
      " 76%|███████▌  | 16/21 [11:17<03:31, 42.21s/it]\u001b[A"
     ]
    },
    {
     "name": "stdout",
     "output_type": "stream",
     "text": [
      "CV weighted f1 for k = 61 is 75.991826%\n"
     ]
    },
    {
     "name": "stderr",
     "output_type": "stream",
     "text": [
      "\n",
      " 81%|████████  | 17/21 [12:00<02:49, 42.41s/it]\u001b[A"
     ]
    },
    {
     "name": "stdout",
     "output_type": "stream",
     "text": [
      "CV weighted f1 for k = 67 is 75.991826%\n"
     ]
    },
    {
     "name": "stderr",
     "output_type": "stream",
     "text": [
      "\n",
      " 86%|████████▌ | 18/21 [12:43<02:07, 42.42s/it]\u001b[A"
     ]
    },
    {
     "name": "stdout",
     "output_type": "stream",
     "text": [
      "CV weighted f1 for k = 71 is 75.991826%\n"
     ]
    },
    {
     "name": "stderr",
     "output_type": "stream",
     "text": [
      "\n",
      " 90%|█████████ | 19/21 [13:25<01:24, 42.34s/it]\u001b[A"
     ]
    },
    {
     "name": "stdout",
     "output_type": "stream",
     "text": [
      "CV weighted f1 for k = 76 is 75.991826%\n"
     ]
    },
    {
     "name": "stderr",
     "output_type": "stream",
     "text": [
      "\n",
      " 95%|█████████▌| 20/21 [14:07<00:42, 42.26s/it]\u001b[A"
     ]
    },
    {
     "name": "stdout",
     "output_type": "stream",
     "text": [
      "CV weighted f1 for k = 79 is 75.991826%\n"
     ]
    },
    {
     "name": "stderr",
     "output_type": "stream",
     "text": [
      "\n",
      "100%|██████████| 21/21 [14:49<00:00, 42.23s/it]\u001b[A\n",
      "\u001b[A"
     ]
    },
    {
     "name": "stdout",
     "output_type": "stream",
     "text": [
      "CV weighted f1 for k = 90 is 75.991826%\n",
      "Best K:  7\n"
     ]
    },
    {
     "data": {
      "image/png": "[encoded data removed]",
      "text/plain": [
       "<Figure size 432x288 with 1 Axes>"
      ]
     },
     "metadata": {
      "needs_background": "light"
     },
     "output_type": "display_data"
    }
   ],
   "source": [
    "# Preparing list with possible K-values\n",
    "neighbors = [5, 7, 11, 13, 17, 19, 23, 29, 31, 37, 41, 43, 47, 53, 59, 61, 67, 71, 76, 79, 90]\n",
    "cv_f1_scores  = []\n",
    "\n",
    "# Brute force KNN\n",
    "for i in tqdm(neighbors):\n",
    "  knn = KNeighborsClassifier(n_neighbors=i, algorithm='brute')\n",
    "  knn.fit(cv_train_final_tfidf, y_cv_train)\n",
    "  pred = knn.predict(cv_test_final_tfidf)\n",
    "  f1 = f1_score(y_cv_test, pred, average='weighted')*100\n",
    "  cv_f1_scores.append(f1)\n",
    "  print('CV weighted f1 for k = %d is %f%%' % (i, f1))\n",
    "  \n",
    "plt.plot(neighbors, cv_f1_scores)\n",
    "plt.xlabel('Value of K for KNN')\n",
    "plt.ylabel('Cross-Validated f1 Score')\n",
    "\n",
    "best_k = neighbors[cv_f1_scores.index(max(cv_f1_scores))]\n",
    "train_error = round((100-max(cv_f1_scores)),4)\n",
    "print('Best K: ',best_k)"
   ]
  },
  {
   "cell_type": "code",
   "execution_count": 77,
   "metadata": {
    "colab": {
     "base_uri": "https://localhost:8080/",
     "height": 365
    },
    "colab_type": "code",
    "id": "F8cCR08Lcs2V",
    "outputId": "fd43f9c8-65b2-44ab-8e15-06e3a2e87fe4"
   },
   "outputs": [
    {
     "name": "stdout",
     "output_type": "stream",
     "text": [
      "Weighted f1-score for k= 7  is  74.66279147355047 %\n",
      "Confusion matrix : \n",
      "[[   11  4182]\n",
      " [   37 19770]]\n"
     ]
    },
    {
     "data": {
      "text/plain": [
       "Text(0.5, 1.0, 'Heatmap for confusion matrix')"
      ]
     },
     "execution_count": 77,
     "metadata": {},
     "output_type": "execute_result"
    },
    {
     "data": {
      "image/png": "[encoded data removed]",
      "text/plain": [
       "<Figure size 432x288 with 2 Axes>"
      ]
     },
     "metadata": {
      "needs_background": "light"
     },
     "output_type": "display_data"
    }
   ],
   "source": [
    "# vectorizing X_train\n",
    "tf_idf_vect2 = TfidfVectorizer(ngram_range=(1,2))\n",
    "X_train_final_tfidf = tf_idf_vect2.fit_transform(X_train)\n",
    "X_train_voc = tf_idf_vect2.vocabulary_\n",
    "\n",
    "# vectorizing X_test\n",
    "tf_idf_vect3 = TfidfVectorizer(ngram_range=(1,2), vocabulary = X_train_voc)\n",
    "X_test_final_tfidf = tf_idf_vect3.fit_transform(X_test)\n",
    "\n",
    "# appling knn k-dtree bow\n",
    "knn = KNeighborsClassifier(n_neighbors=best_k, algorithm='brute')\n",
    "knn.fit(X_train_final_tfidf, y_train)\n",
    "pred = knn.predict(X_test_final_tfidf)\n",
    "f1 = f1_score(y_test, pred, average='weighted')*100\n",
    "test_error = round((100-f1),4)\n",
    "confusion = confusion_matrix(y_test, pred)\n",
    "print('Weighted f1-score for k=',best_k,' is ',f1,'%')\n",
    "print('Confusion matrix : ')\n",
    "print(confusion)\n",
    "x.add_row([\"TF-IDF - Brute force \", best_k, train_error, test_error])\n",
    "import seaborn as sns\n",
    "ax = sns.heatmap(confusion, annot=True, fmt=\"d\") \n",
    "ax.set_title('Heatmap for confusion matrix')\n"
   ]
  },
  {
   "cell_type": "code",
   "execution_count": null,
   "metadata": {
    "colab": {},
    "colab_type": "code",
    "id": "1VnnvnJfehM-"
   },
   "outputs": [],
   "source": []
  },
  {
   "cell_type": "code",
   "execution_count": null,
   "metadata": {
    "colab": {},
    "colab_type": "code",
    "id": "_a2MW1FGehbJ"
   },
   "outputs": [],
   "source": []
  },
  {
   "cell_type": "code",
   "execution_count": 22,
   "metadata": {
    "colab": {
     "base_uri": "https://localhost:8080/",
     "height": 105
    },
    "colab_type": "code",
    "id": "kPeijMMOeiEI",
    "outputId": "0b4c5bf3-e627-4248-8c0f-ac7fff5e74ed"
   },
   "outputs": [
    {
     "name": "stdout",
     "output_type": "stream",
     "text": [
      "the type of count vectorizer  <class 'scipy.sparse.csr.csr_matrix'>\n",
      "the shape of out text TFIDF vectorizer  (39200, 645159)\n",
      "the number of unique words including both unigrams and bigrams  645159\n",
      "some sample features(unique words in the corpus) ['aafco statement', 'aagh', 'aagh yelp', 'aah', 'aah handsom', 'aah rest', 'aalmost', 'aalmost good', 'ab', 'ab diet']\n"
     ]
    }
   ],
   "source": [
    "# kd-tree KNN for TF-IDF\n",
    "\n",
    "# Dividing raw train and test data\n",
    "from sklearn.metrics import f1_score\n",
    "X = final['CleanedText']\n",
    "y = np.array(new_labels)\n",
    "\n",
    "X_train = X[:int(0.7*len(X))]\n",
    "y_train = y[:int(0.7*len(y))]\n",
    "X_test = X[len(X_train):]\n",
    "y_test = y[len(y_train):]\n",
    "\n",
    "X_cv_train = X_train[:int(0.7*len(X_train))]\n",
    "y_cv_train = y_train[:int(0.7*len(y_train))]\n",
    "X_cv_test = X_train[len(X_cv_train):]\n",
    "y_cv_test = y_train[len(y_cv_train):]\n",
    "\n",
    "# vectorizing X_cv_train\n",
    "tf_idf_vect = TfidfVectorizer(ngram_range=(1,2))\n",
    "cv_train_final_tfidf = tf_idf_vect.fit_transform(X_cv_train)\n",
    "X_cv_voc = tf_idf_vect.vocabulary_\n",
    "\n",
    "# svd on X_cv_train\n",
    "from sklearn.decomposition import TruncatedSVD\n",
    "svd = TruncatedSVD(n_components=300, n_iter=7, random_state=42)\n",
    "svd.fit(cv_train_final_tfidf)\n",
    "svd_cv_train_final_tfidf=svd.transform(cv_train_final_tfidf)\n",
    "\n",
    "# vectorizing X_cv_test\n",
    "tf_idf_vect2 = TfidfVectorizer(ngram_range=(1,2), vocabulary = X_cv_voc)\n",
    "cv_test_final_tfidf = tf_idf_vect2.fit_transform(X_cv_test)\n",
    "\n",
    "# svd on X_cv_test\n",
    "svd = TruncatedSVD(n_components=300, n_iter=7, random_state=42)\n",
    "svd.fit(cv_test_final_tfidf)\n",
    "svd_cv_test_final_tfidf=svd.transform(cv_test_final_tfidf)\n",
    "\n",
    "\n",
    "print(\"the type of count vectorizer \",type(cv_train_final_tfidf))\n",
    "print(\"the shape of out text TFIDF vectorizer \",cv_train_final_tfidf.get_shape())\n",
    "print(\"the number of unique words including both unigrams and bigrams \", cv_train_final_tfidf.get_shape()[1])\n",
    "\n",
    "features = tf_idf_vect.get_feature_names()\n",
    "print(\"some sample features(unique words in the corpus)\",features[10:20])\n"
   ]
  },
  {
   "cell_type": "code",
   "execution_count": 23,
   "metadata": {
    "colab": {
     "base_uri": "https://localhost:8080/",
     "height": 670
    },
    "colab_type": "code",
    "id": "6XUM075Pk5Dn",
    "outputId": "d2ebe853-fba5-43e8-b870-3ce57b780e02"
   },
   "outputs": [
    {
     "name": "stderr",
     "output_type": "stream",
     "text": [
      "  5%|▍         | 1/21 [11:36<3:52:09, 696.49s/it]"
     ]
    },
    {
     "name": "stdout",
     "output_type": "stream",
     "text": [
      "CV weighted f1 for k = 5 is 74.870043%\n"
     ]
    },
    {
     "name": "stderr",
     "output_type": "stream",
     "text": [
      "\r",
      " 10%|▉         | 2/21 [23:06<3:39:53, 694.40s/it]"
     ]
    },
    {
     "name": "stdout",
     "output_type": "stream",
     "text": [
      "CV weighted f1 for k = 7 is 74.993299%\n"
     ]
    },
    {
     "name": "stderr",
     "output_type": "stream",
     "text": [
      "\r",
      " 14%|█▍        | 3/21 [34:39<3:28:15, 694.17s/it]"
     ]
    },
    {
     "name": "stdout",
     "output_type": "stream",
     "text": [
      "CV weighted f1 for k = 11 is 75.081355%\n"
     ]
    },
    {
     "name": "stderr",
     "output_type": "stream",
     "text": [
      "\r",
      " 19%|█▉        | 4/21 [46:08<3:16:12, 692.49s/it]"
     ]
    },
    {
     "name": "stdout",
     "output_type": "stream",
     "text": [
      "CV weighted f1 for k = 13 is 75.071072%\n"
     ]
    },
    {
     "name": "stderr",
     "output_type": "stream",
     "text": [
      "\r",
      " 24%|██▍       | 5/21 [57:51<3:05:29, 695.61s/it]"
     ]
    },
    {
     "name": "stdout",
     "output_type": "stream",
     "text": [
      "CV weighted f1 for k = 17 is 75.091730%\n"
     ]
    },
    {
     "name": "stderr",
     "output_type": "stream",
     "text": [
      "\r",
      " 29%|██▊       | 6/21 [1:09:30<2:54:12, 696.84s/it]"
     ]
    },
    {
     "name": "stdout",
     "output_type": "stream",
     "text": [
      "CV weighted f1 for k = 19 is 75.091730%\n"
     ]
    },
    {
     "name": "stderr",
     "output_type": "stream",
     "text": [
      "\r",
      " 33%|███▎      | 7/21 [1:21:10<2:42:46, 697.62s/it]"
     ]
    },
    {
     "name": "stdout",
     "output_type": "stream",
     "text": [
      "CV weighted f1 for k = 23 is 75.097630%\n"
     ]
    },
    {
     "name": "stderr",
     "output_type": "stream",
     "text": [
      "\r",
      " 38%|███▊      | 8/21 [1:32:49<2:31:15, 698.15s/it]"
     ]
    },
    {
     "name": "stdout",
     "output_type": "stream",
     "text": [
      "CV weighted f1 for k = 29 is 75.097630%\n"
     ]
    },
    {
     "name": "stderr",
     "output_type": "stream",
     "text": [
      "\r",
      " 43%|████▎     | 9/21 [1:44:26<2:19:34, 697.87s/it]"
     ]
    },
    {
     "name": "stdout",
     "output_type": "stream",
     "text": [
      "CV weighted f1 for k = 31 is 75.097630%\n"
     ]
    },
    {
     "name": "stderr",
     "output_type": "stream",
     "text": [
      "\r",
      " 48%|████▊     | 10/21 [1:56:02<2:07:49, 697.22s/it]"
     ]
    },
    {
     "name": "stdout",
     "output_type": "stream",
     "text": [
      "CV weighted f1 for k = 37 is 75.097630%\n"
     ]
    },
    {
     "name": "stderr",
     "output_type": "stream",
     "text": [
      "\r",
      " 52%|█████▏    | 11/21 [2:07:39<1:56:10, 697.08s/it]"
     ]
    },
    {
     "name": "stdout",
     "output_type": "stream",
     "text": [
      "CV weighted f1 for k = 41 is 75.097630%\n"
     ]
    },
    {
     "name": "stderr",
     "output_type": "stream",
     "text": [
      "\r",
      " 57%|█████▋    | 12/21 [2:19:17<1:44:36, 697.41s/it]"
     ]
    },
    {
     "name": "stdout",
     "output_type": "stream",
     "text": [
      "CV weighted f1 for k = 43 is 75.097630%\n"
     ]
    },
    {
     "name": "stderr",
     "output_type": "stream",
     "text": [
      "\r",
      " 62%|██████▏   | 13/21 [2:30:59<1:33:09, 698.69s/it]"
     ]
    },
    {
     "name": "stdout",
     "output_type": "stream",
     "text": [
      "CV weighted f1 for k = 47 is 75.097630%\n"
     ]
    },
    {
     "name": "stderr",
     "output_type": "stream",
     "text": [
      "\r",
      " 67%|██████▋   | 14/21 [2:42:40<1:21:36, 699.47s/it]"
     ]
    },
    {
     "name": "stdout",
     "output_type": "stream",
     "text": [
      "CV weighted f1 for k = 53 is 75.097630%\n"
     ]
    },
    {
     "name": "stderr",
     "output_type": "stream",
     "text": [
      "\r",
      " 71%|███████▏  | 15/21 [2:54:22<1:10:00, 700.14s/it]"
     ]
    },
    {
     "name": "stdout",
     "output_type": "stream",
     "text": [
      "CV weighted f1 for k = 59 is 75.097630%\n"
     ]
    },
    {
     "name": "stderr",
     "output_type": "stream",
     "text": [
      "\r",
      " 76%|███████▌  | 16/21 [3:06:46<59:26, 713.39s/it]  "
     ]
    },
    {
     "name": "stdout",
     "output_type": "stream",
     "text": [
      "CV weighted f1 for k = 61 is 75.097630%\n"
     ]
    },
    {
     "name": "stderr",
     "output_type": "stream",
     "text": [
      "\r",
      " 81%|████████  | 17/21 [3:19:22<48:25, 726.32s/it]"
     ]
    },
    {
     "name": "stdout",
     "output_type": "stream",
     "text": [
      "CV weighted f1 for k = 67 is 75.097630%\n"
     ]
    },
    {
     "name": "stderr",
     "output_type": "stream",
     "text": [
      "\r",
      " 86%|████████▌ | 18/21 [3:31:34<36:24, 728.01s/it]"
     ]
    },
    {
     "name": "stdout",
     "output_type": "stream",
     "text": [
      "CV weighted f1 for k = 71 is 75.097630%\n"
     ]
    },
    {
     "name": "stderr",
     "output_type": "stream",
     "text": [
      "\r",
      " 90%|█████████ | 19/21 [3:43:44<24:16, 728.49s/it]"
     ]
    },
    {
     "name": "stdout",
     "output_type": "stream",
     "text": [
      "CV weighted f1 for k = 76 is 75.097630%\n"
     ]
    },
    {
     "name": "stderr",
     "output_type": "stream",
     "text": [
      "\r",
      " 95%|█████████▌| 20/21 [3:55:34<12:02, 722.87s/it]"
     ]
    },
    {
     "name": "stdout",
     "output_type": "stream",
     "text": [
      "CV weighted f1 for k = 79 is 75.097630%\n"
     ]
    },
    {
     "name": "stderr",
     "output_type": "stream",
     "text": [
      "\r",
      "100%|██████████| 21/21 [4:07:29<00:00, 720.49s/it]"
     ]
    },
    {
     "name": "stdout",
     "output_type": "stream",
     "text": [
      "CV weighted f1 for k = 90 is 75.097630%\n"
     ]
    },
    {
     "name": "stderr",
     "output_type": "stream",
     "text": [
      "\n"
     ]
    },
    {
     "name": "stdout",
     "output_type": "stream",
     "text": [
      "Best K:  23\n"
     ]
    },
    {
     "data": {
      "image/png": "[encoded data removed]",
      "text/plain": [
       "<Figure size 432x288 with 1 Axes>"
      ]
     },
     "metadata": {
      "needs_background": "light"
     },
     "output_type": "display_data"
    }
   ],
   "source": [
    "# Preparing list with possible K-values\n",
    "neighbors = [5, 7, 11, 13, 17, 19, 23, 29, 31, 37, 41, 43, 47, 53, 59, 61, 67, 71, 76, 79, 90]\n",
    "cv_f1_scores  = []\n",
    "\n",
    "# kd_tree force KNN\n",
    "for i in tqdm(neighbors):\n",
    "  knn = KNeighborsClassifier(n_neighbors=i, algorithm='kd_tree')\n",
    "  knn.fit(svd_cv_train_final_tfidf, y_cv_train)\n",
    "  pred = knn.predict(svd_cv_test_final_tfidf)\n",
    "  f1 = f1_score(y_cv_test, pred, average='weighted')*100\n",
    "  cv_f1_scores.append(f1)\n",
    "  print('CV weighted f1 for k = %d is %f%%' % (i, f1))\n",
    "  \n",
    "plt.plot(neighbors, cv_f1_scores)\n",
    "plt.xlabel('Value of K for KNN')\n",
    "plt.ylabel('Cross-Validated f1 Score')\n",
    "\n",
    "best_k = neighbors[cv_f1_scores.index(max(cv_f1_scores))]\n",
    "train_error = round((100-max(cv_f1_scores)),4)\n",
    "print('Best K: ',best_k)"
   ]
  },
  {
   "cell_type": "code",
   "execution_count": 24,
   "metadata": {
    "colab": {
     "base_uri": "https://localhost:8080/",
     "height": 365
    },
    "colab_type": "code",
    "id": "HWPRI5vClf_M",
    "outputId": "d9c74f73-867e-4cb2-ae61-f689d5cf034f"
   },
   "outputs": [
    {
     "name": "stdout",
     "output_type": "stream",
     "text": [
      "Weighted f1-score for k= 23  is  74.10543743471266 %\n",
      "Confusion matrix : \n",
      "[[    0  4283]\n",
      " [    0 19717]]\n"
     ]
    },
    {
     "data": {
      "text/plain": [
       "Text(0.5, 1.0, 'Heatmap for confusion matrix')"
      ]
     },
     "execution_count": 24,
     "metadata": {},
     "output_type": "execute_result"
    },
    {
     "data": {
      "image/png": "[encoded data removed]",
      "text/plain": [
       "<Figure size 432x288 with 2 Axes>"
      ]
     },
     "metadata": {
      "needs_background": "light"
     },
     "output_type": "display_data"
    }
   ],
   "source": [
    "# vectorizing X_train\n",
    "tf_idf_vect2 = TfidfVectorizer(ngram_range=(1,2))\n",
    "X_train_final_tfidf = tf_idf_vect2.fit_transform(X_train)\n",
    "X_train_voc = tf_idf_vect2.vocabulary_\n",
    "\n",
    "# svd on X_train\n",
    "from sklearn.decomposition import TruncatedSVD\n",
    "svd = TruncatedSVD(n_components=300, n_iter=7, random_state=42)\n",
    "svd.fit(X_train_final_tfidf)\n",
    "svd_X_train_final_tfidf=svd.transform(X_train_final_tfidf)\n",
    "\n",
    "# vectorizing X_test\n",
    "tf_idf_vect3 = TfidfVectorizer(ngram_range=(1,2), vocabulary = X_train_voc)\n",
    "X_test_final_tfidf = tf_idf_vect3.fit_transform(X_test)\n",
    "\n",
    "# svd on X_test\n",
    "svd = TruncatedSVD(n_components=300, n_iter=7, random_state=42)\n",
    "svd.fit(X_test_final_tfidf)\n",
    "svd_X_test_final_tfidf=svd.transform(X_test_final_tfidf)\n",
    "\n",
    "# appling knn k-dtree bow\n",
    "knn = KNeighborsClassifier(n_neighbors=best_k, algorithm='kd_tree')\n",
    "knn.fit(svd_X_train_final_tfidf, y_train)\n",
    "pred = knn.predict(svd_X_test_final_tfidf)\n",
    "f1 = f1_score(y_test, pred, average='weighted')*100\n",
    "test_error = round((100-f1),4)\n",
    "confusion = confusion_matrix(y_test, pred)\n",
    "print('Weighted f1-score for k=',best_k,' is ',f1,'%')\n",
    "print('Confusion matrix : ')\n",
    "print(confusion)\n",
    "x.add_row([\"TF-IDF - kd_tree \", best_k, train_error, test_error])\n",
    "import seaborn as sns\n",
    "ax = sns.heatmap(confusion, annot=True, fmt=\"d\") \n",
    "ax.set_title('Heatmap for confusion matrix')\n"
   ]
  },
  {
   "cell_type": "code",
   "execution_count": null,
   "metadata": {
    "colab": {},
    "colab_type": "code",
    "id": "Hle0cgSVirtk"
   },
   "outputs": [],
   "source": []
  },
  {
   "cell_type": "markdown",
   "metadata": {
    "colab_type": "text",
    "id": "9ivsUt2JWCBy"
   },
   "source": [
    "# [7.2.6] Word2Vec"
   ]
  },
  {
   "cell_type": "code",
   "execution_count": 21,
   "metadata": {
    "colab": {},
    "colab_type": "code",
    "id": "PHg6qQVZWCBz",
    "scrolled": false
   },
   "outputs": [],
   "source": [
    "# Using Google News Word2Vectors\n",
    "\n",
    "# in this project we are using a pretrained model by google\n",
    "# its 3.3G file, once you load this into your memory \n",
    "# it occupies ~9Gb, so please do this step only if you have >12G of ram\n",
    "# we will provide a pickle file wich contains a dict , \n",
    "# and it contains all our courpus words as keys and  model[word] as values\n",
    "# To use this code-snippet, download \"GoogleNews-vectors-negative300.bin\" \n",
    "# from https://drive.google.com/file/d/0B7XkCwpI5KDYNlNUTTlSS21pQmM/edit\n",
    "# it's 1.9GB in size.\n",
    "\n",
    "\n",
    "# http://kavita-ganesan.com/gensim-word2vec-tutorial-starter-code/#.W17SRFAzZPY\n",
    "# you can comment this whole cell\n",
    "# or change these varible according to your need\n",
    "is_your_ram_gt_16g=False\n",
    "want_to_read_sub_set_of_google_w2v = True\n",
    "want_to_read_whole_google_w2v = True\n",
    "if not is_your_ram_gt_16g:\n",
    "    if want_to_read_sub_set_of_google_w2v and  os.path.isfile('google_w2v_for_amazon.pkl'):\n",
    "        with open('google_w2v_for_amazon.pkl', 'rb') as f:\n",
    "            # model is dict object, you can directly access any word vector using model[word]\n",
    "            model = pickle.load(f)\n",
    "else:\n",
    "    if want_to_read_whole_google_w2v and os.path.isfile('GoogleNews-vectors-negative300.bin'):\n",
    "        model = KeyedVectors.load_word2vec_format('GoogleNews-vectors-negative300.bin', binary=True)\n",
    "\n",
    "# print(\"the vector representation of word 'computer'\",model.wv['computer'])\n",
    "# print(\"the similarity between the words 'woman' and 'man'\",model.wv.similarity('woman', 'man'))\n",
    "# print(\"the most similar words to the word 'woman'\",model.wv.most_similar('woman'))\n",
    "# this will raise an error\n",
    "# model.wv.most_similar('tasti')  # \"tasti\" is the stemmed word for tasty, tastful"
   ]
  },
  {
   "cell_type": "markdown",
   "metadata": {
    "colab_type": "text",
    "id": "ZD4aD8II38Gr"
   },
   "source": [
    "## Average W2V"
   ]
  },
  {
   "cell_type": "code",
   "execution_count": 22,
   "metadata": {
    "colab": {
     "base_uri": "https://localhost:8080/",
     "height": 88
    },
    "colab_type": "code",
    "id": "25YzCkaQnEEZ",
    "outputId": "5df3c393-3560-460f-c050-bbf6daa693e0"
   },
   "outputs": [
    {
     "name": "stdout",
     "output_type": "stream",
     "text": [
      "easi use make mess offer vibrant color taint decort color would high recommend anyon like decor\n",
      "*****************************************************************\n",
      "['easi', 'use', 'make', 'mess', 'offer', 'vibrant', 'color', 'taint', 'decort', 'color', 'would', 'high', 'recommend', 'anyon', 'like', 'decor']\n"
     ]
    }
   ],
   "source": [
    "# Dividing raw train and test data\n",
    "from sklearn.metrics import f1_score\n",
    "from scipy.sparse import csr_matrix\n",
    "\n",
    "X = final['CleanedText']\n",
    "y = np.array(new_labels)\n",
    "\n",
    "X_train = X[:int(0.7*len(X))]\n",
    "y_train = y[:int(0.7*len(y))]\n",
    "X_test = X[len(X_train):]\n",
    "y_test = y[len(y_train):]\n",
    "\n",
    "X_cv_train = X_train[:int(0.7*len(X_train))]\n",
    "y_cv_train = y_train[:int(0.7*len(y_train))]\n",
    "X_cv_test = X_train[len(X_cv_train):]\n",
    "y_cv_test = y_train[len(y_cv_train):]\n",
    "\n",
    "# Train your own Word2Vec model using your own text corpus\n",
    "i=0\n",
    "list_of_sent1=[]\n",
    "for sent in X_cv_train:\n",
    "    list_of_sent1.append(sent.split())\n",
    "    \n",
    "    \n",
    "print(X_cv_train[0])\n",
    "print(\"*****************************************************************\")\n",
    "print(list_of_sent1[0])"
   ]
  },
  {
   "cell_type": "code",
   "execution_count": 23,
   "metadata": {
    "colab": {
     "base_uri": "https://localhost:8080/",
     "height": 71
    },
    "colab_type": "code",
    "id": "LF80PO0ynqOa",
    "outputId": "68277fa7-2c77-4397-ce88-3722930c41b7"
   },
   "outputs": [
    {
     "name": "stdout",
     "output_type": "stream",
     "text": [
      "number of words that occured minimum 5 times  8472\n",
      "sample words  ['easi', 'use', 'make', 'mess', 'offer', 'vibrant', 'color', 'taint', 'would', 'high', 'recommend', 'anyon', 'like', 'decor', 'much', 'easier', 'wilson', 'past', 'frost', 'simpl', 'complaint', 'find', 'year', 'ago', 'must', 'often', 'michael', 'keaton', 'bring', 'distinguish', 'characterist', 'beetlejuic', 'mere', 'act', 'bizarr', 'script', 'stun', 'movi', 'come', 'focus', 'one', 'snack', 'popcorn', 'two', 'coupl', 'geena', 'davi', 'alec', 'baldwin', 'die']\n"
     ]
    }
   ],
   "source": [
    "# min_count = 5 considers only words that occured atleast 5 times\n",
    "w2v_model=Word2Vec(list_of_sent1,min_count=5,size=50, workers=4)\n",
    "\n",
    "w2v_words = list(w2v_model.wv.vocab)\n",
    "print(\"number of words that occured minimum 5 times \",len(w2v_words))\n",
    "print(\"sample words \", w2v_words[0:50])"
   ]
  },
  {
   "cell_type": "code",
   "execution_count": 24,
   "metadata": {
    "colab": {
     "base_uri": "https://localhost:8080/",
     "height": 187
    },
    "colab_type": "code",
    "id": "lNWTd1l_n7ef",
    "outputId": "d0e6786a-88e2-4d11-fab5-ec4594709e4e"
   },
   "outputs": [
    {
     "data": {
      "text/plain": [
       "[('yummi', 0.7638883590698242),\n",
       " ('delici', 0.7609142661094666),\n",
       " ('satisfi', 0.6859474182128906),\n",
       " ('hearti', 0.683555543422699),\n",
       " ('crispi', 0.6527554988861084),\n",
       " ('good', 0.6357921957969666),\n",
       " ('incred', 0.6317739486694336),\n",
       " ('dens', 0.6297272443771362),\n",
       " ('crunchi', 0.6285186409950256),\n",
       " ('crisp', 0.6279142498970032)]"
      ]
     },
     "execution_count": 24,
     "metadata": {},
     "output_type": "execute_result"
    }
   ],
   "source": [
    "w2v_model.wv.most_similar('tasti')"
   ]
  },
  {
   "cell_type": "code",
   "execution_count": 25,
   "metadata": {
    "colab": {
     "base_uri": "https://localhost:8080/",
     "height": 187
    },
    "colab_type": "code",
    "id": "BazSTTpuoAgp",
    "outputId": "04d71089-5967-487a-d442-a3d3c9aafe75"
   },
   "outputs": [
    {
     "data": {
      "text/plain": [
       "[('hate', 0.6483539342880249),\n",
       " ('appeal', 0.6457335352897644),\n",
       " ('remind', 0.6283673644065857),\n",
       " ('prefer', 0.6212931871414185),\n",
       " ('weird', 0.6061646938323975),\n",
       " ('good', 0.6032252907752991),\n",
       " ('think', 0.5980886220932007),\n",
       " ('enjoy', 0.5962779521942139),\n",
       " ('terribl', 0.5942579507827759),\n",
       " ('okay', 0.5924064517021179)]"
      ]
     },
     "execution_count": 25,
     "metadata": {},
     "output_type": "execute_result"
    }
   ],
   "source": [
    "w2v_model.wv.most_similar('like')"
   ]
  },
  {
   "cell_type": "code",
   "execution_count": 26,
   "metadata": {
    "colab": {
     "base_uri": "https://localhost:8080/",
     "height": 34
    },
    "colab_type": "code",
    "id": "gnESgK9vofk3",
    "outputId": "08947849-a778-4937-b626-e97ec29c5d76"
   },
   "outputs": [
    {
     "name": "stderr",
     "output_type": "stream",
     "text": [
      "100%|██████████| 39200/39200 [00:44<00:00, 872.69it/s] \n"
     ]
    }
   ],
   "source": [
    "# average Word2Vec\n",
    "# compute average word2vec for each review.\n",
    "cv_train_sent_vectors = []; # the avg-w2v for each sentence/review is stored in this list\n",
    "for sent in tqdm(list_of_sent1): # for each review/sentence\n",
    "    sent_vec = np.zeros(50) # as word vectors are of zero length\n",
    "    cnt_words =0; # num of words with a valid vector in the sentence/review\n",
    "    for word in sent: # for each word in a review/sentence\n",
    "        if word in w2v_words:\n",
    "            vec = w2v_model.wv[word]\n",
    "            sent_vec += vec\n",
    "            cnt_words += 1\n",
    "    if cnt_words != 0:\n",
    "        sent_vec /= cnt_words\n",
    "    cv_train_sent_vectors.append(sent_vec)\n",
    "cv_train_sent_vectors=csr_matrix(cv_train_sent_vectors)"
   ]
  },
  {
   "cell_type": "code",
   "execution_count": 27,
   "metadata": {
    "colab": {
     "base_uri": "https://localhost:8080/",
     "height": 51
    },
    "colab_type": "code",
    "id": "OU1gVd0to28z",
    "outputId": "041bad68-bfb8-48b7-dac5-a49e167fe967"
   },
   "outputs": [
    {
     "name": "stderr",
     "output_type": "stream",
     "text": [
      "100%|██████████| 16800/16800 [00:13<00:00, 1289.31it/s]"
     ]
    },
    {
     "name": "stdout",
     "output_type": "stream",
     "text": [
      "(16800, 50)\n"
     ]
    },
    {
     "name": "stderr",
     "output_type": "stream",
     "text": [
      "\n"
     ]
    }
   ],
   "source": [
    "# vectorzing X_cv_test\n",
    "# Train your own Word2Vec model using your own text corpus\n",
    "i=0\n",
    "list_of_sent2=[]\n",
    "for sent in X_cv_test:\n",
    "    list_of_sent2.append(sent.split())\n",
    "    \n",
    "# average Word2Vec\n",
    "# compute average word2vec for each review.\n",
    "cv_test_sent_vectors = []; # the avg-w2v for each sentence/review is stored in this list\n",
    "for sent in tqdm(list_of_sent2): # for each review/sentence\n",
    "    sent_vec = np.zeros(50) # as word vectors are of zero length\n",
    "    cnt_words =0; # num of words with a valid vector in the sentence/review\n",
    "    for word in sent: # for each word in a review/sentence\n",
    "        if word in w2v_words:\n",
    "            vec = w2v_model.wv[word]\n",
    "            sent_vec += vec\n",
    "            cnt_words += 1\n",
    "    if cnt_words != 0:\n",
    "        sent_vec /= cnt_words\n",
    "    cv_test_sent_vectors.append(sent_vec)\n",
    "cv_test_sent_vectors=csr_matrix(cv_test_sent_vectors)\n",
    "print(cv_test_sent_vectors.shape)"
   ]
  },
  {
   "cell_type": "code",
   "execution_count": 28,
   "metadata": {
    "colab": {
     "base_uri": "https://localhost:8080/",
     "height": 670
    },
    "colab_type": "code",
    "id": "zDTtJGHhqgAH",
    "outputId": "b0066d2a-e714-4512-8024-7890d364261f"
   },
   "outputs": [
    {
     "name": "stderr",
     "output_type": "stream",
     "text": [
      "  5%|▍         | 1/21 [02:25<48:31, 145.55s/it]"
     ]
    },
    {
     "name": "stdout",
     "output_type": "stream",
     "text": [
      "CV weighted f1 for k = 5 is 74.875142%\n"
     ]
    },
    {
     "name": "stderr",
     "output_type": "stream",
     "text": [
      "\r",
      " 10%|▉         | 2/21 [04:48<45:52, 144.87s/it]"
     ]
    },
    {
     "name": "stdout",
     "output_type": "stream",
     "text": [
      "CV weighted f1 for k = 7 is 74.682175%\n"
     ]
    },
    {
     "name": "stderr",
     "output_type": "stream",
     "text": [
      "\r",
      " 14%|█▍        | 3/21 [07:13<43:24, 144.72s/it]"
     ]
    },
    {
     "name": "stdout",
     "output_type": "stream",
     "text": [
      "CV weighted f1 for k = 11 is 74.725713%\n"
     ]
    },
    {
     "name": "stderr",
     "output_type": "stream",
     "text": [
      "\r",
      " 19%|█▉        | 4/21 [09:36<40:51, 144.22s/it]"
     ]
    },
    {
     "name": "stdout",
     "output_type": "stream",
     "text": [
      "CV weighted f1 for k = 13 is 74.760728%\n"
     ]
    },
    {
     "name": "stderr",
     "output_type": "stream",
     "text": [
      "\r",
      " 24%|██▍       | 5/21 [12:01<38:31, 144.48s/it]"
     ]
    },
    {
     "name": "stdout",
     "output_type": "stream",
     "text": [
      "CV weighted f1 for k = 17 is 74.753364%\n"
     ]
    },
    {
     "name": "stderr",
     "output_type": "stream",
     "text": [
      "\r",
      " 29%|██▊       | 6/21 [14:24<36:02, 144.17s/it]"
     ]
    },
    {
     "name": "stdout",
     "output_type": "stream",
     "text": [
      "CV weighted f1 for k = 19 is 74.753364%\n"
     ]
    },
    {
     "name": "stderr",
     "output_type": "stream",
     "text": [
      "\r",
      " 33%|███▎      | 7/21 [16:48<33:35, 143.96s/it]"
     ]
    },
    {
     "name": "stdout",
     "output_type": "stream",
     "text": [
      "CV weighted f1 for k = 23 is 74.739027%\n"
     ]
    },
    {
     "name": "stderr",
     "output_type": "stream",
     "text": [
      "\r",
      " 38%|███▊      | 8/21 [19:12<31:11, 143.98s/it]"
     ]
    },
    {
     "name": "stdout",
     "output_type": "stream",
     "text": [
      "CV weighted f1 for k = 29 is 74.739027%\n"
     ]
    },
    {
     "name": "stderr",
     "output_type": "stream",
     "text": [
      "\r",
      " 43%|████▎     | 9/21 [21:35<28:46, 143.86s/it]"
     ]
    },
    {
     "name": "stdout",
     "output_type": "stream",
     "text": [
      "CV weighted f1 for k = 31 is 74.739027%\n"
     ]
    },
    {
     "name": "stderr",
     "output_type": "stream",
     "text": [
      "\r",
      " 48%|████▊     | 10/21 [24:00<26:24, 144.07s/it]"
     ]
    },
    {
     "name": "stdout",
     "output_type": "stream",
     "text": [
      "CV weighted f1 for k = 37 is 74.739027%\n"
     ]
    },
    {
     "name": "stderr",
     "output_type": "stream",
     "text": [
      "\r",
      " 52%|█████▏    | 11/21 [26:23<23:56, 143.69s/it]"
     ]
    },
    {
     "name": "stdout",
     "output_type": "stream",
     "text": [
      "CV weighted f1 for k = 41 is 74.739027%\n"
     ]
    },
    {
     "name": "stderr",
     "output_type": "stream",
     "text": [
      "\r",
      " 57%|█████▋    | 12/21 [28:47<21:35, 143.90s/it]"
     ]
    },
    {
     "name": "stdout",
     "output_type": "stream",
     "text": [
      "CV weighted f1 for k = 43 is 74.739027%\n"
     ]
    },
    {
     "name": "stderr",
     "output_type": "stream",
     "text": [
      "\r",
      " 62%|██████▏   | 13/21 [31:11<19:10, 143.86s/it]"
     ]
    },
    {
     "name": "stdout",
     "output_type": "stream",
     "text": [
      "CV weighted f1 for k = 47 is 74.739027%\n"
     ]
    },
    {
     "name": "stderr",
     "output_type": "stream",
     "text": [
      "\r",
      " 67%|██████▋   | 14/21 [33:36<16:48, 144.11s/it]"
     ]
    },
    {
     "name": "stdout",
     "output_type": "stream",
     "text": [
      "CV weighted f1 for k = 53 is 74.739027%\n"
     ]
    },
    {
     "name": "stderr",
     "output_type": "stream",
     "text": [
      "\r",
      " 71%|███████▏  | 15/21 [35:58<14:22, 143.74s/it]"
     ]
    },
    {
     "name": "stdout",
     "output_type": "stream",
     "text": [
      "CV weighted f1 for k = 59 is 74.739027%\n"
     ]
    },
    {
     "name": "stderr",
     "output_type": "stream",
     "text": [
      "\r",
      " 76%|███████▌  | 16/21 [38:22<11:57, 143.58s/it]"
     ]
    },
    {
     "name": "stdout",
     "output_type": "stream",
     "text": [
      "CV weighted f1 for k = 61 is 74.739027%\n"
     ]
    },
    {
     "name": "stderr",
     "output_type": "stream",
     "text": [
      "\r",
      " 81%|████████  | 17/21 [40:43<09:31, 142.94s/it]"
     ]
    },
    {
     "name": "stdout",
     "output_type": "stream",
     "text": [
      "CV weighted f1 for k = 67 is 74.739027%\n"
     ]
    },
    {
     "name": "stderr",
     "output_type": "stream",
     "text": [
      "\r",
      " 86%|████████▌ | 18/21 [43:07<07:09, 143.13s/it]"
     ]
    },
    {
     "name": "stdout",
     "output_type": "stream",
     "text": [
      "CV weighted f1 for k = 71 is 74.739027%\n"
     ]
    },
    {
     "name": "stderr",
     "output_type": "stream",
     "text": [
      "\r",
      " 90%|█████████ | 19/21 [45:28<04:45, 142.72s/it]"
     ]
    },
    {
     "name": "stdout",
     "output_type": "stream",
     "text": [
      "CV weighted f1 for k = 76 is 74.739027%\n"
     ]
    },
    {
     "name": "stderr",
     "output_type": "stream",
     "text": [
      "\r",
      " 95%|█████████▌| 20/21 [47:51<02:22, 142.57s/it]"
     ]
    },
    {
     "name": "stdout",
     "output_type": "stream",
     "text": [
      "CV weighted f1 for k = 79 is 74.739027%\n"
     ]
    },
    {
     "name": "stderr",
     "output_type": "stream",
     "text": [
      "\r",
      "100%|██████████| 21/21 [50:14<00:00, 142.71s/it]"
     ]
    },
    {
     "name": "stdout",
     "output_type": "stream",
     "text": [
      "CV weighted f1 for k = 90 is 74.739027%\n",
      "Best K:  5\n"
     ]
    },
    {
     "name": "stderr",
     "output_type": "stream",
     "text": [
      "\n"
     ]
    },
    {
     "data": {
      "image/png": "[encoded data removed]",
      "text/plain": [
       "<Figure size 432x288 with 1 Axes>"
      ]
     },
     "metadata": {
      "needs_background": "light"
     },
     "output_type": "display_data"
    }
   ],
   "source": [
    "# Preparing list with possible K-values\n",
    "neighbors = [5, 7, 11, 13, 17, 19, 23, 29, 31, 37, 41, 43, 47, 53, 59, 61, 67, 71, 76, 79, 90]\n",
    "cv_f1_scores  = []\n",
    "\n",
    "# kd_tree force KNN\n",
    "for i in tqdm(neighbors):\n",
    "  knn = KNeighborsClassifier(n_neighbors=i, algorithm='brute')\n",
    "  knn.fit(cv_train_sent_vectors, y_cv_train)\n",
    "  pred = knn.predict(cv_test_sent_vectors)\n",
    "  f1 = f1_score(y_cv_test, pred, average='weighted')*100\n",
    "  cv_f1_scores.append(f1)\n",
    "  print('CV weighted f1 for k = %d is %f%%' % (i, f1))\n",
    "  \n",
    "plt.plot(neighbors, cv_f1_scores)\n",
    "plt.xlabel('Value of K for KNN')\n",
    "plt.ylabel('Cross-Validated f1 Score')\n",
    "\n",
    "best_k = neighbors[cv_f1_scores.index(max(cv_f1_scores))]\n",
    "train_error = round((100-max(cv_f1_scores)),4)\n",
    "print('Best K: ',best_k)"
   ]
  },
  {
   "cell_type": "code",
   "execution_count": 29,
   "metadata": {
    "colab": {
     "base_uri": "https://localhost:8080/",
     "height": 51
    },
    "colab_type": "code",
    "id": "Fu8rBUBVtCsS",
    "outputId": "b4793db5-da2f-494b-feb5-db68eb0c3834"
   },
   "outputs": [
    {
     "name": "stderr",
     "output_type": "stream",
     "text": [
      "100%|██████████| 56000/56000 [01:02<00:00, 902.23it/s] \n"
     ]
    },
    {
     "name": "stdout",
     "output_type": "stream",
     "text": [
      "(56000, 50)\n"
     ]
    }
   ],
   "source": [
    "# vectorizing X_train\n",
    "\n",
    "\n",
    "# Train your own Word2Vec model using your own text corpus\n",
    "i=0\n",
    "list_of_sent3=[]\n",
    "for sent in X_train:\n",
    "    list_of_sent3.append(sent.split())\n",
    "    \n",
    "# min_count = 5 considers only words that occured atleast 5 times\n",
    "w2v_model=Word2Vec(list_of_sent3,min_count=5,size=50, workers=4)\n",
    "\n",
    "w2v_words = list(w2v_model.wv.vocab)\n",
    "\n",
    "\n",
    "# average Word2Vec\n",
    "# compute average word2vec for each review.\n",
    "X_train_sent_vectors = []; # the avg-w2v for each sentence/review is stored in this list\n",
    "for sent in tqdm(list_of_sent3): # for each review/sentence\n",
    "    sent_vec = np.zeros(50) # as word vectors are of zero length\n",
    "    cnt_words =0; # num of words with a valid vector in the sentence/review\n",
    "    for word in sent: # for each word in a review/sentence\n",
    "        if word in w2v_words:\n",
    "            vec = w2v_model.wv[word]\n",
    "            sent_vec += vec\n",
    "            cnt_words += 1\n",
    "    if cnt_words != 0:\n",
    "        sent_vec /= cnt_words\n",
    "    X_train_sent_vectors.append(sent_vec)\n",
    "X_train_sent_vectors=csr_matrix(X_train_sent_vectors)\n",
    "print(X_train_sent_vectors.shape)"
   ]
  },
  {
   "cell_type": "code",
   "execution_count": 30,
   "metadata": {
    "colab": {
     "base_uri": "https://localhost:8080/",
     "height": 51
    },
    "colab_type": "code",
    "id": "W0_06tKFt6Rh",
    "outputId": "b5e210eb-c82a-4e89-b4db-75b5c70c2861"
   },
   "outputs": [
    {
     "name": "stderr",
     "output_type": "stream",
     "text": [
      "100%|██████████| 24000/24000 [00:20<00:00, 1173.74it/s]\n"
     ]
    },
    {
     "name": "stdout",
     "output_type": "stream",
     "text": [
      "(24000, 50)\n"
     ]
    }
   ],
   "source": [
    "# vectorizing X_test\n",
    "\n",
    "\n",
    "# Train your own Word2Vec model using your own text corpus\n",
    "i=0\n",
    "list_of_sent4=[]\n",
    "for sent in X_test:\n",
    "    list_of_sent4.append(sent.split())\n",
    "    \n",
    "# average Word2Vec\n",
    "# compute average word2vec for each review.\n",
    "X_test_sent_vectors = []; # the avg-w2v for each sentence/review is stored in this list\n",
    "for sent in tqdm(list_of_sent4): # for each review/sentence\n",
    "    sent_vec = np.zeros(50) # as word vectors are of zero length\n",
    "    cnt_words =0; # num of words with a valid vector in the sentence/review\n",
    "    for word in sent: # for each word in a review/sentence\n",
    "        if word in w2v_words:\n",
    "            vec = w2v_model.wv[word]\n",
    "            sent_vec += vec\n",
    "            cnt_words += 1\n",
    "    if cnt_words != 0:\n",
    "        sent_vec /= cnt_words\n",
    "    X_test_sent_vectors.append(sent_vec)\n",
    "\n",
    "X_test_sent_vectors=csr_matrix(X_test_sent_vectors)\n",
    "print(X_test_sent_vectors.shape)\n"
   ]
  },
  {
   "cell_type": "code",
   "execution_count": 31,
   "metadata": {
    "colab": {
     "base_uri": "https://localhost:8080/",
     "height": 365
    },
    "colab_type": "code",
    "id": "qBKCTL6zt7-2",
    "outputId": "b3f1ee90-4c48-47cc-9a59-e25b3879c7fc"
   },
   "outputs": [
    {
     "name": "stdout",
     "output_type": "stream",
     "text": [
      "Weighted f1-score for k= 5  is  74.94285887277073 %\n",
      "Confusion matrix : \n",
      "[[   56  4062]\n",
      " [  312 19570]]\n"
     ]
    },
    {
     "data": {
      "text/plain": [
       "Text(0.5, 1.0, 'Heatmap for confusion matrix')"
      ]
     },
     "execution_count": 31,
     "metadata": {},
     "output_type": "execute_result"
    },
    {
     "data": {
      "image/png": "[encoded data removed]",
      "text/plain": [
       "<Figure size 432x288 with 2 Axes>"
      ]
     },
     "metadata": {
      "needs_background": "light"
     },
     "output_type": "display_data"
    }
   ],
   "source": [
    "# appling knn brute force on average word2vec\n",
    "knn = KNeighborsClassifier(n_neighbors=best_k, algorithm='brute')\n",
    "knn.fit(X_train_sent_vectors, y_train)\n",
    "pred = knn.predict(X_test_sent_vectors)\n",
    "f1 = f1_score(y_test, pred, average='weighted')*100\n",
    "test_error = round((100-f1),4)\n",
    "confusion = confusion_matrix(y_test, pred)\n",
    "print('Weighted f1-score for k=',best_k,' is ',f1,'%')\n",
    "print('Confusion matrix : ')\n",
    "print(confusion)\n",
    "x.add_row([\"Average Word2Vec Brute force\", best_k, train_error, test_error])\n",
    "import seaborn as sns\n",
    "ax = sns.heatmap(confusion, annot=True, fmt=\"d\") \n",
    "ax.set_title('Heatmap for confusion matrix')\n"
   ]
  },
  {
   "cell_type": "code",
   "execution_count": null,
   "metadata": {
    "colab": {},
    "colab_type": "code",
    "id": "ugwVP6jtuw3n"
   },
   "outputs": [],
   "source": []
  },
  {
   "cell_type": "code",
   "execution_count": 32,
   "metadata": {
    "colab": {
     "base_uri": "https://localhost:8080/",
     "height": 51
    },
    "colab_type": "code",
    "id": "rG6UHEBBuxBi",
    "outputId": "a9712b2e-c5e7-423c-bf17-025cbc3a13d4"
   },
   "outputs": [
    {
     "name": "stderr",
     "output_type": "stream",
     "text": [
      "100%|██████████| 39200/39200 [00:42<00:00, 927.88it/s] \n"
     ]
    },
    {
     "name": "stdout",
     "output_type": "stream",
     "text": [
      "39200\n"
     ]
    }
   ],
   "source": [
    "# kd-tree KNN on Average W2V\n",
    "\n",
    "# Dividing raw train and test data\n",
    "from sklearn.metrics import f1_score\n",
    "X = final['CleanedText']\n",
    "y = np.array(new_labels)\n",
    "\n",
    "X_train = X[:int(0.7*len(X))]\n",
    "y_train = y[:int(0.7*len(y))]\n",
    "X_test = X[len(X_train):]\n",
    "y_test = y[len(y_train):]\n",
    "\n",
    "X_cv_train = X_train[:int(0.7*len(X_train))]\n",
    "y_cv_train = y_train[:int(0.7*len(y_train))]\n",
    "X_cv_test = X_train[len(X_cv_train):]\n",
    "y_cv_test = y_train[len(y_cv_train):]\n",
    "\n",
    "# Train your own Word2Vec model using your own text corpus\n",
    "i=0\n",
    "list_of_sent1=[]\n",
    "for sent in X_cv_train:\n",
    "    list_of_sent1.append(sent.split())\n",
    "    \n",
    "# min_count = 5 considers only words that occured atleast 5 times\n",
    "w2v_model=Word2Vec(list_of_sent1,min_count=5,size=50, workers=4)\n",
    "\n",
    "w2v_words = list(w2v_model.wv.vocab)\n",
    "\n",
    "# average Word2Vec\n",
    "# compute average word2vec for each review.\n",
    "cv_train_sent_vectors = []; # the avg-w2v for each sentence/review is stored in this list\n",
    "for sent in tqdm(list_of_sent1): # for each review/sentence\n",
    "    sent_vec = np.zeros(50) # as word vectors are of zero length\n",
    "    cnt_words =0; # num of words with a valid vector in the sentence/review\n",
    "    for word in sent: # for each word in a review/sentence\n",
    "        if word in w2v_words:\n",
    "            vec = w2v_model.wv[word]\n",
    "            sent_vec += vec\n",
    "            cnt_words += 1\n",
    "    if cnt_words != 0:\n",
    "        sent_vec /= cnt_words\n",
    "    cv_train_sent_vectors.append(sent_vec)\n",
    "\n",
    "cv_train_sent_vectors=csr_matrix(cv_train_sent_vectors)\n",
    "cv_train_sent_vectors=cv_train_sent_vectors.todense()\n",
    "\n",
    "print(len(cv_train_sent_vectors))\n"
   ]
  },
  {
   "cell_type": "code",
   "execution_count": 33,
   "metadata": {
    "colab": {
     "base_uri": "https://localhost:8080/",
     "height": 51
    },
    "colab_type": "code",
    "id": "iCxMJB6YvYMk",
    "outputId": "f25833da-7308-41ab-8255-07835f672223"
   },
   "outputs": [
    {
     "name": "stderr",
     "output_type": "stream",
     "text": [
      "100%|██████████| 16800/16800 [00:12<00:00, 1351.74it/s]\n"
     ]
    },
    {
     "name": "stdout",
     "output_type": "stream",
     "text": [
      "16800\n"
     ]
    }
   ],
   "source": [
    "# vectorzing X_cv_test\n",
    "# Train your own Word2Vec model using your own text corpus\n",
    "i=0\n",
    "list_of_sent2=[]\n",
    "for sent in X_cv_test:\n",
    "    list_of_sent2.append(sent.split())\n",
    "\n",
    "# average Word2Vec\n",
    "# compute average word2vec for each review.\n",
    "cv_test_sent_vectors = []; # the avg-w2v for each sentence/review is stored in this list\n",
    "for sent in tqdm(list_of_sent2): # for each review/sentence\n",
    "    sent_vec = np.zeros(50) # as word vectors are of zero length\n",
    "    cnt_words =0; # num of words with a valid vector in the sentence/review\n",
    "    for word in sent: # for each word in a review/sentence\n",
    "        if word in w2v_words:\n",
    "            vec = w2v_model.wv[word]\n",
    "            sent_vec += vec\n",
    "            cnt_words += 1\n",
    "    if cnt_words != 0:\n",
    "        sent_vec /= cnt_words\n",
    "    cv_test_sent_vectors.append(sent_vec)\n",
    "    \n",
    "cv_test_sent_vectors=csr_matrix(cv_test_sent_vectors)\n",
    "cv_test_sent_vectors=cv_test_sent_vectors.todense()\n",
    "print(len(cv_test_sent_vectors))\n"
   ]
  },
  {
   "cell_type": "code",
   "execution_count": 34,
   "metadata": {
    "colab": {
     "base_uri": "https://localhost:8080/",
     "height": 670
    },
    "colab_type": "code",
    "id": "uIDbL0XquQXq",
    "outputId": "edae0d2a-28b1-4e5c-d7d9-bb2fa2028731"
   },
   "outputs": [
    {
     "name": "stderr",
     "output_type": "stream",
     "text": [
      "  5%|▍         | 1/21 [03:19<1:06:22, 199.11s/it]"
     ]
    },
    {
     "name": "stdout",
     "output_type": "stream",
     "text": [
      "CV weighted f1 for k = 5 is 74.531431%\n"
     ]
    },
    {
     "name": "stderr",
     "output_type": "stream",
     "text": [
      "\r",
      " 10%|▉         | 2/21 [06:36<1:02:53, 198.59s/it]"
     ]
    },
    {
     "name": "stdout",
     "output_type": "stream",
     "text": [
      "CV weighted f1 for k = 7 is 74.720680%\n"
     ]
    },
    {
     "name": "stderr",
     "output_type": "stream",
     "text": [
      "\r",
      " 14%|█▍        | 3/21 [09:51<59:13, 197.40s/it]  "
     ]
    },
    {
     "name": "stdout",
     "output_type": "stream",
     "text": [
      "CV weighted f1 for k = 11 is 74.787860%\n"
     ]
    },
    {
     "name": "stderr",
     "output_type": "stream",
     "text": [
      "\r",
      " 19%|█▉        | 4/21 [13:08<55:53, 197.28s/it]"
     ]
    },
    {
     "name": "stdout",
     "output_type": "stream",
     "text": [
      "CV weighted f1 for k = 13 is 74.760728%\n"
     ]
    },
    {
     "name": "stderr",
     "output_type": "stream",
     "text": [
      "\r",
      " 24%|██▍       | 5/21 [16:23<52:27, 196.74s/it]"
     ]
    },
    {
     "name": "stdout",
     "output_type": "stream",
     "text": [
      "CV weighted f1 for k = 17 is 74.750410%\n"
     ]
    },
    {
     "name": "stderr",
     "output_type": "stream",
     "text": [
      "\r",
      " 29%|██▊       | 6/21 [19:38<49:03, 196.24s/it]"
     ]
    },
    {
     "name": "stdout",
     "output_type": "stream",
     "text": [
      "CV weighted f1 for k = 19 is 74.753364%\n"
     ]
    },
    {
     "name": "stderr",
     "output_type": "stream",
     "text": [
      "\r",
      " 33%|███▎      | 7/21 [22:55<45:50, 196.46s/it]"
     ]
    },
    {
     "name": "stdout",
     "output_type": "stream",
     "text": [
      "CV weighted f1 for k = 23 is 74.739027%\n"
     ]
    },
    {
     "name": "stderr",
     "output_type": "stream",
     "text": [
      "\r",
      " 38%|███▊      | 8/21 [26:12<42:33, 196.46s/it]"
     ]
    },
    {
     "name": "stdout",
     "output_type": "stream",
     "text": [
      "CV weighted f1 for k = 29 is 74.739027%\n"
     ]
    },
    {
     "name": "stderr",
     "output_type": "stream",
     "text": [
      "\r",
      " 43%|████▎     | 9/21 [29:29<39:20, 196.74s/it]"
     ]
    },
    {
     "name": "stdout",
     "output_type": "stream",
     "text": [
      "CV weighted f1 for k = 31 is 74.739027%\n"
     ]
    },
    {
     "name": "stderr",
     "output_type": "stream",
     "text": [
      "\r",
      " 48%|████▊     | 10/21 [32:43<35:54, 195.88s/it]"
     ]
    },
    {
     "name": "stdout",
     "output_type": "stream",
     "text": [
      "CV weighted f1 for k = 37 is 74.739027%\n"
     ]
    },
    {
     "name": "stderr",
     "output_type": "stream",
     "text": [
      "\r",
      " 52%|█████▏    | 11/21 [35:57<32:34, 195.43s/it]"
     ]
    },
    {
     "name": "stdout",
     "output_type": "stream",
     "text": [
      "CV weighted f1 for k = 41 is 74.739027%\n"
     ]
    },
    {
     "name": "stderr",
     "output_type": "stream",
     "text": [
      "\r",
      " 57%|█████▋    | 12/21 [39:14<29:22, 195.80s/it]"
     ]
    },
    {
     "name": "stdout",
     "output_type": "stream",
     "text": [
      "CV weighted f1 for k = 43 is 74.739027%\n"
     ]
    },
    {
     "name": "stderr",
     "output_type": "stream",
     "text": [
      "\r",
      " 62%|██████▏   | 13/21 [42:30<26:07, 195.98s/it]"
     ]
    },
    {
     "name": "stdout",
     "output_type": "stream",
     "text": [
      "CV weighted f1 for k = 47 is 74.739027%\n"
     ]
    },
    {
     "name": "stderr",
     "output_type": "stream",
     "text": [
      "\r",
      " 67%|██████▋   | 14/21 [45:44<22:48, 195.44s/it]"
     ]
    },
    {
     "name": "stdout",
     "output_type": "stream",
     "text": [
      "CV weighted f1 for k = 53 is 74.739027%\n"
     ]
    },
    {
     "name": "stderr",
     "output_type": "stream",
     "text": [
      "\r",
      " 71%|███████▏  | 15/21 [49:02<19:36, 196.02s/it]"
     ]
    },
    {
     "name": "stdout",
     "output_type": "stream",
     "text": [
      "CV weighted f1 for k = 59 is 74.739027%\n"
     ]
    },
    {
     "name": "stderr",
     "output_type": "stream",
     "text": [
      "\r",
      " 76%|███████▌  | 16/21 [52:17<16:18, 195.75s/it]"
     ]
    },
    {
     "name": "stdout",
     "output_type": "stream",
     "text": [
      "CV weighted f1 for k = 61 is 74.739027%\n"
     ]
    },
    {
     "name": "stderr",
     "output_type": "stream",
     "text": [
      "\r",
      " 81%|████████  | 17/21 [55:36<13:07, 196.83s/it]"
     ]
    },
    {
     "name": "stdout",
     "output_type": "stream",
     "text": [
      "CV weighted f1 for k = 67 is 74.739027%\n"
     ]
    },
    {
     "name": "stderr",
     "output_type": "stream",
     "text": [
      "\r",
      " 86%|████████▌ | 18/21 [58:56<09:52, 197.56s/it]"
     ]
    },
    {
     "name": "stdout",
     "output_type": "stream",
     "text": [
      "CV weighted f1 for k = 71 is 74.739027%\n"
     ]
    },
    {
     "name": "stderr",
     "output_type": "stream",
     "text": [
      "\r",
      " 90%|█████████ | 19/21 [1:02:12<06:34, 197.29s/it]"
     ]
    },
    {
     "name": "stdout",
     "output_type": "stream",
     "text": [
      "CV weighted f1 for k = 76 is 74.739027%\n"
     ]
    },
    {
     "name": "stderr",
     "output_type": "stream",
     "text": [
      "\r",
      " 95%|█████████▌| 20/21 [1:05:30<03:17, 197.51s/it]"
     ]
    },
    {
     "name": "stdout",
     "output_type": "stream",
     "text": [
      "CV weighted f1 for k = 79 is 74.739027%\n"
     ]
    },
    {
     "name": "stderr",
     "output_type": "stream",
     "text": [
      "\r",
      "100%|██████████| 21/21 [1:08:49<00:00, 197.92s/it]"
     ]
    },
    {
     "name": "stdout",
     "output_type": "stream",
     "text": [
      "CV weighted f1 for k = 90 is 74.739027%\n",
      "Best K:  11\n"
     ]
    },
    {
     "name": "stderr",
     "output_type": "stream",
     "text": [
      "\n"
     ]
    },
    {
     "data": {
      "image/png": "[encoded data removed]",
      "text/plain": [
       "<Figure size 432x288 with 1 Axes>"
      ]
     },
     "metadata": {
      "needs_background": "light"
     },
     "output_type": "display_data"
    }
   ],
   "source": [
    "# Preparing list with possible K-values\n",
    "neighbors = [5, 7, 11, 13, 17, 19, 23, 29, 31, 37, 41, 43, 47, 53, 59, 61, 67, 71, 76, 79, 90]\n",
    "cv_f1_scores  = []\n",
    "\n",
    "# kd_tree force KNN\n",
    "for i in tqdm(neighbors):\n",
    "  knn = KNeighborsClassifier(n_neighbors=i, algorithm='kd_tree')\n",
    "  knn.fit(cv_train_sent_vectors, y_cv_train)\n",
    "  pred = knn.predict(cv_test_sent_vectors)\n",
    "  f1 = f1_score(y_cv_test, pred, average='weighted')*100\n",
    "  cv_f1_scores.append(f1)\n",
    "  print('CV weighted f1 for k = %d is %f%%' % (i, f1))\n",
    "  \n",
    "plt.plot(neighbors, cv_f1_scores)\n",
    "plt.xlabel('Value of K for KNN')\n",
    "plt.ylabel('Cross-Validated f1 Score')\n",
    "\n",
    "best_k = neighbors[cv_f1_scores.index(max(cv_f1_scores))]\n",
    "train_error = round((100-max(cv_f1_scores)),4)\n",
    "print('Best K: ',best_k)"
   ]
  },
  {
   "cell_type": "code",
   "execution_count": 35,
   "metadata": {
    "colab": {
     "base_uri": "https://localhost:8080/",
     "height": 51
    },
    "colab_type": "code",
    "id": "MCSH0iH4wGFM",
    "outputId": "47694643-df35-48aa-f4c1-1772f8f35159"
   },
   "outputs": [
    {
     "name": "stderr",
     "output_type": "stream",
     "text": [
      "100%|██████████| 56000/56000 [01:00<00:00, 921.23it/s] \n"
     ]
    },
    {
     "name": "stdout",
     "output_type": "stream",
     "text": [
      "56000\n"
     ]
    }
   ],
   "source": [
    "# vectorizing X_train\n",
    "\n",
    "\n",
    "# Train your own Word2Vec model using your own text corpus\n",
    "i=0\n",
    "list_of_sent3=[]\n",
    "for sent in X_train:\n",
    "    list_of_sent3.append(sent.split())\n",
    "    \n",
    "# min_count = 5 considers only words that occured atleast 5 times\n",
    "w2v_model=Word2Vec(list_of_sent3,min_count=5,size=50, workers=4)\n",
    "\n",
    "w2v_words = list(w2v_model.wv.vocab)\n",
    "\n",
    "\n",
    "# average Word2Vec\n",
    "# compute average word2vec for each review.\n",
    "X_train_sent_vectors = []; # the avg-w2v for each sentence/review is stored in this list\n",
    "for sent in tqdm(list_of_sent3): # for each review/sentence\n",
    "    sent_vec = np.zeros(50) # as word vectors are of zero length\n",
    "    cnt_words =0; # num of words with a valid vector in the sentence/review\n",
    "    for word in sent: # for each word in a review/sentence\n",
    "        if word in w2v_words:\n",
    "            vec = w2v_model.wv[word]\n",
    "            sent_vec += vec\n",
    "            cnt_words += 1\n",
    "    if cnt_words != 0:\n",
    "        sent_vec /= cnt_words\n",
    "    X_train_sent_vectors.append(sent_vec)\n",
    "    \n",
    "X_train_sent_vectors=csr_matrix(X_train_sent_vectors)\n",
    "X_train_sent_vectors=X_train_sent_vectors.todense()\n",
    "print(len(X_train_sent_vectors))\n"
   ]
  },
  {
   "cell_type": "code",
   "execution_count": 36,
   "metadata": {
    "colab": {
     "base_uri": "https://localhost:8080/",
     "height": 51
    },
    "colab_type": "code",
    "id": "L2F3f7djwOnU",
    "outputId": "2df1aea3-c546-4f23-82a4-3d2c58fa99fb"
   },
   "outputs": [
    {
     "name": "stderr",
     "output_type": "stream",
     "text": [
      "100%|██████████| 24000/24000 [00:20<00:00, 1148.95it/s]\n"
     ]
    },
    {
     "name": "stdout",
     "output_type": "stream",
     "text": [
      "24000\n"
     ]
    }
   ],
   "source": [
    "# vectorizing X_test\n",
    "\n",
    "\n",
    "# Train your own Word2Vec model using your own text corpus\n",
    "i=0\n",
    "list_of_sent4=[]\n",
    "for sent in X_test:\n",
    "    list_of_sent4.append(sent.split())\n",
    "    \n",
    "\n",
    "# average Word2Vec\n",
    "# compute average word2vec for each review.\n",
    "X_test_sent_vectors = []; # the avg-w2v for each sentence/review is stored in this list\n",
    "for sent in tqdm(list_of_sent4): # for each review/sentence\n",
    "    sent_vec = np.zeros(50) # as word vectors are of zero length\n",
    "    cnt_words =0; # num of words with a valid vector in the sentence/review\n",
    "    for word in sent: # for each word in a review/sentence\n",
    "        if word in w2v_words:\n",
    "            vec = w2v_model.wv[word]\n",
    "            sent_vec += vec\n",
    "            cnt_words += 1\n",
    "    if cnt_words != 0:\n",
    "        sent_vec /= cnt_words\n",
    "    X_test_sent_vectors.append(sent_vec)\n",
    "    \n",
    "X_test_sent_vectors=csr_matrix(X_test_sent_vectors)\n",
    "X_test_sent_vectors=X_test_sent_vectors.todense()\n",
    "print(len(X_test_sent_vectors))\n"
   ]
  },
  {
   "cell_type": "code",
   "execution_count": 37,
   "metadata": {
    "colab": {
     "base_uri": "https://localhost:8080/",
     "height": 365
    },
    "colab_type": "code",
    "id": "NImIV3nhwTjt",
    "outputId": "ea5e89c3-6efa-4c01-a2ac-a0ab1e917b14"
   },
   "outputs": [
    {
     "name": "stdout",
     "output_type": "stream",
     "text": [
      "Weighted f1-score for k= 11  is  75.06662891884454 %\n",
      "Confusion matrix : \n",
      "[[    3  4115]\n",
      " [   15 19867]]\n"
     ]
    },
    {
     "data": {
      "text/plain": [
       "Text(0.5, 1.0, 'Heatmap for confusion matrix')"
      ]
     },
     "execution_count": 37,
     "metadata": {},
     "output_type": "execute_result"
    },
    {
     "data": {
      "image/png": "[encoded data removed]",
      "text/plain": [
       "<Figure size 432x288 with 2 Axes>"
      ]
     },
     "metadata": {
      "needs_background": "light"
     },
     "output_type": "display_data"
    }
   ],
   "source": [
    "# appling knn kd_tree on average word2vec\n",
    "knn = KNeighborsClassifier(n_neighbors=best_k, algorithm='kd_tree')\n",
    "knn.fit(X_train_sent_vectors, y_train)\n",
    "pred = knn.predict(X_test_sent_vectors)\n",
    "f1 = f1_score(y_test, pred, average='weighted')*100\n",
    "test_error = round((100-f1),4)\n",
    "confusion = confusion_matrix(y_test, pred)\n",
    "print('Weighted f1-score for k=',best_k,' is ',f1,'%')\n",
    "print('Confusion matrix : ')\n",
    "print(confusion)\n",
    "x.add_row([\"Average Word2Vec - kd_tree \", best_k, train_error, test_error])\n",
    "import seaborn as sns\n",
    "ax = sns.heatmap(confusion, annot=True, fmt=\"d\") \n",
    "ax.set_title('Heatmap for confusion matrix')\n"
   ]
  },
  {
   "cell_type": "code",
   "execution_count": null,
   "metadata": {
    "colab": {},
    "colab_type": "code",
    "id": "37iFHpHIwdiJ"
   },
   "outputs": [],
   "source": []
  },
  {
   "cell_type": "markdown",
   "metadata": {
    "colab_type": "text",
    "id": "bVSRn-u7WCCS"
   },
   "source": [
    "# TFIDF-W2V"
   ]
  },
  {
   "cell_type": "code",
   "execution_count": 38,
   "metadata": {
    "colab": {},
    "colab_type": "code",
    "id": "N9H9Q4m1WCCm"
   },
   "outputs": [],
   "source": [
    "# Dividing raw train and test data\n",
    "from sklearn.metrics import f1_score\n",
    "X = final['CleanedText']\n",
    "y = np.array(new_labels)\n",
    "\n",
    "X_train = X[:int(0.7*len(X))]\n",
    "y_train = y[:int(0.7*len(y))]\n",
    "X_test = X[len(X_train):]\n",
    "y_test = y[len(y_train):]\n",
    "\n",
    "X_cv_train = X_train[:int(0.7*len(X_train))]\n",
    "y_cv_train = y_train[:int(0.7*len(y_train))]\n",
    "X_cv_test = X_train[len(X_cv_train):]\n",
    "y_cv_test = y_train[len(y_cv_train):]\n",
    "\n",
    "i=0\n",
    "list_of_sent=[]\n",
    "for sent in X_cv_train:\n",
    "    list_of_sent.append(sent.split())\n",
    "\n",
    "model = TfidfVectorizer()\n",
    "tf_idf_matrix = model.fit_transform(X_cv_train)\n",
    "cv_train_tfidf_voc =model.vocabulary_\n",
    "# we are converting a dictionary with word as a key, and the idf as a value\n",
    "dictionary = dict(zip(model.get_feature_names(), list(model.idf_)))"
   ]
  },
  {
   "cell_type": "code",
   "execution_count": 39,
   "metadata": {
    "colab": {
     "base_uri": "https://localhost:8080/",
     "height": 34
    },
    "colab_type": "code",
    "id": "pDLapuN7y1MW",
    "outputId": "6d8acf2b-8e0e-4888-94b4-3ee816bfb3e1"
   },
   "outputs": [
    {
     "name": "stderr",
     "output_type": "stream",
     "text": [
      "100%|██████████| 39200/39200 [16:17<00:00, 40.11it/s]\n"
     ]
    }
   ],
   "source": [
    "# TF-IDF weighted Word2Vec\n",
    "tfidf_feat = model.get_feature_names() # tfidf words/col-names\n",
    "# final_tf_idf is the sparse matrix with row= sentence, col=word and cell_val = tfidf\n",
    "\n",
    "cv_train_tfidf_sent_vectors = []; # the tfidf-w2v for each sentence/review is stored in this list\n",
    "row=0;\n",
    "for sent in tqdm(list_of_sent): # for each review/sentence \n",
    "    sent_vec = np.zeros(50) # as word vectors are of zero length\n",
    "    weight_sum =0; # num of words with a valid vector in the sentence/review\n",
    "    for word in sent: # for each word in a review/sentence\n",
    "        if word in w2v_words:\n",
    "            vec = w2v_model.wv[word]\n",
    "            #tf_idf = tf_idf_matrix[row, tfidf_feat.index(word)]\n",
    "            # to reduce the computation we are \n",
    "            # dictionary[word] = idf value of word in whole courpus\n",
    "            # sent.count(word) = tf valeus of word in this review\n",
    "            tf_idf = dictionary[word]*sent.count(word)\n",
    "            sent_vec += (vec * tf_idf)\n",
    "            weight_sum += tf_idf\n",
    "    if weight_sum != 0:\n",
    "        sent_vec /= weight_sum\n",
    "    cv_train_tfidf_sent_vectors.append(sent_vec)\n",
    "    row += 1\n",
    "    \n",
    "cv_train_sent_vectors=csr_matrix(cv_train_sent_vectors)\n"
   ]
  },
  {
   "cell_type": "code",
   "execution_count": 40,
   "metadata": {
    "colab": {
     "base_uri": "https://localhost:8080/",
     "height": 34
    },
    "colab_type": "code",
    "id": "bXZJ8VElzN3J",
    "outputId": "4ba71d36-73eb-4dcc-be04-1b9f5acc3cde"
   },
   "outputs": [
    {
     "name": "stderr",
     "output_type": "stream",
     "text": [
      "100%|██████████| 16800/16800 [06:44<00:00, 41.52it/s]\n"
     ]
    }
   ],
   "source": [
    "i=0\n",
    "list_of_sent4=[]\n",
    "for sent in X_cv_test:\n",
    "    list_of_sent4.append(sent.split())\n",
    "\n",
    "\n",
    "cv_test_tfidf_sent_vectors = []; # the tfidf-w2v for each sentence/review is stored in this list\n",
    "row=0;\n",
    "for sent in tqdm(list_of_sent4): # for each review/sentence \n",
    "    sent_vec = np.zeros(50) # as word vectors are of zero length\n",
    "    weight_sum =0; # num of words with a valid vector in the sentence/review\n",
    "    for word in sent: # for each word in a review/sentence\n",
    "        if word in w2v_words:\n",
    "            vec = w2v_model.wv[word]\n",
    "            #tf_idf = tf_idf_matrix[row, tfidf_feat.index(word)]\n",
    "            # to reduce the computation we are \n",
    "            # dictionary[word] = idf value of word in whole courpus\n",
    "            # sent.count(word) = tf valeus of word in this review\n",
    "            tf_idf = dictionary[word]*sent.count(word)\n",
    "            sent_vec += (vec * tf_idf)\n",
    "            weight_sum += tf_idf\n",
    "    if weight_sum != 0:\n",
    "        sent_vec /= weight_sum\n",
    "    cv_test_tfidf_sent_vectors.append(sent_vec)\n",
    "    row += 1\n",
    "    \n",
    "cv_test_sent_vectors=csr_matrix(cv_test_sent_vectors)\n"
   ]
  },
  {
   "cell_type": "code",
   "execution_count": 41,
   "metadata": {
    "colab": {
     "base_uri": "https://localhost:8080/",
     "height": 653
    },
    "colab_type": "code",
    "id": "WRiCt-j8ykyI",
    "outputId": "20a9c21a-255e-4957-b220-e2ec4ddae1d2"
   },
   "outputs": [
    {
     "name": "stdout",
     "output_type": "stream",
     "text": [
      "CV weighted f1 for k = 5 is 74.739027%\n",
      "CV weighted f1 for k = 7 is 74.739027%\n",
      "CV weighted f1 for k = 11 is 74.739027%\n",
      "CV weighted f1 for k = 13 is 74.739027%\n",
      "CV weighted f1 for k = 17 is 74.739027%\n",
      "CV weighted f1 for k = 19 is 74.739027%\n",
      "CV weighted f1 for k = 23 is 74.739027%\n",
      "CV weighted f1 for k = 29 is 74.739027%\n",
      "CV weighted f1 for k = 31 is 74.739027%\n",
      "CV weighted f1 for k = 37 is 74.739027%\n",
      "CV weighted f1 for k = 41 is 74.739027%\n",
      "CV weighted f1 for k = 43 is 74.739027%\n",
      "CV weighted f1 for k = 47 is 74.739027%\n",
      "CV weighted f1 for k = 53 is 74.739027%\n",
      "CV weighted f1 for k = 59 is 74.739027%\n",
      "CV weighted f1 for k = 61 is 74.739027%\n",
      "CV weighted f1 for k = 67 is 74.739027%\n",
      "CV weighted f1 for k = 71 is 74.739027%\n",
      "CV weighted f1 for k = 76 is 74.739027%\n",
      "CV weighted f1 for k = 79 is 74.739027%\n",
      "CV weighted f1 for k = 90 is 74.739027%\n",
      "Best K:  5\n"
     ]
    },
    {
     "data": {
      "image/png": "[encoded data removed]",
      "text/plain": [
       "<Figure size 432x288 with 1 Axes>"
      ]
     },
     "metadata": {
      "needs_background": "light"
     },
     "output_type": "display_data"
    }
   ],
   "source": [
    "# Preparing list with possible K-values\n",
    "neighbors = [5, 7, 11, 13, 17, 19, 23, 29, 31, 37, 41, 43, 47, 53, 59, 61, 67, 71, 76, 79, 90]\n",
    "cv_f1_scores  = []\n",
    "\n",
    "# brute force KNN\n",
    "for i in neighbors:\n",
    "  knn = KNeighborsClassifier(n_neighbors=i, algorithm='brute')\n",
    "  knn.fit(cv_train_tfidf_sent_vectors, y_cv_train)\n",
    "  pred = knn.predict(cv_test_tfidf_sent_vectors)\n",
    "  f1 = f1_score(y_cv_test, pred, average='weighted')*100\n",
    "  cv_f1_scores.append(f1)\n",
    "  print('CV weighted f1 for k = %d is %f%%' % (i, f1))\n",
    "  \n",
    "plt.plot(neighbors, cv_f1_scores)\n",
    "plt.xlabel('Value of K for KNN')\n",
    "plt.ylabel('Cross-Validated f1 Score')\n",
    "\n",
    "best_k = neighbors[cv_f1_scores.index(max(cv_f1_scores))]\n",
    "train_error = round((100-max(cv_f1_scores)),4)\n",
    "print('Best K: ',best_k)"
   ]
  },
  {
   "cell_type": "code",
   "execution_count": 42,
   "metadata": {
    "colab": {
     "base_uri": "https://localhost:8080/",
     "height": 34
    },
    "colab_type": "code",
    "id": "aq8IJ1KT0Hnc",
    "outputId": "f6427ecf-9c3f-4ce2-ea98-ed89f43fea5a"
   },
   "outputs": [
    {
     "name": "stderr",
     "output_type": "stream",
     "text": [
      "100%|██████████| 56000/56000 [23:20<00:00, 39.99it/s]\n"
     ]
    }
   ],
   "source": [
    "i=0\n",
    "list_of_sent=[]\n",
    "for sent in X_train:\n",
    "    list_of_sent.append(sent.split())\n",
    "\n",
    "model2 = TfidfVectorizer()\n",
    "tf_idf_matrix = model2.fit_transform(X_train)\n",
    "X_train_tfidf_voc =model2.vocabulary_\n",
    "# we are converting a dictionary with word as a key, and the idf as a value\n",
    "dictionary = dict(zip(model2.get_feature_names(), list(model2.idf_)))\n",
    "\n",
    "# TF-IDF weighted Word2Vec\n",
    "tfidf_feat = model2.get_feature_names() # tfidf words/col-names\n",
    "# final_tf_idf is the sparse matrix with row= sentence, col=word and cell_val = tfidf\n",
    "\n",
    "X_train_tfidf_sent_vectors = []; # the tfidf-w2v for each sentence/review is stored in this list\n",
    "row=0;\n",
    "for sent in tqdm(list_of_sent): # for each review/sentence \n",
    "    sent_vec = np.zeros(50) # as word vectors are of zero length\n",
    "    weight_sum =0; # num of words with a valid vector in the sentence/review\n",
    "    for word in sent: # for each word in a review/sentence\n",
    "        if word in w2v_words:\n",
    "            vec = w2v_model.wv[word]\n",
    "            #tf_idf = tf_idf_matrix[row, tfidf_feat.index(word)]\n",
    "            # to reduce the computation we are \n",
    "            # dictionary[word] = idf value of word in whole courpus\n",
    "            # sent.count(word) = tf valeus of word in this review\n",
    "            tf_idf = dictionary[word]*sent.count(word)\n",
    "            sent_vec += (vec * tf_idf)\n",
    "            weight_sum += tf_idf\n",
    "    if weight_sum != 0:\n",
    "        sent_vec /= weight_sum\n",
    "    X_train_tfidf_sent_vectors.append(sent_vec)\n",
    "    row += 1\n",
    "    \n",
    "X_train_sent_vectors=csr_matrix(X_train_sent_vectors)\n"
   ]
  },
  {
   "cell_type": "code",
   "execution_count": 43,
   "metadata": {
    "colab": {
     "base_uri": "https://localhost:8080/",
     "height": 34
    },
    "colab_type": "code",
    "id": "_xto8LSr0gCJ",
    "outputId": "ecf75415-5c36-464f-e235-aad52f23c506"
   },
   "outputs": [
    {
     "name": "stderr",
     "output_type": "stream",
     "text": [
      "100%|██████████| 24000/24000 [09:48<00:00, 40.75it/s]\n"
     ]
    }
   ],
   "source": [
    "i=0\n",
    "list_of_sent4=[]\n",
    "for sent in X_test:\n",
    "    list_of_sent4.append(sent.split())\n",
    "\n",
    "X_test_tfidf_sent_vectors = []; # the tfidf-w2v for each sentence/review is stored in this list\n",
    "row=0;\n",
    "for sent in tqdm(list_of_sent): # for each review/sentence \n",
    "    sent_vec = np.zeros(50) # as word vectors are of zero length\n",
    "    weight_sum =0; # num of words with a valid vector in the sentence/review\n",
    "    for word in sent: # for each word in a review/sentence\n",
    "        if word in w2v_words:\n",
    "            vec = w2v_model.wv[word]\n",
    "            #tf_idf = tf_idf_matrix[row, tfidf_feat.index(word)]\n",
    "            # to reduce the computation we are \n",
    "            # dictionary[word] = idf value of word in whole courpus\n",
    "            # sent.count(word) = tf valeus of word in this review\n",
    "            tf_idf = dictionary[word]*sent.count(word)\n",
    "            sent_vec += (vec * tf_idf)\n",
    "            weight_sum += tf_idf\n",
    "    if weight_sum != 0:\n",
    "        sent_vec /= weight_sum\n",
    "    X_test_tfidf_sent_vectors.append(sent_vec)\n",
    "    row += 1\n",
    "    \n",
    "X_test_sent_vectors=csr_matrix(X_test_sent_vectors)\n"
   ]
  },
  {
   "cell_type": "code",
   "execution_count": 44,
   "metadata": {
    "colab": {
     "base_uri": "https://localhost:8080/",
     "height": 365
    },
    "colab_type": "code",
    "id": "1Siw8ecT1Df3",
    "outputId": "4f070ab0-e2a8-4750-f531-91cafc9bb908"
   },
   "outputs": [
    {
     "name": "stdout",
     "output_type": "stream",
     "text": [
      "Weighted f1-score for k= 5  is  75.06759111556751 %\n",
      "Confusion matrix : \n",
      "[[    0  4118]\n",
      " [    0 19882]]\n"
     ]
    },
    {
     "data": {
      "text/plain": [
       "Text(0.5, 1.0, 'Heatmap for confusion matrix')"
      ]
     },
     "execution_count": 44,
     "metadata": {},
     "output_type": "execute_result"
    },
    {
     "data": {
      "image/png": "[encoded data removed]",
      "text/plain": [
       "<Figure size 432x288 with 2 Axes>"
      ]
     },
     "metadata": {
      "needs_background": "light"
     },
     "output_type": "display_data"
    }
   ],
   "source": [
    "# appling knn brute force on average word2vec\n",
    "knn = KNeighborsClassifier(n_neighbors=best_k, algorithm='brute')\n",
    "knn.fit(X_train_tfidf_sent_vectors, y_train)\n",
    "pred = knn.predict(X_test_tfidf_sent_vectors)\n",
    "f1 = f1_score(y_test, pred, average='weighted')*100\n",
    "test_error = round((100-f1),4)\n",
    "confusion = confusion_matrix(y_test, pred)\n",
    "print('Weighted f1-score for k=',best_k,' is ',f1,'%')\n",
    "print('Confusion matrix : ')\n",
    "print(confusion)\n",
    "x.add_row([\"TF-IDF Weighted W2V - Brute force \", best_k, train_error, test_error])\n",
    "import seaborn as sns\n",
    "ax = sns.heatmap(confusion, annot=True, fmt=\"d\") \n",
    "ax.set_title('Heatmap for confusion matrix')\n"
   ]
  },
  {
   "cell_type": "code",
   "execution_count": null,
   "metadata": {
    "colab": {},
    "colab_type": "code",
    "id": "xEzwnsUD1nG_"
   },
   "outputs": [],
   "source": [
    "#knn for tfidf weighted w2v kd_tree"
   ]
  },
  {
   "cell_type": "code",
   "execution_count": 45,
   "metadata": {
    "colab": {},
    "colab_type": "code",
    "id": "3onoNA0u2BvD"
   },
   "outputs": [],
   "source": [
    "# Dividing raw train and test data\n",
    "from sklearn.metrics import f1_score\n",
    "X = final['CleanedText']\n",
    "y = np.array(new_labels)\n",
    "\n",
    "X_train = X[:int(0.7*len(X))]\n",
    "y_train = y[:int(0.7*len(y))]\n",
    "X_test = X[len(X_train):]\n",
    "y_test = y[len(y_train):]\n",
    "\n",
    "X_cv_train = X_train[:int(0.7*len(X_train))]\n",
    "y_cv_train = y_train[:int(0.7*len(y_train))]\n",
    "X_cv_test = X_train[len(X_cv_train):]\n",
    "y_cv_test = y_train[len(y_cv_train):]\n",
    "\n",
    "i=0\n",
    "list_of_sent=[]\n",
    "for sent in X_cv_train:\n",
    "    list_of_sent.append(sent.split())\n",
    "    \n",
    "model = TfidfVectorizer()\n",
    "tf_idf_matrix = model.fit_transform(X_cv_train)\n",
    "cv_train_tfidf_voc =model.vocabulary_\n",
    "# we are converting a dictionary with word as a key, and the idf as a value\n",
    "dictionary = dict(zip(model.get_feature_names(), list(model.idf_)))"
   ]
  },
  {
   "cell_type": "code",
   "execution_count": 46,
   "metadata": {
    "colab": {
     "base_uri": "https://localhost:8080/",
     "height": 34
    },
    "colab_type": "code",
    "id": "waKtwWoo2CcY",
    "outputId": "cee4434f-ce7e-4e99-d481-7f71bae1cec6"
   },
   "outputs": [
    {
     "name": "stderr",
     "output_type": "stream",
     "text": [
      "100%|██████████| 39200/39200 [15:35<00:00, 41.92it/s]\n"
     ]
    }
   ],
   "source": [
    "# TF-IDF weighted Word2Vec\n",
    "tfidf_feat = model.get_feature_names() # tfidf words/col-names\n",
    "# final_tf_idf is the sparse matrix with row= sentence, col=word and cell_val = tfidf\n",
    "\n",
    "cv_train_tfidf_sent_vectors = []; # the tfidf-w2v for each sentence/review is stored in this list\n",
    "row=0;\n",
    "for sent in tqdm(list_of_sent): # for each review/sentence \n",
    "    sent_vec = np.zeros(50) # as word vectors are of zero length\n",
    "    weight_sum =0; # num of words with a valid vector in the sentence/review\n",
    "    for word in sent: # for each word in a review/sentence\n",
    "        if word in w2v_words:\n",
    "            vec = w2v_model.wv[word]\n",
    "            #tf_idf = tf_idf_matrix[row, tfidf_feat.index(word)]\n",
    "            # to reduce the computation we are \n",
    "            # dictionary[word] = idf value of word in whole courpus\n",
    "            # sent.count(word) = tf valeus of word in this review\n",
    "            tf_idf = dictionary[word]*sent.count(word)\n",
    "            sent_vec += (vec * tf_idf)\n",
    "            weight_sum += tf_idf\n",
    "    if weight_sum != 0:\n",
    "        sent_vec /= weight_sum\n",
    "    cv_train_tfidf_sent_vectors.append(sent_vec)\n",
    "    row += 1\n",
    "    \n",
    "cv_train_sent_vectors=csr_matrix(cv_train_sent_vectors)\n",
    "cv_train_sent_vectors=cv_train_sent_vectors.todense()"
   ]
  },
  {
   "cell_type": "code",
   "execution_count": 47,
   "metadata": {
    "colab": {
     "base_uri": "https://localhost:8080/",
     "height": 34
    },
    "colab_type": "code",
    "id": "B0VT1Hgt2lLS",
    "outputId": "25cddc7c-2059-4a08-ccdf-6a255c500ac0"
   },
   "outputs": [
    {
     "name": "stderr",
     "output_type": "stream",
     "text": [
      "100%|██████████| 16800/16800 [06:46<00:00, 41.36it/s]\n"
     ]
    }
   ],
   "source": [
    "i=0\n",
    "list_of_sent=[]\n",
    "for sent in X_cv_test:\n",
    "    list_of_sent4.append(sent.split())\n",
    "\n",
    "cv_test_tfidf_sent_vectors = []; # the tfidf-w2v for each sentence/review is stored in this list\n",
    "row=0;\n",
    "for sent in tqdm(list_of_sent): # for each review/sentence \n",
    "    sent_vec = np.zeros(50) # as word vectors are of zero length\n",
    "    weight_sum =0; # num of words with a valid vector in the sentence/review\n",
    "    for word in sent: # for each word in a review/sentence\n",
    "        if word in w2v_words:\n",
    "            vec = w2v_model.wv[word]\n",
    "            #tf_idf = tf_idf_matrix[row, tfidf_feat.index(word)]\n",
    "            # to reduce the computation we are \n",
    "            # dictionary[word] = idf value of word in whole courpus\n",
    "            # sent.count(word) = tf valeus of word in this review\n",
    "            tf_idf = dictionary[word]*sent.count(word)\n",
    "            sent_vec += (vec * tf_idf)\n",
    "            weight_sum += tf_idf\n",
    "    if weight_sum != 0:\n",
    "        sent_vec /= weight_sum\n",
    "    cv_test_tfidf_sent_vectors.append(sent_vec)\n",
    "    row += 1\n",
    "    \n",
    "cv_test_sent_vectors=csr_matrix(cv_test_sent_vectors)\n",
    "cv_test_sent_vectors=cv_test_sent_vectors.todense()"
   ]
  },
  {
   "cell_type": "code",
   "execution_count": 48,
   "metadata": {
    "colab": {
     "base_uri": "https://localhost:8080/",
     "height": 653
    },
    "colab_type": "code",
    "id": "dtcT5K_L2lWC",
    "outputId": "56075087-c9c1-45f7-e80a-e89a6a8e3638"
   },
   "outputs": [
    {
     "name": "stdout",
     "output_type": "stream",
     "text": [
      "CV weighted f1 for k = 5 is 74.739027%\n",
      "CV weighted f1 for k = 7 is 74.739027%\n",
      "CV weighted f1 for k = 11 is 74.739027%\n",
      "CV weighted f1 for k = 13 is 74.739027%\n",
      "CV weighted f1 for k = 17 is 74.739027%\n",
      "CV weighted f1 for k = 19 is 74.739027%\n",
      "CV weighted f1 for k = 23 is 74.739027%\n",
      "CV weighted f1 for k = 29 is 74.739027%\n",
      "CV weighted f1 for k = 31 is 74.739027%\n",
      "CV weighted f1 for k = 37 is 74.739027%\n",
      "CV weighted f1 for k = 41 is 74.739027%\n",
      "CV weighted f1 for k = 43 is 74.739027%\n",
      "CV weighted f1 for k = 47 is 74.739027%\n",
      "CV weighted f1 for k = 53 is 74.739027%\n",
      "CV weighted f1 for k = 59 is 74.739027%\n",
      "CV weighted f1 for k = 61 is 74.739027%\n",
      "CV weighted f1 for k = 67 is 74.739027%\n",
      "CV weighted f1 for k = 71 is 74.739027%\n",
      "CV weighted f1 for k = 76 is 74.739027%\n",
      "CV weighted f1 for k = 79 is 74.739027%\n",
      "CV weighted f1 for k = 90 is 74.739027%\n",
      "Best K:  5\n"
     ]
    },
    {
     "data": {
      "image/png": "[encoded data removed]",
      "text/plain": [
       "<Figure size 432x288 with 1 Axes>"
      ]
     },
     "metadata": {
      "needs_background": "light"
     },
     "output_type": "display_data"
    }
   ],
   "source": [
    "# Preparing list with possible K-values\n",
    "neighbors = [5, 7, 11, 13, 17, 19, 23, 29, 31, 37, 41, 43, 47, 53, 59, 61, 67, 71, 76, 79, 90]\n",
    "cv_f1_scores  = []\n",
    "\n",
    "# kd_tree KNN\n",
    "for i in neighbors:\n",
    "  knn = KNeighborsClassifier(n_neighbors=i, algorithm='kd_tree')\n",
    "  knn.fit(cv_train_tfidf_sent_vectors, y_cv_train)\n",
    "  pred = knn.predict(cv_test_tfidf_sent_vectors)\n",
    "  f1 = f1_score(y_cv_test, pred, average='weighted')*100\n",
    "  cv_f1_scores.append(f1)\n",
    "  print('CV weighted f1 for k = %d is %f%%' % (i, f1))\n",
    "  \n",
    "plt.plot(neighbors, cv_f1_scores)\n",
    "train_error = round((100-max(cv_f1_scores)),4)\n",
    "plt.xlabel('Value of K for KNN')\n",
    "plt.ylabel('Cross-Validated f1 Score')\n",
    "\n",
    "best_k = neighbors[cv_f1_scores.index(max(cv_f1_scores))]\n",
    "print('Best K: ',best_k)"
   ]
  },
  {
   "cell_type": "code",
   "execution_count": 49,
   "metadata": {
    "colab": {
     "base_uri": "https://localhost:8080/",
     "height": 34
    },
    "colab_type": "code",
    "id": "X_A6jHuo20eA",
    "outputId": "024bc5d6-b5c5-4399-aa93-ee2fd81ecf06"
   },
   "outputs": [
    {
     "name": "stderr",
     "output_type": "stream",
     "text": [
      "100%|██████████| 56000/56000 [22:22<00:00, 41.72it/s]\n"
     ]
    }
   ],
   "source": [
    "i=0\n",
    "list_of_sent4=[]\n",
    "for sent in X_train:\n",
    "    list_of_sent4.append(sent.split())\n",
    "\n",
    "model = TfidfVectorizer()\n",
    "tf_idf_matrix = model.fit_transform(X_train)\n",
    "X_train_tfidf_voc =model.vocabulary_\n",
    "# we are converting a dictionary with word as a key, and the idf as a value\n",
    "dictionary = dict(zip(model.get_feature_names(), list(model.idf_)))\n",
    "\n",
    "# TF-IDF weighted Word2Vec\n",
    "tfidf_feat = model.get_feature_names() # tfidf words/col-names\n",
    "# final_tf_idf is the sparse matrix with row= sentence, col=word and cell_val = tfidf\n",
    "\n",
    "X_train_tfidf_sent_vectors = []; # the tfidf-w2v for each sentence/review is stored in this list\n",
    "row=0;\n",
    "for sent in tqdm(list_of_sent4): # for each review/sentence \n",
    "    sent_vec = np.zeros(50) # as word vectors are of zero length\n",
    "    weight_sum =0; # num of words with a valid vector in the sentence/review\n",
    "    for word in sent: # for each word in a review/sentence\n",
    "        if word in w2v_words:\n",
    "            vec = w2v_model.wv[word]\n",
    "            #tf_idf = tf_idf_matrix[row, tfidf_feat.index(word)]\n",
    "            # to reduce the computation we are \n",
    "            # dictionary[word] = idf value of word in whole courpus\n",
    "            # sent.count(word) = tf valeus of word in this review\n",
    "            tf_idf = dictionary[word]*sent.count(word)\n",
    "            sent_vec += (vec * tf_idf)\n",
    "            weight_sum += tf_idf\n",
    "    if weight_sum != 0:\n",
    "        sent_vec /= weight_sum\n",
    "    X_train_tfidf_sent_vectors.append(sent_vec)\n",
    "    row += 1\n",
    "    \n",
    "X_train_sent_vectors=csr_matrix(X_train_sent_vectors)\n",
    "X_train_sent_vectors=X_train_sent_vectors.todense()"
   ]
  },
  {
   "cell_type": "code",
   "execution_count": 50,
   "metadata": {
    "colab": {
     "base_uri": "https://localhost:8080/",
     "height": 34
    },
    "colab_type": "code",
    "id": "k83OZX0f24ov",
    "outputId": "fd09811c-3dd5-4984-e555-3af06a757818"
   },
   "outputs": [
    {
     "name": "stderr",
     "output_type": "stream",
     "text": [
      "100%|██████████| 24000/24000 [09:49<00:00, 40.70it/s]\n"
     ]
    }
   ],
   "source": [
    "i=0\n",
    "list_of_sent=[]\n",
    "for sent in X_test:\n",
    "    list_of_sent.append(sent.split())\n",
    "\n",
    "X_test_tfidf_sent_vectors = []; # the tfidf-w2v for each sentence/review is stored in this list\n",
    "row=0;\n",
    "for sent in tqdm(lsit_of_sent): # for each review/sentence \n",
    "    sent_vec = np.zeros(50) # as word vectors are of zero length\n",
    "    weight_sum =0; # num of words with a valid vector in the sentence/review\n",
    "    for word in sent: # for each word in a review/sentence\n",
    "        if word in w2v_words:\n",
    "            vec = w2v_model.wv[word]\n",
    "            #tf_idf = tf_idf_matrix[row, tfidf_feat.index(word)]\n",
    "            # to reduce the computation we are \n",
    "            # dictionary[word] = idf value of word in whole courpus\n",
    "            # sent.count(word) = tf valeus of word in this review\n",
    "            tf_idf = dictionary[word]*sent.count(word)\n",
    "            sent_vec += (vec * tf_idf)\n",
    "            weight_sum += tf_idf\n",
    "    if weight_sum != 0:\n",
    "        sent_vec /= weight_sum\n",
    "    X_test_tfidf_sent_vectors.append(sent_vec)\n",
    "    row += 1\n",
    "    \n",
    "X_test_sent_vectors=csr_matrix(X_test_sent_vectors)\n",
    "X_test_sent_vectors=X_test_sent_vectors.todense()"
   ]
  },
  {
   "cell_type": "code",
   "execution_count": 51,
   "metadata": {
    "colab": {
     "base_uri": "https://localhost:8080/",
     "height": 365
    },
    "colab_type": "code",
    "id": "XnbOnc1I28H6",
    "outputId": "48851375-dacd-43e2-c7a7-035328014260"
   },
   "outputs": [
    {
     "name": "stdout",
     "output_type": "stream",
     "text": [
      "Weighted f1-score for k= 5  is  75.06759111556751 %\n",
      "Confusion matrix : \n",
      "[[    0  4118]\n",
      " [    0 19882]]\n"
     ]
    },
    {
     "data": {
      "text/plain": [
       "Text(0.5, 1.0, 'Heatmap for confusion matrix')"
      ]
     },
     "execution_count": 51,
     "metadata": {},
     "output_type": "execute_result"
    },
    {
     "data": {
      "image/png": "[encoded data removed]",
      "text/plain": [
       "<Figure size 432x288 with 2 Axes>"
      ]
     },
     "metadata": {
      "needs_background": "light"
     },
     "output_type": "display_data"
    }
   ],
   "source": [
    "# appling knn kd_tree force on average word2vec\n",
    "knn = KNeighborsClassifier(n_neighbors=best_k, algorithm='kd_tree')\n",
    "knn.fit(X_train_tfidf_sent_vectors, y_train)\n",
    "pred = knn.predict(X_test_tfidf_sent_vectors)\n",
    "f1 = f1_score(y_test, pred, average='weighted')*100\n",
    "test_error = round((100-f1),4)\n",
    "confusion = confusion_matrix(y_test, pred)\n",
    "print('Weighted f1-score for k=',best_k,' is ',f1,'%')\n",
    "print('Confusion matrix : ')\n",
    "print(confusion)\n",
    "x.add_row([\"TF-IDF Weighted W2V - kd_tree \", best_k, train_error, test_error])\n",
    "import seaborn as sns\n",
    "ax = sns.heatmap(confusion, annot=True, fmt=\"d\") \n",
    "ax.set_title('Heatmap for confusion matrix')\n"
   ]
  },
  {
   "cell_type": "markdown",
   "metadata": {
    "colab_type": "text",
    "id": "H5nHm6hvzXrA"
   },
   "source": [
    "## **OBSERVATION**"
   ]
  },
  {
   "cell_type": "code",
   "execution_count": 2,
   "metadata": {},
   "outputs": [
    {
     "name": "stdout",
     "output_type": "stream",
     "text": [
      "+-----------------------------------+-------------------+---------------+--------------+\n",
      "|           Featurization           | Hyperparameter(K) | Train Error % | Test Error % |\n",
      "+-----------------------------------+-------------------+---------------+--------------+\n",
      "|     Bag of Words - Brute Force    |         5         |    22.2282    |   23.2249    |\n",
      "|       Bag of Words - kd_tree      |         23        |    24.0165    |   25.4226    |\n",
      "|        TF-IDF - Brute Force       |         7         |    23.9828    |    25.332    |\n",
      "|          TF-IDF - kd_tree         |         23        |    24.9024    |   25.8946    |\n",
      "|     Avg Word2Vec - Brute Force    |         5         |    25.1249    |   25.0572    |\n",
      "|       Avg Word2Vec - kd_tree      |         11        |    25.2122    |   24.9334    |\n",
      "| TF_IDF weighted W2V - Brute Force |         5         |     25.261    |   24.9324    |\n",
      "|   TF_IDF weighted W2V - kd_tree   |         5         |     25.261    |   24.9324    |\n",
      "+-----------------------------------+-------------------+---------------+--------------+\n"
     ]
    }
   ],
   "source": [
    "print(x)"
   ]
  },
  {
   "cell_type": "markdown",
   "metadata": {},
   "source": [
    "From the above observation table, the best hyperparameter (K) for KNN lies in the range of 5 and 23 with 5 appearing many times. So, the best K might lie between 5 and 23.\n",
    "If we compare the test errors of all the brute force and kd_tree approaches, kd_tree is giving more error than brute force and for brute force of all featurizations, best k lies between 5 and 7 with 5 repeated thrice.\n",
    "The lowest error rate we got for Bag of Words with brute force approach is 23.2249. Total number of datapoints used for this application is 80k and simple cross validation is employed."
   ]
  }
 ],
 "metadata": {
  "colab": {
   "collapsed_sections": [],
   "name": "Copy of Copy of KNN on Amazon fine food reviews.ipynb",
   "provenance": [],
   "version": "0.3.2"
  },
  "kernelspec": {
   "display_name": "Python 3",
   "language": "python",
   "name": "python3"
  },
  "language_info": {
   "codemirror_mode": {
    "name": "ipython",
    "version": 2
   },
   "file_extension": ".py",
   "mimetype": "text/x-python",
   "name": "python",
   "nbconvert_exporter": "python",
   "pygments_lexer": "ipython2",
   "version": "2.7.15rc1"
  }
 },
 "nbformat": 4,
 "nbformat_minor": 1
}
