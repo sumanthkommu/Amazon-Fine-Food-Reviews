{
 "cells": [
  {
   "cell_type": "markdown",
   "metadata": {
    "colab_type": "text",
    "id": "qGHkrQVYWB--"
   },
   "source": [
    "# Amazon Fine Food Reviews Analysis - Decision Trees\n",
    "\n",
    "Data Source: https://www.kaggle.com/snap/amazon-fine-food-reviews\n",
    "\n",
    "The Amazon Fine Food Reviews dataset consists of reviews of fine foods from Amazon.<br>\n",
    "\n",
    "Number of reviews: 568,454<br>\n",
    "Number of users: 256,059<br>\n",
    "Number of products: 74,258<br>\n",
    "Timespan: Oct 1999 - Oct 2012<br>\n",
    "Number of Attributes/Columns in data: 10 \n",
    "\n",
    "Attribute Information:\n",
    "\n",
    "1. Id\n",
    "2. ProductId - unique identifier for the product\n",
    "3. UserId - unqiue identifier for the user\n",
    "4. ProfileName\n",
    "5. HelpfulnessNumerator - number of users who found the review helpful\n",
    "6. HelpfulnessDenominator - number of users who indicated whether they found the review helpful or not\n",
    "7. Score - rating between 1 and 5\n",
    "8. Time - timestamp for the review\n",
    "9. Summary - brief summary of the review\n",
    "10. Text - text of the review\n",
    "\n",
    "\n",
    "#### Objective:\n",
    "Given a review, determine whether the review is positive (Rating of 4 or 5) or negative (rating of 1 or 2).\n",
    "\n",
    "<br>\n",
    "[Q] How to determine if a review is positive or negative?<br>\n",
    "<br> \n",
    "[Ans] We could use the Score/Rating. A rating of 4 or 5 could be cosnidered a positive review. A review of 1 or 2 could be considered negative. A review of 3 is nuetral and ignored. This is an approximate and proxy way of determining the polarity (positivity/negativity) of a review.\n",
    "\n",
    "\n"
   ]
  },
  {
   "cell_type": "markdown",
   "metadata": {
    "colab_type": "text",
    "id": "N1bZ4-NQWB_A"
   },
   "source": [
    "## [7.1] Loading the data\n",
    "\n",
    "The dataset is available in two forms\n",
    "1. .csv file\n",
    "2. SQLite Database\n",
    "\n",
    "In order to load the data, We have used the SQLITE dataset as it easier to query the data and visualise the data efficiently.\n",
    "<br> \n",
    "\n",
    "Here as we only want to get the global sentiment of the recommendations (positive or negative), we will purposefully ignore all Scores equal to 3. If the score id above 3, then the recommendation wil be set to \"positive\". Otherwise, it will be set to \"negative\"."
   ]
  },
  {
   "cell_type": "code",
   "execution_count": 1,
   "metadata": {
    "colab": {},
    "colab_type": "code",
    "id": "QlNulBDSWB_C"
   },
   "outputs": [],
   "source": [
    "%matplotlib inline\n",
    "import warnings\n",
    "warnings.filterwarnings(\"ignore\")\n",
    "\n",
    "import sqlite3\n",
    "import pandas as pd\n",
    "import numpy as np\n",
    "import nltk\n",
    "import string\n",
    "import re\n",
    "import os\n",
    "import matplotlib.pyplot as plt\n",
    "import seaborn as sns\n",
    "from tqdm import tqdm\n",
    "from scipy import stats\n",
    "from scipy.stats import uniform\n",
    "from scipy.sparse import csr_matrix\n",
    "from collections import Counter\n",
    "\n",
    "from prettytable import PrettyTable\n",
    "\n",
    "from sklearn import preprocessing\n",
    "from sklearn.feature_extraction.text import CountVectorizer\n",
    "from sklearn.feature_extraction.text import TfidfTransformer\n",
    "from sklearn.feature_extraction.text import TfidfVectorizer\n",
    "\n",
    "from sklearn.model_selection import train_test_split\n",
    "from sklearn.model_selection import cross_val_score\n",
    "from sklearn.model_selection import cross_validate\n",
    "from sklearn.model_selection import GridSearchCV\n",
    "from sklearn.model_selection import RandomizedSearchCV\n",
    "from sklearn.neighbors import KNeighborsClassifier\n",
    "\n",
    "from sklearn.linear_model import LogisticRegression\n",
    "\n",
    "from sklearn import metrics\n",
    "from sklearn.metrics import accuracy_score\n",
    "from sklearn.metrics import confusion_matrix\n",
    "from sklearn.metrics import roc_curve, auc\n",
    "from sklearn.metrics import f1_score\n",
    "\n",
    "from nltk.stem.porter import PorterStemmer\n",
    "from nltk.corpus import stopwords\n",
    "from nltk.stem.wordnet import WordNetLemmatizer\n",
    "\n",
    "from gensim.models import Word2Vec\n",
    "from gensim.models import KeyedVectors\n",
    "import pickle"
   ]
  },
  {
   "cell_type": "code",
   "execution_count": 2,
   "metadata": {
    "colab": {
     "base_uri": "https://localhost:8080/",
     "height": 397
    },
    "colab_type": "code",
    "id": "iWrc9qu6WB_H",
    "outputId": "d3f3049d-f28d-486b-a062-ccee7aa4e72c"
   },
   "outputs": [
    {
     "name": "stdout",
     "output_type": "stream",
     "text": [
      "('Number of data points in our data', (525814, 10))\n"
     ]
    },
    {
     "data": {
      "text/html": [
       "<div>\n",
       "<style scoped>\n",
       "    .dataframe tbody tr th:only-of-type {\n",
       "        vertical-align: middle;\n",
       "    }\n",
       "\n",
       "    .dataframe tbody tr th {\n",
       "        vertical-align: top;\n",
       "    }\n",
       "\n",
       "    .dataframe thead th {\n",
       "        text-align: right;\n",
       "    }\n",
       "</style>\n",
       "<table border=\"1\" class=\"dataframe\">\n",
       "  <thead>\n",
       "    <tr style=\"text-align: right;\">\n",
       "      <th></th>\n",
       "      <th>Id</th>\n",
       "      <th>ProductId</th>\n",
       "      <th>UserId</th>\n",
       "      <th>ProfileName</th>\n",
       "      <th>HelpfulnessNumerator</th>\n",
       "      <th>HelpfulnessDenominator</th>\n",
       "      <th>Score</th>\n",
       "      <th>Time</th>\n",
       "      <th>Summary</th>\n",
       "      <th>Text</th>\n",
       "    </tr>\n",
       "  </thead>\n",
       "  <tbody>\n",
       "    <tr>\n",
       "      <th>0</th>\n",
       "      <td>1</td>\n",
       "      <td>B001E4KFG0</td>\n",
       "      <td>A3SGXH7AUHU8GW</td>\n",
       "      <td>delmartian</td>\n",
       "      <td>1</td>\n",
       "      <td>1</td>\n",
       "      <td>1</td>\n",
       "      <td>1303862400</td>\n",
       "      <td>Good Quality Dog Food</td>\n",
       "      <td>I have bought several of the Vitality canned d...</td>\n",
       "    </tr>\n",
       "    <tr>\n",
       "      <th>1</th>\n",
       "      <td>2</td>\n",
       "      <td>B00813GRG4</td>\n",
       "      <td>A1D87F6ZCVE5NK</td>\n",
       "      <td>dll pa</td>\n",
       "      <td>0</td>\n",
       "      <td>0</td>\n",
       "      <td>0</td>\n",
       "      <td>1346976000</td>\n",
       "      <td>Not as Advertised</td>\n",
       "      <td>Product arrived labeled as Jumbo Salted Peanut...</td>\n",
       "    </tr>\n",
       "    <tr>\n",
       "      <th>2</th>\n",
       "      <td>3</td>\n",
       "      <td>B000LQOCH0</td>\n",
       "      <td>ABXLMWJIXXAIN</td>\n",
       "      <td>Natalia Corres \"Natalia Corres\"</td>\n",
       "      <td>1</td>\n",
       "      <td>1</td>\n",
       "      <td>1</td>\n",
       "      <td>1219017600</td>\n",
       "      <td>\"Delight\" says it all</td>\n",
       "      <td>This is a confection that has been around a fe...</td>\n",
       "    </tr>\n",
       "  </tbody>\n",
       "</table>\n",
       "</div>"
      ],
      "text/plain": [
       "   Id   ProductId          UserId                      ProfileName  \\\n",
       "0   1  B001E4KFG0  A3SGXH7AUHU8GW                       delmartian   \n",
       "1   2  B00813GRG4  A1D87F6ZCVE5NK                           dll pa   \n",
       "2   3  B000LQOCH0   ABXLMWJIXXAIN  Natalia Corres \"Natalia Corres\"   \n",
       "\n",
       "   HelpfulnessNumerator  HelpfulnessDenominator  Score        Time  \\\n",
       "0                     1                       1      1  1303862400   \n",
       "1                     0                       0      0  1346976000   \n",
       "2                     1                       1      1  1219017600   \n",
       "\n",
       "                 Summary                                               Text  \n",
       "0  Good Quality Dog Food  I have bought several of the Vitality canned d...  \n",
       "1      Not as Advertised  Product arrived labeled as Jumbo Salted Peanut...  \n",
       "2  \"Delight\" says it all  This is a confection that has been around a fe...  "
      ]
     },
     "execution_count": 2,
     "metadata": {},
     "output_type": "execute_result"
    }
   ],
   "source": [
    "\n",
    "# using the SQLite Table to read data.\n",
    "con = sqlite3.connect('database.sqlite') \n",
    "#filtering only positive and negative reviews i.e. \n",
    "# not taking into consideration those reviews with Score=3\n",
    "filtered_data = pd.read_sql_query(\"\"\" SELECT * FROM Reviews WHERE Score != 3 \"\"\", con) \n",
    "\n",
    "\n",
    "# Give reviews with Score>3 a positive rating, and reviews with a score<3 a negative rating.\n",
    "def partition(x):\n",
    "    if x < 3:\n",
    "        return 0\n",
    "    return 1\n",
    "\n",
    "#changing reviews with score less than 3 to be positive and vice-versa\n",
    "actualScore = filtered_data['Score']\n",
    "positiveNegative = actualScore.map(partition) \n",
    "filtered_data['Score'] = positiveNegative\n",
    "print(\"Number of data points in our data\", filtered_data.shape)\n",
    "filtered_data.head(3)"
   ]
  },
  {
   "cell_type": "markdown",
   "metadata": {
    "colab_type": "text",
    "id": "BH9JJzAPWB_P"
   },
   "source": [
    "#  Exploratory Data Analysis\n",
    "\n",
    "## [7.1.2] Data Cleaning: Deduplication\n",
    "\n",
    "It is observed (as shown in the table below) that the reviews data had many duplicate entries. Hence it was necessary to remove duplicates in order to get unbiased results for the analysis of the data.  Following is an example:"
   ]
  },
  {
   "cell_type": "code",
   "execution_count": 3,
   "metadata": {
    "colab": {
     "base_uri": "https://localhost:8080/",
     "height": 544
    },
    "colab_type": "code",
    "id": "HR0vyEv7WB_Q",
    "outputId": "f648745c-5ddc-499d-c243-5682f23130f0",
    "scrolled": false
   },
   "outputs": [
    {
     "data": {
      "text/html": [
       "<div>\n",
       "<style scoped>\n",
       "    .dataframe tbody tr th:only-of-type {\n",
       "        vertical-align: middle;\n",
       "    }\n",
       "\n",
       "    .dataframe tbody tr th {\n",
       "        vertical-align: top;\n",
       "    }\n",
       "\n",
       "    .dataframe thead th {\n",
       "        text-align: right;\n",
       "    }\n",
       "</style>\n",
       "<table border=\"1\" class=\"dataframe\">\n",
       "  <thead>\n",
       "    <tr style=\"text-align: right;\">\n",
       "      <th></th>\n",
       "      <th>Id</th>\n",
       "      <th>ProductId</th>\n",
       "      <th>UserId</th>\n",
       "      <th>ProfileName</th>\n",
       "      <th>HelpfulnessNumerator</th>\n",
       "      <th>HelpfulnessDenominator</th>\n",
       "      <th>Score</th>\n",
       "      <th>Time</th>\n",
       "      <th>Summary</th>\n",
       "      <th>Text</th>\n",
       "    </tr>\n",
       "  </thead>\n",
       "  <tbody>\n",
       "    <tr>\n",
       "      <th>0</th>\n",
       "      <td>78445</td>\n",
       "      <td>B000HDL1RQ</td>\n",
       "      <td>AR5J8UI46CURR</td>\n",
       "      <td>Geetha Krishnan</td>\n",
       "      <td>2</td>\n",
       "      <td>2</td>\n",
       "      <td>5</td>\n",
       "      <td>1199577600</td>\n",
       "      <td>LOACKER QUADRATINI VANILLA WAFERS</td>\n",
       "      <td>DELICIOUS WAFERS. I FIND THAT EUROPEAN WAFERS ...</td>\n",
       "    </tr>\n",
       "    <tr>\n",
       "      <th>1</th>\n",
       "      <td>138317</td>\n",
       "      <td>B000HDOPYC</td>\n",
       "      <td>AR5J8UI46CURR</td>\n",
       "      <td>Geetha Krishnan</td>\n",
       "      <td>2</td>\n",
       "      <td>2</td>\n",
       "      <td>5</td>\n",
       "      <td>1199577600</td>\n",
       "      <td>LOACKER QUADRATINI VANILLA WAFERS</td>\n",
       "      <td>DELICIOUS WAFERS. I FIND THAT EUROPEAN WAFERS ...</td>\n",
       "    </tr>\n",
       "    <tr>\n",
       "      <th>2</th>\n",
       "      <td>138277</td>\n",
       "      <td>B000HDOPYM</td>\n",
       "      <td>AR5J8UI46CURR</td>\n",
       "      <td>Geetha Krishnan</td>\n",
       "      <td>2</td>\n",
       "      <td>2</td>\n",
       "      <td>5</td>\n",
       "      <td>1199577600</td>\n",
       "      <td>LOACKER QUADRATINI VANILLA WAFERS</td>\n",
       "      <td>DELICIOUS WAFERS. I FIND THAT EUROPEAN WAFERS ...</td>\n",
       "    </tr>\n",
       "    <tr>\n",
       "      <th>3</th>\n",
       "      <td>73791</td>\n",
       "      <td>B000HDOPZG</td>\n",
       "      <td>AR5J8UI46CURR</td>\n",
       "      <td>Geetha Krishnan</td>\n",
       "      <td>2</td>\n",
       "      <td>2</td>\n",
       "      <td>5</td>\n",
       "      <td>1199577600</td>\n",
       "      <td>LOACKER QUADRATINI VANILLA WAFERS</td>\n",
       "      <td>DELICIOUS WAFERS. I FIND THAT EUROPEAN WAFERS ...</td>\n",
       "    </tr>\n",
       "    <tr>\n",
       "      <th>4</th>\n",
       "      <td>155049</td>\n",
       "      <td>B000PAQ75C</td>\n",
       "      <td>AR5J8UI46CURR</td>\n",
       "      <td>Geetha Krishnan</td>\n",
       "      <td>2</td>\n",
       "      <td>2</td>\n",
       "      <td>5</td>\n",
       "      <td>1199577600</td>\n",
       "      <td>LOACKER QUADRATINI VANILLA WAFERS</td>\n",
       "      <td>DELICIOUS WAFERS. I FIND THAT EUROPEAN WAFERS ...</td>\n",
       "    </tr>\n",
       "  </tbody>\n",
       "</table>\n",
       "</div>"
      ],
      "text/plain": [
       "       Id   ProductId         UserId      ProfileName  HelpfulnessNumerator  \\\n",
       "0   78445  B000HDL1RQ  AR5J8UI46CURR  Geetha Krishnan                     2   \n",
       "1  138317  B000HDOPYC  AR5J8UI46CURR  Geetha Krishnan                     2   \n",
       "2  138277  B000HDOPYM  AR5J8UI46CURR  Geetha Krishnan                     2   \n",
       "3   73791  B000HDOPZG  AR5J8UI46CURR  Geetha Krishnan                     2   \n",
       "4  155049  B000PAQ75C  AR5J8UI46CURR  Geetha Krishnan                     2   \n",
       "\n",
       "   HelpfulnessDenominator  Score        Time  \\\n",
       "0                       2      5  1199577600   \n",
       "1                       2      5  1199577600   \n",
       "2                       2      5  1199577600   \n",
       "3                       2      5  1199577600   \n",
       "4                       2      5  1199577600   \n",
       "\n",
       "                             Summary  \\\n",
       "0  LOACKER QUADRATINI VANILLA WAFERS   \n",
       "1  LOACKER QUADRATINI VANILLA WAFERS   \n",
       "2  LOACKER QUADRATINI VANILLA WAFERS   \n",
       "3  LOACKER QUADRATINI VANILLA WAFERS   \n",
       "4  LOACKER QUADRATINI VANILLA WAFERS   \n",
       "\n",
       "                                                Text  \n",
       "0  DELICIOUS WAFERS. I FIND THAT EUROPEAN WAFERS ...  \n",
       "1  DELICIOUS WAFERS. I FIND THAT EUROPEAN WAFERS ...  \n",
       "2  DELICIOUS WAFERS. I FIND THAT EUROPEAN WAFERS ...  \n",
       "3  DELICIOUS WAFERS. I FIND THAT EUROPEAN WAFERS ...  \n",
       "4  DELICIOUS WAFERS. I FIND THAT EUROPEAN WAFERS ...  "
      ]
     },
     "execution_count": 3,
     "metadata": {},
     "output_type": "execute_result"
    }
   ],
   "source": [
    "display= pd.read_sql_query(\"\"\"\n",
    "SELECT *\n",
    "FROM Reviews\n",
    "WHERE Score != 3 AND UserId=\"AR5J8UI46CURR\"\n",
    "ORDER BY ProductID\n",
    "\"\"\", con)\n",
    "display.head()"
   ]
  },
  {
   "cell_type": "markdown",
   "metadata": {
    "colab_type": "text",
    "id": "TUmKYpOhWB_V"
   },
   "source": [
    "As can be seen above the same user has multiple reviews of the with the same values for HelpfulnessNumerator, HelpfulnessDenominator, Score, Time, Summary and Text  and on doing analysis it was found that <br>\n",
    "<br> \n",
    "ProductId=B000HDOPZG was Loacker Quadratini Vanilla Wafer Cookies, 8.82-Ounce Packages (Pack of 8)<br>\n",
    "<br> \n",
    "ProductId=B000HDL1RQ was Loacker Quadratini Lemon Wafer Cookies, 8.82-Ounce Packages (Pack of 8) and so on<br>\n",
    "\n",
    "It was inferred after analysis that reviews with same parameters other than ProductId belonged to the same product just having different flavour or quantity. Hence in order to reduce redundancy it was decided to eliminate the rows having same parameters.<br>\n",
    "\n",
    "The method used for the same was that we first sort the data according to ProductId and then just keep the first similar product review and delelte the others. for eg. in the above just the review for ProductId=B000HDL1RQ remains. This method ensures that there is only one representative for each product and deduplication without sorting would lead to possibility of different representatives still existing for the same product."
   ]
  },
  {
   "cell_type": "code",
   "execution_count": 4,
   "metadata": {
    "colab": {},
    "colab_type": "code",
    "id": "9oypvH9qWB_X"
   },
   "outputs": [],
   "source": [
    "#Sorting data according to ProductId in ascending order\n",
    "sorted_data=filtered_data.sort_values('ProductId', axis=0, ascending=True, inplace=False, kind='quicksort', na_position='last')"
   ]
  },
  {
   "cell_type": "code",
   "execution_count": 5,
   "metadata": {
    "colab": {
     "base_uri": "https://localhost:8080/",
     "height": 34
    },
    "colab_type": "code",
    "id": "PPjGUcEhWB_b",
    "outputId": "9462835b-1f20-403e-d6c8-24b4cccd59d7"
   },
   "outputs": [
    {
     "data": {
      "text/plain": [
       "(364173, 10)"
      ]
     },
     "execution_count": 5,
     "metadata": {},
     "output_type": "execute_result"
    }
   ],
   "source": [
    "#Deduplication of entries\n",
    "final=sorted_data.drop_duplicates(subset={\"UserId\",\"ProfileName\",\"Time\",\"Text\"}, keep='first', inplace=False)\n",
    "final.shape"
   ]
  },
  {
   "cell_type": "code",
   "execution_count": 6,
   "metadata": {
    "colab": {
     "base_uri": "https://localhost:8080/",
     "height": 34
    },
    "colab_type": "code",
    "id": "LJZkR811WB_g",
    "outputId": "efa1bb43-63de-466e-ee47-b25754958d34"
   },
   "outputs": [
    {
     "data": {
      "text/plain": [
       "69.25890143662969"
      ]
     },
     "execution_count": 6,
     "metadata": {},
     "output_type": "execute_result"
    }
   ],
   "source": [
    "#Checking to see how much % of data still remains\n",
    "(final['Id'].size*1.0)/(filtered_data['Id'].size*1.0)*100"
   ]
  },
  {
   "cell_type": "markdown",
   "metadata": {
    "colab_type": "text",
    "id": "A9NmIA0wWB_m"
   },
   "source": [
    "<b>Observation:-</b> It was also seen that in two rows given below the value of HelpfulnessNumerator is greater than HelpfulnessDenominator which is not practically possible hence these two rows too are removed from calcualtions"
   ]
  },
  {
   "cell_type": "code",
   "execution_count": 7,
   "metadata": {
    "colab": {
     "base_uri": "https://localhost:8080/",
     "height": 230
    },
    "colab_type": "code",
    "id": "T6S3YfHwWB_n",
    "outputId": "194487ed-64ed-4aa1-a75e-933d77f187da"
   },
   "outputs": [
    {
     "data": {
      "text/html": [
       "<div>\n",
       "<style scoped>\n",
       "    .dataframe tbody tr th:only-of-type {\n",
       "        vertical-align: middle;\n",
       "    }\n",
       "\n",
       "    .dataframe tbody tr th {\n",
       "        vertical-align: top;\n",
       "    }\n",
       "\n",
       "    .dataframe thead th {\n",
       "        text-align: right;\n",
       "    }\n",
       "</style>\n",
       "<table border=\"1\" class=\"dataframe\">\n",
       "  <thead>\n",
       "    <tr style=\"text-align: right;\">\n",
       "      <th></th>\n",
       "      <th>Id</th>\n",
       "      <th>ProductId</th>\n",
       "      <th>UserId</th>\n",
       "      <th>ProfileName</th>\n",
       "      <th>HelpfulnessNumerator</th>\n",
       "      <th>HelpfulnessDenominator</th>\n",
       "      <th>Score</th>\n",
       "      <th>Time</th>\n",
       "      <th>Summary</th>\n",
       "      <th>Text</th>\n",
       "    </tr>\n",
       "  </thead>\n",
       "  <tbody>\n",
       "    <tr>\n",
       "      <th>0</th>\n",
       "      <td>64422</td>\n",
       "      <td>B000MIDROQ</td>\n",
       "      <td>A161DK06JJMCYF</td>\n",
       "      <td>J. E. Stephens \"Jeanne\"</td>\n",
       "      <td>3</td>\n",
       "      <td>1</td>\n",
       "      <td>5</td>\n",
       "      <td>1224892800</td>\n",
       "      <td>Bought This for My Son at College</td>\n",
       "      <td>My son loves spaghetti so I didn't hesitate or...</td>\n",
       "    </tr>\n",
       "    <tr>\n",
       "      <th>1</th>\n",
       "      <td>44737</td>\n",
       "      <td>B001EQ55RW</td>\n",
       "      <td>A2V0I904FH7ABY</td>\n",
       "      <td>Ram</td>\n",
       "      <td>3</td>\n",
       "      <td>2</td>\n",
       "      <td>4</td>\n",
       "      <td>1212883200</td>\n",
       "      <td>Pure cocoa taste with crunchy almonds inside</td>\n",
       "      <td>It was almost a 'love at first bite' - the per...</td>\n",
       "    </tr>\n",
       "  </tbody>\n",
       "</table>\n",
       "</div>"
      ],
      "text/plain": [
       "      Id   ProductId          UserId              ProfileName  \\\n",
       "0  64422  B000MIDROQ  A161DK06JJMCYF  J. E. Stephens \"Jeanne\"   \n",
       "1  44737  B001EQ55RW  A2V0I904FH7ABY                      Ram   \n",
       "\n",
       "   HelpfulnessNumerator  HelpfulnessDenominator  Score        Time  \\\n",
       "0                     3                       1      5  1224892800   \n",
       "1                     3                       2      4  1212883200   \n",
       "\n",
       "                                        Summary  \\\n",
       "0             Bought This for My Son at College   \n",
       "1  Pure cocoa taste with crunchy almonds inside   \n",
       "\n",
       "                                                Text  \n",
       "0  My son loves spaghetti so I didn't hesitate or...  \n",
       "1  It was almost a 'love at first bite' - the per...  "
      ]
     },
     "execution_count": 7,
     "metadata": {},
     "output_type": "execute_result"
    }
   ],
   "source": [
    "display= pd.read_sql_query(\"\"\"\n",
    "SELECT *\n",
    "FROM Reviews\n",
    "WHERE Score != 3 AND Id=44737 OR Id=64422\n",
    "ORDER BY ProductID\n",
    "\"\"\", con)\n",
    "\n",
    "display.head()"
   ]
  },
  {
   "cell_type": "code",
   "execution_count": 8,
   "metadata": {
    "colab": {},
    "colab_type": "code",
    "id": "bL-uiTKpWB_t"
   },
   "outputs": [],
   "source": [
    "final=final[final.HelpfulnessNumerator<=final.HelpfulnessDenominator]"
   ]
  },
  {
   "cell_type": "code",
   "execution_count": 9,
   "metadata": {
    "colab": {
     "base_uri": "https://localhost:8080/",
     "height": 85
    },
    "colab_type": "code",
    "id": "jixOFh0BWB_w",
    "outputId": "eb5a7799-024e-4988-ee41-ff8af7fb9e09"
   },
   "outputs": [
    {
     "name": "stdout",
     "output_type": "stream",
     "text": [
      "(364171, 10)\n"
     ]
    },
    {
     "data": {
      "text/plain": [
       "1    307061\n",
       "0     57110\n",
       "Name: Score, dtype: int64"
      ]
     },
     "execution_count": 9,
     "metadata": {},
     "output_type": "execute_result"
    }
   ],
   "source": [
    "#Before starting the next phase of preprocessing lets see the number of entries left\n",
    "print(final.shape)\n",
    "\n",
    "#How many positive and negative reviews are present in our dataset?\n",
    "final['Score'].value_counts()"
   ]
  },
  {
   "cell_type": "code",
   "execution_count": 10,
   "metadata": {
    "colab": {},
    "colab_type": "code",
    "id": "Ig-J9L1zWB_2"
   },
   "outputs": [],
   "source": [
    "#Deduplication of entries\n",
    "#final=sorted_data.drop_duplicates(subset={\"Score\"}, keep='first', inplace=False)\n",
    "#final.shape\n",
    "\n",
    "final_pos_reviews=final.loc[final['Score'] == 1]\n",
    "final_neg_reviews=final.loc[final['Score']== 0]"
   ]
  },
  {
   "cell_type": "code",
   "execution_count": 11,
   "metadata": {
    "colab": {},
    "colab_type": "code",
    "id": "V5NITJWvWB_7"
   },
   "outputs": [],
   "source": [
    "final=final.sort_values('ProductId', axis=0, ascending=True, inplace=False, kind='quicksort', na_position='last')\n",
    "final=final.sort_values('Time')"
   ]
  },
  {
   "cell_type": "code",
   "execution_count": 12,
   "metadata": {},
   "outputs": [],
   "source": [
    "final_new=final[:80000]\n",
    "final=final_new\n",
    "new_labels=final['Score']"
   ]
  },
  {
   "cell_type": "code",
   "execution_count": 13,
   "metadata": {},
   "outputs": [],
   "source": [
    "#final_new=final.sample(n=80000)\n",
    "#labels = final_new['Score']\n",
    "#new_final=final_new.sort_values('Time')\n",
    "#final=new_final\n",
    "#new_labels=final['Score']"
   ]
  },
  {
   "cell_type": "markdown",
   "metadata": {
    "colab_type": "text",
    "id": "v6sWPp2wWCAK"
   },
   "source": [
    "## 7.2.3  Text Preprocessing: Stemming, stop-word removal and Lemmatization.\n",
    "\n",
    "Now that we have finished deduplication our data requires some preprocessing before we go on further with analysis and making the prediction model.\n",
    "\n",
    "Hence in the Preprocessing phase we do the following in the order below:-\n",
    "\n",
    "1. Begin by removing the html tags\n",
    "2. Remove any punctuations or limited set of special characters like , or . or # etc.\n",
    "3. Check if the word is made up of english letters and is not alpha-numeric\n",
    "4. Check to see if the length of the word is greater than 2 (as it was researched that there is no adjective in 2-letters)\n",
    "5. Convert the word to lowercase\n",
    "6. Remove Stopwords\n",
    "7. Finally Snowball Stemming the word (it was obsereved to be better than Porter Stemming)<br>\n",
    "\n",
    "After which we collect the words used to describe positive and negative reviews"
   ]
  },
  {
   "cell_type": "code",
   "execution_count": 14,
   "metadata": {
    "colab": {
     "base_uri": "https://localhost:8080/",
     "height": 71
    },
    "colab_type": "code",
    "id": "UgHdIvLiWCAM",
    "outputId": "3f13268d-6508-47fc-901a-2bef89c7e87c",
    "scrolled": true
   },
   "outputs": [
    {
     "name": "stdout",
     "output_type": "stream",
     "text": [
      "8\n",
      "What happens when you say his name three times? Michael Keaten stars in this comedy about two couples that live in an old two story house.  While coming back from a supply store, the couple suddenly get caught inside of a  &quot;broken-up&quot; bridge and then just before they start to tumble down  into the lake, a board catches them.  But just when they've got their hopes  up, and small dog steps on the board and the car starts to slide off the  bridge and into the lake waters.  A few minutes later...<p>They find  themselves back into their home, they find that somehow somehad light the  fireplace, as if done by magic.  From then on, they find a weird-looking  dead guy known as Bettlejuice.  The only way they can get him for help is  to call him by his name three times and he will appear at their survice.  But they soon wish that they have never called his name, because  Bettlejuice was once a troublemaker but he is the only one who can save  them, on the account that they said his name three times.  They can't leave  their houses or else they will find theirselves in another world with giant  sandworms.  This is a stellar comedy that you should see! Michael Keaton is  awesome as he plays the leading role of Bettlejuice.\n"
     ]
    }
   ],
   "source": [
    "# find sentences containing HTML tags\n",
    "import re\n",
    "i=0;\n",
    "for sent in final['Text'].values:\n",
    "    if (len(re.findall('<.*?>', sent))):\n",
    "        print(i)\n",
    "        print(sent)\n",
    "        break;\n",
    "    i += 1;"
   ]
  },
  {
   "cell_type": "code",
   "execution_count": 15,
   "metadata": {
    "colab": {
     "base_uri": "https://localhost:8080/",
     "height": 68
    },
    "colab_type": "code",
    "id": "Gs3a1khfWCAX",
    "outputId": "f13c7b87-633d-485a-b457-13770c0d45d3"
   },
   "outputs": [
    {
     "name": "stdout",
     "output_type": "stream",
     "text": [
      "[nltk_data] Downloading package stopwords to\n",
      "[nltk_data]     /home/ksumanth01/nltk_data...\n",
      "[nltk_data]   Package stopwords is already up-to-date!\n"
     ]
    },
    {
     "data": {
      "text/plain": [
       "True"
      ]
     },
     "execution_count": 15,
     "metadata": {},
     "output_type": "execute_result"
    }
   ],
   "source": [
    "nltk.download('stopwords')"
   ]
  },
  {
   "cell_type": "code",
   "execution_count": 16,
   "metadata": {
    "colab": {
     "base_uri": "https://localhost:8080/",
     "height": 88
    },
    "colab_type": "code",
    "id": "_WVZTZFWWCAd",
    "outputId": "1a39628c-99b3-43fe-de0e-d4c3f319d736"
   },
   "outputs": [
    {
     "name": "stdout",
     "output_type": "stream",
     "text": [
      "set([u'all', u'just', u\"don't\", u'being', u'over', u'both', u'through', u'yourselves', u'its', u'before', u'o', u'don', u'hadn', u'herself', u'll', u'had', u'should', u'to', u'only', u'won', u'under', u'ours', u'has', u\"should've\", u\"haven't\", u'do', u'them', u'his', u'very', u\"you've\", u'they', u'not', u'during', u'now', u'him', u'nor', u\"wasn't\", u'd', u'did', u'didn', u'this', u'she', u'each', u'further', u\"won't\", u'where', u\"mustn't\", u\"isn't\", u'few', u'because', u\"you'd\", u'doing', u'some', u'hasn', u\"hasn't\", u'are', u'our', u'ourselves', u'out', u'what', u'for', u\"needn't\", u'below', u're', u'does', u\"shouldn't\", u'above', u'between', u'mustn', u't', u'be', u'we', u'who', u\"mightn't\", u\"doesn't\", u'were', u'here', u'shouldn', u'hers', u\"aren't\", u'by', u'on', u'about', u'couldn', u'of', u\"wouldn't\", u'against', u's', u'isn', u'or', u'own', u'into', u'yourself', u'down', u\"hadn't\", u'mightn', u\"couldn't\", u'wasn', u'your', u\"you're\", u'from', u'her', u'their', u'aren', u\"it's\", u'there', u'been', u'whom', u'too', u'wouldn', u'themselves', u'weren', u'was', u'until', u'more', u'himself', u'that', u\"didn't\", u'but', u\"that'll\", u'with', u'than', u'those', u'he', u'me', u'myself', u'ma', u\"weren't\", u'these', u'up', u'will', u'while', u'ain', u'can', u'theirs', u'my', u'and', u've', u'then', u'is', u'am', u'it', u'doesn', u'an', u'as', u'itself', u'at', u'have', u'in', u'any', u'if', u'again', u'no', u'when', u'same', u'how', u'other', u'which', u'you', u\"shan't\", u'shan', u'needn', u'haven', u'after', u'most', u'such', u'why', u'a', u'off', u'i', u'm', u'yours', u\"you'll\", u'so', u'y', u\"she's\", u'the', u'having', u'once'])\n",
      "************************************\n",
      "tasti\n"
     ]
    }
   ],
   "source": [
    "\n",
    "stop = set(stopwords.words('english')) #set of stopwords\n",
    "sno = nltk.stem.SnowballStemmer('english') #initialising the snowball stemmer\n",
    "\n",
    "def cleanhtml(sentence): #function to clean the word of any html-tags\n",
    "    cleanr = re.compile('<.*?>')\n",
    "    cleantext = re.sub(cleanr, ' ', sentence)\n",
    "    return cleantext\n",
    "def cleanpunc(sentence): #function to clean the word of any punctuation or special characters\n",
    "    cleaned = re.sub(r'[?|!|\\'|\"|#]',r'',sentence)\n",
    "    cleaned = re.sub(r'[.|,|)|(|\\|/]',r' ',cleaned)\n",
    "    return  cleaned\n",
    "print(stop)\n",
    "print('************************************')\n",
    "print(sno.stem('tasty'))"
   ]
  },
  {
   "cell_type": "code",
   "execution_count": 17,
   "metadata": {
    "colab": {},
    "colab_type": "code",
    "id": "NIRR4hUgWCAi"
   },
   "outputs": [],
   "source": [
    "#Code for implementing step-by-step the checks mentioned in the pre-processing phase\n",
    "# this code takes a while to run as it needs to run on 500k sentences.\n",
    "if not os.path.isfile('final.sqlite'):\n",
    "    i=0\n",
    "    str1=' '\n",
    "    final_string=[]\n",
    "    all_positive_words=[] # store words from +ve reviews here\n",
    "    all_negative_words=[] # store words from -ve reviews here.\n",
    "    s=''\n",
    "    for sent in tqdm(final['Text'].values):\n",
    "        filtered_sentence=[]\n",
    "        #print(sent);\n",
    "        sent=cleanhtml(sent) # remove HTMl tags\n",
    "        for w in sent.split():\n",
    "            for cleaned_words in cleanpunc(w).split():\n",
    "                if((cleaned_words.isalpha()) & (len(cleaned_words)>2)):    \n",
    "                    if(cleaned_words.lower() not in stop):\n",
    "                        s=(sno.stem(cleaned_words.lower())).encode('utf8')\n",
    "                        filtered_sentence.append(s)\n",
    "                        if (final['Score'].values)[i] == 'positive': \n",
    "                            all_positive_words.append(s) #list of all words used to describe positive reviews\n",
    "                        if(final['Score'].values)[i] == 'negative':\n",
    "                            all_negative_words.append(s) #list of all words used to describe negative reviews reviews\n",
    "                    else:\n",
    "                        continue\n",
    "                else:\n",
    "                    continue \n",
    "        #print(filtered_sentence)\n",
    "        str1 = b\" \".join(filtered_sentence) #final string of cleaned words\n",
    "        #print(\"***********************************************************************\")\n",
    "\n",
    "        final_string.append(str1)\n",
    "        i+=1\n",
    "\n",
    "    #############---- storing the data into .sqlite file ------########################\n",
    "    final['CleanedText']=final_string #adding a column of CleanedText which displays the data after pre-processing of the review \n",
    "    final['CleanedText']=final['CleanedText'].str.decode(\"utf-8\")\n",
    "        # store final table into an SQlLite table for future.\n",
    "    conn = sqlite3.connect('final.sqlite')\n",
    "    c=conn.cursor()\n",
    "    conn.text_factory = str\n",
    "    final.to_sql('Reviews', conn,  schema=None, if_exists='replace', \\\n",
    "                 index=True, index_label=None, chunksize=None, dtype=None)\n",
    "    conn.close()\n",
    "    \n",
    "    \n",
    "    with open('positive_words.pkl', 'wb') as f:\n",
    "        pickle.dump(all_positive_words, f)\n",
    "    with open('negitive_words.pkl', 'wb') as f:\n",
    "        pickle.dump(all_negative_words, f)"
   ]
  },
  {
   "cell_type": "code",
   "execution_count": 18,
   "metadata": {
    "colab": {},
    "colab_type": "code",
    "id": "RvN6YBklWCAo",
    "scrolled": false
   },
   "outputs": [],
   "source": [
    "if os.path.isfile('final.sqlite'):\n",
    "    conn = sqlite3.connect('final.sqlite')\n",
    "    final = pd.read_sql_query(\"\"\" SELECT * FROM Reviews WHERE Score != 3 \"\"\", conn)\n",
    "    conn.close()\n",
    "else:\n",
    "    print(\"Please the above cell\")"
   ]
  },
  {
   "cell_type": "markdown",
   "metadata": {
    "colab_type": "text",
    "id": "WSq4iqPp3hhH"
   },
   "source": [
    "# Bag of Words - Unigrams"
   ]
  },
  {
   "cell_type": "code",
   "execution_count": 19,
   "metadata": {},
   "outputs": [],
   "source": [
    "# Dividing raw train and test data\n",
    "X = final['CleanedText']\n",
    "y = np.array(new_labels)\n",
    "\n",
    "X_train = X[:int(0.7*len(X))]\n",
    "y_train = y[:int(0.7*len(y))]\n",
    "X_test = X[len(X_train):]\n",
    "y_test = y[len(y_train):]"
   ]
  },
  {
   "cell_type": "code",
   "execution_count": 20,
   "metadata": {},
   "outputs": [
    {
     "name": "stdout",
     "output_type": "stream",
     "text": [
      "<class 'scipy.sparse.csr.csr_matrix'>\n",
      "('Train data shape: ', (56000, 28263))\n",
      "('Test data shape: ', (24000, 28263))\n"
     ]
    }
   ],
   "source": [
    "# Applying bow on train data\n",
    "count_vect = CountVectorizer()\n",
    "train_final = count_vect.fit_transform(X_train)\n",
    "print(type(train_final))\n",
    "print(\"Train data shape: \",train_final.get_shape())\n",
    "test_final = count_vect.transform(X_test)\n",
    "# applying bow on test data\n",
    "print(\"Test data shape: \",test_final.get_shape())"
   ]
  },
  {
   "cell_type": "code",
   "execution_count": 21,
   "metadata": {},
   "outputs": [],
   "source": [
    "from sklearn.tree import DecisionTreeClassifier\n",
    "depth_values=[{'max_depth':[3,5,10,15,20,25]}]\n",
    "clf=DecisionTreeClassifier(random_state=5,class_weight='balanced')\n",
    "model = GridSearchCV(clf,depth_values,cv=3,n_jobs=-1,scoring='f1_weighted')"
   ]
  },
  {
   "cell_type": "code",
   "execution_count": 22,
   "metadata": {},
   "outputs": [
    {
     "data": {
      "text/plain": [
       "GridSearchCV(cv=3, error_score='raise-deprecating',\n",
       "       estimator=DecisionTreeClassifier(class_weight='balanced', criterion='gini',\n",
       "            max_depth=None, max_features=None, max_leaf_nodes=None,\n",
       "            min_impurity_decrease=0.0, min_impurity_split=None,\n",
       "            min_samples_leaf=1, min_samples_split=2,\n",
       "            min_weight_fraction_leaf=0.0, presort=False, random_state=5,\n",
       "            splitter='best'),\n",
       "       fit_params=None, iid='warn', n_jobs=-1,\n",
       "       param_grid=[{'max_depth': [3, 5, 10, 15, 20, 25]}],\n",
       "       pre_dispatch='2*n_jobs', refit=True, return_train_score='warn',\n",
       "       scoring='f1_weighted', verbose=0)"
      ]
     },
     "execution_count": 22,
     "metadata": {},
     "output_type": "execute_result"
    }
   ],
   "source": [
    "model.fit(train_final,y_train)"
   ]
  },
  {
   "cell_type": "code",
   "execution_count": 23,
   "metadata": {},
   "outputs": [
    {
     "data": {
      "image/png": "[encoded data removed]",
      "text/plain": [
       "<Figure size 936x360 with 1 Axes>"
      ]
     },
     "metadata": {
      "needs_background": "light"
     },
     "output_type": "display_data"
    }
   ],
   "source": [
    "# plotting cv scores of train and cv data\n",
    "cv_results=model.cv_results_\n",
    "cvtrain_scores=np.array(cv_results['std_train_score']*100)\n",
    "cvtest_scores=np.array(cv_results['std_test_score']*100)\n",
    "plt.figure(figsize=(13,5))\n",
    "ax=plt.subplot(121)\n",
    "ax.set(xlabel='Train Score', ylabel='Test Score', title='CV scores of train and test')\n",
    "#ax.plot(cvtest_scores,cvtrain_scores,color=\"blue\")\n",
    "ax.scatter(cvtrain_scores,cvtest_scores,color=\"blue\")\n",
    "ax.grid(True)"
   ]
  },
  {
   "cell_type": "markdown",
   "metadata": {},
   "source": [
    "Few of cross validations have reported test error near to the train error and few have reported more test error."
   ]
  },
  {
   "cell_type": "code",
   "execution_count": 24,
   "metadata": {},
   "outputs": [
    {
     "name": "stdout",
     "output_type": "stream",
     "text": [
      "DecisionTreeClassifier(class_weight='balanced', criterion='gini',\n",
      "            max_depth=25, max_features=None, max_leaf_nodes=None,\n",
      "            min_impurity_decrease=0.0, min_impurity_split=None,\n",
      "            min_samples_leaf=1, min_samples_split=2,\n",
      "            min_weight_fraction_leaf=0.0, presort=False, random_state=5,\n",
      "            splitter='best')\n"
     ]
    }
   ],
   "source": [
    "print model.best_estimator_"
   ]
  },
  {
   "cell_type": "code",
   "execution_count": 25,
   "metadata": {},
   "outputs": [
    {
     "name": "stdout",
     "output_type": "stream",
     "text": [
      "Best depth :  25\n"
     ]
    }
   ],
   "source": [
    "print \"Best depth : \",model.best_estimator_.get_params()['max_depth']"
   ]
  },
  {
   "cell_type": "code",
   "execution_count": 26,
   "metadata": {},
   "outputs": [
    {
     "name": "stdout",
     "output_type": "stream",
     "text": [
      "('Training Score : ', 87.56913814456445)\n",
      "('Training Error : ', 12.430861855435552)\n",
      "Confusion matrix : \n",
      "[[ 5736   633]\n",
      " [ 7436 42195]]\n"
     ]
    },
    {
     "data": {
      "text/plain": [
       "Text(0.5,1,'Heatmap for confusion matrix')"
      ]
     },
     "execution_count": 26,
     "metadata": {},
     "output_type": "execute_result"
    },
    {
     "data": {
      "image/png": "[encoded data removed]",
      "text/plain": [
       "<Figure size 432x288 with 2 Axes>"
      ]
     },
     "metadata": {
      "needs_background": "light"
     },
     "output_type": "display_data"
    }
   ],
   "source": [
    "y_predtrain=model.predict(train_final)\n",
    "confusion=confusion_matrix(y_train,y_predtrain)\n",
    "training_score = f1_score(y_train,y_predtrain,average='weighted') * 100\n",
    "training_error = 100-training_score\n",
    "print (\"Training Score : \",training_score)\n",
    "print (\"Training Error : \",training_error)\n",
    "print \"Confusion matrix : \\n\",confusion\n",
    "ax = sns.heatmap(confusion, annot=True, fmt=\"d\")\n",
    "ax.set_title('Heatmap for confusion matrix')"
   ]
  },
  {
   "cell_type": "code",
   "execution_count": 27,
   "metadata": {},
   "outputs": [
    {
     "name": "stdout",
     "output_type": "stream",
     "text": [
      "('Testing Score : ', 81.03757928632287)\n",
      "('Testing Error : ', 18.962420713677133)\n",
      "Confusion matrix : \n",
      "[[ 2145  1082]\n",
      " [ 4089 16684]]\n"
     ]
    },
    {
     "data": {
      "text/plain": [
       "Text(0.5,1,'Heatmap for confusion matrix')"
      ]
     },
     "execution_count": 27,
     "metadata": {},
     "output_type": "execute_result"
    },
    {
     "data": {
      "image/png": "[encoded data removed]",
      "text/plain": [
       "<Figure size 432x288 with 2 Axes>"
      ]
     },
     "metadata": {
      "needs_background": "light"
     },
     "output_type": "display_data"
    }
   ],
   "source": [
    "y_predtest=model.predict(test_final)\n",
    "testing_score = f1_score(y_test,y_predtest,average='weighted') * 100\n",
    "testing_error = 100-testing_score\n",
    "print (\"Testing Score : \",testing_score)\n",
    "print (\"Testing Error : \",testing_error)\n",
    "confusion=confusion_matrix(y_test,y_predtest)\n",
    "print \"Confusion matrix : \\n\",confusion\n",
    "ax = sns.heatmap(confusion, annot=True, fmt=\"d\")\n",
    "ax.set_title('Heatmap for confusion matrix')"
   ]
  },
  {
   "cell_type": "code",
   "execution_count": 28,
   "metadata": {},
   "outputs": [],
   "source": [
    "clf=model.best_estimator_\n",
    "#clf.fit(train_final,y_train)\n",
    "importance_vector= clf.feature_importances_\n",
    "words_list=count_vect.get_feature_names()\n",
    "j= sorted(importance_vector,reverse=True)\n",
    "indexes=[list(importance_vector).index(i) for i in j[:100]]\n",
    "words=[words_list[i] for i in indexes]\n",
    "comment_words = ' '\n",
    "for i in words: \n",
    "    comment_words = comment_words + i + ' '"
   ]
  },
  {
   "cell_type": "code",
   "execution_count": 29,
   "metadata": {},
   "outputs": [],
   "source": [
    "from wordcloud import WordCloud, STOPWORDS \n",
    "stopwords = set(STOPWORDS)\n",
    "wordcloud = WordCloud(width = 800, height = 800, \n",
    "                background_color ='white', \n",
    "                stopwords = stopwords, \n",
    "                min_font_size = 10).generate(comment_words) "
   ]
  },
  {
   "cell_type": "code",
   "execution_count": 30,
   "metadata": {},
   "outputs": [
    {
     "data": {
      "image/png": "[encoded data removed]",
      "text/plain": [
       "<Figure size 432x432 with 1 Axes>"
      ]
     },
     "metadata": {
      "needs_background": "light"
     },
     "output_type": "display_data"
    }
   ],
   "source": [
    "# plot the WordCloud image                        \n",
    "plt.figure(figsize = (6, 6), facecolor = None) \n",
    "plt.imshow(wordcloud) \n",
    "plt.axis(\"off\") \n",
    "plt.tight_layout(pad = 0) \n",
    "  \n",
    "plt.show() "
   ]
  },
  {
   "cell_type": "markdown",
   "metadata": {},
   "source": [
    "Highly popular words are earth, money, flavour, find, etc."
   ]
  },
  {
   "cell_type": "code",
   "execution_count": 31,
   "metadata": {},
   "outputs": [
    {
     "data": {
      "image/svg+xml": [
       "<?xml version=\"1.0\" encoding=\"UTF-8\" standalone=\"no\"?>\n",
       "<!DOCTYPE svg PUBLIC \"-//W3C//DTD SVG 1.1//EN\"\n",
       " \"http://www.w3.org/Graphics/SVG/1.1/DTD/svg11.dtd\">\n",
       "<!-- Generated by graphviz version 2.40.1 (20161225.0304)\n",
       " -->\n",
       "<!-- Title: Tree Pages: 1 -->\n",
       "<svg width=\"970pt\" height=\"356pt\"\n",
       " viewBox=\"0.00 0.00 970.00 356.00\" xmlns=\"http://www.w3.org/2000/svg\" xmlns:xlink=\"http://www.w3.org/1999/xlink\">\n",
       "<g id=\"graph0\" class=\"graph\" transform=\"scale(1 1) rotate(0) translate(4 352)\">\n",
       "<title>Tree</title>\n",
       "<polygon fill=\"#ffffff\" stroke=\"transparent\" points=\"-4,4 -4,-352 966,-352 966,4 -4,4\"/>\n",
       "<!-- 0 -->\n",
       "<g id=\"node1\" class=\"node\">\n",
       "<title>0</title>\n",
       "<path fill=\"transparent\" stroke=\"#000000\" d=\"M591,-348C591,-348 402,-348 402,-348 396,-348 390,-342 390,-336 390,-336 390,-292 390,-292 390,-286 396,-280 402,-280 402,-280 591,-280 591,-280 597,-280 603,-286 603,-292 603,-292 603,-336 603,-336 603,-342 597,-348 591,-348\"/>\n",
       "<text text-anchor=\"middle\" x=\"496.5\" y=\"-332.8\" font-family=\"Helvetica,sans-Serif\" font-size=\"14.00\" fill=\"#000000\">great &lt;= 0.5</text>\n",
       "<text text-anchor=\"middle\" x=\"496.5\" y=\"-317.8\" font-family=\"Helvetica,sans-Serif\" font-size=\"14.00\" fill=\"#000000\">gini = 0.5</text>\n",
       "<text text-anchor=\"middle\" x=\"496.5\" y=\"-302.8\" font-family=\"Helvetica,sans-Serif\" font-size=\"14.00\" fill=\"#000000\">samples = 56000</text>\n",
       "<text text-anchor=\"middle\" x=\"496.5\" y=\"-287.8\" font-family=\"Helvetica,sans-Serif\" font-size=\"14.00\" fill=\"#000000\">value = [28000.0, 28000.0]</text>\n",
       "</g>\n",
       "<!-- 1 -->\n",
       "<g id=\"node2\" class=\"node\">\n",
       "<title>1</title>\n",
       "<path fill=\"#e58139\" fill-opacity=\"0.200000\" stroke=\"#000000\" d=\"M480,-244C480,-244 255,-244 255,-244 249,-244 243,-238 243,-232 243,-232 243,-188 243,-188 243,-182 249,-176 255,-176 255,-176 480,-176 480,-176 486,-176 492,-182 492,-188 492,-188 492,-232 492,-232 492,-238 486,-244 480,-244\"/>\n",
       "<text text-anchor=\"middle\" x=\"367.5\" y=\"-228.8\" font-family=\"Helvetica,sans-Serif\" font-size=\"14.00\" fill=\"#000000\">best &lt;= 0.5</text>\n",
       "<text text-anchor=\"middle\" x=\"367.5\" y=\"-213.8\" font-family=\"Helvetica,sans-Serif\" font-size=\"14.00\" fill=\"#000000\">gini = 0.494</text>\n",
       "<text text-anchor=\"middle\" x=\"367.5\" y=\"-198.8\" font-family=\"Helvetica,sans-Serif\" font-size=\"14.00\" fill=\"#000000\">samples = 41698</text>\n",
       "<text text-anchor=\"middle\" x=\"367.5\" y=\"-183.8\" font-family=\"Helvetica,sans-Serif\" font-size=\"14.00\" fill=\"#000000\">value = [25349.034, 20271.524]</text>\n",
       "</g>\n",
       "<!-- 0&#45;&gt;1 -->\n",
       "<g id=\"edge1\" class=\"edge\">\n",
       "<title>0&#45;&gt;1</title>\n",
       "<path fill=\"none\" stroke=\"#000000\" d=\"M454.2606,-279.9465C442.5669,-270.519 429.7606,-260.1946 417.663,-250.4415\"/>\n",
       "<polygon fill=\"#000000\" stroke=\"#000000\" points=\"419.8162,-247.6816 409.8343,-244.13 415.4227,-253.1312 419.8162,-247.6816\"/>\n",
       "<text text-anchor=\"middle\" x=\"412.5014\" y=\"-265.2873\" font-family=\"Helvetica,sans-Serif\" font-size=\"14.00\" fill=\"#000000\">True</text>\n",
       "</g>\n",
       "<!-- 2694 -->\n",
       "<g id=\"node9\" class=\"node\">\n",
       "<title>2694</title>\n",
       "<path fill=\"#399de5\" fill-opacity=\"0.658824\" stroke=\"#000000\" d=\"M729,-244C729,-244 522,-244 522,-244 516,-244 510,-238 510,-232 510,-232 510,-188 510,-188 510,-182 516,-176 522,-176 522,-176 729,-176 729,-176 735,-176 741,-182 741,-188 741,-188 741,-232 741,-232 741,-238 735,-244 729,-244\"/>\n",
       "<text text-anchor=\"middle\" x=\"625.5\" y=\"-228.8\" font-family=\"Helvetica,sans-Serif\" font-size=\"14.00\" fill=\"#000000\">thought &lt;= 0.5</text>\n",
       "<text text-anchor=\"middle\" x=\"625.5\" y=\"-213.8\" font-family=\"Helvetica,sans-Serif\" font-size=\"14.00\" fill=\"#000000\">gini = 0.38</text>\n",
       "<text text-anchor=\"middle\" x=\"625.5\" y=\"-198.8\" font-family=\"Helvetica,sans-Serif\" font-size=\"14.00\" fill=\"#000000\">samples = 14302</text>\n",
       "<text text-anchor=\"middle\" x=\"625.5\" y=\"-183.8\" font-family=\"Helvetica,sans-Serif\" font-size=\"14.00\" fill=\"#000000\">value = [2650.966, 7728.476]</text>\n",
       "</g>\n",
       "<!-- 0&#45;&gt;2694 -->\n",
       "<g id=\"edge8\" class=\"edge\">\n",
       "<title>0&#45;&gt;2694</title>\n",
       "<path fill=\"none\" stroke=\"#000000\" d=\"M538.7394,-279.9465C550.4331,-270.519 563.2394,-260.1946 575.337,-250.4415\"/>\n",
       "<polygon fill=\"#000000\" stroke=\"#000000\" points=\"577.5773,-253.1312 583.1657,-244.13 573.1838,-247.6816 577.5773,-253.1312\"/>\n",
       "<text text-anchor=\"middle\" x=\"580.4986\" y=\"-265.2873\" font-family=\"Helvetica,sans-Serif\" font-size=\"14.00\" fill=\"#000000\">False</text>\n",
       "</g>\n",
       "<!-- 2 -->\n",
       "<g id=\"node3\" class=\"node\">\n",
       "<title>2</title>\n",
       "<path fill=\"#e58139\" fill-opacity=\"0.301961\" stroke=\"#000000\" d=\"M237,-140C237,-140 12,-140 12,-140 6,-140 0,-134 0,-128 0,-128 0,-84 0,-84 0,-78 6,-72 12,-72 12,-72 237,-72 237,-72 243,-72 249,-78 249,-84 249,-84 249,-128 249,-128 249,-134 243,-140 237,-140\"/>\n",
       "<text text-anchor=\"middle\" x=\"124.5\" y=\"-124.8\" font-family=\"Helvetica,sans-Serif\" font-size=\"14.00\" fill=\"#000000\">love &lt;= 0.5</text>\n",
       "<text text-anchor=\"middle\" x=\"124.5\" y=\"-109.8\" font-family=\"Helvetica,sans-Serif\" font-size=\"14.00\" fill=\"#000000\">gini = 0.484</text>\n",
       "<text text-anchor=\"middle\" x=\"124.5\" y=\"-94.8\" font-family=\"Helvetica,sans-Serif\" font-size=\"14.00\" fill=\"#000000\">samples = 35762</text>\n",
       "<text text-anchor=\"middle\" x=\"124.5\" y=\"-79.8\" font-family=\"Helvetica,sans-Serif\" font-size=\"14.00\" fill=\"#000000\">value = [24373.057, 17047.893]</text>\n",
       "</g>\n",
       "<!-- 1&#45;&gt;2 -->\n",
       "<g id=\"edge2\" class=\"edge\">\n",
       "<title>1&#45;&gt;2</title>\n",
       "<path fill=\"none\" stroke=\"#000000\" d=\"M287.9327,-175.9465C264.1219,-165.7559 237.8621,-154.5171 213.4868,-144.0849\"/>\n",
       "<polygon fill=\"#000000\" stroke=\"#000000\" points=\"214.8166,-140.847 204.246,-140.13 212.0623,-147.2824 214.8166,-140.847\"/>\n",
       "</g>\n",
       "<!-- 2331 -->\n",
       "<g id=\"node6\" class=\"node\">\n",
       "<title>2331</title>\n",
       "<path fill=\"#399de5\" fill-opacity=\"0.698039\" stroke=\"#000000\" d=\"M468,-140C468,-140 279,-140 279,-140 273,-140 267,-134 267,-128 267,-128 267,-84 267,-84 267,-78 273,-72 279,-72 279,-72 468,-72 468,-72 474,-72 480,-78 480,-84 480,-84 480,-128 480,-128 480,-134 474,-140 468,-140\"/>\n",
       "<text text-anchor=\"middle\" x=\"373.5\" y=\"-124.8\" font-family=\"Helvetica,sans-Serif\" font-size=\"14.00\" fill=\"#000000\">product &lt;= 1.5</text>\n",
       "<text text-anchor=\"middle\" x=\"373.5\" y=\"-109.8\" font-family=\"Helvetica,sans-Serif\" font-size=\"14.00\" fill=\"#000000\">gini = 0.357</text>\n",
       "<text text-anchor=\"middle\" x=\"373.5\" y=\"-94.8\" font-family=\"Helvetica,sans-Serif\" font-size=\"14.00\" fill=\"#000000\">samples = 5936</text>\n",
       "<text text-anchor=\"middle\" x=\"373.5\" y=\"-79.8\" font-family=\"Helvetica,sans-Serif\" font-size=\"14.00\" fill=\"#000000\">value = [975.977, 3223.63]</text>\n",
       "</g>\n",
       "<!-- 1&#45;&gt;2331 -->\n",
       "<g id=\"edge5\" class=\"edge\">\n",
       "<title>1&#45;&gt;2331</title>\n",
       "<path fill=\"none\" stroke=\"#000000\" d=\"M369.4646,-175.9465C369.936,-167.776 370.4462,-158.9318 370.9402,-150.3697\"/>\n",
       "<polygon fill=\"#000000\" stroke=\"#000000\" points=\"374.4491,-150.315 371.531,-140.13 367.4607,-149.9118 374.4491,-150.315\"/>\n",
       "</g>\n",
       "<!-- 3 -->\n",
       "<g id=\"node4\" class=\"node\">\n",
       "<title>3</title>\n",
       "<path fill=\"#c0c0c0\" stroke=\"#000000\" d=\"M103.5,-36C103.5,-36 73.5,-36 73.5,-36 67.5,-36 61.5,-30 61.5,-24 61.5,-24 61.5,-12 61.5,-12 61.5,-6 67.5,0 73.5,0 73.5,0 103.5,0 103.5,0 109.5,0 115.5,-6 115.5,-12 115.5,-12 115.5,-24 115.5,-24 115.5,-30 109.5,-36 103.5,-36\"/>\n",
       "<text text-anchor=\"middle\" x=\"88.5\" y=\"-14.3\" font-family=\"Helvetica,sans-Serif\" font-size=\"14.00\" fill=\"#000000\">(...)</text>\n",
       "</g>\n",
       "<!-- 2&#45;&gt;3 -->\n",
       "<g id=\"edge3\" class=\"edge\">\n",
       "<title>2&#45;&gt;3</title>\n",
       "<path fill=\"none\" stroke=\"#000000\" d=\"M110.5815,-71.9769C106.9977,-63.2167 103.1862,-53.8995 99.7564,-45.5157\"/>\n",
       "<polygon fill=\"#000000\" stroke=\"#000000\" points=\"102.968,-44.1222 95.9422,-36.192 96.4891,-46.7727 102.968,-44.1222\"/>\n",
       "</g>\n",
       "<!-- 1574 -->\n",
       "<g id=\"node5\" class=\"node\">\n",
       "<title>1574</title>\n",
       "<path fill=\"#c0c0c0\" stroke=\"#000000\" d=\"M175.5,-36C175.5,-36 145.5,-36 145.5,-36 139.5,-36 133.5,-30 133.5,-24 133.5,-24 133.5,-12 133.5,-12 133.5,-6 139.5,0 145.5,0 145.5,0 175.5,0 175.5,0 181.5,0 187.5,-6 187.5,-12 187.5,-12 187.5,-24 187.5,-24 187.5,-30 181.5,-36 175.5,-36\"/>\n",
       "<text text-anchor=\"middle\" x=\"160.5\" y=\"-14.3\" font-family=\"Helvetica,sans-Serif\" font-size=\"14.00\" fill=\"#000000\">(...)</text>\n",
       "</g>\n",
       "<!-- 2&#45;&gt;1574 -->\n",
       "<g id=\"edge4\" class=\"edge\">\n",
       "<title>2&#45;&gt;1574</title>\n",
       "<path fill=\"none\" stroke=\"#000000\" d=\"M138.4185,-71.9769C142.0023,-63.2167 145.8138,-53.8995 149.2436,-45.5157\"/>\n",
       "<polygon fill=\"#000000\" stroke=\"#000000\" points=\"152.5109,-46.7727 153.0578,-36.192 146.032,-44.1222 152.5109,-46.7727\"/>\n",
       "</g>\n",
       "<!-- 2332 -->\n",
       "<g id=\"node7\" class=\"node\">\n",
       "<title>2332</title>\n",
       "<path fill=\"#c0c0c0\" stroke=\"#000000\" d=\"M352.5,-36C352.5,-36 322.5,-36 322.5,-36 316.5,-36 310.5,-30 310.5,-24 310.5,-24 310.5,-12 310.5,-12 310.5,-6 316.5,0 322.5,0 322.5,0 352.5,0 352.5,0 358.5,0 364.5,-6 364.5,-12 364.5,-12 364.5,-24 364.5,-24 364.5,-30 358.5,-36 352.5,-36\"/>\n",
       "<text text-anchor=\"middle\" x=\"337.5\" y=\"-14.3\" font-family=\"Helvetica,sans-Serif\" font-size=\"14.00\" fill=\"#000000\">(...)</text>\n",
       "</g>\n",
       "<!-- 2331&#45;&gt;2332 -->\n",
       "<g id=\"edge6\" class=\"edge\">\n",
       "<title>2331&#45;&gt;2332</title>\n",
       "<path fill=\"none\" stroke=\"#000000\" d=\"M359.5815,-71.9769C355.9977,-63.2167 352.1862,-53.8995 348.7564,-45.5157\"/>\n",
       "<polygon fill=\"#000000\" stroke=\"#000000\" points=\"351.968,-44.1222 344.9422,-36.192 345.4891,-46.7727 351.968,-44.1222\"/>\n",
       "</g>\n",
       "<!-- 2635 -->\n",
       "<g id=\"node8\" class=\"node\">\n",
       "<title>2635</title>\n",
       "<path fill=\"#c0c0c0\" stroke=\"#000000\" d=\"M424.5,-36C424.5,-36 394.5,-36 394.5,-36 388.5,-36 382.5,-30 382.5,-24 382.5,-24 382.5,-12 382.5,-12 382.5,-6 388.5,0 394.5,0 394.5,0 424.5,0 424.5,0 430.5,0 436.5,-6 436.5,-12 436.5,-12 436.5,-24 436.5,-24 436.5,-30 430.5,-36 424.5,-36\"/>\n",
       "<text text-anchor=\"middle\" x=\"409.5\" y=\"-14.3\" font-family=\"Helvetica,sans-Serif\" font-size=\"14.00\" fill=\"#000000\">(...)</text>\n",
       "</g>\n",
       "<!-- 2331&#45;&gt;2635 -->\n",
       "<g id=\"edge7\" class=\"edge\">\n",
       "<title>2331&#45;&gt;2635</title>\n",
       "<path fill=\"none\" stroke=\"#000000\" d=\"M387.4185,-71.9769C391.0023,-63.2167 394.8138,-53.8995 398.2436,-45.5157\"/>\n",
       "<polygon fill=\"#000000\" stroke=\"#000000\" points=\"401.5109,-46.7727 402.0578,-36.192 395.032,-44.1222 401.5109,-46.7727\"/>\n",
       "</g>\n",
       "<!-- 2695 -->\n",
       "<g id=\"node10\" class=\"node\">\n",
       "<title>2695</title>\n",
       "<path fill=\"#399de5\" fill-opacity=\"0.694118\" stroke=\"#000000\" d=\"M718.5,-140C718.5,-140 520.5,-140 520.5,-140 514.5,-140 508.5,-134 508.5,-128 508.5,-128 508.5,-84 508.5,-84 508.5,-78 514.5,-72 520.5,-72 520.5,-72 718.5,-72 718.5,-72 724.5,-72 730.5,-78 730.5,-84 730.5,-84 730.5,-128 730.5,-128 730.5,-134 724.5,-140 718.5,-140\"/>\n",
       "<text text-anchor=\"middle\" x=\"619.5\" y=\"-124.8\" font-family=\"Helvetica,sans-Serif\" font-size=\"14.00\" fill=\"#000000\">disappoint &lt;= 0.5</text>\n",
       "<text text-anchor=\"middle\" x=\"619.5\" y=\"-109.8\" font-family=\"Helvetica,sans-Serif\" font-size=\"14.00\" fill=\"#000000\">gini = 0.36</text>\n",
       "<text text-anchor=\"middle\" x=\"619.5\" y=\"-94.8\" font-family=\"Helvetica,sans-Serif\" font-size=\"14.00\" fill=\"#000000\">samples = 13844</text>\n",
       "<text text-anchor=\"middle\" x=\"619.5\" y=\"-79.8\" font-family=\"Helvetica,sans-Serif\" font-size=\"14.00\" fill=\"#000000\">value = [2312.451, 7513.53]</text>\n",
       "</g>\n",
       "<!-- 2694&#45;&gt;2695 -->\n",
       "<g id=\"edge9\" class=\"edge\">\n",
       "<title>2694&#45;&gt;2695</title>\n",
       "<path fill=\"none\" stroke=\"#000000\" d=\"M623.5354,-175.9465C623.064,-167.776 622.5538,-158.9318 622.0598,-150.3697\"/>\n",
       "<polygon fill=\"#000000\" stroke=\"#000000\" points=\"625.5393,-149.9118 621.469,-140.13 618.5509,-150.315 625.5393,-149.9118\"/>\n",
       "</g>\n",
       "<!-- 3214 -->\n",
       "<g id=\"node13\" class=\"node\">\n",
       "<title>3214</title>\n",
       "<path fill=\"#e58139\" fill-opacity=\"0.364706\" stroke=\"#000000\" d=\"M950,-140C950,-140 761,-140 761,-140 755,-140 749,-134 749,-128 749,-128 749,-84 749,-84 749,-78 755,-72 761,-72 761,-72 950,-72 950,-72 956,-72 962,-78 962,-84 962,-84 962,-128 962,-128 962,-134 956,-140 950,-140\"/>\n",
       "<text text-anchor=\"middle\" x=\"855.5\" y=\"-124.8\" font-family=\"Helvetica,sans-Serif\" font-size=\"14.00\" fill=\"#000000\">best &lt;= 0.5</text>\n",
       "<text text-anchor=\"middle\" x=\"855.5\" y=\"-109.8\" font-family=\"Helvetica,sans-Serif\" font-size=\"14.00\" fill=\"#000000\">gini = 0.475</text>\n",
       "<text text-anchor=\"middle\" x=\"855.5\" y=\"-94.8\" font-family=\"Helvetica,sans-Serif\" font-size=\"14.00\" fill=\"#000000\">samples = 458</text>\n",
       "<text text-anchor=\"middle\" x=\"855.5\" y=\"-79.8\" font-family=\"Helvetica,sans-Serif\" font-size=\"14.00\" fill=\"#000000\">value = [338.515, 214.946]</text>\n",
       "</g>\n",
       "<!-- 2694&#45;&gt;3214 -->\n",
       "<g id=\"edge12\" class=\"edge\">\n",
       "<title>2694&#45;&gt;3214</title>\n",
       "<path fill=\"none\" stroke=\"#000000\" d=\"M700.8106,-175.9465C723.149,-165.8457 747.7648,-154.7151 770.6636,-144.3608\"/>\n",
       "<polygon fill=\"#000000\" stroke=\"#000000\" points=\"772.3505,-147.4393 780.0202,-140.13 769.4663,-141.061 772.3505,-147.4393\"/>\n",
       "</g>\n",
       "<!-- 2696 -->\n",
       "<g id=\"node11\" class=\"node\">\n",
       "<title>2696</title>\n",
       "<path fill=\"#c0c0c0\" stroke=\"#000000\" d=\"M598.5,-36C598.5,-36 568.5,-36 568.5,-36 562.5,-36 556.5,-30 556.5,-24 556.5,-24 556.5,-12 556.5,-12 556.5,-6 562.5,0 568.5,0 568.5,0 598.5,0 598.5,0 604.5,0 610.5,-6 610.5,-12 610.5,-12 610.5,-24 610.5,-24 610.5,-30 604.5,-36 598.5,-36\"/>\n",
       "<text text-anchor=\"middle\" x=\"583.5\" y=\"-14.3\" font-family=\"Helvetica,sans-Serif\" font-size=\"14.00\" fill=\"#000000\">(...)</text>\n",
       "</g>\n",
       "<!-- 2695&#45;&gt;2696 -->\n",
       "<g id=\"edge10\" class=\"edge\">\n",
       "<title>2695&#45;&gt;2696</title>\n",
       "<path fill=\"none\" stroke=\"#000000\" d=\"M605.5815,-71.9769C601.9977,-63.2167 598.1862,-53.8995 594.7564,-45.5157\"/>\n",
       "<polygon fill=\"#000000\" stroke=\"#000000\" points=\"597.968,-44.1222 590.9422,-36.192 591.4891,-46.7727 597.968,-44.1222\"/>\n",
       "</g>\n",
       "<!-- 3161 -->\n",
       "<g id=\"node12\" class=\"node\">\n",
       "<title>3161</title>\n",
       "<path fill=\"#c0c0c0\" stroke=\"#000000\" d=\"M670.5,-36C670.5,-36 640.5,-36 640.5,-36 634.5,-36 628.5,-30 628.5,-24 628.5,-24 628.5,-12 628.5,-12 628.5,-6 634.5,0 640.5,0 640.5,0 670.5,0 670.5,0 676.5,0 682.5,-6 682.5,-12 682.5,-12 682.5,-24 682.5,-24 682.5,-30 676.5,-36 670.5,-36\"/>\n",
       "<text text-anchor=\"middle\" x=\"655.5\" y=\"-14.3\" font-family=\"Helvetica,sans-Serif\" font-size=\"14.00\" fill=\"#000000\">(...)</text>\n",
       "</g>\n",
       "<!-- 2695&#45;&gt;3161 -->\n",
       "<g id=\"edge11\" class=\"edge\">\n",
       "<title>2695&#45;&gt;3161</title>\n",
       "<path fill=\"none\" stroke=\"#000000\" d=\"M633.4185,-71.9769C637.0023,-63.2167 640.8138,-53.8995 644.2436,-45.5157\"/>\n",
       "<polygon fill=\"#000000\" stroke=\"#000000\" points=\"647.5109,-46.7727 648.0578,-36.192 641.032,-44.1222 647.5109,-46.7727\"/>\n",
       "</g>\n",
       "<!-- 3215 -->\n",
       "<g id=\"node14\" class=\"node\">\n",
       "<title>3215</title>\n",
       "<path fill=\"#c0c0c0\" stroke=\"#000000\" d=\"M834.5,-36C834.5,-36 804.5,-36 804.5,-36 798.5,-36 792.5,-30 792.5,-24 792.5,-24 792.5,-12 792.5,-12 792.5,-6 798.5,0 804.5,0 804.5,0 834.5,0 834.5,0 840.5,0 846.5,-6 846.5,-12 846.5,-12 846.5,-24 846.5,-24 846.5,-30 840.5,-36 834.5,-36\"/>\n",
       "<text text-anchor=\"middle\" x=\"819.5\" y=\"-14.3\" font-family=\"Helvetica,sans-Serif\" font-size=\"14.00\" fill=\"#000000\">(...)</text>\n",
       "</g>\n",
       "<!-- 3214&#45;&gt;3215 -->\n",
       "<g id=\"edge13\" class=\"edge\">\n",
       "<title>3214&#45;&gt;3215</title>\n",
       "<path fill=\"none\" stroke=\"#000000\" d=\"M841.5815,-71.9769C837.9977,-63.2167 834.1862,-53.8995 830.7564,-45.5157\"/>\n",
       "<polygon fill=\"#000000\" stroke=\"#000000\" points=\"833.968,-44.1222 826.9422,-36.192 827.4891,-46.7727 833.968,-44.1222\"/>\n",
       "</g>\n",
       "<!-- 3288 -->\n",
       "<g id=\"node15\" class=\"node\">\n",
       "<title>3288</title>\n",
       "<path fill=\"#c0c0c0\" stroke=\"#000000\" d=\"M906.5,-36C906.5,-36 876.5,-36 876.5,-36 870.5,-36 864.5,-30 864.5,-24 864.5,-24 864.5,-12 864.5,-12 864.5,-6 870.5,0 876.5,0 876.5,0 906.5,0 906.5,0 912.5,0 918.5,-6 918.5,-12 918.5,-12 918.5,-24 918.5,-24 918.5,-30 912.5,-36 906.5,-36\"/>\n",
       "<text text-anchor=\"middle\" x=\"891.5\" y=\"-14.3\" font-family=\"Helvetica,sans-Serif\" font-size=\"14.00\" fill=\"#000000\">(...)</text>\n",
       "</g>\n",
       "<!-- 3214&#45;&gt;3288 -->\n",
       "<g id=\"edge14\" class=\"edge\">\n",
       "<title>3214&#45;&gt;3288</title>\n",
       "<path fill=\"none\" stroke=\"#000000\" d=\"M869.4185,-71.9769C873.0023,-63.2167 876.8138,-53.8995 880.2436,-45.5157\"/>\n",
       "<polygon fill=\"#000000\" stroke=\"#000000\" points=\"883.5109,-46.7727 884.0578,-36.192 877.032,-44.1222 883.5109,-46.7727\"/>\n",
       "</g>\n",
       "</g>\n",
       "</svg>\n"
      ],
      "text/plain": [
       "<graphviz.files.Source at 0x7fd2650d8410>"
      ]
     },
     "execution_count": 31,
     "metadata": {},
     "output_type": "execute_result"
    }
   ],
   "source": [
    "import graphviz\n",
    "from sklearn import tree\n",
    "dot_data = tree.export_graphviz(clf,feature_names=words_list,out_file=None,filled=True,rounded=True,max_depth=2)\n",
    "graph=graphviz.Source(dot_data)\n",
    "graph.render(\"Bag_of_Words\")\n",
    "graph"
   ]
  },
  {
   "cell_type": "markdown",
   "metadata": {},
   "source": [
    "# TF-IDF Featurization"
   ]
  },
  {
   "cell_type": "code",
   "execution_count": 32,
   "metadata": {},
   "outputs": [],
   "source": [
    "# Dividing raw train and test data\n",
    "X = final['CleanedText']\n",
    "y = np.array(new_labels)\n",
    "\n",
    "X_train = X[:int(0.7*len(X))]\n",
    "y_train = y[:int(0.7*len(y))]\n",
    "X_test = X[len(X_train):]\n",
    "y_test = y[len(y_train):]"
   ]
  },
  {
   "cell_type": "code",
   "execution_count": 33,
   "metadata": {},
   "outputs": [
    {
     "name": "stdout",
     "output_type": "stream",
     "text": [
      "('Train data shape: ', (56000, 774348))\n",
      "('Test data shape: ', (24000, 774348))\n"
     ]
    }
   ],
   "source": [
    "# TF-IDF Vectorizing\n",
    "# vectorizing X_train\n",
    "tf_idf_vect = TfidfVectorizer(ngram_range=(1,2))\n",
    "train_final_tfidf = tf_idf_vect.fit_transform(X_train)\n",
    "print(\"Train data shape: \",train_final_tfidf.get_shape())\n",
    "#vectorizing X_test\n",
    "test_final_tfidf = tf_idf_vect.transform(X_test) \n",
    "print(\"Test data shape: \",test_final_tfidf.get_shape())"
   ]
  },
  {
   "cell_type": "code",
   "execution_count": 34,
   "metadata": {},
   "outputs": [],
   "source": [
    "depth_values=[{'max_depth':[3,5,10,15,20,25]}]\n",
    "clf=DecisionTreeClassifier(random_state=5,class_weight='balanced')\n",
    "model = GridSearchCV(clf,depth_values,cv=3,n_jobs=-1)"
   ]
  },
  {
   "cell_type": "code",
   "execution_count": 35,
   "metadata": {},
   "outputs": [
    {
     "data": {
      "text/plain": [
       "GridSearchCV(cv=3, error_score='raise-deprecating',\n",
       "       estimator=DecisionTreeClassifier(class_weight='balanced', criterion='gini',\n",
       "            max_depth=None, max_features=None, max_leaf_nodes=None,\n",
       "            min_impurity_decrease=0.0, min_impurity_split=None,\n",
       "            min_samples_leaf=1, min_samples_split=2,\n",
       "            min_weight_fraction_leaf=0.0, presort=False, random_state=5,\n",
       "            splitter='best'),\n",
       "       fit_params=None, iid='warn', n_jobs=-1,\n",
       "       param_grid=[{'max_depth': [3, 5, 10, 15, 20, 25]}],\n",
       "       pre_dispatch='2*n_jobs', refit=True, return_train_score='warn',\n",
       "       scoring=None, verbose=0)"
      ]
     },
     "execution_count": 35,
     "metadata": {},
     "output_type": "execute_result"
    }
   ],
   "source": [
    "model.fit(train_final_tfidf,y_train)"
   ]
  },
  {
   "cell_type": "code",
   "execution_count": 36,
   "metadata": {},
   "outputs": [
    {
     "data": {
      "image/png": "[encoded data removed]",
      "text/plain": [
       "<Figure size 936x360 with 1 Axes>"
      ]
     },
     "metadata": {
      "needs_background": "light"
     },
     "output_type": "display_data"
    }
   ],
   "source": [
    "# plotting cv scores of train and cv data\n",
    "cv_results=model.cv_results_\n",
    "cvtrain_scores=np.array(cv_results['std_train_score']*100)\n",
    "cvtest_scores=np.array(cv_results['std_test_score']*100)\n",
    "plt.figure(figsize=(13,5))\n",
    "ax=plt.subplot(121)\n",
    "ax.set(xlabel='Train Score', ylabel='Test Score', title='CV scores of train and test')\n",
    "#ax.plot(cvtest_scores,cvtrain_scores,color=\"blue\")\n",
    "ax.scatter(cvtrain_scores,cvtest_scores,color=\"blue\")\n",
    "ax.grid(True)"
   ]
  },
  {
   "cell_type": "markdown",
   "metadata": {},
   "source": [
    "Few of the reported test error with minor difference between train error."
   ]
  },
  {
   "cell_type": "code",
   "execution_count": 37,
   "metadata": {},
   "outputs": [
    {
     "name": "stdout",
     "output_type": "stream",
     "text": [
      "DecisionTreeClassifier(class_weight='balanced', criterion='gini',\n",
      "            max_depth=25, max_features=None, max_leaf_nodes=None,\n",
      "            min_impurity_decrease=0.0, min_impurity_split=None,\n",
      "            min_samples_leaf=1, min_samples_split=2,\n",
      "            min_weight_fraction_leaf=0.0, presort=False, random_state=5,\n",
      "            splitter='best')\n"
     ]
    }
   ],
   "source": [
    "print model.best_estimator_"
   ]
  },
  {
   "cell_type": "code",
   "execution_count": 38,
   "metadata": {},
   "outputs": [
    {
     "name": "stdout",
     "output_type": "stream",
     "text": [
      "Best depth :  25\n"
     ]
    }
   ],
   "source": [
    "print \"Best depth : \",model.best_estimator_.get_params()['max_depth']"
   ]
  },
  {
   "cell_type": "code",
   "execution_count": 39,
   "metadata": {},
   "outputs": [
    {
     "name": "stdout",
     "output_type": "stream",
     "text": [
      "('Training Score : ', 85.60468400672049)\n",
      "('Training Error : ', 14.39531599327951)\n",
      "Confusion matrix : \n",
      "[[ 6095   274]\n",
      " [ 9292 40339]]\n"
     ]
    },
    {
     "data": {
      "text/plain": [
       "Text(0.5,1,'Heatmap for confusion matrix')"
      ]
     },
     "execution_count": 39,
     "metadata": {},
     "output_type": "execute_result"
    },
    {
     "data": {
      "image/png": "[encoded data removed]",
      "text/plain": [
       "<Figure size 432x288 with 2 Axes>"
      ]
     },
     "metadata": {
      "needs_background": "light"
     },
     "output_type": "display_data"
    }
   ],
   "source": [
    "y_predtrain=model.predict(train_final_tfidf)\n",
    "confusion=confusion_matrix(y_train,y_predtrain)\n",
    "training_score = f1_score(y_train,y_predtrain,average='weighted') * 100\n",
    "training_error = 100-training_score\n",
    "print (\"Training Score : \",training_score)\n",
    "print (\"Training Error : \",training_error)\n",
    "print \"Confusion matrix : \\n\",confusion\n",
    "ax = sns.heatmap(confusion, annot=True, fmt=\"d\")\n",
    "ax.set_title('Heatmap for confusion matrix')"
   ]
  },
  {
   "cell_type": "code",
   "execution_count": 40,
   "metadata": {},
   "outputs": [
    {
     "name": "stdout",
     "output_type": "stream",
     "text": [
      "('Training Score : ', 80.65410499323605)\n",
      "('Training Error : ', 19.345895006763953)\n",
      "Confusion matrix : \n",
      "[[ 2208  1019]\n",
      " [ 4290 16483]]\n"
     ]
    },
    {
     "data": {
      "text/plain": [
       "Text(0.5,1,'Heatmap for confusion matrix')"
      ]
     },
     "execution_count": 40,
     "metadata": {},
     "output_type": "execute_result"
    },
    {
     "data": {
      "image/png": "[encoded data removed]",
      "text/plain": [
       "<Figure size 432x288 with 2 Axes>"
      ]
     },
     "metadata": {
      "needs_background": "light"
     },
     "output_type": "display_data"
    }
   ],
   "source": [
    "y_predtest=model.predict(test_final_tfidf)\n",
    "testing_score = f1_score(y_test,y_predtest,average='weighted') * 100\n",
    "testing_error = 100-testing_score\n",
    "print (\"Training Score : \",testing_score)\n",
    "print (\"Training Error : \",testing_error)\n",
    "confusion=confusion_matrix(y_test,y_predtest)\n",
    "print \"Confusion matrix : \\n\",confusion\n",
    "ax = sns.heatmap(confusion, annot=True, fmt=\"d\")\n",
    "ax.set_title('Heatmap for confusion matrix')"
   ]
  },
  {
   "cell_type": "code",
   "execution_count": 41,
   "metadata": {},
   "outputs": [],
   "source": [
    "clf=model.best_estimator_\n",
    "#clf.fit(train_final,y_train)\n",
    "importance_vector= clf.feature_importances_\n",
    "words_list=tf_idf_vect.get_feature_names()\n",
    "j= sorted(importance_vector,reverse=True)\n",
    "indexes=[list(importance_vector).index(i) for i in j[:100]]\n",
    "words=[words_list[i] for i in indexes]\n",
    "comment_words = ' '\n",
    "for i in words: \n",
    "    comment_words = comment_words + i + ' '"
   ]
  },
  {
   "cell_type": "code",
   "execution_count": 42,
   "metadata": {},
   "outputs": [],
   "source": [
    "from wordcloud import WordCloud, STOPWORDS \n",
    "stopwords = set(STOPWORDS)\n",
    "wordcloud = WordCloud(width = 800, height = 800, \n",
    "                background_color ='white', \n",
    "                stopwords = stopwords, \n",
    "                min_font_size = 10).generate(comment_words) "
   ]
  },
  {
   "cell_type": "code",
   "execution_count": 43,
   "metadata": {},
   "outputs": [
    {
     "data": {
      "image/png": "[encoded data removed]",
      "text/plain": [
       "<Figure size 432x432 with 1 Axes>"
      ]
     },
     "metadata": {
      "needs_background": "light"
     },
     "output_type": "display_data"
    }
   ],
   "source": [
    "# plot the WordCloud image                        \n",
    "plt.figure(figsize = (6, 6), facecolor = None) \n",
    "plt.imshow(wordcloud) \n",
    "plt.axis(\"off\") \n",
    "plt.tight_layout(pad = 0) \n",
    "  \n",
    "plt.show() "
   ]
  },
  {
   "cell_type": "markdown",
   "metadata": {},
   "source": [
    "Highly popular and class deciding words are sound, good, disappoint, favourit and etc."
   ]
  },
  {
   "cell_type": "code",
   "execution_count": 44,
   "metadata": {},
   "outputs": [
    {
     "data": {
      "image/svg+xml": [
       "<?xml version=\"1.0\" encoding=\"UTF-8\" standalone=\"no\"?>\n",
       "<!DOCTYPE svg PUBLIC \"-//W3C//DTD SVG 1.1//EN\"\n",
       " \"http://www.w3.org/Graphics/SVG/1.1/DTD/svg11.dtd\">\n",
       "<!-- Generated by graphviz version 2.40.1 (20161225.0304)\n",
       " -->\n",
       "<!-- Title: Tree Pages: 1 -->\n",
       "<svg width=\"982pt\" height=\"356pt\"\n",
       " viewBox=\"0.00 0.00 981.50 356.00\" xmlns=\"http://www.w3.org/2000/svg\" xmlns:xlink=\"http://www.w3.org/1999/xlink\">\n",
       "<g id=\"graph0\" class=\"graph\" transform=\"scale(1 1) rotate(0) translate(4 352)\">\n",
       "<title>Tree</title>\n",
       "<polygon fill=\"#ffffff\" stroke=\"transparent\" points=\"-4,4 -4,-352 977.5,-352 977.5,4 -4,4\"/>\n",
       "<!-- 0 -->\n",
       "<g id=\"node1\" class=\"node\">\n",
       "<title>0</title>\n",
       "<path fill=\"transparent\" stroke=\"#000000\" d=\"M603,-348C603,-348 414,-348 414,-348 408,-348 402,-342 402,-336 402,-336 402,-292 402,-292 402,-286 408,-280 414,-280 414,-280 603,-280 603,-280 609,-280 615,-286 615,-292 615,-292 615,-336 615,-336 615,-342 609,-348 603,-348\"/>\n",
       "<text text-anchor=\"middle\" x=\"508.5\" y=\"-332.8\" font-family=\"Helvetica,sans-Serif\" font-size=\"14.00\" fill=\"#000000\">great &lt;= 0.026</text>\n",
       "<text text-anchor=\"middle\" x=\"508.5\" y=\"-317.8\" font-family=\"Helvetica,sans-Serif\" font-size=\"14.00\" fill=\"#000000\">gini = 0.5</text>\n",
       "<text text-anchor=\"middle\" x=\"508.5\" y=\"-302.8\" font-family=\"Helvetica,sans-Serif\" font-size=\"14.00\" fill=\"#000000\">samples = 56000</text>\n",
       "<text text-anchor=\"middle\" x=\"508.5\" y=\"-287.8\" font-family=\"Helvetica,sans-Serif\" font-size=\"14.00\" fill=\"#000000\">value = [28000.0, 28000.0]</text>\n",
       "</g>\n",
       "<!-- 1 -->\n",
       "<g id=\"node2\" class=\"node\">\n",
       "<title>1</title>\n",
       "<path fill=\"#e58139\" fill-opacity=\"0.184314\" stroke=\"#000000\" d=\"M492,-244C492,-244 267,-244 267,-244 261,-244 255,-238 255,-232 255,-232 255,-188 255,-188 255,-182 261,-176 267,-176 267,-176 492,-176 492,-176 498,-176 504,-182 504,-188 504,-188 504,-232 504,-232 504,-238 498,-244 492,-244\"/>\n",
       "<text text-anchor=\"middle\" x=\"379.5\" y=\"-228.8\" font-family=\"Helvetica,sans-Serif\" font-size=\"14.00\" fill=\"#000000\">best &lt;= 0.015</text>\n",
       "<text text-anchor=\"middle\" x=\"379.5\" y=\"-213.8\" font-family=\"Helvetica,sans-Serif\" font-size=\"14.00\" fill=\"#000000\">gini = 0.495</text>\n",
       "<text text-anchor=\"middle\" x=\"379.5\" y=\"-198.8\" font-family=\"Helvetica,sans-Serif\" font-size=\"14.00\" fill=\"#000000\">samples = 43430</text>\n",
       "<text text-anchor=\"middle\" x=\"379.5\" y=\"-183.8\" font-family=\"Helvetica,sans-Serif\" font-size=\"14.00\" fill=\"#000000\">value = [26008.479, 21164.031]</text>\n",
       "</g>\n",
       "<!-- 0&#45;&gt;1 -->\n",
       "<g id=\"edge1\" class=\"edge\">\n",
       "<title>0&#45;&gt;1</title>\n",
       "<path fill=\"none\" stroke=\"#000000\" d=\"M466.2606,-279.9465C454.5669,-270.519 441.7606,-260.1946 429.663,-250.4415\"/>\n",
       "<polygon fill=\"#000000\" stroke=\"#000000\" points=\"431.8162,-247.6816 421.8343,-244.13 427.4227,-253.1312 431.8162,-247.6816\"/>\n",
       "<text text-anchor=\"middle\" x=\"424.5014\" y=\"-265.2873\" font-family=\"Helvetica,sans-Serif\" font-size=\"14.00\" fill=\"#000000\">True</text>\n",
       "</g>\n",
       "<!-- 2184 -->\n",
       "<g id=\"node9\" class=\"node\">\n",
       "<title>2184</title>\n",
       "<path fill=\"#399de5\" fill-opacity=\"0.709804\" stroke=\"#000000\" d=\"M741,-244C741,-244 534,-244 534,-244 528,-244 522,-238 522,-232 522,-232 522,-188 522,-188 522,-182 528,-176 534,-176 534,-176 741,-176 741,-176 747,-176 753,-182 753,-188 753,-188 753,-232 753,-232 753,-238 747,-244 741,-244\"/>\n",
       "<text text-anchor=\"middle\" x=\"637.5\" y=\"-228.8\" font-family=\"Helvetica,sans-Serif\" font-size=\"14.00\" fill=\"#000000\">disappoint &lt;= 0.034</text>\n",
       "<text text-anchor=\"middle\" x=\"637.5\" y=\"-213.8\" font-family=\"Helvetica,sans-Serif\" font-size=\"14.00\" fill=\"#000000\">gini = 0.349</text>\n",
       "<text text-anchor=\"middle\" x=\"637.5\" y=\"-198.8\" font-family=\"Helvetica,sans-Serif\" font-size=\"14.00\" fill=\"#000000\">samples = 12570</text>\n",
       "<text text-anchor=\"middle\" x=\"637.5\" y=\"-183.8\" font-family=\"Helvetica,sans-Serif\" font-size=\"14.00\" fill=\"#000000\">value = [1991.521, 6835.969]</text>\n",
       "</g>\n",
       "<!-- 0&#45;&gt;2184 -->\n",
       "<g id=\"edge8\" class=\"edge\">\n",
       "<title>0&#45;&gt;2184</title>\n",
       "<path fill=\"none\" stroke=\"#000000\" d=\"M550.7394,-279.9465C562.4331,-270.519 575.2394,-260.1946 587.337,-250.4415\"/>\n",
       "<polygon fill=\"#000000\" stroke=\"#000000\" points=\"589.5773,-253.1312 595.1657,-244.13 585.1838,-247.6816 589.5773,-253.1312\"/>\n",
       "<text text-anchor=\"middle\" x=\"592.4986\" y=\"-265.2873\" font-family=\"Helvetica,sans-Serif\" font-size=\"14.00\" fill=\"#000000\">False</text>\n",
       "</g>\n",
       "<!-- 2 -->\n",
       "<g id=\"node3\" class=\"node\">\n",
       "<title>2</title>\n",
       "<path fill=\"#e58139\" fill-opacity=\"0.290196\" stroke=\"#000000\" d=\"M237,-140C237,-140 12,-140 12,-140 6,-140 0,-134 0,-128 0,-128 0,-84 0,-84 0,-78 6,-72 12,-72 12,-72 237,-72 237,-72 243,-72 249,-78 249,-84 249,-84 249,-128 249,-128 249,-134 243,-140 237,-140\"/>\n",
       "<text text-anchor=\"middle\" x=\"124.5\" y=\"-124.8\" font-family=\"Helvetica,sans-Serif\" font-size=\"14.00\" fill=\"#000000\">love &lt;= 0.037</text>\n",
       "<text text-anchor=\"middle\" x=\"124.5\" y=\"-109.8\" font-family=\"Helvetica,sans-Serif\" font-size=\"14.00\" fill=\"#000000\">gini = 0.486</text>\n",
       "<text text-anchor=\"middle\" x=\"124.5\" y=\"-94.8\" font-family=\"Helvetica,sans-Serif\" font-size=\"14.00\" fill=\"#000000\">samples = 37184</text>\n",
       "<text text-anchor=\"middle\" x=\"124.5\" y=\"-79.8\" font-family=\"Helvetica,sans-Serif\" font-size=\"14.00\" fill=\"#000000\">value = [24992.935, 17770.587]</text>\n",
       "</g>\n",
       "<!-- 1&#45;&gt;2 -->\n",
       "<g id=\"edge2\" class=\"edge\">\n",
       "<title>1&#45;&gt;2</title>\n",
       "<path fill=\"none\" stroke=\"#000000\" d=\"M296.0035,-175.9465C270.9067,-165.711 243.2174,-154.4181 217.5433,-143.9471\"/>\n",
       "<polygon fill=\"#000000\" stroke=\"#000000\" points=\"218.7654,-140.6657 208.1841,-140.13 216.1219,-147.1473 218.7654,-140.6657\"/>\n",
       "</g>\n",
       "<!-- 1855 -->\n",
       "<g id=\"node6\" class=\"node\">\n",
       "<title>1855</title>\n",
       "<path fill=\"#399de5\" fill-opacity=\"0.701961\" stroke=\"#000000\" d=\"M486,-140C486,-140 279,-140 279,-140 273,-140 267,-134 267,-128 267,-128 267,-84 267,-84 267,-78 273,-72 279,-72 279,-72 486,-72 486,-72 492,-72 498,-78 498,-84 498,-84 498,-128 498,-128 498,-134 492,-140 486,-140\"/>\n",
       "<text text-anchor=\"middle\" x=\"382.5\" y=\"-124.8\" font-family=\"Helvetica,sans-Serif\" font-size=\"14.00\" fill=\"#000000\">disappoint &lt;= 0.024</text>\n",
       "<text text-anchor=\"middle\" x=\"382.5\" y=\"-109.8\" font-family=\"Helvetica,sans-Serif\" font-size=\"14.00\" fill=\"#000000\">gini = 0.355</text>\n",
       "<text text-anchor=\"middle\" x=\"382.5\" y=\"-94.8\" font-family=\"Helvetica,sans-Serif\" font-size=\"14.00\" fill=\"#000000\">samples = 6246</text>\n",
       "<text text-anchor=\"middle\" x=\"382.5\" y=\"-79.8\" font-family=\"Helvetica,sans-Serif\" font-size=\"14.00\" fill=\"#000000\">value = [1015.544, 3393.444]</text>\n",
       "</g>\n",
       "<!-- 1&#45;&gt;1855 -->\n",
       "<g id=\"edge5\" class=\"edge\">\n",
       "<title>1&#45;&gt;1855</title>\n",
       "<path fill=\"none\" stroke=\"#000000\" d=\"M380.4823,-175.9465C380.718,-167.776 380.9731,-158.9318 381.2201,-150.3697\"/>\n",
       "<polygon fill=\"#000000\" stroke=\"#000000\" points=\"384.7256,-150.2268 381.5155,-140.13 377.7285,-150.0249 384.7256,-150.2268\"/>\n",
       "</g>\n",
       "<!-- 3 -->\n",
       "<g id=\"node4\" class=\"node\">\n",
       "<title>3</title>\n",
       "<path fill=\"#c0c0c0\" stroke=\"#000000\" d=\"M103.5,-36C103.5,-36 73.5,-36 73.5,-36 67.5,-36 61.5,-30 61.5,-24 61.5,-24 61.5,-12 61.5,-12 61.5,-6 67.5,0 73.5,0 73.5,0 103.5,0 103.5,0 109.5,0 115.5,-6 115.5,-12 115.5,-12 115.5,-24 115.5,-24 115.5,-30 109.5,-36 103.5,-36\"/>\n",
       "<text text-anchor=\"middle\" x=\"88.5\" y=\"-14.3\" font-family=\"Helvetica,sans-Serif\" font-size=\"14.00\" fill=\"#000000\">(...)</text>\n",
       "</g>\n",
       "<!-- 2&#45;&gt;3 -->\n",
       "<g id=\"edge3\" class=\"edge\">\n",
       "<title>2&#45;&gt;3</title>\n",
       "<path fill=\"none\" stroke=\"#000000\" d=\"M110.5815,-71.9769C106.9977,-63.2167 103.1862,-53.8995 99.7564,-45.5157\"/>\n",
       "<polygon fill=\"#000000\" stroke=\"#000000\" points=\"102.968,-44.1222 95.9422,-36.192 96.4891,-46.7727 102.968,-44.1222\"/>\n",
       "</g>\n",
       "<!-- 1472 -->\n",
       "<g id=\"node5\" class=\"node\">\n",
       "<title>1472</title>\n",
       "<path fill=\"#c0c0c0\" stroke=\"#000000\" d=\"M175.5,-36C175.5,-36 145.5,-36 145.5,-36 139.5,-36 133.5,-30 133.5,-24 133.5,-24 133.5,-12 133.5,-12 133.5,-6 139.5,0 145.5,0 145.5,0 175.5,0 175.5,0 181.5,0 187.5,-6 187.5,-12 187.5,-12 187.5,-24 187.5,-24 187.5,-30 181.5,-36 175.5,-36\"/>\n",
       "<text text-anchor=\"middle\" x=\"160.5\" y=\"-14.3\" font-family=\"Helvetica,sans-Serif\" font-size=\"14.00\" fill=\"#000000\">(...)</text>\n",
       "</g>\n",
       "<!-- 2&#45;&gt;1472 -->\n",
       "<g id=\"edge4\" class=\"edge\">\n",
       "<title>2&#45;&gt;1472</title>\n",
       "<path fill=\"none\" stroke=\"#000000\" d=\"M138.4185,-71.9769C142.0023,-63.2167 145.8138,-53.8995 149.2436,-45.5157\"/>\n",
       "<polygon fill=\"#000000\" stroke=\"#000000\" points=\"152.5109,-46.7727 153.0578,-36.192 146.032,-44.1222 152.5109,-46.7727\"/>\n",
       "</g>\n",
       "<!-- 1856 -->\n",
       "<g id=\"node7\" class=\"node\">\n",
       "<title>1856</title>\n",
       "<path fill=\"#c0c0c0\" stroke=\"#000000\" d=\"M361.5,-36C361.5,-36 331.5,-36 331.5,-36 325.5,-36 319.5,-30 319.5,-24 319.5,-24 319.5,-12 319.5,-12 319.5,-6 325.5,0 331.5,0 331.5,0 361.5,0 361.5,0 367.5,0 373.5,-6 373.5,-12 373.5,-12 373.5,-24 373.5,-24 373.5,-30 367.5,-36 361.5,-36\"/>\n",
       "<text text-anchor=\"middle\" x=\"346.5\" y=\"-14.3\" font-family=\"Helvetica,sans-Serif\" font-size=\"14.00\" fill=\"#000000\">(...)</text>\n",
       "</g>\n",
       "<!-- 1855&#45;&gt;1856 -->\n",
       "<g id=\"edge6\" class=\"edge\">\n",
       "<title>1855&#45;&gt;1856</title>\n",
       "<path fill=\"none\" stroke=\"#000000\" d=\"M368.5815,-71.9769C364.9977,-63.2167 361.1862,-53.8995 357.7564,-45.5157\"/>\n",
       "<polygon fill=\"#000000\" stroke=\"#000000\" points=\"360.968,-44.1222 353.9422,-36.192 354.4891,-46.7727 360.968,-44.1222\"/>\n",
       "</g>\n",
       "<!-- 2145 -->\n",
       "<g id=\"node8\" class=\"node\">\n",
       "<title>2145</title>\n",
       "<path fill=\"#c0c0c0\" stroke=\"#000000\" d=\"M433.5,-36C433.5,-36 403.5,-36 403.5,-36 397.5,-36 391.5,-30 391.5,-24 391.5,-24 391.5,-12 391.5,-12 391.5,-6 397.5,0 403.5,0 403.5,0 433.5,0 433.5,0 439.5,0 445.5,-6 445.5,-12 445.5,-12 445.5,-24 445.5,-24 445.5,-30 439.5,-36 433.5,-36\"/>\n",
       "<text text-anchor=\"middle\" x=\"418.5\" y=\"-14.3\" font-family=\"Helvetica,sans-Serif\" font-size=\"14.00\" fill=\"#000000\">(...)</text>\n",
       "</g>\n",
       "<!-- 1855&#45;&gt;2145 -->\n",
       "<g id=\"edge7\" class=\"edge\">\n",
       "<title>1855&#45;&gt;2145</title>\n",
       "<path fill=\"none\" stroke=\"#000000\" d=\"M396.4185,-71.9769C400.0023,-63.2167 403.8138,-53.8995 407.2436,-45.5157\"/>\n",
       "<polygon fill=\"#000000\" stroke=\"#000000\" points=\"410.5109,-46.7727 411.0578,-36.192 404.032,-44.1222 410.5109,-46.7727\"/>\n",
       "</g>\n",
       "<!-- 2185 -->\n",
       "<g id=\"node10\" class=\"node\">\n",
       "<title>2185</title>\n",
       "<path fill=\"#399de5\" fill-opacity=\"0.737255\" stroke=\"#000000\" d=\"M739,-140C739,-140 532,-140 532,-140 526,-140 520,-134 520,-128 520,-128 520,-84 520,-84 520,-78 526,-72 532,-72 532,-72 739,-72 739,-72 745,-72 751,-78 751,-84 751,-84 751,-128 751,-128 751,-134 745,-140 739,-140\"/>\n",
       "<text text-anchor=\"middle\" x=\"635.5\" y=\"-124.8\" font-family=\"Helvetica,sans-Serif\" font-size=\"14.00\" fill=\"#000000\">thought &lt;= 0.045</text>\n",
       "<text text-anchor=\"middle\" x=\"635.5\" y=\"-109.8\" font-family=\"Helvetica,sans-Serif\" font-size=\"14.00\" fill=\"#000000\">gini = 0.331</text>\n",
       "<text text-anchor=\"middle\" x=\"635.5\" y=\"-94.8\" font-family=\"Helvetica,sans-Serif\" font-size=\"14.00\" fill=\"#000000\">samples = 12369</text>\n",
       "<text text-anchor=\"middle\" x=\"635.5\" y=\"-79.8\" font-family=\"Helvetica,sans-Serif\" font-size=\"14.00\" fill=\"#000000\">value = [1784.896, 6749.088]</text>\n",
       "</g>\n",
       "<!-- 2184&#45;&gt;2185 -->\n",
       "<g id=\"edge9\" class=\"edge\">\n",
       "<title>2184&#45;&gt;2185</title>\n",
       "<path fill=\"none\" stroke=\"#000000\" d=\"M636.8451,-175.9465C636.688,-167.776 636.5179,-158.9318 636.3533,-150.3697\"/>\n",
       "<polygon fill=\"#000000\" stroke=\"#000000\" points=\"639.8481,-150.0608 636.1563,-140.13 632.8494,-150.1955 639.8481,-150.0608\"/>\n",
       "</g>\n",
       "<!-- 2656 -->\n",
       "<g id=\"node13\" class=\"node\">\n",
       "<title>2656</title>\n",
       "<path fill=\"#e58139\" fill-opacity=\"0.580392\" stroke=\"#000000\" d=\"M961.5,-140C961.5,-140 781.5,-140 781.5,-140 775.5,-140 769.5,-134 769.5,-128 769.5,-128 769.5,-84 769.5,-84 769.5,-78 775.5,-72 781.5,-72 781.5,-72 961.5,-72 961.5,-72 967.5,-72 973.5,-78 973.5,-84 973.5,-84 973.5,-128 973.5,-128 973.5,-134 967.5,-140 961.5,-140\"/>\n",
       "<text text-anchor=\"middle\" x=\"871.5\" y=\"-124.8\" font-family=\"Helvetica,sans-Serif\" font-size=\"14.00\" fill=\"#000000\">wont disappoint &lt;= 0.029</text>\n",
       "<text text-anchor=\"middle\" x=\"871.5\" y=\"-109.8\" font-family=\"Helvetica,sans-Serif\" font-size=\"14.00\" fill=\"#000000\">gini = 0.417</text>\n",
       "<text text-anchor=\"middle\" x=\"871.5\" y=\"-94.8\" font-family=\"Helvetica,sans-Serif\" font-size=\"14.00\" fill=\"#000000\">samples = 201</text>\n",
       "<text text-anchor=\"middle\" x=\"871.5\" y=\"-79.8\" font-family=\"Helvetica,sans-Serif\" font-size=\"14.00\" fill=\"#000000\">value = [206.626, 86.881]</text>\n",
       "</g>\n",
       "<!-- 2184&#45;&gt;2656 -->\n",
       "<g id=\"edge12\" class=\"edge\">\n",
       "<title>2184&#45;&gt;2656</title>\n",
       "<path fill=\"none\" stroke=\"#000000\" d=\"M714.1204,-175.9465C736.9483,-165.8008 762.1138,-154.6161 785.4987,-144.2228\"/>\n",
       "<polygon fill=\"#000000\" stroke=\"#000000\" points=\"786.9909,-147.3898 794.7075,-140.13 784.1479,-140.9931 786.9909,-147.3898\"/>\n",
       "</g>\n",
       "<!-- 2186 -->\n",
       "<g id=\"node11\" class=\"node\">\n",
       "<title>2186</title>\n",
       "<path fill=\"#c0c0c0\" stroke=\"#000000\" d=\"M614.5,-36C614.5,-36 584.5,-36 584.5,-36 578.5,-36 572.5,-30 572.5,-24 572.5,-24 572.5,-12 572.5,-12 572.5,-6 578.5,0 584.5,0 584.5,0 614.5,0 614.5,0 620.5,0 626.5,-6 626.5,-12 626.5,-12 626.5,-24 626.5,-24 626.5,-30 620.5,-36 614.5,-36\"/>\n",
       "<text text-anchor=\"middle\" x=\"599.5\" y=\"-14.3\" font-family=\"Helvetica,sans-Serif\" font-size=\"14.00\" fill=\"#000000\">(...)</text>\n",
       "</g>\n",
       "<!-- 2185&#45;&gt;2186 -->\n",
       "<g id=\"edge10\" class=\"edge\">\n",
       "<title>2185&#45;&gt;2186</title>\n",
       "<path fill=\"none\" stroke=\"#000000\" d=\"M621.5815,-71.9769C617.9977,-63.2167 614.1862,-53.8995 610.7564,-45.5157\"/>\n",
       "<polygon fill=\"#000000\" stroke=\"#000000\" points=\"613.968,-44.1222 606.9422,-36.192 607.4891,-46.7727 613.968,-44.1222\"/>\n",
       "</g>\n",
       "<!-- 2585 -->\n",
       "<g id=\"node12\" class=\"node\">\n",
       "<title>2585</title>\n",
       "<path fill=\"#c0c0c0\" stroke=\"#000000\" d=\"M686.5,-36C686.5,-36 656.5,-36 656.5,-36 650.5,-36 644.5,-30 644.5,-24 644.5,-24 644.5,-12 644.5,-12 644.5,-6 650.5,0 656.5,0 656.5,0 686.5,0 686.5,0 692.5,0 698.5,-6 698.5,-12 698.5,-12 698.5,-24 698.5,-24 698.5,-30 692.5,-36 686.5,-36\"/>\n",
       "<text text-anchor=\"middle\" x=\"671.5\" y=\"-14.3\" font-family=\"Helvetica,sans-Serif\" font-size=\"14.00\" fill=\"#000000\">(...)</text>\n",
       "</g>\n",
       "<!-- 2185&#45;&gt;2585 -->\n",
       "<g id=\"edge11\" class=\"edge\">\n",
       "<title>2185&#45;&gt;2585</title>\n",
       "<path fill=\"none\" stroke=\"#000000\" d=\"M649.4185,-71.9769C653.0023,-63.2167 656.8138,-53.8995 660.2436,-45.5157\"/>\n",
       "<polygon fill=\"#000000\" stroke=\"#000000\" points=\"663.5109,-46.7727 664.0578,-36.192 657.032,-44.1222 663.5109,-46.7727\"/>\n",
       "</g>\n",
       "<!-- 2657 -->\n",
       "<g id=\"node14\" class=\"node\">\n",
       "<title>2657</title>\n",
       "<path fill=\"#c0c0c0\" stroke=\"#000000\" d=\"M850.5,-36C850.5,-36 820.5,-36 820.5,-36 814.5,-36 808.5,-30 808.5,-24 808.5,-24 808.5,-12 808.5,-12 808.5,-6 814.5,0 820.5,0 820.5,0 850.5,0 850.5,0 856.5,0 862.5,-6 862.5,-12 862.5,-12 862.5,-24 862.5,-24 862.5,-30 856.5,-36 850.5,-36\"/>\n",
       "<text text-anchor=\"middle\" x=\"835.5\" y=\"-14.3\" font-family=\"Helvetica,sans-Serif\" font-size=\"14.00\" fill=\"#000000\">(...)</text>\n",
       "</g>\n",
       "<!-- 2656&#45;&gt;2657 -->\n",
       "<g id=\"edge13\" class=\"edge\">\n",
       "<title>2656&#45;&gt;2657</title>\n",
       "<path fill=\"none\" stroke=\"#000000\" d=\"M857.5815,-71.9769C853.9977,-63.2167 850.1862,-53.8995 846.7564,-45.5157\"/>\n",
       "<polygon fill=\"#000000\" stroke=\"#000000\" points=\"849.968,-44.1222 842.9422,-36.192 843.4891,-46.7727 849.968,-44.1222\"/>\n",
       "</g>\n",
       "<!-- 2712 -->\n",
       "<g id=\"node15\" class=\"node\">\n",
       "<title>2712</title>\n",
       "<path fill=\"#c0c0c0\" stroke=\"#000000\" d=\"M922.5,-36C922.5,-36 892.5,-36 892.5,-36 886.5,-36 880.5,-30 880.5,-24 880.5,-24 880.5,-12 880.5,-12 880.5,-6 886.5,0 892.5,0 892.5,0 922.5,0 922.5,0 928.5,0 934.5,-6 934.5,-12 934.5,-12 934.5,-24 934.5,-24 934.5,-30 928.5,-36 922.5,-36\"/>\n",
       "<text text-anchor=\"middle\" x=\"907.5\" y=\"-14.3\" font-family=\"Helvetica,sans-Serif\" font-size=\"14.00\" fill=\"#000000\">(...)</text>\n",
       "</g>\n",
       "<!-- 2656&#45;&gt;2712 -->\n",
       "<g id=\"edge14\" class=\"edge\">\n",
       "<title>2656&#45;&gt;2712</title>\n",
       "<path fill=\"none\" stroke=\"#000000\" d=\"M885.4185,-71.9769C889.0023,-63.2167 892.8138,-53.8995 896.2436,-45.5157\"/>\n",
       "<polygon fill=\"#000000\" stroke=\"#000000\" points=\"899.5109,-46.7727 900.0578,-36.192 893.032,-44.1222 899.5109,-46.7727\"/>\n",
       "</g>\n",
       "</g>\n",
       "</svg>\n"
      ],
      "text/plain": [
       "<graphviz.files.Source at 0x7fd264389750>"
      ]
     },
     "execution_count": 44,
     "metadata": {},
     "output_type": "execute_result"
    }
   ],
   "source": [
    "import graphviz\n",
    "from sklearn import tree\n",
    "dot_data = tree.export_graphviz(clf,feature_names=words_list,out_file=None,filled=True,rounded=True,max_depth=2)\n",
    "graph=graphviz.Source(dot_data)\n",
    "graph.render(\"Tfidf\")\n",
    "graph"
   ]
  },
  {
   "cell_type": "markdown",
   "metadata": {
    "colab_type": "text",
    "id": "9ivsUt2JWCBy"
   },
   "source": [
    "#  Word2Vec Featurization"
   ]
  },
  {
   "cell_type": "code",
   "execution_count": 45,
   "metadata": {},
   "outputs": [],
   "source": [
    "# Using Google News Word2Vectors\n",
    "\n",
    "# in this project we are using a pretrained model by google\n",
    "# its 3.3G file, once you load this into your memory \n",
    "# it occupies ~9Gb, so please do this step only if you have >12G of ram\n",
    "# we will provide a pickle file wich contains a dict , \n",
    "# and it contains all our courpus words as keys and  model[word] as values\n",
    "# To use this code-snippet, download \"GoogleNews-vectors-negative300.bin\" \n",
    "# from https://drive.google.com/file/d/0B7XkCwpI5KDYNlNUTTlSS21pQmM/edit\n",
    "# it's 1.9GB in size.\n",
    "\n",
    "\n",
    "# http://kavita-ganesan.com/gensim-word2vec-tutorial-starter-code/#.W17SRFAzZPY\n",
    "# you can comment this whole cell\n",
    "# or change these varible according to your need\n",
    "is_your_ram_gt_16g=False\n",
    "want_to_read_sub_set_of_google_w2v = True\n",
    "want_to_read_whole_google_w2v = True\n",
    "if not is_your_ram_gt_16g:\n",
    "    if want_to_read_sub_set_of_google_w2v and  os.path.isfile('google_w2v_for_amazon.pkl'):\n",
    "        with open('google_w2v_for_amazon.pkl', 'rb') as f:\n",
    "            # model is dict object, you can directly access any word vector using model[word]\n",
    "            model = pickle.load(f)\n",
    "else:\n",
    "    if want_to_read_whole_google_w2v and os.path.isfile('GoogleNews-vectors-negative300.bin'):\n",
    "        model = KeyedVectors.load_word2vec_format('GoogleNews-vectors-negative300.bin', binary=True)\n",
    "\n",
    "# print(\"the vector representation of word 'computer'\",model.wv['computer'])\n",
    "# print(\"the similarity between the words 'woman' and 'man'\",model.wv.similarity('woman', 'man'))\n",
    "# print(\"the most similar words to the word 'woman'\",model.wv.most_similar('woman'))\n",
    "# this will raise an error\n",
    "# model.wv.most_similar('tasti')  # \"tasti\" is the stemmed word for tasty, tastful"
   ]
  },
  {
   "cell_type": "markdown",
   "metadata": {
    "colab_type": "text",
    "id": "ZD4aD8II38Gr"
   },
   "source": [
    "## Average W2V"
   ]
  },
  {
   "cell_type": "code",
   "execution_count": 46,
   "metadata": {},
   "outputs": [],
   "source": [
    "# Dividing raw train and test data\n",
    "X = final['CleanedText']\n",
    "y = np.array(new_labels)\n",
    "\n",
    "X_train = X[:int(0.7*len(X))]\n",
    "y_train = y[:int(0.7*len(y))]\n",
    "X_test = X[len(X_train):]\n",
    "y_test = y[len(y_train):]"
   ]
  },
  {
   "cell_type": "code",
   "execution_count": 47,
   "metadata": {},
   "outputs": [
    {
     "name": "stdout",
     "output_type": "stream",
     "text": [
      "('number of words that occured minimum 5 times ', 9701)\n",
      "('sample words ', [u'woodi', u'yellow', u'interchang', u'four', u'cherrio', u'overprocess', u'decaffin', u'lord', u'digit', u'deli', u'figi', u'furikak', u'foul', u'disturb', u'prize', u'broiler', u'wooden', u'showcas', u'pingshui', u'wednesday', u'superfood', u'unpronounc', u'cheeto', u'tumer', u'rustl', u'miller', u'seper', u'millet', u'second', u'fece', u'sooth', u'bbqd', u'lucious', u'captain', u'thunder', u'succumb', u'ongo', u'avers', u'hero', u'avert', u'jarrow', u'herb', u'splinter', u'cosequin', u'accus', u'here', u'herd', u'china', u'dorm', u'doro'])\n"
     ]
    }
   ],
   "source": [
    "# Training Word2Vec model using own text corpus\n",
    "list_of_sent1=[]\n",
    "for sent in X_train:\n",
    "    list_of_sent1.append(sent.split())\n",
    "\n",
    "# min_count = 5 considers only words that occured atleast 5 times\n",
    "w2v_model=Word2Vec(list_of_sent1,min_count=5,size=50, workers=4)\n",
    "\n",
    "w2v_words = list(w2v_model.wv.vocab)\n",
    "print(\"number of words that occured minimum 5 times \",len(w2v_words))\n",
    "print(\"sample words \", w2v_words[0:50])"
   ]
  },
  {
   "cell_type": "code",
   "execution_count": 48,
   "metadata": {},
   "outputs": [
    {
     "name": "stderr",
     "output_type": "stream",
     "text": [
      "100%|██████████| 56000/56000 [08:27<00:00, 110.34it/s]\n"
     ]
    }
   ],
   "source": [
    "# Vectorizing  X_train \n",
    "# compute average word2vec for each review.\n",
    "train_sent_vectors = []; # the avg-w2v for each sentence/review is stored in this list\n",
    "for sent in tqdm(list_of_sent1): # for each review/sentence\n",
    "    sent_vec = np.zeros(50) # as word vectors are of zero length\n",
    "    cnt_words =0; # num of words with a valid vector in the sentence/review\n",
    "    for word in sent: # for each word in a review/sentence\n",
    "        if word in w2v_words:\n",
    "            vec = w2v_model.wv[word]\n",
    "            sent_vec += vec\n",
    "            cnt_words += 1\n",
    "    if cnt_words != 0:\n",
    "        sent_vec /= cnt_words\n",
    "    train_sent_vectors.append(sent_vec)\n",
    "train_sent_vectors=csr_matrix(train_sent_vectors)\n",
    "\n"
   ]
  },
  {
   "cell_type": "code",
   "execution_count": 49,
   "metadata": {},
   "outputs": [
    {
     "name": "stderr",
     "output_type": "stream",
     "text": [
      "100%|██████████| 24000/24000 [03:55<00:00, 101.75it/s]\n"
     ]
    }
   ],
   "source": [
    "# vectorzing  X_test\n",
    "i=0\n",
    "list_of_sent1=[]\n",
    "for sent in X_test:\n",
    "    list_of_sent1.append(sent.split())\n",
    "    \n",
    "    \n",
    "# average Word2Vec\n",
    "# compute average word2vec for each review.\n",
    "test_sent_vectors = []; # the avg-w2v for each sentence/review is stored in this list\n",
    "for sent in tqdm(list_of_sent1): # for each review/sentence\n",
    "    sent_vec = np.zeros(50) # as word vectors are of zero length\n",
    "    cnt_words =0; # num of words with a valid vector in the sentence/review\n",
    "    for word in sent: # for each word in a review/sentence\n",
    "        if word in w2v_words:\n",
    "            vec = w2v_model.wv[word]\n",
    "            sent_vec += vec\n",
    "            cnt_words += 1\n",
    "    if cnt_words != 0:\n",
    "        sent_vec /= cnt_words\n",
    "    test_sent_vectors.append(sent_vec)\n",
    "test_sent_vectors=csr_matrix(test_sent_vectors)"
   ]
  },
  {
   "cell_type": "code",
   "execution_count": 50,
   "metadata": {},
   "outputs": [
    {
     "name": "stdout",
     "output_type": "stream",
     "text": [
      "(24000, 50)\n"
     ]
    }
   ],
   "source": [
    "print test_sent_vectors.shape"
   ]
  },
  {
   "cell_type": "code",
   "execution_count": 51,
   "metadata": {},
   "outputs": [],
   "source": [
    "depth_values=[{'max_depth':[3,5,10,15,20,25]}]\n",
    "clf=DecisionTreeClassifier(random_state=5,class_weight='balanced')\n",
    "model = GridSearchCV(clf,depth_values,cv=3,n_jobs=-1)"
   ]
  },
  {
   "cell_type": "code",
   "execution_count": 52,
   "metadata": {},
   "outputs": [
    {
     "data": {
      "text/plain": [
       "GridSearchCV(cv=3, error_score='raise-deprecating',\n",
       "       estimator=DecisionTreeClassifier(class_weight='balanced', criterion='gini',\n",
       "            max_depth=None, max_features=None, max_leaf_nodes=None,\n",
       "            min_impurity_decrease=0.0, min_impurity_split=None,\n",
       "            min_samples_leaf=1, min_samples_split=2,\n",
       "            min_weight_fraction_leaf=0.0, presort=False, random_state=5,\n",
       "            splitter='best'),\n",
       "       fit_params=None, iid='warn', n_jobs=-1,\n",
       "       param_grid=[{'max_depth': [3, 5, 10, 15, 20, 25]}],\n",
       "       pre_dispatch='2*n_jobs', refit=True, return_train_score='warn',\n",
       "       scoring=None, verbose=0)"
      ]
     },
     "execution_count": 52,
     "metadata": {},
     "output_type": "execute_result"
    }
   ],
   "source": [
    "model.fit(train_sent_vectors,y_train)"
   ]
  },
  {
   "cell_type": "code",
   "execution_count": 53,
   "metadata": {},
   "outputs": [
    {
     "data": {
      "image/png": "[encoded data removed]",
      "text/plain": [
       "<Figure size 936x360 with 1 Axes>"
      ]
     },
     "metadata": {
      "needs_background": "light"
     },
     "output_type": "display_data"
    }
   ],
   "source": [
    "# plotting cv scores of train and cv data\n",
    "cv_results=model.cv_results_\n",
    "cvtrain_scores=np.array(cv_results['std_train_score']*100)\n",
    "cvtest_scores=np.array(cv_results['std_test_score']*100)\n",
    "plt.figure(figsize=(13,5))\n",
    "ax=plt.subplot(121)\n",
    "ax.set(xlabel='Train Score', ylabel='Test Score', title='CV scores of train and test')\n",
    "#ax.plot(cvtest_scores,cvtrain_scores,color=\"blue\")\n",
    "ax.scatter(cvtrain_scores,cvtest_scores,color=\"blue\")\n",
    "ax.grid(True)"
   ]
  },
  {
   "cell_type": "markdown",
   "metadata": {},
   "source": [
    "Half cross validation attempts reported less error difference and half attempts deviated."
   ]
  },
  {
   "cell_type": "code",
   "execution_count": 54,
   "metadata": {},
   "outputs": [
    {
     "name": "stdout",
     "output_type": "stream",
     "text": [
      "DecisionTreeClassifier(class_weight='balanced', criterion='gini',\n",
      "            max_depth=25, max_features=None, max_leaf_nodes=None,\n",
      "            min_impurity_decrease=0.0, min_impurity_split=None,\n",
      "            min_samples_leaf=1, min_samples_split=2,\n",
      "            min_weight_fraction_leaf=0.0, presort=False, random_state=5,\n",
      "            splitter='best')\n"
     ]
    }
   ],
   "source": [
    "print model.best_estimator_"
   ]
  },
  {
   "cell_type": "code",
   "execution_count": 55,
   "metadata": {},
   "outputs": [
    {
     "name": "stdout",
     "output_type": "stream",
     "text": [
      "Best depth :  25\n"
     ]
    }
   ],
   "source": [
    "print \"Best depth : \",model.best_estimator_.get_params()['max_depth']"
   ]
  },
  {
   "cell_type": "code",
   "execution_count": 56,
   "metadata": {},
   "outputs": [
    {
     "name": "stdout",
     "output_type": "stream",
     "text": [
      "('Training Score : ', 98.60605166419367)\n",
      "('Training Error : ', 1.3939483358063285)\n",
      "Confusion matrix : \n",
      "[[ 6368     1]\n",
      " [  800 48831]]\n"
     ]
    },
    {
     "data": {
      "text/plain": [
       "Text(0.5,1,'Heatmap for confusion matrix')"
      ]
     },
     "execution_count": 56,
     "metadata": {},
     "output_type": "execute_result"
    },
    {
     "data": {
      "image/png": "[encoded data removed]",
      "text/plain": [
       "<Figure size 432x288 with 2 Axes>"
      ]
     },
     "metadata": {
      "needs_background": "light"
     },
     "output_type": "display_data"
    }
   ],
   "source": [
    "y_predtrain=model.predict(train_sent_vectors)\n",
    "confusion=confusion_matrix(y_train,y_predtrain)\n",
    "training_score = f1_score(y_train,y_predtrain,average='weighted') * 100\n",
    "training_error = 100-training_score\n",
    "print (\"Training Score : \",training_score)\n",
    "print (\"Training Error : \",training_error)\n",
    "print \"Confusion matrix : \\n\",confusion\n",
    "ax = sns.heatmap(confusion, annot=True, fmt=\"d\")\n",
    "ax.set_title('Heatmap for confusion matrix')"
   ]
  },
  {
   "cell_type": "code",
   "execution_count": 57,
   "metadata": {},
   "outputs": [
    {
     "name": "stdout",
     "output_type": "stream",
     "text": [
      "('Training Score : ', 83.15698860336819)\n",
      "('Training Error : ', 16.84301139663181)\n",
      "Confusion matrix : \n",
      "[[ 1245  1982]\n",
      " [ 2088 18685]]\n"
     ]
    },
    {
     "data": {
      "text/plain": [
       "Text(0.5,1,'Heatmap for confusion matrix')"
      ]
     },
     "execution_count": 57,
     "metadata": {},
     "output_type": "execute_result"
    },
    {
     "data": {
      "image/png": "[encoded data removed]",
      "text/plain": [
       "<Figure size 432x288 with 2 Axes>"
      ]
     },
     "metadata": {
      "needs_background": "light"
     },
     "output_type": "display_data"
    }
   ],
   "source": [
    "y_predtest=model.predict(test_sent_vectors)\n",
    "testing_score = f1_score(y_test,y_predtest,average='weighted') * 100\n",
    "testing_error = 100-testing_score\n",
    "print (\"Training Score : \",testing_score)\n",
    "print (\"Training Error : \",testing_error)\n",
    "confusion=confusion_matrix(y_test,y_predtest)\n",
    "print \"Confusion matrix : \\n\",confusion\n",
    "ax = sns.heatmap(confusion, annot=True, fmt=\"d\")\n",
    "ax.set_title('Heatmap for confusion matrix')"
   ]
  },
  {
   "cell_type": "markdown",
   "metadata": {
    "colab_type": "text",
    "id": "bVSRn-u7WCCS"
   },
   "source": [
    "# TF-IDF weighted W2V"
   ]
  },
  {
   "cell_type": "code",
   "execution_count": 58,
   "metadata": {},
   "outputs": [],
   "source": [
    "# Dividing raw train and test data\n",
    "X = final['CleanedText']\n",
    "y = np.array(new_labels)\n",
    "\n",
    "X_train = X[:int(0.7*len(X))]\n",
    "y_train = y[:int(0.7*len(y))]\n",
    "X_test = X[len(X_train):]\n",
    "y_test = y[len(y_train):]"
   ]
  },
  {
   "cell_type": "code",
   "execution_count": 59,
   "metadata": {},
   "outputs": [
    {
     "name": "stderr",
     "output_type": "stream",
     "text": [
      "100%|██████████| 56000/56000 [08:40<00:00, 107.58it/s]\n"
     ]
    }
   ],
   "source": [
    "# Vectorizing X_train\n",
    "i=0\n",
    "list_of_sent1=[]\n",
    "for sent in X_train:\n",
    "    list_of_sent1.append(sent.split())\n",
    "\n",
    "w2v_model=Word2Vec(list_of_sent1,min_count=5,size=50, workers=4)\n",
    "w2v_words = list(w2v_model.wv.vocab)\n",
    "\n",
    "model = TfidfVectorizer()\n",
    "tf_idf_matrix = model.fit_transform(X_train)\n",
    "\n",
    "# we are converting a dictionary with word as a key, and the idf as a value\n",
    "dictionary = dict(zip(model.get_feature_names(), list(model.idf_)))\n",
    "\n",
    "# TF-IDF weighted Word2Vec\n",
    "tfidf_feat = model.get_feature_names() # tfidf words/col-names\n",
    "# final_tf_idf is the sparse matrix with row= sentence, col=word and cell_val = tfidf\n",
    "\n",
    "train_tfidf_sent_vectors = []; # the tfidf-w2v for each sentence/review is stored in this list\n",
    "row=0;\n",
    "for sent in tqdm(list_of_sent1): # for each review/sentence \n",
    "    sent_vec = np.zeros(50) # as word vectors are of zero length\n",
    "    weight_sum =0; # num of words with a valid vector in the sentence/review\n",
    "    for word in sent: # for each word in a review/sentence\n",
    "        if word in w2v_words:\n",
    "            vec = w2v_model.wv[word]\n",
    "            #tf_idf = tf_idf_matrix[row, tfidf_feat.index(word)]\n",
    "            # to reduce the computation we are \n",
    "            # dictionary[word] = idf value of word in whole courpus\n",
    "            # sent.count(word) = tf valeus of word in this review\n",
    "            tf_idf = dictionary[word]*sent.count(word)\n",
    "            sent_vec += (vec * tf_idf)\n",
    "            weight_sum += tf_idf\n",
    "    if weight_sum != 0:\n",
    "        sent_vec /= weight_sum\n",
    "    train_tfidf_sent_vectors.append(sent_vec)\n",
    "    row += 1\n",
    "    \n",
    "train_sent_vectors=csr_matrix(train_tfidf_sent_vectors)"
   ]
  },
  {
   "cell_type": "code",
   "execution_count": 60,
   "metadata": {},
   "outputs": [
    {
     "name": "stderr",
     "output_type": "stream",
     "text": [
      "100%|██████████| 24000/24000 [04:00<00:00, 96.43it/s] \n"
     ]
    }
   ],
   "source": [
    "# Vectorizing X_test\n",
    "list_of_sent=[]\n",
    "for sent in X_test:\n",
    "    list_of_sent.append(sent.split())\n",
    "    \n",
    "tf_idf_matrix = model.transform(X_test)\n",
    "\n",
    "test_tfidf_sent_vectors = []; # the tfidf-w2v for each sentence/review is stored in this list\n",
    "row=0;\n",
    "for sent in tqdm(list_of_sent): # for each review/sentence \n",
    "    sent_vec = np.zeros(50) # as word vectors are of zero length\n",
    "    weight_sum =0; # num of words with a valid vector in the sentence/review\n",
    "    for word in sent: # for each word in a review/sentence\n",
    "        if word in w2v_words:\n",
    "            vec = w2v_model.wv[word]\n",
    "            #tf_idf = tf_idf_matrix[row, tfidf_feat.index(word)]\n",
    "            # to reduce the computation we are \n",
    "            # dictionary[word] = idf value of word in whole courpus\n",
    "            # sent.count(word) = tf valeus of word in this review\n",
    "            tf_idf = dictionary[word]*sent.count(word)\n",
    "            sent_vec += (vec * tf_idf)\n",
    "            weight_sum += tf_idf\n",
    "    if weight_sum != 0:\n",
    "        sent_vec /= weight_sum\n",
    "    test_tfidf_sent_vectors.append(sent_vec)\n",
    "    row += 1\n",
    "test_sent_vectors=csr_matrix(test_tfidf_sent_vectors)"
   ]
  },
  {
   "cell_type": "code",
   "execution_count": 61,
   "metadata": {},
   "outputs": [],
   "source": [
    "from sklearn.tree import DecisionTreeClassifier\n",
    "depth_values=[{'max_depth':[3,5,10,15,20,25]}]\n",
    "clf=DecisionTreeClassifier(random_state=5,class_weight='balanced')\n",
    "model = GridSearchCV(clf,depth_values,cv=3,n_jobs=-1)"
   ]
  },
  {
   "cell_type": "code",
   "execution_count": 62,
   "metadata": {},
   "outputs": [
    {
     "data": {
      "text/plain": [
       "GridSearchCV(cv=3, error_score='raise-deprecating',\n",
       "       estimator=DecisionTreeClassifier(class_weight='balanced', criterion='gini',\n",
       "            max_depth=None, max_features=None, max_leaf_nodes=None,\n",
       "            min_impurity_decrease=0.0, min_impurity_split=None,\n",
       "            min_samples_leaf=1, min_samples_split=2,\n",
       "            min_weight_fraction_leaf=0.0, presort=False, random_state=5,\n",
       "            splitter='best'),\n",
       "       fit_params=None, iid='warn', n_jobs=-1,\n",
       "       param_grid=[{'max_depth': [3, 5, 10, 15, 20, 25]}],\n",
       "       pre_dispatch='2*n_jobs', refit=True, return_train_score='warn',\n",
       "       scoring=None, verbose=0)"
      ]
     },
     "execution_count": 62,
     "metadata": {},
     "output_type": "execute_result"
    }
   ],
   "source": [
    "model.fit(train_sent_vectors,y_train)"
   ]
  },
  {
   "cell_type": "code",
   "execution_count": 63,
   "metadata": {},
   "outputs": [
    {
     "data": {
      "image/png": "[encoded data removed]",
      "text/plain": [
       "<Figure size 936x360 with 1 Axes>"
      ]
     },
     "metadata": {
      "needs_background": "light"
     },
     "output_type": "display_data"
    }
   ],
   "source": [
    "# plotting cv scores of train and cv data\n",
    "cv_results=model.cv_results_\n",
    "cvtrain_scores=np.array(cv_results['std_train_score']*100)\n",
    "cvtest_scores=np.array(cv_results['std_test_score']*100)\n",
    "plt.figure(figsize=(13,5))\n",
    "ax=plt.subplot(121)\n",
    "ax.set(xlabel='Train Score', ylabel='Test Score', title='CV scores of train and test')\n",
    "#ax.plot(cvtest_scores,cvtrain_scores,color=\"blue\")\n",
    "ax.scatter(cvtrain_scores,cvtest_scores,color=\"blue\")\n",
    "ax.grid(True)"
   ]
  },
  {
   "cell_type": "markdown",
   "metadata": {},
   "source": [
    "Most of the cross validation attempts have reported very less difference between train and test errors."
   ]
  },
  {
   "cell_type": "code",
   "execution_count": 64,
   "metadata": {},
   "outputs": [
    {
     "name": "stdout",
     "output_type": "stream",
     "text": [
      "DecisionTreeClassifier(class_weight='balanced', criterion='gini',\n",
      "            max_depth=25, max_features=None, max_leaf_nodes=None,\n",
      "            min_impurity_decrease=0.0, min_impurity_split=None,\n",
      "            min_samples_leaf=1, min_samples_split=2,\n",
      "            min_weight_fraction_leaf=0.0, presort=False, random_state=5,\n",
      "            splitter='best')\n"
     ]
    }
   ],
   "source": [
    "print model.best_estimator_"
   ]
  },
  {
   "cell_type": "code",
   "execution_count": 65,
   "metadata": {},
   "outputs": [
    {
     "name": "stdout",
     "output_type": "stream",
     "text": [
      "Best depth :  25\n"
     ]
    }
   ],
   "source": [
    "print \"Best depth : \",model.best_estimator_.get_params()['max_depth']"
   ]
  },
  {
   "cell_type": "code",
   "execution_count": 66,
   "metadata": {},
   "outputs": [
    {
     "name": "stdout",
     "output_type": "stream",
     "text": [
      "('Training Score : ', 98.04440204462553)\n",
      "('Training Error : ', 1.955597955374472)\n",
      "Confusion matrix : \n",
      "[[ 6369     0]\n",
      " [ 1135 48496]]\n"
     ]
    },
    {
     "data": {
      "text/plain": [
       "Text(0.5,1,'Heatmap for confusion matrix')"
      ]
     },
     "execution_count": 66,
     "metadata": {},
     "output_type": "execute_result"
    },
    {
     "data": {
      "image/png": "[encoded data removed]",
      "text/plain": [
       "<Figure size 432x288 with 2 Axes>"
      ]
     },
     "metadata": {
      "needs_background": "light"
     },
     "output_type": "display_data"
    }
   ],
   "source": [
    "y_predtrain=model.predict(train_sent_vectors)\n",
    "confusion=confusion_matrix(y_train,y_predtrain)\n",
    "training_score = f1_score(y_train,y_predtrain,average='weighted') * 100\n",
    "training_error = 100-training_score\n",
    "print (\"Training Score : \",training_score)\n",
    "print (\"Training Error : \",training_error)\n",
    "print \"Confusion matrix : \\n\",confusion\n",
    "ax = sns.heatmap(confusion, annot=True, fmt=\"d\")\n",
    "ax.set_title('Heatmap for confusion matrix')"
   ]
  },
  {
   "cell_type": "code",
   "execution_count": 67,
   "metadata": {},
   "outputs": [
    {
     "name": "stdout",
     "output_type": "stream",
     "text": [
      "('Training Score : ', 82.98457029140445)\n",
      "('Training Error : ', 17.015429708595548)\n",
      "Confusion matrix : \n",
      "[[ 1292  1935]\n",
      " [ 2223 18550]]\n"
     ]
    },
    {
     "data": {
      "text/plain": [
       "Text(0.5,1,'Heatmap for confusion matrix')"
      ]
     },
     "execution_count": 67,
     "metadata": {},
     "output_type": "execute_result"
    },
    {
     "data": {
      "image/png": "[encoded data removed]",
      "text/plain": [
       "<Figure size 432x288 with 2 Axes>"
      ]
     },
     "metadata": {
      "needs_background": "light"
     },
     "output_type": "display_data"
    }
   ],
   "source": [
    "y_predtest=model.predict(test_sent_vectors)\n",
    "testing_score = f1_score(y_test,y_predtest,average='weighted') * 100\n",
    "testing_error = 100-testing_score\n",
    "print (\"Training Score : \",testing_score)\n",
    "print (\"Training Error : \",testing_error)\n",
    "confusion=confusion_matrix(y_test,y_predtest)\n",
    "print \"Confusion matrix : \\n\",confusion\n",
    "ax = sns.heatmap(confusion, annot=True, fmt=\"d\")\n",
    "ax.set_title('Heatmap for confusion matrix')"
   ]
  },
  {
   "cell_type": "code",
   "execution_count": 70,
   "metadata": {},
   "outputs": [],
   "source": [
    "t = PrettyTable()\n",
    "t.field_names = [\"Featurization\",\"Best Depth Value\",\"Train Error\",\"Test Error\"]\n",
    "t.add_row([\"Bag of Words\",25,round(12.430861855435552,4),round(18.962420713677133,4)])\n",
    "t.add_row([\"TF-IDF\",25,round(14.39531599327951,4),round(19.345895006763953,4)])\n",
    "t.add_row([\"Average w2v\",25,round(1.3939483358063285,4),round(16.84301139663181,4)])\n",
    "t.add_row([\"TF-IDF weighted w2v\",25,round(1.955597955374472,4),round( 17.015429708595548,4)])"
   ]
  },
  {
   "cell_type": "code",
   "execution_count": 71,
   "metadata": {},
   "outputs": [
    {
     "name": "stdout",
     "output_type": "stream",
     "text": [
      "+---------------------+------------------+-------------+------------+\n",
      "|    Featurization    | Best Depth Value | Train Error | Test Error |\n",
      "+---------------------+------------------+-------------+------------+\n",
      "|     Bag of Words    |        25        |   12.4309   |  18.9624   |\n",
      "|        TF-IDF       |        25        |   14.3953   |  19.3459   |\n",
      "|     Average w2v     |        25        |    1.3939   |   16.843   |\n",
      "| TF-IDF weighted w2v |        25        |    1.9556   |  17.0154   |\n",
      "+---------------------+------------------+-------------+------------+\n"
     ]
    }
   ],
   "source": [
    "print (t)"
   ]
  },
  {
   "cell_type": "markdown",
   "metadata": {},
   "source": [
    "From the above table we can conclude that lowest train error is reported for avg w2v which is 1.3939 and its corresponding test error is 16.843. Lowest test error is observed for average w2v featurization and its corresponding depth value is 25. After observing these values average w2v is performing best over others though with not much difference. All featurizations have reported same best depth value which is 25."
   ]
  }
 ],
 "metadata": {
  "colab": {
   "collapsed_sections": [],
   "name": "Copy of Copy of KNN on Amazon fine food reviews.ipynb",
   "provenance": [],
   "version": "0.3.2"
  },
  "kernelspec": {
   "display_name": "Python 2",
   "language": "python",
   "name": "python2"
  },
  "language_info": {
   "codemirror_mode": {
    "name": "ipython",
    "version": 2
   },
   "file_extension": ".py",
   "mimetype": "text/x-python",
   "name": "python",
   "nbconvert_exporter": "python",
   "pygments_lexer": "ipython2",
   "version": "2.7.14"
  }
 },
 "nbformat": 4,
 "nbformat_minor": 1
}
